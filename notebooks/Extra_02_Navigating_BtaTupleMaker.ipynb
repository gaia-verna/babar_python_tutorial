{
 "metadata": {
  "name": "Extra_02_Navigating_BtaTupleMaker"
 },
 "nbformat": 3,
 "nbformat_minor": 0,
 "worksheets": [
  {
   "cells": [
    {
     "cell_type": "code",
     "collapsed": false,
     "input": [
      "from root_numpy import root2rec"
     ],
     "language": "python",
     "metadata": {},
     "outputs": [],
     "prompt_number": 1
    },
    {
     "cell_type": "markdown",
     "metadata": {},
     "source": [
      "Suppose we want to plot B mass vs D Mass for all candidates. They are associated via Bd1Idx"
     ]
    },
    {
     "cell_type": "code",
     "collapsed": false,
     "input": [
      "bb = root2rec('data/B0B0bar-BtoDpi-all.root')"
     ],
     "language": "python",
     "metadata": {},
     "outputs": [],
     "prompt_number": 2
    },
    {
     "cell_type": "code",
     "collapsed": false,
     "input": [
      "bb.dtype"
     ],
     "language": "python",
     "metadata": {},
     "outputs": [
      {
       "output_type": "pyout",
       "prompt_number": 3,
       "text": [
        "dtype([('nTracks', '<i4'), ('R2All', '<f4'), ('thrustMagAll', '<f4'), ('sphericityAll', '<f4'), ('mcLen', '<i4'), ('mcLund', '|O8'), ('mothIdx', '|O8'), ('dauLen', '|O8'), ('dauIdx', '|O8'), ('nB', '<i4'), ('BCosSphr', '|O8'), ('BCosThetaS', '|O8'), ('BCosThetaT', '|O8'), ('BCosThrust', '|O8'), ('BLegendreP0', '|O8'), ('BLegendreP2', '|O8'), ('BPFlow0', '|O8'), ('BPFlow1', '|O8'), ('BPFlow2', '|O8'), ('BPFlow3', '|O8'), ('BPFlow4', '|O8'), ('BPFlow5', '|O8'), ('BPFlow6', '|O8'), ('BPFlow7', '|O8'), ('BPFlow8', '|O8'), ('BR2ROE', '|O8'), ('BSphr', '|O8'), ('BSphrROE', '|O8'), ('BThrust', '|O8'), ('BThrustROE', '|O8'), ('BpostFitDeltaE', '|O8'), ('BpostFitMes', '|O8'), ('BpreFitDeltaE', '|O8'), ('BpreFitMes', '|O8'), ('BLund', '|O8'), ('BMCIdx', '|O8'), ('Bd1Lund', '|O8'), ('Bd1Idx', '|O8'), ('Bd2Lund', '|O8'), ('Bd2Idx', '|O8'), ('nD', '<i4'), ('DMass', '|O8'), ('DMassErr', '|O8'), ('DLund', '|O8'), ('DMCIdx', '|O8'), ('Dd1Lund', '|O8'), ('Dd1Idx', '|O8'), ('Dd2Lund', '|O8'), ('Dd2Idx', '|O8'), ('Dd3Lund', '|O8'), ('Dd3Idx', '|O8'), ('nK', '<i4'), ('KLund', '|O8'), ('KMCIdx', '|O8'), ('npi', '<i4'), ('piLund', '|O8'), ('piMCIdx', '|O8')])"
       ]
      }
     ],
     "prompt_number": 3
    },
    {
     "cell_type": "code",
     "collapsed": false,
     "input": [
      "#most obvious way but not very pleasant\n",
      "#you can clean it up but you get the idea\n",
      "\n",
      "def process_event(data):\n",
      "    idx_Bd1Idx = data.dtype.names.index('Bd1Idx')\n",
      "    idx_Dmass = data.dtype.names.index('DMass')\n",
      "    idx_Bmass = data.dtype.names.index('BSphrROE') #hmmm i don't have BMass?\n",
      "    \n",
      "    result = np.zeros(len(data), dtype=[('x','O'),('y','O')])\n",
      "    for idata in xrange(len(data)):\n",
      "        tmp_B = []\n",
      "        tmp_D = []\n",
      "        for i_B in xrange(len(data[idata][idx_Bd1Idx])):\n",
      "            Bd1Idx = data[idata][idx_Bd1Idx][i_B]\n",
      "            if Bd1Idx >= 0 and Bd1Idx < len(data[idata][idx_Dmass]):\n",
      "                BMass = data[idata][idx_Bmass][i_B]\n",
      "                DMass = data[idata][idx_Dmass][Bd1Idx]\n",
      "                tmp_D.append(DMass)\n",
      "                tmp_B.append(BMass)\n",
      "        result[idata]= tmp_B, tmp_D\n",
      "        \n",
      "    return result"
     ],
     "language": "python",
     "metadata": {},
     "outputs": [],
     "prompt_number": 4
    },
    {
     "cell_type": "code",
     "collapsed": false,
     "input": [
      "%timeit process_event(bb)"
     ],
     "language": "python",
     "metadata": {},
     "outputs": [
      {
       "output_type": "stream",
       "stream": "stdout",
       "text": [
        "1 loops, best of 3: 189 ms per loop\n"
       ]
      }
     ],
     "prompt_number": 5
    },
    {
     "cell_type": "code",
     "collapsed": false,
     "input": [
      "tmp = process_event(bb).view(np.recarray)\n",
      "print tmp.x\n",
      "hist2d(hstack(tmp.x), hstack(tmp.y));"
     ],
     "language": "python",
     "metadata": {},
     "outputs": [
      {
       "output_type": "stream",
       "stream": "stdout",
       "text": [
        "[[0.15186194] [0.3673481] [0.24750546] ..., [0.63187182] [0.62510353]\n",
        " [0.34479278]]\n"
       ]
      },
      {
       "output_type": "display_data",
       "png": "[encoded data removed]",
       "text": [
        "<matplotlib.figure.Figure at 0x10445fb10>"
       ]
      }
     ],
     "prompt_number": 6
    },
    {
     "cell_type": "markdown",
     "metadata": {},
     "source": [
      "A tad smarter way"
     ]
    },
    {
     "cell_type": "code",
     "collapsed": false,
     "input": [
      "#a bit smarter way\n",
      "def do_something(sphr, idx, Dmass, nD):\n",
      "    ret = np.empty(len(sphr),dtype=[('x','O'),('y','O')])\n",
      "    for i_data in xrange(len(sphr)):\n",
      "        good_idx = (idx[i_data] >=0) & (idx[i_data] < nD[i_data])\n",
      "        x = sphr[i_data][good_idx]\n",
      "        y = Dmass[i_data][idx[i_data][good_idx]]\n",
      "        ret[i_data]= x,y\n",
      "    return ret"
     ],
     "language": "python",
     "metadata": {},
     "outputs": [],
     "prompt_number": 7
    },
    {
     "cell_type": "code",
     "collapsed": false,
     "input": [
      "%timeit do_something(bb.BSphrROE, bb.Bd1Idx, bb.DMass, bb.nD)"
     ],
     "language": "python",
     "metadata": {},
     "outputs": [
      {
       "output_type": "stream",
       "stream": "stdout",
       "text": [
        "10 loops, best of 3: 96.2 ms per loop\n"
       ]
      }
     ],
     "prompt_number": 8
    },
    {
     "cell_type": "code",
     "collapsed": false,
     "input": [
      "tmp = do_something(bb.BSphrROE, bb.Bd1Idx, bb.DMass, bb.nD).view(np.recarray)\n",
      "print tmp.x\n",
      "hist2d(hstack(tmp.x), hstack(tmp.y));"
     ],
     "language": "python",
     "metadata": {},
     "outputs": [
      {
       "output_type": "stream",
       "stream": "stdout",
       "text": [
        "[[ 0.15186194] [ 0.3673481] [ 0.24750546] ..., [ 0.63187182] [ 0.62510353]\n",
        " [ 0.34479278]]\n"
       ]
      },
      {
       "output_type": "display_data",
       "png": "[encoded data removed]",
       "text": [
        "<matplotlib.figure.Figure at 0x10044cc50>"
       ]
      }
     ],
     "prompt_number": 9
    },
    {
     "cell_type": "markdown",
     "metadata": {},
     "source": [
      "Generic way with blockwise_inner_join"
     ]
    },
    {
     "cell_type": "code",
     "collapsed": false,
     "input": [
      "from root_numpy import blockwise_inner_join"
     ],
     "language": "python",
     "metadata": {},
     "outputs": [],
     "prompt_number": 10
    },
    {
     "cell_type": "code",
     "collapsed": false,
     "input": [
      "#data to two block\n",
      "#left block is scalar sl and array al\n",
      "#right block is ar\n",
      "#two types of foreign key fk and s_fk \n",
      "#notice some foreign keys are invalid(-1) those are discarded\n",
      "test_data = np.array([\n",
      "                    (1.0,np.array([11,12,13]),np.array([1,0,1]),0,np.array([1,2,3])),\n",
      "                    (2.0,np.array([21,22,23]),np.array([-1,2,-1]),1,np.array([31,32,33]))\n",
      "                    ],\n",
      "                    dtype=[('sl',np.float),('al','O'),('fk','O'),('s_fk',np.int),('ar','O')])"
     ],
     "language": "python",
     "metadata": {},
     "outputs": [],
     "prompt_number": 11
    },
    {
     "cell_type": "code",
     "collapsed": false,
     "input": [
      "blockwise_inner_join(test_data, ['sl','al'], test_data['fk'], ['ar'] )"
     ],
     "language": "python",
     "metadata": {},
     "outputs": [
      {
       "output_type": "pyout",
       "prompt_number": 12,
       "text": [
        "array([(1.0, 11, 2, 1), (1.0, 12, 1, 0), (1.0, 13, 2, 1), (2.0, 22, 33, 2)], \n",
        "      dtype=[('sl', '<f8'), ('al', '<i8'), ('ar', '<i8'), ('fk1', '<i8')])"
       ]
      }
     ],
     "prompt_number": 12
    },
    {
     "cell_type": "code",
     "collapsed": false,
     "input": [
      "blockwise_inner_join(test_data, ['sl','al'], test_data['fk'], ['ar'], force_repeat=['al'])"
     ],
     "language": "python",
     "metadata": {},
     "outputs": [
      {
       "output_type": "pyout",
       "prompt_number": 13,
       "text": [
        "array([(1.0, [11, 12, 13], 2, 1), (1.0, [11, 12, 13], 1, 0),\n",
        "       (1.0, [11, 12, 13], 2, 1), (2.0, [21, 22, 23], 33, 2)], \n",
        "      dtype=[('sl', '<f8'), ('al', '|O8'), ('ar', '<i8'), ('fk1', '<i8')])"
       ]
      }
     ],
     "prompt_number": 13
    },
    {
     "cell_type": "code",
     "collapsed": false,
     "input": [
      "blockwise_inner_join(test_data, ['sl','al'], test_data['s_fk'], ['ar'] )"
     ],
     "language": "python",
     "metadata": {},
     "outputs": [
      {
       "output_type": "pyout",
       "prompt_number": 14,
       "text": [
        "array([(1.0, [11, 12, 13], 1, 0), (2.0, [21, 22, 23], 32, 1)], \n",
        "      dtype=[('sl', '<f8'), ('al', '|O8'), ('ar', '<i8'), ('fk1', '<i8')])"
       ]
      }
     ],
     "prompt_number": 14
    },
    {
     "cell_type": "code",
     "collapsed": false,
     "input": [
      "Bblock = [n for n in bb.dtype.names if n.startswith('B')]\n",
      "Dblock = [n for n in bb.dtype.names if n.startswith('D')]\n",
      "Kblock = [n for n in bb.dtype.names if n.startswith('K')]"
     ],
     "language": "python",
     "metadata": {},
     "outputs": [],
     "prompt_number": 15
    },
    {
     "cell_type": "code",
     "collapsed": false,
     "input": [
      "%timeit a = blockwise_inner_join(bb,Bblock,bb.Bd1Idx,Dblock).view(np.recarray)"
     ],
     "language": "python",
     "metadata": {},
     "outputs": [
      {
       "output_type": "stream",
       "stream": "stdout",
       "text": [
        "1 loops, best of 3: 1.14 s per loop\n"
       ]
      }
     ],
     "prompt_number": 16
    },
    {
     "cell_type": "code",
     "collapsed": false,
     "input": [
      "a = blockwise_inner_join(bb,Bblock,bb.Bd1Idx,Dblock).view(np.recarray)\n",
      "print a[0]\n",
      "print a.dtype\n",
      "hist2d(a.BSphrROE,a.DMass);"
     ],
     "language": "python",
     "metadata": {},
     "outputs": [
      {
       "output_type": "stream",
       "stream": "stdout",
       "text": [
        "(0.3498619496822357, 0.10284660011529922, 0.22188863158226013, 0.3637125790119171, 3.1433799266815186, 0.6280750632286072, 0.0, 0.0, 0.0, 0.4425618052482605, 0.0, 0.5098583698272705, 0.5066342949867249, 0.04225146397948265, 1.6420741081237793, 0.32966145873069763, 0.1534668654203415, 0.15186193585395813, 0.8953324556350708, 0.8230934143066406, 0.000800736655946821, 5.279986381530762, 0.0007520868675783277, 5.279943943023682, 511, 4, -411, 0, 211, 0, 1.8630708456039429, 0.0055979653261601925, -411, 8, 321, 0, -211, 1, -211, 2, 0)\n",
        "[('BCosSphr', '<f4'), ('BCosThetaS', '<f4'), ('BCosThetaT', '<f4'), ('BCosThrust', '<f4'), ('BLegendreP0', '<f4'), ('BLegendreP2', '<f4'), ('BPFlow0', '<f4'), ('BPFlow1', '<f4'), ('BPFlow2', '<f4'), ('BPFlow3', '<f4'), ('BPFlow4', '<f4'), ('BPFlow5', '<f4'), ('BPFlow6', '<f4'), ('BPFlow7', '<f4'), ('BPFlow8', '<f4'), ('BR2ROE', '<f4'), ('BSphr', '<f4'), ('BSphrROE', '<f4'), ('BThrust', '<f4'), ('BThrustROE', '<f4'), ('BpostFitDeltaE', '<f4'), ('BpostFitMes', '<f4'), ('BpreFitDeltaE', '<f4'), ('BpreFitMes', '<f4'), ('BLund', '<i4'), ('BMCIdx', '<i4'), ('Bd1Lund', '<i4'), ('Bd1Idx', '<i4'), ('Bd2Lund', '<i4'), ('Bd2Idx', '<i4'), ('DMass', '<f4'), ('DMassErr', '<f4'), ('DLund', '<i4'), ('DMCIdx', '<i4'), ('Dd1Lund', '<i4'), ('Dd1Idx', '<i4'), ('Dd2Lund', '<i4'), ('Dd2Idx', '<i4'), ('Dd3Lund', '<i4'), ('Dd3Idx', '<i4'), ('fk1', '<i4')]\n"
       ]
      },
      {
       "output_type": "display_data",
       "png": "[encoded data removed]",
       "text": [
        "<matplotlib.figure.Figure at 0x10044cc50>"
       ]
      }
     ],
     "prompt_number": 17
    },
    {
     "cell_type": "markdown",
     "metadata": {},
     "source": [
      "If you want to emulate multiple join, say we want to B -> D -> K, do this:"
     ]
    },
    {
     "cell_type": "code",
     "collapsed": false,
     "input": [
      "first_join = blockwise_inner_join(bb,Bblock+Kblock,bb.Bd1Idx,Dblock, force_repeat=Kblock).view(np.recarray)\n",
      "second_join = blockwise_inner_join(first_join,Bblock+Dblock, first_join.Dd1Idx, Kblock).view(np.recarray)"
     ],
     "language": "python",
     "metadata": {},
     "outputs": [],
     "prompt_number": 18
    },
    {
     "cell_type": "code",
     "collapsed": false,
     "input": [
      "print len(second_join)\n",
      "print second_join.dtype"
     ],
     "language": "python",
     "metadata": {},
     "outputs": [
      {
       "output_type": "stream",
       "stream": "stdout",
       "text": [
        "3334\n",
        "[('BCosSphr', '<f4'), ('BCosThetaS', '<f4'), ('BCosThetaT', '<f4'), ('BCosThrust', '<f4'), ('BLegendreP0', '<f4'), ('BLegendreP2', '<f4'), ('BPFlow0', '<f4'), ('BPFlow1', '<f4'), ('BPFlow2', '<f4'), ('BPFlow3', '<f4'), ('BPFlow4', '<f4'), ('BPFlow5', '<f4'), ('BPFlow6', '<f4'), ('BPFlow7', '<f4'), ('BPFlow8', '<f4'), ('BR2ROE', '<f4'), ('BSphr', '<f4'), ('BSphrROE', '<f4'), ('BThrust', '<f4'), ('BThrustROE', '<f4'), ('BpostFitDeltaE', '<f4'), ('BpostFitMes', '<f4'), ('BpreFitDeltaE', '<f4'), ('BpreFitMes', '<f4'), ('BLund', '<i4'), ('BMCIdx', '<i4'), ('Bd1Lund', '<i4'), ('Bd1Idx', '<i4'), ('Bd2Lund', '<i4'), ('Bd2Idx', '<i4'), ('DMass', '<f4'), ('DMassErr', '<f4'), ('DLund', '<i4'), ('DMCIdx', '<i4'), ('Dd1Lund', '<i4'), ('Dd1Idx', '<i4'), ('Dd2Lund', '<i4'), ('Dd2Idx', '<i4'), ('Dd3Lund', '<i4'), ('Dd3Idx', '<i4'), ('KLund', '<i4'), ('KMCIdx', '<i4'), ('fk1', '<i4')]\n"
       ]
      }
     ],
     "prompt_number": 19
    },
    {
     "cell_type": "code",
     "collapsed": false,
     "input": [
      "second_join[0]"
     ],
     "language": "python",
     "metadata": {},
     "outputs": [
      {
       "output_type": "pyout",
       "prompt_number": 20,
       "text": [
        "(0.3498619496822357, 0.10284660011529922, 0.22188863158226013, 0.3637125790119171, 3.1433799266815186, 0.6280750632286072, 0.0, 0.0, 0.0, 0.4425618052482605, 0.0, 0.5098583698272705, 0.5066342949867249, 0.04225146397948265, 1.6420741081237793, 0.32966145873069763, 0.1534668654203415, 0.15186193585395813, 0.8953324556350708, 0.8230934143066406, 0.000800736655946821, 5.279986381530762, 0.0007520868675783277, 5.279943943023682, 511, 4, -411, 0, 211, 0, 1.8630708456039429, 0.0055979653261601925, -411, 8, 321, 0, -211, 1, -211, 2, 321, 14, 0)"
       ]
      }
     ],
     "prompt_number": 20
    },
    {
     "cell_type": "code",
     "collapsed": false,
     "input": [],
     "language": "python",
     "metadata": {},
     "outputs": []
    }
   ],
   "metadata": {}
  }
 ]
}