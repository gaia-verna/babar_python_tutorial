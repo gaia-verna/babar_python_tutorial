{
 "metadata": {
  "name": "01_Basic_Python"
 },
 "nbformat": 3,
 "nbformat_minor": 0,
 "worksheets": [
  {
   "cells": [
    {
     "cell_type": "heading",
     "level": 2,
     "metadata": {},
     "source": [
      "Basic Python"
     ]
    },
    {
     "cell_type": "markdown",
     "metadata": {},
     "source": [
      "This is just to give you a glimpse of what Python can do.\n",
      "We select only subset of the feature we think will be useful for doing analysis.\n",
      "\n",
      "For more comprehensive book see http://www.greenteapress.com/thinkpython/html/index.html\n",
      "\n",
      "To go through this tutorial press ``shift+enter`` to execute the current cell and go to\n",
      "the next cell."
     ]
    },
    {
     "cell_type": "heading",
     "level": 3,
     "metadata": {},
     "source": [
      "Hello World"
     ]
    },
    {
     "cell_type": "code",
     "collapsed": false,
     "input": [
      "#press shift+enter to execute this\n",
      "print 'Hello world'"
     ],
     "language": "python",
     "metadata": {},
     "outputs": [
      {
       "output_type": "stream",
       "stream": "stdout",
       "text": [
        "Hello world\n"
       ]
      }
     ],
     "prompt_number": 1
    },
    {
     "cell_type": "code",
     "collapsed": false,
     "input": [
      "#ipython automatically show representation of the return value of the last command\n",
      "1+1"
     ],
     "language": "python",
     "metadata": {},
     "outputs": [
      {
       "output_type": "pyout",
       "prompt_number": 2,
       "text": [
        "2"
       ]
      }
     ],
     "prompt_number": 2
    },
    {
     "cell_type": "heading",
     "level": 3,
     "metadata": {},
     "source": [
      "Data Type(Usual Stuff)"
     ]
    },
    {
     "cell_type": "code",
     "collapsed": false,
     "input": [
      "x = 1 #integer\n",
      "y = 2.0 #float\n",
      "t = True #boolean (False)\n",
      "s = 'hello' #string\n",
      "s2 = \"world\" #double quotes works too\n",
      "n=None #Null like variable None."
     ],
     "language": "python",
     "metadata": {},
     "outputs": [],
     "prompt_number": 3
    },
    {
     "cell_type": "code",
     "collapsed": false,
     "input": [
      "print x+y #you can refer to previously assigned variable."
     ],
     "language": "python",
     "metadata": {},
     "outputs": [
      {
       "output_type": "stream",
       "stream": "stdout",
       "text": [
        "3.0\n"
       ]
      }
     ],
     "prompt_number": 4
    },
    {
     "cell_type": "code",
     "collapsed": false,
     "input": [
      "s+' '+s2"
     ],
     "language": "python",
     "metadata": {},
     "outputs": [
      {
       "output_type": "pyout",
       "prompt_number": 5,
       "text": [
        "'hello world'"
       ]
      }
     ],
     "prompt_number": 5
    },
    {
     "cell_type": "code",
     "collapsed": false,
     "input": [
      "#boolean operations\n",
      "x>1 and (y>=3 or not t) and not s=='hello' and n is None"
     ],
     "language": "python",
     "metadata": {},
     "outputs": [
      {
       "output_type": "pyout",
       "prompt_number": 6,
       "text": [
        "False"
       ]
      }
     ],
     "prompt_number": 6
    },
    {
     "cell_type": "code",
     "collapsed": false,
     "input": [
      "#Bonus: The only language I know that can do this\n",
      "0<x<10"
     ],
     "language": "python",
     "metadata": {},
     "outputs": [
      {
       "output_type": "pyout",
       "prompt_number": 7,
       "text": [
        "True"
       ]
      }
     ],
     "prompt_number": 7
    },
    {
     "cell_type": "markdown",
     "metadata": {},
     "source": [
      "##List, Set, Tuple, Dictionary, Generator"
     ]
    },
    {
     "cell_type": "markdown",
     "metadata": {},
     "source": [
      "List\n",
      "----\n",
      "Think of it as std::vector++"
     ]
    },
    {
     "cell_type": "code",
     "collapsed": false,
     "input": [
      "l = [1, 2, 3, 4, 5, 6, 7]\n",
      "print l #[1, 2, 3, 4, 5, 6, 7]\n",
      "print l[2] #3\n",
      "print len(l) # list length\n",
      "print l[-1] #7 negative index works from the back (-1)\n",
      "l2 = [] #want an empty list?\n",
      "print l2"
     ],
     "language": "python",
     "metadata": {},
     "outputs": [
      {
       "output_type": "stream",
       "stream": "stdout",
       "text": [
        "[1, 2, 3, 4, 5, 6, 7]\n",
        "3\n",
        "7\n",
        "7\n",
        "[]\n"
       ]
      }
     ],
     "prompt_number": 42
    },
    {
     "cell_type": "code",
     "collapsed": false,
     "input": [
      "#doesn't really need hold the same type\n",
      "#but don't recommend. You will just get confused\n",
      "bad_list = ['dog','cat',1,1.234]"
     ],
     "language": "python",
     "metadata": {},
     "outputs": [],
     "prompt_number": 1
    },
    {
     "cell_type": "code",
     "collapsed": false,
     "input": [
      "l[1] = 10 #assignment\n",
      "l"
     ],
     "language": "python",
     "metadata": {},
     "outputs": [
      {
       "output_type": "pyout",
       "prompt_number": 10,
       "text": [
        "[1, 10, 3, 4, 5, 6, 7]"
       ]
      }
     ],
     "prompt_number": 10
    },
    {
     "cell_type": "code",
     "collapsed": false,
     "input": [
      "l.append(999) #append list\n",
      "l"
     ],
     "language": "python",
     "metadata": {},
     "outputs": [
      {
       "output_type": "pyout",
       "prompt_number": 11,
       "text": [
        "[1, 10, 3, 4, 5, 6, 7, 999]"
       ]
      }
     ],
     "prompt_number": 11
    },
    {
     "cell_type": "code",
     "collapsed": false,
     "input": [
      "#can be created from list com\n",
      "l.sort() #sort\n",
      "l"
     ],
     "language": "python",
     "metadata": {},
     "outputs": [
      {
       "output_type": "pyout",
       "prompt_number": 12,
       "text": [
        "[1, 3, 4, 5, 6, 7, 10, 999]"
       ]
      }
     ],
     "prompt_number": 12
    },
    {
     "cell_type": "code",
     "collapsed": false,
     "input": [
      "#searching O(N) use set for O(log(N))\n",
      "10 in l"
     ],
     "language": "python",
     "metadata": {},
     "outputs": [
      {
       "output_type": "pyout",
       "prompt_number": 13,
       "text": [
        "True"
       ]
      }
     ],
     "prompt_number": 13
    },
    {
     "cell_type": "code",
     "collapsed": false,
     "input": [
      "11 not in l"
     ],
     "language": "python",
     "metadata": {},
     "outputs": [
      {
       "output_type": "pyout",
       "prompt_number": 14,
       "text": [
        "True"
       ]
      }
     ],
     "prompt_number": 14
    },
    {
     "cell_type": "code",
     "collapsed": false,
     "input": [
      "#useful list function\n",
      "range(10) #build it all in memory"
     ],
     "language": "python",
     "metadata": {},
     "outputs": [
      {
       "output_type": "pyout",
       "prompt_number": 15,
       "text": [
        "[0, 1, 2, 3, 4, 5, 6, 7, 8, 9]"
       ]
      }
     ],
     "prompt_number": 15
    },
    {
     "cell_type": "code",
     "collapsed": false,
     "input": [
      "#list comprehension\n",
      "#we will get to for loop later but for simple one\n",
      "#list comprehension is much more readable\n",
      "my_list = [2*x for x in l]\n",
      "print my_list\n",
      "my_list = [ (2*x,x) for x in range(10)]\n",
      "print my_list\n",
      "my_list = [3*x for x in range(10) if x%2==0]\n",
      "print my_list"
     ],
     "language": "python",
     "metadata": {},
     "outputs": [
      {
       "output_type": "stream",
       "stream": "stdout",
       "text": [
        "[2, 6, 8, 10, 12, 14, 20, 1998]\n",
        "[(0, 0), (2, 1), (4, 2), (6, 3), (8, 4), (10, 5), (12, 6), (14, 7), (16, 8), (18, 9)]\n",
        "[0, 6, 12, 18, 24]\n"
       ]
      }
     ],
     "prompt_number": 16
    },
    {
     "cell_type": "markdown",
     "metadata": {},
     "source": [
      "Tuple\n",
      "-----\n",
      "Think of it as immutable list"
     ]
    },
    {
     "cell_type": "code",
     "collapsed": false,
     "input": [
      "tu = (1,2,3) #tuple immutable list\n",
      "print tu\n",
      "tu2 = tuple(l) #convert list to tuple\n",
      "print tu2\n",
      "tu3 = 4,5,6 #parenthesis is actually optional but makes it more readable\n",
      "print tu3"
     ],
     "language": "python",
     "metadata": {},
     "outputs": [
      {
       "output_type": "stream",
       "stream": "stdout",
       "text": [
        "(1, 2, 3)\n",
        "(1, 3, 4, 5, 6, 7, 10, 999)\n",
        "(4, 5, 6)\n"
       ]
      }
     ],
     "prompt_number": 17
    },
    {
     "cell_type": "code",
     "collapsed": false,
     "input": [
      "#access\n",
      "tu[1]"
     ],
     "language": "python",
     "metadata": {},
     "outputs": [
      {
       "output_type": "pyout",
       "prompt_number": 18,
       "text": [
        "2"
       ]
      }
     ],
     "prompt_number": 18
    },
    {
     "cell_type": "code",
     "collapsed": false,
     "input": [
      "#tuple expansion\n",
      "x, y, z = tu\n",
      "print x #1\n",
      "print y #2\n",
      "print z #3\n",
      "print x, y, z #you can use tuple in print statement too\n",
      "\n",
      "x, y, z = 10, 20, 30#parenthesis is actually optional\n",
      "print z, y, x #any order"
     ],
     "language": "python",
     "metadata": {},
     "outputs": [
      {
       "output_type": "stream",
       "stream": "stdout",
       "text": [
        "1\n",
        "2\n",
        "3\n",
        "1 2 3\n",
        "30 20 10\n"
       ]
      }
     ],
     "prompt_number": 19
    },
    {
     "cell_type": "code",
     "collapsed": false,
     "input": [
      "#useful for returning multiple values\n",
      "def f(x,y):\n",
      "    return x+y, x-y #parenthesis is implied\n",
      "a, b = f(10,5)\n",
      "print a #15\n",
      "print b #5\n",
      "print a, b #works too"
     ],
     "language": "python",
     "metadata": {},
     "outputs": [
      {
       "output_type": "stream",
       "stream": "stdout",
       "text": [
        "15\n",
        "5\n",
        "15 5\n"
       ]
      }
     ],
     "prompt_number": 20
    },
    {
     "cell_type": "markdown",
     "metadata": {},
     "source": [
      "Dictionary\n",
      "----------\n",
      "\n",
      "Think of it as std::map - ish"
     ]
    },
    {
     "cell_type": "code",
     "collapsed": false,
     "input": [
      "d = {'a':1, 'b':10, 'c':100}\n",
      "print d #{'a': 1, 'c': 100, 'b': 10}\n",
      "d2 = dict(a=2, b=20, c=200) #using named argument\n",
      "print d2 #{'a': 2, 'c': 200, 'b': 20}\n",
      "d3 = dict([('a', 3),('b', 30),('c', 300)]) #list of tuples\n",
      "print d3 #{'a': 3, 'c': 300, 'b': 30}\n",
      "d4 = {x:2*x for x in range(10)}#comprehension (key doesn't have to be string)\n",
      "print d4 #{0: 0, 1: 2, 2: 4, 3: 6, 4: 8, 5: 10, 6: 12, 7: 14, 8: 16, 9: 18}\n",
      "d5 = {} #empty dict\n",
      "print d5 #{}"
     ],
     "language": "python",
     "metadata": {},
     "outputs": [
      {
       "output_type": "stream",
       "stream": "stdout",
       "text": [
        "{'a': 1, 'c': 100, 'b': 10}\n",
        "{'a': 2, 'c': 200, 'b': 20}\n",
        "{'a': 3, 'c': 300, 'b': 30}\n",
        "{0: 0, 1: 2, 2: 4, 3: 6, 4: 8, 5: 10, 6: 12, 7: 14, 8: 16, 9: 18}\n",
        "{}\n"
       ]
      }
     ],
     "prompt_number": 6
    },
    {
     "cell_type": "code",
     "collapsed": false,
     "input": [
      "print d['a'] #access\n",
      "print len(d) #count element\n",
      "d['d'] = 1000#insert\n",
      "print d #{'a': 1, 'c': 100, 'b': 10, 'd': 1000}\n",
      "del d['c']#remove\n",
      "print d #{'a': 1, 'b': 10, 'd': 10}\n",
      "print 'c' in d #keyexists?"
     ],
     "language": "python",
     "metadata": {},
     "outputs": [
      {
       "output_type": "stream",
       "stream": "stdout",
       "text": [
        "1\n",
        "3\n",
        "{'a': 1, 'c': 100, 'b': 10, 'd': 1000}\n",
        "{'a': 1, 'b': 10, 'd': 1000}\n",
        "False\n"
       ]
      }
     ],
     "prompt_number": 43
    },
    {
     "cell_type": "code",
     "collapsed": false,
     "input": [
      "#use dictionary in comprehension\n",
      "#d.items() return generator which gives tuple \n",
      "#k,v in d.items() does tuple expansion in disguise\n",
      "new_d = {k:2*v for k,v in d.items()}\n",
      "print new_d #{'a': 2, 'b': 20, 'd': 20}"
     ],
     "language": "python",
     "metadata": {},
     "outputs": [
      {
       "output_type": "stream",
       "stream": "stdout",
       "text": [
        "{'a': 2, 'b': 20, 'd': 20}\n"
       ]
      }
     ],
     "prompt_number": 23
    },
    {
     "cell_type": "markdown",
     "metadata": {},
     "source": [
      "Set\n",
      "---\n",
      "Binary tree-ish"
     ]
    },
    {
     "cell_type": "code",
     "collapsed": false,
     "input": [
      "s = {1,2,3,4,5,6}\n",
      "print s\n",
      "s2 = set([4, 5, 6, 7, 8, 9, 9, 9, 9]) #from a list\n",
      "#duplicated element is ignored\n",
      "print s2"
     ],
     "language": "python",
     "metadata": {},
     "outputs": [
      {
       "output_type": "stream",
       "stream": "stdout",
       "text": [
        "set([1, 2, 3, 4, 5, 6])\n",
        "set([4, 5, 6, 7, 8, 9])\n"
       ]
      }
     ],
     "prompt_number": 14
    },
    {
     "cell_type": "code",
     "collapsed": false,
     "input": [
      "#membership this is O(log(n))\n",
      "print 3 in s\n",
      "print 10 in s\n",
      "print 11 not in s"
     ],
     "language": "python",
     "metadata": {},
     "outputs": [
      {
       "output_type": "stream",
       "stream": "stdout",
       "text": [
        "True\n",
        "False\n",
        "True\n"
       ]
      }
     ],
     "prompt_number": 22
    },
    {
     "cell_type": "code",
     "collapsed": false,
     "input": [
      "print s | s2 #union\n",
      "print s & s2 #intersection\n",
      "print s - s2 #differece\n",
      "print s ^ s2 #symmetric differnce\n",
      "print {2,3,4} <= s #subset\n",
      "print s >= {2,3,4} #superset"
     ],
     "language": "python",
     "metadata": {},
     "outputs": [
      {
       "output_type": "stream",
       "stream": "stdout",
       "text": [
        "set([1, 2, 3, 4, 5, 6, 7, 8, 9])\n",
        "set([4, 5, 6])\n",
        "set([1, 2, 3])\n",
        "set([1, 2, 3, 7, 8, 9])\n",
        "True\n",
        "True\n"
       ]
      }
     ],
     "prompt_number": 21
    },
    {
     "cell_type": "code",
     "collapsed": false,
     "input": [
      "#insert\n",
      "s.update([10,11,12])\n",
      "print s\n",
      "print 11 in s"
     ],
     "language": "python",
     "metadata": {},
     "outputs": [
      {
       "output_type": "stream",
       "stream": "stdout",
       "text": [
        "set([1, 2, 3, 4, 5, 6, 10, 11, 12])\n",
        "True\n"
       ]
      }
     ],
     "prompt_number": 23
    },
    {
     "cell_type": "markdown",
     "metadata": {},
     "source": [
      "##Control Flow\n",
      "###if else elif\n",
      "Indentation in python is meaningful. There is \"NO\" bracket scoping in python.\n",
      "\n",
      "Recommended indentation is 4 spaces not Tab. Tab works but not recommended\n",
      "Set your text editor to soft tab. [PEP8](http://www.python.org/dev/peps/pep-0008/) which list all the\n",
      "recommended style: space, comma, indentation, new line, comment etc. Fun Read."
     ]
    },
    {
     "cell_type": "code",
     "collapsed": false,
     "input": [
      "x = 20\n",
      "if x>10: #colon\n",
      "    print 'greater than 10'#don't for get the indentation\n",
      "elif x>5: #parenthesis is not really needed\n",
      "    print 'greater than 5'\n",
      "else:\n",
      "    print 'not greater than 10'\n",
      "x+=1#continue your execution with lower indentation\n",
      "print x"
     ],
     "language": "python",
     "metadata": {},
     "outputs": [
      {
       "output_type": "stream",
       "stream": "stdout",
       "text": [
        "greater than 10\n",
        "21\n"
       ]
      }
     ],
     "prompt_number": 28
    },
    {
     "cell_type": "code",
     "collapsed": false,
     "input": [
      "#shorthand if\n",
      "y = 'oh yes' if x>100 else 'oh no' #no colon\n",
      "print y"
     ],
     "language": "python",
     "metadata": {},
     "outputs": [
      {
       "output_type": "stream",
       "stream": "stdout",
       "text": [
        "oh no\n"
       ]
      }
     ],
     "prompt_number": 27
    },
    {
     "cell_type": "code",
     "collapsed": false,
     "input": [
      "#since indentation matters sometime we don't need any statement\n",
      "if x>10:\n",
      "    print 'yes'\n",
      "else:\n",
      "    pass #pass keywoard means do nothing\n",
      "x+=1\n",
      "print x"
     ],
     "language": "python",
     "metadata": {},
     "outputs": [
      {
       "output_type": "stream",
       "stream": "stdout",
       "text": [
        "yes\n",
        "22\n"
       ]
      }
     ],
     "prompt_number": 29
    },
    {
     "cell_type": "code",
     "collapsed": false,
     "input": [
      "#why is there no bracket??\n",
      "from __future__ import braces #easter egg"
     ],
     "language": "python",
     "metadata": {},
     "outputs": [
      {
       "ename": "SyntaxError",
       "evalue": "not a chance (<ipython-input-30-6d7f2b9c69cb>, line 2)",
       "output_type": "pyerr",
       "traceback": [
        "\u001b[0;36m  File \u001b[0;32m\"<ipython-input-30-6d7f2b9c69cb>\"\u001b[0;36m, line \u001b[0;32m2\u001b[0m\n\u001b[0;31m    from __future__ import braces\u001b[0m\n\u001b[0;31mSyntaxError\u001b[0m\u001b[0;31m:\u001b[0m not a chance\n"
       ]
      }
     ],
     "prompt_number": 30
    },
    {
     "cell_type": "markdown",
     "metadata": {},
     "source": [
      "###For loop, While loop, Generator, Iterable\n",
      "\n",
      "There is actually no `for(i=0;i<10;i++)` in python. `list` is an example of iterable."
     ]
    },
    {
     "cell_type": "code",
     "collapsed": false,
     "input": [
      "#iterate over list\n",
      "for i in range(5): #not recommended use xrange instead\n",
      "    print i#again indentation is meaningful"
     ],
     "language": "python",
     "metadata": {},
     "outputs": [
      {
       "output_type": "stream",
       "stream": "stdout",
       "text": [
        "0\n",
        "1\n",
        "2\n",
        "3\n",
        "4\n"
       ]
      }
     ],
     "prompt_number": 33
    },
    {
     "cell_type": "markdown",
     "metadata": {},
     "source": [
      "####Generator\n",
      "In previous example, we use range. But ``range`` will be evaluated \n",
      "eagerly and put ``[1,2,3,4,5]`` in the memory\n",
      "\n",
      "This is bad if you try to loop over large number. `for i in range(100000)` will put 100000 numbers in to the memory first. This is very inefficient since you use each one of them once.\n",
      "\n",
      "To fix this we use generator instead. As far as we are concern they are\n",
      "object that spit out number only when ask and doesn't keep it's previous\n",
      "states which means no access by index nor going backward. You can read more about it from [python wiki](http://wiki.python.org/moin/Generators). Or just google for python `yield` keyword.\n",
      "\n",
      "Long story short just use `for i in xrange(5)` instead"
     ]
    },
    {
     "cell_type": "code",
     "collapsed": false,
     "input": [
      "#Lazy programming \n",
      "for i in xrange(5):\n",
      "    print i"
     ],
     "language": "python",
     "metadata": {},
     "outputs": [
      {
       "output_type": "stream",
       "stream": "stdout",
       "text": [
        "0\n",
        "1\n",
        "2\n",
        "3\n",
        "4\n"
       ]
      }
     ],
     "prompt_number": 34
    },
    {
     "cell_type": "code",
     "collapsed": false,
     "input": [
      "#looping the list\n",
      "l = ['a','b','c']\n",
      "for x in l:\n",
      "    print x"
     ],
     "language": "python",
     "metadata": {},
     "outputs": [
      {
       "output_type": "stream",
       "stream": "stdout",
       "text": [
        "a\n",
        "b\n",
        "c\n"
       ]
      }
     ],
     "prompt_number": 36
    },
    {
     "cell_type": "code",
     "collapsed": false,
     "input": [
      "#you can build your own generator too\n",
      "l = [1,2,3,4]\n",
      "#(2*y for y in l) is a generator that split out 2*y\n",
      "#for every element in l\n",
      "#not really a good way to write it but just to show it\n",
      "for x in (2*y for y in l):#notice the brackets\n",
      "    print x"
     ],
     "language": "python",
     "metadata": {},
     "outputs": [
      {
       "output_type": "stream",
       "stream": "stdout",
       "text": [
        "2\n",
        "4\n",
        "6\n",
        "8\n"
       ]
      }
     ],
     "prompt_number": 1
    },
    {
     "cell_type": "code",
     "collapsed": false,
     "input": [
      "#if you need index\n",
      "for i,x in enumerate(l):\n",
      "    print i,x"
     ],
     "language": "python",
     "metadata": {},
     "outputs": [
      {
       "output_type": "stream",
       "stream": "stdout",
       "text": [
        "0 a\n",
        "1 b\n",
        "2 c\n"
       ]
      }
     ],
     "prompt_number": 37
    },
    {
     "cell_type": "code",
     "collapsed": false,
     "input": [
      "#looping dictionary\n",
      "d = {'a':1,'b':10,'c':100}\n",
      "#items() returns a generator which return tuple\n",
      "#k,v in d.items() is tuple expansion in disguise\n",
      "for k,v in d.items():\n",
      "    print k,v"
     ],
     "language": "python",
     "metadata": {},
     "outputs": [
      {
       "output_type": "stream",
       "stream": "stdout",
       "text": [
        "a 1\n",
        "c 100\n",
        "b 10\n"
       ]
      }
     ],
     "prompt_number": 38
    },
    {
     "cell_type": "code",
     "collapsed": false,
     "input": [
      "#looping over multiple list together\n",
      "lx = [1,2,3]\n",
      "ly = [x+1 for x in l]\n",
      "print l,l2\n",
      "for x,y in zip(lx,ly): #there is also itertools.izip that does generator\n",
      "    print x,y"
     ],
     "language": "python",
     "metadata": {},
     "outputs": [
      {
       "output_type": "stream",
       "stream": "stdout",
       "text": [
        "[1, 2, 3] [2, 3, 4]\n",
        "[(1, 2), (2, 3), (3, 4)]\n",
        "1 2\n",
        "2 3\n",
        "3 4\n"
       ]
      }
     ],
     "prompt_number": 41
    },
    {
     "cell_type": "code",
     "collapsed": false,
     "input": [
      "#you can "
     ],
     "language": "python",
     "metadata": {},
     "outputs": []
    },
    {
     "cell_type": "code",
     "collapsed": false,
     "input": [
      "x = 0\n",
      "while x<5:\n",
      "    print x\n",
      "    x+=1"
     ],
     "language": "python",
     "metadata": {},
     "outputs": []
    },
    {
     "cell_type": "markdown",
     "metadata": {},
     "source": [
      "####See Also\n",
      "For more complex looping you can look at [itertools](http://docs.python.org/2/library/itertools.html)"
     ]
    },
    {
     "cell_type": "markdown",
     "metadata": {},
     "source": [
      "###Function\n",
      "Functions in python is a first class object(except in a very few cases)."
     ]
    },
    {
     "cell_type": "code",
     "collapsed": false,
     "input": [
      "def f(x, y):\n",
      "    return x+y"
     ],
     "language": "python",
     "metadata": {},
     "outputs": [],
     "prompt_number": 23
    },
    {
     "cell_type": "code",
     "collapsed": false,
     "input": [
      "#Bonus argument expansion"
     ],
     "language": "python",
     "metadata": {},
     "outputs": [],
     "prompt_number": 24
    },
    {
     "cell_type": "code",
     "collapsed": false,
     "input": [],
     "language": "python",
     "metadata": {},
     "outputs": [],
     "prompt_number": 24
    },
    {
     "cell_type": "code",
     "collapsed": false,
     "input": [],
     "language": "python",
     "metadata": {},
     "outputs": [],
     "prompt_number": 24
    },
    {
     "cell_type": "markdown",
     "metadata": {},
     "source": [
      "###Classes, Object etc\n",
      "Think about it as pointer to object in C."
     ]
    },
    {
     "cell_type": "code",
     "collapsed": false,
     "input": [
      "a = [1,2,3]\n"
     ],
     "language": "python",
     "metadata": {},
     "outputs": [],
     "prompt_number": 25
    },
    {
     "cell_type": "code",
     "collapsed": false,
     "input": [
      "id(a)"
     ],
     "language": "python",
     "metadata": {},
     "outputs": [
      {
       "output_type": "pyout",
       "prompt_number": 26,
       "text": [
        "4359648536"
       ]
      }
     ],
     "prompt_number": 26
    },
    {
     "cell_type": "code",
     "collapsed": false,
     "input": [
      "b = a[:]"
     ],
     "language": "python",
     "metadata": {},
     "outputs": [],
     "prompt_number": 27
    },
    {
     "cell_type": "code",
     "collapsed": false,
     "input": [
      "id(b)"
     ],
     "language": "python",
     "metadata": {},
     "outputs": [
      {
       "output_type": "pyout",
       "prompt_number": 28,
       "text": [
        "4359678504"
       ]
      }
     ],
     "prompt_number": 28
    },
    {
     "cell_type": "code",
     "collapsed": false,
     "input": [],
     "language": "python",
     "metadata": {},
     "outputs": [],
     "prompt_number": 28
    }
   ],
   "metadata": {}
  }
 ]
}