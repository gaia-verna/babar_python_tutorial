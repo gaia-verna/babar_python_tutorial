{
 "metadata": {
  "name": "04_Fitting"
 },
 "nbformat": 3,
 "nbformat_minor": 0,
 "worksheets": [
  {
   "cells": [
    {
     "cell_type": "markdown",
     "metadata": {},
     "source": [
      "##Fitting\n",
      "\n",
      "A lot of time in our analysis we need to extract observable by fitting to a shape function. In this tutorial we will show you how to fit this in Python. The tools we will focus in this tutorial is iminuit, and probfit. They are heavily influenced by ROOFIT and ROOT's MINUIT(and also PyMinuit).\n",
      "\n",
      "The basic idea of fitting is quite simple\n",
      "\n",
      "1. We have PDF.\n",
      "2. We build our cost function.\n",
      "3. We use minimizer to find shape parameters and one of those is our observable.\n"
     ]
    },
    {
     "cell_type": "markdown",
     "metadata": {},
     "source": [
      "###Minimizer\n",
      "\n",
      "We will start this tutorial with minimizer. Minuit is hands down(for me) the best minimizer there is for HEP.\n",
      "There are couple wrapper for Minuit in Python. The one we will show here is [iminuit](https://github.com/iminuit/iminuit). It's relatively new. It might not have your favorite feature; but, you are welcome to implement it(I'll point you in the right direction).\n",
      "\n",
      "iminuit has its own [quick start tutorial](http://nbviewer.ipython.org/urls/raw.github.com/iminuit/iminuit/master/tutorial/tutorial.ipynb) that givens you an overview of its feature and [hard core tutorial](http://nbviewer.ipython.org/urls/raw.github.com/iminuit/iminuit/master/tutorial/hard-core-tutorial.ipynb) that teach you how to complext stuff like using cython, make your own costfunction fast, and even parallel computing. We will be showing here basic feature of iminuit. If you need to do advance stuff take a look at those tutorials."
     ]
    },
    {
     "cell_type": "markdown",
     "metadata": {},
     "source": [
      "####Quick Start"
     ]
    },
    {
     "cell_type": "code",
     "collapsed": false,
     "input": [
      "from iminuit import Minuit, describe"
     ],
     "language": "python",
     "metadata": {},
     "outputs": [],
     "prompt_number": 1
    },
    {
     "cell_type": "code",
     "collapsed": false,
     "input": [
      "%load_ext inumpy"
     ],
     "language": "python",
     "metadata": {},
     "outputs": [],
     "prompt_number": 2
    },
    {
     "cell_type": "code",
     "collapsed": false,
     "input": [
      "def f(x,y,z):\n",
      "    return (x-2)**2 + (y-3)**2 + (z-4)**2"
     ],
     "language": "python",
     "metadata": {},
     "outputs": [],
     "prompt_number": 3
    },
    {
     "cell_type": "code",
     "collapsed": false,
     "input": [
      "#iminuit relies on python introspection to read function signature\n",
      "describe(f)"
     ],
     "language": "python",
     "metadata": {},
     "outputs": [
      {
       "output_type": "pyout",
       "prompt_number": 4,
       "text": [
        "['x', 'y', 'z']"
       ]
      }
     ],
     "prompt_number": 4
    },
    {
     "cell_type": "code",
     "collapsed": false,
     "input": [
      "#notice here that it automatically knows about x,y,z\n",
      "#no RooRealVar etc. needed here\n",
      "m = Minuit(f)\n",
      "#it warns about every little thing that might go wrong"
     ],
     "language": "python",
     "metadata": {},
     "outputs": [
      {
       "output_type": "stream",
       "stream": "stderr",
       "text": [
        "-c:3: InitialParamWarning: Parameter x does not have initial value. Assume 0.\n",
        "-c:3: InitialParamWarning: Parameter x is floating but does not have initial step size. Assume 1.\n",
        "-c:3: InitialParamWarning: Parameter y does not have initial value. Assume 0.\n",
        "-c:3: InitialParamWarning: Parameter y is floating but does not have initial step size. Assume 1.\n",
        "-c:3: InitialParamWarning: Parameter z does not have initial value. Assume 0.\n",
        "-c:3: InitialParamWarning: Parameter z is floating but does not have initial step size. Assume 1.\n"
       ]
      }
     ],
     "prompt_number": 5
    },
    {
     "cell_type": "code",
     "collapsed": false,
     "input": [
      "#the most frequently asked question is Does my fit converge\n",
      "#also look at your console it print progress if you use print_level=2\n",
      "m.migrad();"
     ],
     "language": "python",
     "metadata": {},
     "outputs": [
      {
       "html": [
        "<hr>"
       ],
       "output_type": "display_data"
      },
      {
       "html": [
        "\n",
        "        <table>\n",
        "            <tr>\n",
        "                <td>FCN = 1.62389076464e-22</td>\n",
        "                <td>NFCN = 36</td>\n",
        "                <td>NCALLS = 36</td>\n",
        "            </tr>\n",
        "            <tr>\n",
        "                <td>EDM = 1.62388025554e-22</td>\n",
        "                <td>GOAL EDM = 1e-05</td>\n",
        "                <td>UP = 1.0</td>\n",
        "            </tr>\n",
        "        </table>\n",
        "        \n",
        "        <table>\n",
        "            <tr>\n",
        "                <td align=\"center\">Valid</td>\n",
        "                <td align=\"center\">Valid Param</td>\n",
        "                <td align=\"center\">Accurate Covar</td>\n",
        "                <td align=\"center\">PosDef</td>\n",
        "                <td align=\"center\">Made PosDef</td>\n",
        "            </tr>\n",
        "            <tr>\n",
        "                <td align=\"center\" style=\"background-color:#92CCA6\">True</td>\n",
        "                <td align=\"center\" style=\"background-color:#92CCA6\">True</td>\n",
        "                <td align=\"center\" style=\"background-color:#92CCA6\">True</td>\n",
        "                <td align=\"center\" style=\"background-color:#92CCA6\">True</td>\n",
        "                <td align=\"center\" style=\"background-color:#92CCA6\">False</td>\n",
        "            </tr>\n",
        "            <tr>\n",
        "                <td align=\"center\">Hesse Fail</td>\n",
        "                <td align=\"center\">HasCov</td>\n",
        "                <td align=\"center\">Above EDM</td>\n",
        "                <td align=\"center\"></td>\n",
        "                <td align=\"center\">Reach calllim</td>\n",
        "            </tr>\n",
        "            <tr>\n",
        "                <td align=\"center\" style=\"background-color:#92CCA6\">False</td>\n",
        "                <td align=\"center\" style=\"background-color:#92CCA6\">True</td>\n",
        "                <td align=\"center\" style=\"background-color:#92CCA6\">False</td>\n",
        "                <td align=\"center\"></td>\n",
        "                <td align=\"center\" style=\"background-color:#92CCA6\">False</td>\n",
        "            </tr>\n",
        "        </table>\n",
        "        "
       ],
       "output_type": "display_data"
      },
      {
       "html": [
        "\n",
        "        <table>\n",
        "            <tr>\n",
        "                <td></td>\n",
        "                <td>Name</td>\n",
        "                <td>Value</td>\n",
        "                <td>Parab Error</td>\n",
        "                <td>Minos Error-</td>\n",
        "                <td>Minos Error+</td>\n",
        "                <td>Limit-</td>\n",
        "                <td>Limit+</td>\n",
        "                <td>FIXED</td>\n",
        "            </tr>\n",
        "        \n",
        "            <tr>\n",
        "                <td>1</td>\n",
        "                <td>x</td>\n",
        "                <td>2.000000e+00</td>\n",
        "                <td>1.000000e+00</td>\n",
        "                <td>0.000000e+00</td>\n",
        "                <td>0.000000e+00</td>\n",
        "                <td></td>\n",
        "                <td></td>\n",
        "                <td></td>\n",
        "            </tr>\n",
        "            \n",
        "            <tr>\n",
        "                <td>2</td>\n",
        "                <td>y</td>\n",
        "                <td>3.000000e+00</td>\n",
        "                <td>1.000000e+00</td>\n",
        "                <td>0.000000e+00</td>\n",
        "                <td>0.000000e+00</td>\n",
        "                <td></td>\n",
        "                <td></td>\n",
        "                <td></td>\n",
        "            </tr>\n",
        "            \n",
        "            <tr>\n",
        "                <td>3</td>\n",
        "                <td>z</td>\n",
        "                <td>4.000000e+00</td>\n",
        "                <td>1.000000e+00</td>\n",
        "                <td>0.000000e+00</td>\n",
        "                <td>0.000000e+00</td>\n",
        "                <td></td>\n",
        "                <td></td>\n",
        "                <td></td>\n",
        "            </tr>\n",
        "            \n",
        "            </table>\n",
        "        "
       ],
       "output_type": "display_data"
      },
      {
       "html": [
        "<hr>"
       ],
       "output_type": "display_data"
      }
     ],
     "prompt_number": 6
    },
    {
     "cell_type": "markdown",
     "metadata": {},
     "source": [
      "####Accessing Value/Error"
     ]
    },
    {
     "cell_type": "code",
     "collapsed": false,
     "input": [
      "print m.values\n",
      "print m.errors\n",
      "print m.fval"
     ],
     "language": "python",
     "metadata": {},
     "outputs": [
      {
       "output_type": "stream",
       "stream": "stdout",
       "text": [
        "{'y': 3.000000000007099, 'x': 2.0000000000047327, 'z': 4.000000000009465}"
       ]
      },
      {
       "output_type": "stream",
       "stream": "stdout",
       "text": [
        "\n"
       ]
      },
      {
       "output_type": "stream",
       "stream": "stdout",
       "text": [
        "{'y': 1.0000000000002762, 'x': 1.0000000000000409, 'z': 0.9999999999998322}"
       ]
      },
      {
       "output_type": "stream",
       "stream": "stdout",
       "text": [
        "\n"
       ]
      },
      {
       "output_type": "stream",
       "stream": "stdout",
       "text": [
        "1.62389076464e-22"
       ]
      },
      {
       "output_type": "stream",
       "stream": "stdout",
       "text": [
        "\n"
       ]
      }
     ],
     "prompt_number": 7
    },
    {
     "cell_type": "code",
     "collapsed": false,
     "input": [
      "#correlation matrix\n",
      "#Only Chrome/safari gets the vertical writing mode right.\n",
      "m.print_matrix() "
     ],
     "language": "python",
     "metadata": {},
     "outputs": [
      {
       "html": [
        "\n",
        "            <table>\n",
        "                <tr>\n",
        "                    <td></td>\n",
        "        \n",
        "            <td>\n",
        "            <span style=\"-webkit-writing-mode:vertical-rl;-moz-writing-mode: vertical-rl;writing-mode: vertical-rl;\">\n",
        "            x\n",
        "            </span>\n",
        "            </td>\n",
        "            \n",
        "            <td>\n",
        "            <span style=\"-webkit-writing-mode:vertical-rl;-moz-writing-mode: vertical-rl;writing-mode: vertical-rl;\">\n",
        "            y\n",
        "            </span>\n",
        "            </td>\n",
        "            \n",
        "            <td>\n",
        "            <span style=\"-webkit-writing-mode:vertical-rl;-moz-writing-mode: vertical-rl;writing-mode: vertical-rl;\">\n",
        "            z\n",
        "            </span>\n",
        "            </td>\n",
        "            \n",
        "                </tr>\n",
        "                \n",
        "            <tr>\n",
        "                <td>x</td>\n",
        "            \n",
        "                <td style=\"background-color:rgb(255,117,117)\">\n",
        "                1.00\n",
        "                </td>\n",
        "                \n",
        "                <td style=\"background-color:rgb(163,254,186)\">\n",
        "                -0.00\n",
        "                </td>\n",
        "                \n",
        "                <td style=\"background-color:rgb(163,254,186)\">\n",
        "                -0.00\n",
        "                </td>\n",
        "                \n",
        "            </tr>\n",
        "            \n",
        "            <tr>\n",
        "                <td>y</td>\n",
        "            \n",
        "                <td style=\"background-color:rgb(163,254,186)\">\n",
        "                -0.00\n",
        "                </td>\n",
        "                \n",
        "                <td style=\"background-color:rgb(255,117,117)\">\n",
        "                1.00\n",
        "                </td>\n",
        "                \n",
        "                <td style=\"background-color:rgb(163,254,186)\">\n",
        "                0.00\n",
        "                </td>\n",
        "                \n",
        "            </tr>\n",
        "            \n",
        "            <tr>\n",
        "                <td>z</td>\n",
        "            \n",
        "                <td style=\"background-color:rgb(163,254,186)\">\n",
        "                -0.00\n",
        "                </td>\n",
        "                \n",
        "                <td style=\"background-color:rgb(163,254,186)\">\n",
        "                0.00\n",
        "                </td>\n",
        "                \n",
        "                <td style=\"background-color:rgb(255,117,117)\">\n",
        "                1.00\n",
        "                </td>\n",
        "                \n",
        "            </tr>\n",
        "            </table>"
       ],
       "output_type": "display_data"
      }
     ],
     "prompt_number": 8
    },
    {
     "cell_type": "code",
     "collapsed": false,
     "input": [
      "m.minos(); #do m.minos('x') if you need just 1 of them"
     ],
     "language": "python",
     "metadata": {},
     "outputs": [
      {
       "html": [
        "\n",
        "        <span>Minos status for x: <span style=\"background-color:#92CCA6\">VALID</span></span>\n",
        "        <table>\n",
        "            <tr>\n",
        "                <td>Error</td>\n",
        "                <td>-1.0</td>\n",
        "                <td>0.999999999995</td>\n",
        "            </tr>\n",
        "            <tr>\n",
        "                <td>Valid</td>\n",
        "                <td style=\"background-color:#92CCA6\">True</td>\n",
        "                <td style=\"background-color:#92CCA6\">True</td>\n",
        "            </tr>\n",
        "            <tr>\n",
        "                <td>At Limit</td>\n",
        "                <td style=\"background-color:#92CCA6\">False</td>\n",
        "                <td style=\"background-color:#92CCA6\">False</td>\n",
        "            </tr>\n",
        "            <tr>\n",
        "                <td>Max FCN</td>\n",
        "                <td style=\"background-color:#92CCA6\">False</td>\n",
        "                <td style=\"background-color:#92CCA6\">False</td>\n",
        "            </tr>\n",
        "            <tr>\n",
        "                <td>New Min</td>\n",
        "                <td style=\"background-color:#92CCA6\">False</td>\n",
        "                <td style=\"background-color:#92CCA6\">False</td>\n",
        "            </tr>\n",
        "        </table>\n",
        "        "
       ],
       "output_type": "display_data"
      },
      {
       "html": [
        "\n",
        "        <span>Minos status for y: <span style=\"background-color:#92CCA6\">VALID</span></span>\n",
        "        <table>\n",
        "            <tr>\n",
        "                <td>Error</td>\n",
        "                <td>-1.00000000001</td>\n",
        "                <td>0.999999999993</td>\n",
        "            </tr>\n",
        "            <tr>\n",
        "                <td>Valid</td>\n",
        "                <td style=\"background-color:#92CCA6\">True</td>\n",
        "                <td style=\"background-color:#92CCA6\">True</td>\n",
        "            </tr>\n",
        "            <tr>\n",
        "                <td>At Limit</td>\n",
        "                <td style=\"background-color:#92CCA6\">False</td>\n",
        "                <td style=\"background-color:#92CCA6\">False</td>\n",
        "            </tr>\n",
        "            <tr>\n",
        "                <td>Max FCN</td>\n",
        "                <td style=\"background-color:#92CCA6\">False</td>\n",
        "                <td style=\"background-color:#92CCA6\">False</td>\n",
        "            </tr>\n",
        "            <tr>\n",
        "                <td>New Min</td>\n",
        "                <td style=\"background-color:#92CCA6\">False</td>\n",
        "                <td style=\"background-color:#92CCA6\">False</td>\n",
        "            </tr>\n",
        "        </table>\n",
        "        "
       ],
       "output_type": "display_data"
      },
      {
       "html": [
        "\n",
        "        <span>Minos status for z: <span style=\"background-color:#92CCA6\">VALID</span></span>\n",
        "        <table>\n",
        "            <tr>\n",
        "                <td>Error</td>\n",
        "                <td>-1.00000000001</td>\n",
        "                <td>0.999999999991</td>\n",
        "            </tr>\n",
        "            <tr>\n",
        "                <td>Valid</td>\n",
        "                <td style=\"background-color:#92CCA6\">True</td>\n",
        "                <td style=\"background-color:#92CCA6\">True</td>\n",
        "            </tr>\n",
        "            <tr>\n",
        "                <td>At Limit</td>\n",
        "                <td style=\"background-color:#92CCA6\">False</td>\n",
        "                <td style=\"background-color:#92CCA6\">False</td>\n",
        "            </tr>\n",
        "            <tr>\n",
        "                <td>Max FCN</td>\n",
        "                <td style=\"background-color:#92CCA6\">False</td>\n",
        "                <td style=\"background-color:#92CCA6\">False</td>\n",
        "            </tr>\n",
        "            <tr>\n",
        "                <td>New Min</td>\n",
        "                <td style=\"background-color:#92CCA6\">False</td>\n",
        "                <td style=\"background-color:#92CCA6\">False</td>\n",
        "            </tr>\n",
        "        </table>\n",
        "        "
       ],
       "output_type": "display_data"
      },
      {
       "output_type": "pyout",
       "prompt_number": 9,
       "text": [
        "{'x': {'lower_new_min': False, 'upper': 0.9999999999952673, 'lower': -1.0000000000047327, 'at_lower_limit': False, 'min': 2.0000000000047327, 'at_lower_max_fcn': False, 'is_valid': True, 'upper_new_min': False, 'at_upper_limit': False, 'lower_valid': True, 'upper_valid': True, 'at_upper_max_fcn': False, 'nfcn': 18L},\n",
        " 'y': {'lower_new_min': False, 'upper': 0.9999999999929008, 'lower': -1.0000000000070992, 'at_lower_limit': False, 'min': 3.000000000007099, 'at_lower_max_fcn': False, 'is_valid': True, 'upper_new_min': False, 'at_upper_limit': False, 'lower_valid': True, 'upper_valid': True, 'at_upper_max_fcn': False, 'nfcn': 18L},\n",
        " 'z': {'lower_new_min': False, 'upper': 0.9999999999905348, 'lower': -1.0000000000094653, 'at_lower_limit': False, 'min': 4.000000000009465, 'at_lower_max_fcn': False, 'is_valid': True, 'upper_new_min': False, 'at_upper_limit': False, 'lower_valid': True, 'upper_valid': True, 'at_upper_max_fcn': False, 'nfcn': 18L}}"
       ]
      }
     ],
     "prompt_number": 9
    },
    {
     "cell_type": "code",
     "collapsed": false,
     "input": [
      "m.merrors"
     ],
     "language": "python",
     "metadata": {},
     "outputs": [
      {
       "output_type": "pyout",
       "prompt_number": 10,
       "text": [
        "{('x', -1.0): -1.0000000000047327,\n",
        " ('x', 1.0): 0.9999999999952673,\n",
        " ('y', -1.0): -1.0000000000070992,\n",
        " ('y', 1.0): 0.9999999999929008,\n",
        " ('z', -1.0): -1.0000000000094653,\n",
        " ('z', 1.0): 0.9999999999905348}"
       ]
      }
     ],
     "prompt_number": 10
    },
    {
     "cell_type": "markdown",
     "metadata": {},
     "source": [
      "####Initial value, Limit, initial error, fixing"
     ]
    },
    {
     "cell_type": "code",
     "collapsed": false,
     "input": [
      "m = Minuit(f, x=2, y=4, fix_y=True, limit_z=(-10,10), error_z=0.1)"
     ],
     "language": "python",
     "metadata": {},
     "outputs": [
      {
       "output_type": "stream",
       "stream": "stderr",
       "text": [
        "-c:1: InitialParamWarning: Parameter x is floating but does not have initial step size. Assume 1.\n"
       ]
      },
      {
       "output_type": "stream",
       "stream": "stderr",
       "text": [
        "-c:1: InitialParamWarning: Parameter z does not have initial value. Assume 0.\n"
       ]
      }
     ],
     "prompt_number": 11
    },
    {
     "cell_type": "code",
     "collapsed": false,
     "input": [
      "m.migrad();"
     ],
     "language": "python",
     "metadata": {},
     "outputs": [
      {
       "html": [
        "<hr>"
       ],
       "output_type": "display_data"
      },
      {
       "html": [
        "\n",
        "        <table>\n",
        "            <tr>\n",
        "                <td>FCN = 1.00000010694</td>\n",
        "                <td>NFCN = 30</td>\n",
        "                <td>NCALLS = 30</td>\n",
        "            </tr>\n",
        "            <tr>\n",
        "                <td>EDM = 1.06933681618e-07</td>\n",
        "                <td>GOAL EDM = 1e-05</td>\n",
        "                <td>UP = 1.0</td>\n",
        "            </tr>\n",
        "        </table>\n",
        "        \n",
        "        <table>\n",
        "            <tr>\n",
        "                <td align=\"center\">Valid</td>\n",
        "                <td align=\"center\">Valid Param</td>\n",
        "                <td align=\"center\">Accurate Covar</td>\n",
        "                <td align=\"center\">PosDef</td>\n",
        "                <td align=\"center\">Made PosDef</td>\n",
        "            </tr>\n",
        "            <tr>\n",
        "                <td align=\"center\" style=\"background-color:#92CCA6\">True</td>\n",
        "                <td align=\"center\" style=\"background-color:#92CCA6\">True</td>\n",
        "                <td align=\"center\" style=\"background-color:#92CCA6\">True</td>\n",
        "                <td align=\"center\" style=\"background-color:#92CCA6\">True</td>\n",
        "                <td align=\"center\" style=\"background-color:#92CCA6\">False</td>\n",
        "            </tr>\n",
        "            <tr>\n",
        "                <td align=\"center\">Hesse Fail</td>\n",
        "                <td align=\"center\">HasCov</td>\n",
        "                <td align=\"center\">Above EDM</td>\n",
        "                <td align=\"center\"></td>\n",
        "                <td align=\"center\">Reach calllim</td>\n",
        "            </tr>\n",
        "            <tr>\n",
        "                <td align=\"center\" style=\"background-color:#92CCA6\">False</td>\n",
        "                <td align=\"center\" style=\"background-color:#92CCA6\">True</td>\n",
        "                <td align=\"center\" style=\"background-color:#92CCA6\">False</td>\n",
        "                <td align=\"center\"></td>\n",
        "                <td align=\"center\" style=\"background-color:#92CCA6\">False</td>\n",
        "            </tr>\n",
        "        </table>\n",
        "        "
       ],
       "output_type": "display_data"
      },
      {
       "html": [
        "\n",
        "        <table>\n",
        "            <tr>\n",
        "                <td></td>\n",
        "                <td>Name</td>\n",
        "                <td>Value</td>\n",
        "                <td>Parab Error</td>\n",
        "                <td>Minos Error-</td>\n",
        "                <td>Minos Error+</td>\n",
        "                <td>Limit-</td>\n",
        "                <td>Limit+</td>\n",
        "                <td>FIXED</td>\n",
        "            </tr>\n",
        "        \n",
        "            <tr>\n",
        "                <td>1</td>\n",
        "                <td>x</td>\n",
        "                <td>2.000000e+00</td>\n",
        "                <td>1.000000e+00</td>\n",
        "                <td>0.000000e+00</td>\n",
        "                <td>0.000000e+00</td>\n",
        "                <td></td>\n",
        "                <td></td>\n",
        "                <td></td>\n",
        "            </tr>\n",
        "            \n",
        "            <tr>\n",
        "                <td>2</td>\n",
        "                <td>y</td>\n",
        "                <td>4.000000e+00</td>\n",
        "                <td>1.000000e+00</td>\n",
        "                <td>0.000000e+00</td>\n",
        "                <td>0.000000e+00</td>\n",
        "                <td></td>\n",
        "                <td></td>\n",
        "                <td>FIXED</td>\n",
        "            </tr>\n",
        "            \n",
        "            <tr>\n",
        "                <td>3</td>\n",
        "                <td>z</td>\n",
        "                <td>3.999673e+00</td>\n",
        "                <td>9.980094e-01</td>\n",
        "                <td>0.000000e+00</td>\n",
        "                <td>0.000000e+00</td>\n",
        "                <td>-10.0</td>\n",
        "                <td>10.0</td>\n",
        "                <td></td>\n",
        "            </tr>\n",
        "            \n",
        "            </table>\n",
        "        "
       ],
       "output_type": "display_data"
      },
      {
       "html": [
        "<hr>"
       ],
       "output_type": "display_data"
      }
     ],
     "prompt_number": 12
    },
    {
     "cell_type": "markdown",
     "metadata": {},
     "source": [
      "##Building cost fuciont using probfit\n",
      "\n",
      "You could write your always own cost function(see iminuit hardcore tutorial for example). But why should you. probfit provide convenience functor for you to build a cost function.\n",
      "\n",
      "Let's try to fit a simple gaussian with unbinned likelihood."
     ]
    },
    {
     "cell_type": "code",
     "collapsed": false,
     "input": [
      "from math import exp, pi, sqrt\n",
      "from probfit import UnbinnedLH\n",
      "from iminuit import Minuit"
     ],
     "language": "python",
     "metadata": {},
     "outputs": [],
     "prompt_number": 13
    },
    {
     "cell_type": "code",
     "collapsed": false,
     "input": [
      "seed(0)\n",
      "gdata = randn(1000)\n",
      "hist(gdata,bins=100, histtype='step');"
     ],
     "language": "python",
     "metadata": {},
     "outputs": [
      {
       "output_type": "display_data",
       "png": "[encoded data removed]",
       "text": [
        "<matplotlib.figure.Figure at 0x103edfcd0>"
       ]
      }
     ],
     "prompt_number": 14
    },
    {
     "cell_type": "code",
     "collapsed": false,
     "input": [
      "#you can define your pdf manually like this\n",
      "def my_gauss(x, mu, sigma):\n",
      "    return exp(-0.5*(x-mu)**2/sigma**2)/(sqrt(2*pi)*sigma)"
     ],
     "language": "python",
     "metadata": {},
     "outputs": [],
     "prompt_number": 15
    },
    {
     "cell_type": "code",
     "collapsed": false,
     "input": [
      "#probfit use the same describe magic as iminuit\n",
      "#Build your favorite cost function like this\n",
      "#Notice no RooRealVar etc. It use introspection to\n",
      "#find parameters\n",
      "#the only requirement is that the first argument is\n",
      "#in independent variable the rest are parameters\n",
      "ulh = UnbinnedLH(my_gauss, gdata)\n",
      "describe(ulh)"
     ],
     "language": "python",
     "metadata": {},
     "outputs": [
      {
       "output_type": "pyout",
       "prompt_number": 16,
       "text": [
        "['mu', 'sigma']"
       ]
      }
     ],
     "prompt_number": 16
    },
    {
     "cell_type": "code",
     "collapsed": false,
     "input": [
      "m = Minuit(ulh, mu=0.2, sigma=1.5)\n",
      "m.set_up(0.5) #remember up is 0.5 for likelihood and 1 for chi^2\n",
      "ulh.show(m)"
     ],
     "language": "python",
     "metadata": {},
     "outputs": [
      {
       "output_type": "stream",
       "stream": "stderr",
       "text": [
        "-c:1: InitialParamWarning: Parameter mu is floating but does not have initial step size. Assume 1.\n"
       ]
      },
      {
       "output_type": "stream",
       "stream": "stderr",
       "text": [
        "-c:1: InitialParamWarning: Parameter sigma is floating but does not have initial step size. Assume 1.\n"
       ]
      },
      {
       "output_type": "display_data",
       "png": "[encoded data removed]",
       "text": [
        "<matplotlib.figure.Figure at 0x103eeef50>"
       ]
      }
     ],
     "prompt_number": 17
    },
    {
     "cell_type": "code",
     "collapsed": false,
     "input": [
      "m.migrad();\n",
      "ulh.show(m)"
     ],
     "language": "python",
     "metadata": {},
     "outputs": [
      {
       "html": [
        "<hr>"
       ],
       "output_type": "display_data"
      },
      {
       "html": [
        "\n",
        "        <table>\n",
        "            <tr>\n",
        "                <td>FCN = 1405.88688927</td>\n",
        "                <td>NFCN = 67</td>\n",
        "                <td>NCALLS = 67</td>\n",
        "            </tr>\n",
        "            <tr>\n",
        "                <td>EDM = 7.65781084211e-07</td>\n",
        "                <td>GOAL EDM = 5e-06</td>\n",
        "                <td>UP = 0.5</td>\n",
        "            </tr>\n",
        "        </table>\n",
        "        \n",
        "        <table>\n",
        "            <tr>\n",
        "                <td align=\"center\">Valid</td>\n",
        "                <td align=\"center\">Valid Param</td>\n",
        "                <td align=\"center\">Accurate Covar</td>\n",
        "                <td align=\"center\">PosDef</td>\n",
        "                <td align=\"center\">Made PosDef</td>\n",
        "            </tr>\n",
        "            <tr>\n",
        "                <td align=\"center\" style=\"background-color:#92CCA6\">True</td>\n",
        "                <td align=\"center\" style=\"background-color:#92CCA6\">True</td>\n",
        "                <td align=\"center\" style=\"background-color:#92CCA6\">True</td>\n",
        "                <td align=\"center\" style=\"background-color:#92CCA6\">True</td>\n",
        "                <td align=\"center\" style=\"background-color:#92CCA6\">False</td>\n",
        "            </tr>\n",
        "            <tr>\n",
        "                <td align=\"center\">Hesse Fail</td>\n",
        "                <td align=\"center\">HasCov</td>\n",
        "                <td align=\"center\">Above EDM</td>\n",
        "                <td align=\"center\"></td>\n",
        "                <td align=\"center\">Reach calllim</td>\n",
        "            </tr>\n",
        "            <tr>\n",
        "                <td align=\"center\" style=\"background-color:#92CCA6\">False</td>\n",
        "                <td align=\"center\" style=\"background-color:#92CCA6\">True</td>\n",
        "                <td align=\"center\" style=\"background-color:#92CCA6\">False</td>\n",
        "                <td align=\"center\"></td>\n",
        "                <td align=\"center\" style=\"background-color:#92CCA6\">False</td>\n",
        "            </tr>\n",
        "        </table>\n",
        "        "
       ],
       "output_type": "display_data"
      },
      {
       "html": [
        "\n",
        "        <table>\n",
        "            <tr>\n",
        "                <td></td>\n",
        "                <td>Name</td>\n",
        "                <td>Value</td>\n",
        "                <td>Parab Error</td>\n",
        "                <td>Minos Error-</td>\n",
        "                <td>Minos Error+</td>\n",
        "                <td>Limit-</td>\n",
        "                <td>Limit+</td>\n",
        "                <td>FIXED</td>\n",
        "            </tr>\n",
        "        \n",
        "            <tr>\n",
        "                <td>1</td>\n",
        "                <td>mu</td>\n",
        "                <td>-4.528735e-02</td>\n",
        "                <td>3.121221e-02</td>\n",
        "                <td>0.000000e+00</td>\n",
        "                <td>0.000000e+00</td>\n",
        "                <td></td>\n",
        "                <td></td>\n",
        "                <td></td>\n",
        "            </tr>\n",
        "            \n",
        "            <tr>\n",
        "                <td>2</td>\n",
        "                <td>sigma</td>\n",
        "                <td>9.870165e-01</td>\n",
        "                <td>2.206980e-02</td>\n",
        "                <td>0.000000e+00</td>\n",
        "                <td>0.000000e+00</td>\n",
        "                <td></td>\n",
        "                <td></td>\n",
        "                <td></td>\n",
        "            </tr>\n",
        "            \n",
        "            </table>\n",
        "        "
       ],
       "output_type": "display_data"
      },
      {
       "html": [
        "<hr>"
       ],
       "output_type": "display_data"
      },
      {
       "output_type": "display_data",
       "png": "[encoded data removed]",
       "text": [
        "<matplotlib.figure.Figure at 0x103eeef50>"
       ]
      }
     ],
     "prompt_number": 18
    },
    {
     "cell_type": "markdown",
     "metadata": {},
     "source": [
      "####Another way to fit gaussian\n",
      "probfit comes with a bunch of builtin functions so you don't have to write your own pdf."
     ]
    },
    {
     "cell_type": "code",
     "collapsed": false,
     "input": [
      "from probfit import gaussian"
     ],
     "language": "python",
     "metadata": {},
     "outputs": [],
     "prompt_number": 19
    },
    {
     "cell_type": "code",
     "collapsed": false,
     "input": [
      "ulh = UnbinnedLH(gaussian, gdata)\n",
      "describe(ulh)"
     ],
     "language": "python",
     "metadata": {},
     "outputs": [
      {
       "output_type": "pyout",
       "prompt_number": 20,
       "text": [
        "['mean', 'sigma']"
       ]
      }
     ],
     "prompt_number": 20
    },
    {
     "cell_type": "code",
     "collapsed": false,
     "input": [
      "m = Minuit(ulh, mean=0.2, sigma =0.3)\n",
      "m.set_up(0.5)\n",
      "m.migrad()\n",
      "ulh.show(m)"
     ],
     "language": "python",
     "metadata": {},
     "outputs": [
      {
       "output_type": "stream",
       "stream": "stderr",
       "text": [
        "-c:1: InitialParamWarning: Parameter mean is floating but does not have initial step size. Assume 1.\n"
       ]
      },
      {
       "output_type": "stream",
       "stream": "stderr",
       "text": [
        "-c:1: InitialParamWarning: Parameter sigma is floating but does not have initial step size. Assume 1.\n"
       ]
      },
      {
       "html": [
        "<hr>"
       ],
       "output_type": "display_data"
      },
      {
       "html": [
        "\n",
        "        <table>\n",
        "            <tr>\n",
        "                <td>FCN = 1405.8868885</td>\n",
        "                <td>NFCN = 84</td>\n",
        "                <td>NCALLS = 84</td>\n",
        "            </tr>\n",
        "            <tr>\n",
        "                <td>EDM = 2.0619807636e-10</td>\n",
        "                <td>GOAL EDM = 5e-06</td>\n",
        "                <td>UP = 0.5</td>\n",
        "            </tr>\n",
        "        </table>\n",
        "        \n",
        "        <table>\n",
        "            <tr>\n",
        "                <td align=\"center\">Valid</td>\n",
        "                <td align=\"center\">Valid Param</td>\n",
        "                <td align=\"center\">Accurate Covar</td>\n",
        "                <td align=\"center\">PosDef</td>\n",
        "                <td align=\"center\">Made PosDef</td>\n",
        "            </tr>\n",
        "            <tr>\n",
        "                <td align=\"center\" style=\"background-color:#92CCA6\">True</td>\n",
        "                <td align=\"center\" style=\"background-color:#92CCA6\">True</td>\n",
        "                <td align=\"center\" style=\"background-color:#92CCA6\">True</td>\n",
        "                <td align=\"center\" style=\"background-color:#92CCA6\">True</td>\n",
        "                <td align=\"center\" style=\"background-color:#92CCA6\">False</td>\n",
        "            </tr>\n",
        "            <tr>\n",
        "                <td align=\"center\">Hesse Fail</td>\n",
        "                <td align=\"center\">HasCov</td>\n",
        "                <td align=\"center\">Above EDM</td>\n",
        "                <td align=\"center\"></td>\n",
        "                <td align=\"center\">Reach calllim</td>\n",
        "            </tr>\n",
        "            <tr>\n",
        "                <td align=\"center\" style=\"background-color:#92CCA6\">False</td>\n",
        "                <td align=\"center\" style=\"background-color:#92CCA6\">True</td>\n",
        "                <td align=\"center\" style=\"background-color:#92CCA6\">False</td>\n",
        "                <td align=\"center\"></td>\n",
        "                <td align=\"center\" style=\"background-color:#92CCA6\">False</td>\n",
        "            </tr>\n",
        "        </table>\n",
        "        "
       ],
       "output_type": "display_data"
      },
      {
       "html": [
        "\n",
        "        <table>\n",
        "            <tr>\n",
        "                <td></td>\n",
        "                <td>Name</td>\n",
        "                <td>Value</td>\n",
        "                <td>Parab Error</td>\n",
        "                <td>Minos Error-</td>\n",
        "                <td>Minos Error+</td>\n",
        "                <td>Limit-</td>\n",
        "                <td>Limit+</td>\n",
        "                <td>FIXED</td>\n",
        "            </tr>\n",
        "        \n",
        "            <tr>\n",
        "                <td>1</td>\n",
        "                <td>mean</td>\n",
        "                <td>-4.525667e-02</td>\n",
        "                <td>3.121275e-02</td>\n",
        "                <td>0.000000e+00</td>\n",
        "                <td>0.000000e+00</td>\n",
        "                <td></td>\n",
        "                <td></td>\n",
        "                <td></td>\n",
        "            </tr>\n",
        "            \n",
        "            <tr>\n",
        "                <td>2</td>\n",
        "                <td>sigma</td>\n",
        "                <td>9.870336e-01</td>\n",
        "                <td>2.207075e-02</td>\n",
        "                <td>0.000000e+00</td>\n",
        "                <td>0.000000e+00</td>\n",
        "                <td></td>\n",
        "                <td></td>\n",
        "                <td></td>\n",
        "            </tr>\n",
        "            \n",
        "            </table>\n",
        "        "
       ],
       "output_type": "display_data"
      },
      {
       "html": [
        "<hr>"
       ],
       "output_type": "display_data"
      },
      {
       "output_type": "display_data",
       "png": "[encoded data removed]",
       "text": [
        "<matplotlib.figure.Figure at 0x103eeef50>"
       ]
      }
     ],
     "prompt_number": 21
    },
    {
     "cell_type": "markdown",
     "metadata": {},
     "source": [
      "####Let's do some physics\n",
      "Remeber the D mass?? Let's try to fit relativistic Breit-Wigner to it."
     ]
    },
    {
     "cell_type": "code",
     "collapsed": false,
     "input": [
      "from root_numpy import root2rec"
     ],
     "language": "python",
     "metadata": {},
     "outputs": [],
     "prompt_number": 22
    },
    {
     "cell_type": "code",
     "collapsed": false,
     "input": [
      "data = root2rec('data/*.root')\n",
      "bb = root2rec('data/B*.root')\n",
      "cc = root2rec('data/cc*.root')"
     ],
     "language": "python",
     "metadata": {},
     "outputs": [],
     "prompt_number": 23
    },
    {
     "cell_type": "code",
     "collapsed": false,
     "input": [
      "hs = np.hstack\n",
      "hist([hs(data.DMass), hs(bb.DMass), hs(cc.DMass)], bins=50, histtype='step');"
     ],
     "language": "python",
     "metadata": {},
     "outputs": [
      {
       "output_type": "display_data",
       "png": "[encoded data removed]",
       "text": [
        "<matplotlib.figure.Figure at 0x100522610>"
       ]
      }
     ],
     "prompt_number": 24
    },
    {
     "cell_type": "markdown",
     "metadata": {},
     "source": [
      "###Simple fit\n",
      "First lets fit bb's DMass alone with a Breit-Wigner."
     ]
    },
    {
     "cell_type": "code",
     "collapsed": false,
     "input": [
      "from probfit import UnbinnedLH, draw_compare_hist,\\\n",
      "                    vector_apply, Normalized, breitwigner,\\\n",
      "                    linear, rename, AddPdfNorm\n",
      "from iminuit import Minuit"
     ],
     "language": "python",
     "metadata": {},
     "outputs": [],
     "prompt_number": 25
    },
    {
     "cell_type": "code",
     "collapsed": false,
     "input": [
      "bb_dmass = hs(bb.DMass)\n",
      "print bb.DMass.size"
     ],
     "language": "python",
     "metadata": {},
     "outputs": [
      {
       "output_type": "stream",
       "stream": "stdout",
       "text": [
        "1611"
       ]
      },
      {
       "output_type": "stream",
       "stream": "stdout",
       "text": [
        "\n"
       ]
      }
     ],
     "prompt_number": 26
    },
    {
     "cell_type": "code",
     "collapsed": false,
     "input": [
      "#you can compare them like this\n",
      "draw_compare_hist(breitwigner, {'m':1.87, 'gamma':0.01}, bb_dmass, normed=True);"
     ],
     "language": "python",
     "metadata": {},
     "outputs": [
      {
       "output_type": "display_data",
       "png": "[encoded data removed]",
       "text": [
        "<matplotlib.figure.Figure at 0x10044bcd0>"
       ]
      }
     ],
     "prompt_number": 27
    },
    {
     "cell_type": "code",
     "collapsed": false,
     "input": [
      "#Our DMass is a truncated one so we need to have it normalized properly\n",
      "#this is easy with Normalized functor which normalized your pdf\n",
      "#this might seems a bit unusual if you never done functinal programming\n",
      "#but normalize just wrap the function around and return a new function\n",
      "signalpdf = Normalized(breitwigner,(1.83,1.91))"
     ],
     "language": "python",
     "metadata": {},
     "outputs": [],
     "prompt_number": 28
    },
    {
     "cell_type": "code",
     "collapsed": false,
     "input": [
      "ulh = UnbinnedLH(signalpdf, bb_dmass)"
     ],
     "language": "python",
     "metadata": {},
     "outputs": [],
     "prompt_number": 29
    },
    {
     "cell_type": "code",
     "collapsed": false,
     "input": [
      "m = Minuit(ulh, m=1.875, gamma=0.01)#I shift it on purpose\n",
      "m.set_up(0.5)\n",
      "ulh.show(m) #you can see it before the fit begins;"
     ],
     "language": "python",
     "metadata": {},
     "outputs": [
      {
       "output_type": "stream",
       "stream": "stderr",
       "text": [
        "-c:1: InitialParamWarning: Parameter m is floating but does not have initial step size. Assume 1.\n"
       ]
      },
      {
       "output_type": "stream",
       "stream": "stderr",
       "text": [
        "-c:1: InitialParamWarning: Parameter gamma is floating but does not have initial step size. Assume 1.\n"
       ]
      },
      {
       "output_type": "display_data",
       "png": "[encoded data removed]",
       "text": [
        "<matplotlib.figure.Figure at 0x103eeefd0>"
       ]
      }
     ],
     "prompt_number": 30
    },
    {
     "cell_type": "code",
     "collapsed": false,
     "input": [
      "%timeit -n1 -r1 m.migrad(); #we will talk about speed later;"
     ],
     "language": "python",
     "metadata": {},
     "outputs": [
      {
       "output_type": "stream",
       "stream": "stderr",
       "text": [
        "-c:257: SmallIntegralWarning: (1.8630708456039429, 1.875, -0.037439913111806694)\n"
       ]
      },
      {
       "html": [
        "<hr>"
       ],
       "output_type": "display_data"
      },
      {
       "html": [
        "\n",
        "        <table>\n",
        "            <tr>\n",
        "                <td>FCN = -5215.15664669</td>\n",
        "                <td>NFCN = 53</td>\n",
        "                <td>NCALLS = 53</td>\n",
        "            </tr>\n",
        "            <tr>\n",
        "                <td>EDM = 2.1321107787e-07</td>\n",
        "                <td>GOAL EDM = 5e-06</td>\n",
        "                <td>UP = 0.5</td>\n",
        "            </tr>\n",
        "        </table>\n",
        "        \n",
        "        <table>\n",
        "            <tr>\n",
        "                <td align=\"center\">Valid</td>\n",
        "                <td align=\"center\">Valid Param</td>\n",
        "                <td align=\"center\">Accurate Covar</td>\n",
        "                <td align=\"center\">PosDef</td>\n",
        "                <td align=\"center\">Made PosDef</td>\n",
        "            </tr>\n",
        "            <tr>\n",
        "                <td align=\"center\" style=\"background-color:#92CCA6\">True</td>\n",
        "                <td align=\"center\" style=\"background-color:#92CCA6\">True</td>\n",
        "                <td align=\"center\" style=\"background-color:#92CCA6\">True</td>\n",
        "                <td align=\"center\" style=\"background-color:#92CCA6\">True</td>\n",
        "                <td align=\"center\" style=\"background-color:#92CCA6\">False</td>\n",
        "            </tr>\n",
        "            <tr>\n",
        "                <td align=\"center\">Hesse Fail</td>\n",
        "                <td align=\"center\">HasCov</td>\n",
        "                <td align=\"center\">Above EDM</td>\n",
        "                <td align=\"center\"></td>\n",
        "                <td align=\"center\">Reach calllim</td>\n",
        "            </tr>\n",
        "            <tr>\n",
        "                <td align=\"center\" style=\"background-color:#92CCA6\">False</td>\n",
        "                <td align=\"center\" style=\"background-color:#92CCA6\">True</td>\n",
        "                <td align=\"center\" style=\"background-color:#92CCA6\">False</td>\n",
        "                <td align=\"center\"></td>\n",
        "                <td align=\"center\" style=\"background-color:#92CCA6\">False</td>\n",
        "            </tr>\n",
        "        </table>\n",
        "        "
       ],
       "output_type": "display_data"
      },
      {
       "html": [
        "\n",
        "        <table>\n",
        "            <tr>\n",
        "                <td></td>\n",
        "                <td>Name</td>\n",
        "                <td>Value</td>\n",
        "                <td>Parab Error</td>\n",
        "                <td>Minos Error-</td>\n",
        "                <td>Minos Error+</td>\n",
        "                <td>Limit-</td>\n",
        "                <td>Limit+</td>\n",
        "                <td>FIXED</td>\n",
        "            </tr>\n",
        "        \n",
        "            <tr>\n",
        "                <td>1</td>\n",
        "                <td>m</td>\n",
        "                <td>1.869067e+00</td>\n",
        "                <td>1.933686e-04</td>\n",
        "                <td>0.000000e+00</td>\n",
        "                <td>0.000000e+00</td>\n",
        "                <td></td>\n",
        "                <td></td>\n",
        "                <td></td>\n",
        "            </tr>\n",
        "            \n",
        "            <tr>\n",
        "                <td>2</td>\n",
        "                <td>gamma</td>\n",
        "                <td>1.162347e-02</td>\n",
        "                <td>4.264423e-04</td>\n",
        "                <td>0.000000e+00</td>\n",
        "                <td>0.000000e+00</td>\n",
        "                <td></td>\n",
        "                <td></td>\n",
        "                <td></td>\n",
        "            </tr>\n",
        "            \n",
        "            </table>\n",
        "        "
       ],
       "output_type": "display_data"
      },
      {
       "html": [
        "<hr>"
       ],
       "output_type": "display_data"
      },
      {
       "output_type": "stream",
       "stream": "stdout",
       "text": [
        "1 loops, best of 1: 94.2 ms per loop"
       ]
      },
      {
       "output_type": "stream",
       "stream": "stdout",
       "text": [
        "\n"
       ]
      }
     ],
     "prompt_number": 31
    },
    {
     "cell_type": "code",
     "collapsed": false,
     "input": [
      "ulh.show(m) #looks good"
     ],
     "language": "python",
     "metadata": {},
     "outputs": [
      {
       "output_type": "display_data",
       "png": "[encoded data removed]",
       "text": [
        "<matplotlib.figure.Figure at 0x103fd5d50>"
       ]
      }
     ],
     "prompt_number": 32
    },
    {
     "cell_type": "code",
     "collapsed": false,
     "input": [
      "m.minos();#do m.minos('m') if you need just 1 parameter"
     ],
     "language": "python",
     "metadata": {},
     "outputs": [
      {
       "html": [
        "\n",
        "        <span>Minos status for m: <span style=\"background-color:#92CCA6\">VALID</span></span>\n",
        "        <table>\n",
        "            <tr>\n",
        "                <td>Error</td>\n",
        "                <td>-0.000193323780809</td>\n",
        "                <td>0.000193492574459</td>\n",
        "            </tr>\n",
        "            <tr>\n",
        "                <td>Valid</td>\n",
        "                <td style=\"background-color:#92CCA6\">True</td>\n",
        "                <td style=\"background-color:#92CCA6\">True</td>\n",
        "            </tr>\n",
        "            <tr>\n",
        "                <td>At Limit</td>\n",
        "                <td style=\"background-color:#92CCA6\">False</td>\n",
        "                <td style=\"background-color:#92CCA6\">False</td>\n",
        "            </tr>\n",
        "            <tr>\n",
        "                <td>Max FCN</td>\n",
        "                <td style=\"background-color:#92CCA6\">False</td>\n",
        "                <td style=\"background-color:#92CCA6\">False</td>\n",
        "            </tr>\n",
        "            <tr>\n",
        "                <td>New Min</td>\n",
        "                <td style=\"background-color:#92CCA6\">False</td>\n",
        "                <td style=\"background-color:#92CCA6\">False</td>\n",
        "            </tr>\n",
        "        </table>\n",
        "        "
       ],
       "output_type": "display_data"
      },
      {
       "html": [
        "\n",
        "        <span>Minos status for gamma: <span style=\"background-color:#92CCA6\">VALID</span></span>\n",
        "        <table>\n",
        "            <tr>\n",
        "                <td>Error</td>\n",
        "                <td>-0.000417683435626</td>\n",
        "                <td>0.000435169584868</td>\n",
        "            </tr>\n",
        "            <tr>\n",
        "                <td>Valid</td>\n",
        "                <td style=\"background-color:#92CCA6\">True</td>\n",
        "                <td style=\"background-color:#92CCA6\">True</td>\n",
        "            </tr>\n",
        "            <tr>\n",
        "                <td>At Limit</td>\n",
        "                <td style=\"background-color:#92CCA6\">False</td>\n",
        "                <td style=\"background-color:#92CCA6\">False</td>\n",
        "            </tr>\n",
        "            <tr>\n",
        "                <td>Max FCN</td>\n",
        "                <td style=\"background-color:#92CCA6\">False</td>\n",
        "                <td style=\"background-color:#92CCA6\">False</td>\n",
        "            </tr>\n",
        "            <tr>\n",
        "                <td>New Min</td>\n",
        "                <td style=\"background-color:#92CCA6\">False</td>\n",
        "                <td style=\"background-color:#92CCA6\">False</td>\n",
        "            </tr>\n",
        "        </table>\n",
        "        "
       ],
       "output_type": "display_data"
      },
      {
       "output_type": "pyout",
       "prompt_number": 33,
       "text": [
        "{'gamma': {'lower_new_min': False, 'upper': 0.0004351695848684993, 'lower': -0.0004176834356256943, 'at_lower_limit': False, 'min': 0.011623470960891061, 'at_lower_max_fcn': False, 'is_valid': True, 'upper_new_min': False, 'at_upper_limit': False, 'lower_valid': True, 'upper_valid': True, 'at_upper_max_fcn': False, 'nfcn': 12L},\n",
        " 'm': {'lower_new_min': False, 'upper': 0.0001934925744592886, 'lower': -0.00019332378080901176, 'at_lower_limit': False, 'min': 1.8690668294082615, 'at_lower_max_fcn': False, 'is_valid': True, 'upper_new_min': False, 'at_upper_limit': False, 'lower_valid': True, 'upper_valid': True, 'at_upper_max_fcn': False, 'nfcn': 12L}}"
       ]
      }
     ],
     "prompt_number": 33
    },
    {
     "cell_type": "code",
     "collapsed": false,
     "input": [
      "m.print_param()"
     ],
     "language": "python",
     "metadata": {},
     "outputs": [
      {
       "html": [
        "\n",
        "        <table>\n",
        "            <tr>\n",
        "                <td></td>\n",
        "                <td>Name</td>\n",
        "                <td>Value</td>\n",
        "                <td>Parab Error</td>\n",
        "                <td>Minos Error-</td>\n",
        "                <td>Minos Error+</td>\n",
        "                <td>Limit-</td>\n",
        "                <td>Limit+</td>\n",
        "                <td>FIXED</td>\n",
        "            </tr>\n",
        "        \n",
        "            <tr>\n",
        "                <td>1</td>\n",
        "                <td>m</td>\n",
        "                <td>1.869067e+00</td>\n",
        "                <td>1.933686e-04</td>\n",
        "                <td>-1.933238e-04</td>\n",
        "                <td>1.934926e-04</td>\n",
        "                <td></td>\n",
        "                <td></td>\n",
        "                <td></td>\n",
        "            </tr>\n",
        "            \n",
        "            <tr>\n",
        "                <td>2</td>\n",
        "                <td>gamma</td>\n",
        "                <td>1.162347e-02</td>\n",
        "                <td>4.264423e-04</td>\n",
        "                <td>-4.176834e-04</td>\n",
        "                <td>4.351696e-04</td>\n",
        "                <td></td>\n",
        "                <td></td>\n",
        "                <td></td>\n",
        "            </tr>\n",
        "            \n",
        "            </table>\n",
        "        "
       ],
       "output_type": "display_data"
      }
     ],
     "prompt_number": 34
    },
    {
     "cell_type": "markdown",
     "metadata": {},
     "source": [
      "###More ComplexPDF\n",
      "\n",
      "Now let's add the background and fit it. Looks like a job for linear + breitwigner."
     ]
    },
    {
     "cell_type": "code",
     "collapsed": false,
     "input": [
      "bound = (1.83,1.91)\n",
      "bgpdf = Normalized(linear,bound)"
     ],
     "language": "python",
     "metadata": {},
     "outputs": [],
     "prompt_number": 35
    },
    {
     "cell_type": "code",
     "collapsed": false,
     "input": [
      "describe(bgpdf)"
     ],
     "language": "python",
     "metadata": {},
     "outputs": [
      {
       "output_type": "pyout",
       "prompt_number": 36,
       "text": [
        "['x', 'm', 'c']"
       ]
      }
     ],
     "prompt_number": 36
    },
    {
     "cell_type": "code",
     "collapsed": false,
     "input": [
      "#remember our breit wigner also has m argument which means different thing\n",
      "describe(breitwigner)"
     ],
     "language": "python",
     "metadata": {},
     "outputs": [
      {
       "output_type": "pyout",
       "prompt_number": 37,
       "text": [
        "['x', 'm', 'gamma']"
       ]
      }
     ],
     "prompt_number": 37
    },
    {
     "cell_type": "code",
     "collapsed": false,
     "input": [
      "#renaming is easy\n",
      "signalpdf = Normalized(rename(breitwigner,['x','mass','gamma']),(1.83,1.91))"
     ],
     "language": "python",
     "metadata": {},
     "outputs": [],
     "prompt_number": 38
    },
    {
     "cell_type": "code",
     "collapsed": false,
     "input": [
      "describe(signalpdf)"
     ],
     "language": "python",
     "metadata": {},
     "outputs": [
      {
       "output_type": "pyout",
       "prompt_number": 39,
       "text": [
        "['x', 'mass', 'gamma']"
       ]
      }
     ],
     "prompt_number": 39
    },
    {
     "cell_type": "code",
     "collapsed": false,
     "input": [
      "#now we can add them\n",
      "total_pdf = AddPdfNorm(signalpdf,bgpdf)\n",
      "#if you want to just directly add them up with out the factor(eg. adding extended pdf)\n",
      "#use AddPdf\n",
      "describe(total_pdf)"
     ],
     "language": "python",
     "metadata": {},
     "outputs": [
      {
       "output_type": "pyout",
       "prompt_number": 40,
       "text": [
        "['x', 'mass', 'gamma', 'm', 'c', 'f_0']"
       ]
      }
     ],
     "prompt_number": 40
    },
    {
     "cell_type": "code",
     "collapsed": false,
     "input": [
      "ulh = UnbinnedLH(total_pdf, np.hstack(data.DMass))\n",
      "m = Minuit(ulh, mass=1.87, gamma=0.01, m=0., c=1, f_0=0.7)\n",
      "ulh.show(m)"
     ],
     "language": "python",
     "metadata": {},
     "outputs": [
      {
       "output_type": "stream",
       "stream": "stderr",
       "text": [
        "-c:2: InitialParamWarning: Parameter mass is floating but does not have initial step size. Assume 1.\n"
       ]
      },
      {
       "output_type": "stream",
       "stream": "stderr",
       "text": [
        "-c:2: InitialParamWarning: Parameter gamma is floating but does not have initial step size. Assume 1.\n"
       ]
      },
      {
       "output_type": "stream",
       "stream": "stderr",
       "text": [
        "-c:2: InitialParamWarning: Parameter m is floating but does not have initial step size. Assume 1.\n"
       ]
      },
      {
       "output_type": "stream",
       "stream": "stderr",
       "text": [
        "-c:2: InitialParamWarning: Parameter c is floating but does not have initial step size. Assume 1.\n"
       ]
      },
      {
       "output_type": "stream",
       "stream": "stderr",
       "text": [
        "-c:2: InitialParamWarning: Parameter f_0 is floating but does not have initial step size. Assume 1.\n"
       ]
      },
      {
       "output_type": "display_data",
       "png": "[encoded data removed]",
       "text": [
        "<matplotlib.figure.Figure at 0x10458c3d0>"
       ]
      }
     ],
     "prompt_number": 41
    },
    {
     "cell_type": "code",
     "collapsed": false,
     "input": [
      "m.migrad();"
     ],
     "language": "python",
     "metadata": {},
     "outputs": [
      {
       "output_type": "stream",
       "stream": "stderr",
       "text": [
        "-c:1: SmallIntegralWarning: (1.8630708456039429, 1.87, -0.04022288586037785)\n"
       ]
      },
      {
       "output_type": "stream",
       "stream": "stderr",
       "text": [
        "-c:1: SmallIntegralWarning: (1.8630708456039429, -1.2927829628156, 1.0)\n"
       ]
      },
      {
       "html": [
        "<hr>"
       ],
       "output_type": "display_data"
      },
      {
       "html": [
        "\n",
        "        <table>\n",
        "            <tr>\n",
        "                <td>FCN = -10681.2451699</td>\n",
        "                <td>NFCN = 195</td>\n",
        "                <td>NCALLS = 195</td>\n",
        "            </tr>\n",
        "            <tr>\n",
        "                <td>EDM = 1.80701947902e-06</td>\n",
        "                <td>GOAL EDM = 1e-05</td>\n",
        "                <td>UP = 1.0</td>\n",
        "            </tr>\n",
        "        </table>\n",
        "        \n",
        "        <table>\n",
        "            <tr>\n",
        "                <td align=\"center\">Valid</td>\n",
        "                <td align=\"center\">Valid Param</td>\n",
        "                <td align=\"center\">Accurate Covar</td>\n",
        "                <td align=\"center\">PosDef</td>\n",
        "                <td align=\"center\">Made PosDef</td>\n",
        "            </tr>\n",
        "            <tr>\n",
        "                <td align=\"center\" style=\"background-color:#92CCA6\">True</td>\n",
        "                <td align=\"center\" style=\"background-color:#92CCA6\">True</td>\n",
        "                <td align=\"center\" style=\"background-color:#92CCA6\">True</td>\n",
        "                <td align=\"center\" style=\"background-color:#92CCA6\">True</td>\n",
        "                <td align=\"center\" style=\"background-color:#92CCA6\">False</td>\n",
        "            </tr>\n",
        "            <tr>\n",
        "                <td align=\"center\">Hesse Fail</td>\n",
        "                <td align=\"center\">HasCov</td>\n",
        "                <td align=\"center\">Above EDM</td>\n",
        "                <td align=\"center\"></td>\n",
        "                <td align=\"center\">Reach calllim</td>\n",
        "            </tr>\n",
        "            <tr>\n",
        "                <td align=\"center\" style=\"background-color:#92CCA6\">False</td>\n",
        "                <td align=\"center\" style=\"background-color:#92CCA6\">True</td>\n",
        "                <td align=\"center\" style=\"background-color:#92CCA6\">False</td>\n",
        "                <td align=\"center\"></td>\n",
        "                <td align=\"center\" style=\"background-color:#92CCA6\">False</td>\n",
        "            </tr>\n",
        "        </table>\n",
        "        "
       ],
       "output_type": "display_data"
      },
      {
       "html": [
        "\n",
        "        <table>\n",
        "            <tr>\n",
        "                <td></td>\n",
        "                <td>Name</td>\n",
        "                <td>Value</td>\n",
        "                <td>Parab Error</td>\n",
        "                <td>Minos Error-</td>\n",
        "                <td>Minos Error+</td>\n",
        "                <td>Limit-</td>\n",
        "                <td>Limit+</td>\n",
        "                <td>FIXED</td>\n",
        "            </tr>\n",
        "        \n",
        "            <tr>\n",
        "                <td>1</td>\n",
        "                <td>mass</td>\n",
        "                <td>1.869335e+00</td>\n",
        "                <td>2.959476e-04</td>\n",
        "                <td>0.000000e+00</td>\n",
        "                <td>0.000000e+00</td>\n",
        "                <td></td>\n",
        "                <td></td>\n",
        "                <td></td>\n",
        "            </tr>\n",
        "            \n",
        "            <tr>\n",
        "                <td>2</td>\n",
        "                <td>gamma</td>\n",
        "                <td>1.131486e-02</td>\n",
        "                <td>8.200809e-04</td>\n",
        "                <td>0.000000e+00</td>\n",
        "                <td>0.000000e+00</td>\n",
        "                <td></td>\n",
        "                <td></td>\n",
        "                <td></td>\n",
        "            </tr>\n",
        "            \n",
        "            <tr>\n",
        "                <td>3</td>\n",
        "                <td>m</td>\n",
        "                <td>-4.372055e-01</td>\n",
        "                <td>1.305490e-01</td>\n",
        "                <td>0.000000e+00</td>\n",
        "                <td>0.000000e+00</td>\n",
        "                <td></td>\n",
        "                <td></td>\n",
        "                <td></td>\n",
        "            </tr>\n",
        "            \n",
        "            <tr>\n",
        "                <td>4</td>\n",
        "                <td>c</td>\n",
        "                <td>1.045326e+00</td>\n",
        "                <td>3.117603e-01</td>\n",
        "                <td>0.000000e+00</td>\n",
        "                <td>0.000000e+00</td>\n",
        "                <td></td>\n",
        "                <td></td>\n",
        "                <td></td>\n",
        "            </tr>\n",
        "            \n",
        "            <tr>\n",
        "                <td>5</td>\n",
        "                <td>f_0</td>\n",
        "                <td>5.421792e-01</td>\n",
        "                <td>2.624388e-02</td>\n",
        "                <td>0.000000e+00</td>\n",
        "                <td>0.000000e+00</td>\n",
        "                <td></td>\n",
        "                <td></td>\n",
        "                <td></td>\n",
        "            </tr>\n",
        "            \n",
        "            </table>\n",
        "        "
       ],
       "output_type": "display_data"
      },
      {
       "html": [
        "<hr>"
       ],
       "output_type": "display_data"
      }
     ],
     "prompt_number": 42
    },
    {
     "cell_type": "code",
     "collapsed": false,
     "input": [
      "ulh.show(m, parts=True)"
     ],
     "language": "python",
     "metadata": {},
     "outputs": [
      {
       "output_type": "display_data",
       "png": "[encoded data removed]",
       "text": [
        "<matplotlib.figure.Figure at 0x103f11690>"
       ]
      }
     ],
     "prompt_number": 43
    },
    {
     "cell_type": "code",
     "collapsed": false,
     "input": [
      "m.print_matrix()"
     ],
     "language": "python",
     "metadata": {},
     "outputs": [
      {
       "html": [
        "\n",
        "            <table>\n",
        "                <tr>\n",
        "                    <td></td>\n",
        "        \n",
        "            <td>\n",
        "            <span style=\"-webkit-writing-mode:vertical-rl;-moz-writing-mode: vertical-rl;writing-mode: vertical-rl;\">\n",
        "            mass\n",
        "            </span>\n",
        "            </td>\n",
        "            \n",
        "            <td>\n",
        "            <span style=\"-webkit-writing-mode:vertical-rl;-moz-writing-mode: vertical-rl;writing-mode: vertical-rl;\">\n",
        "            gamma\n",
        "            </span>\n",
        "            </td>\n",
        "            \n",
        "            <td>\n",
        "            <span style=\"-webkit-writing-mode:vertical-rl;-moz-writing-mode: vertical-rl;writing-mode: vertical-rl;\">\n",
        "            m\n",
        "            </span>\n",
        "            </td>\n",
        "            \n",
        "            <td>\n",
        "            <span style=\"-webkit-writing-mode:vertical-rl;-moz-writing-mode: vertical-rl;writing-mode: vertical-rl;\">\n",
        "            c\n",
        "            </span>\n",
        "            </td>\n",
        "            \n",
        "            <td>\n",
        "            <span style=\"-webkit-writing-mode:vertical-rl;-moz-writing-mode: vertical-rl;writing-mode: vertical-rl;\">\n",
        "            f_0\n",
        "            </span>\n",
        "            </td>\n",
        "            \n",
        "                </tr>\n",
        "                \n",
        "            <tr>\n",
        "                <td>mass</td>\n",
        "            \n",
        "                <td style=\"background-color:rgb(255,117,117)\">\n",
        "                1.00\n",
        "                </td>\n",
        "                \n",
        "                <td style=\"background-color:rgb(165,251,185)\">\n",
        "                -0.02\n",
        "                </td>\n",
        "                \n",
        "                <td style=\"background-color:rgb(169,245,181)\">\n",
        "                -0.07\n",
        "                </td>\n",
        "                \n",
        "                <td style=\"background-color:rgb(169,245,182)\">\n",
        "                -0.06\n",
        "                </td>\n",
        "                \n",
        "                <td style=\"background-color:rgb(165,251,185)\">\n",
        "                -0.02\n",
        "                </td>\n",
        "                \n",
        "            </tr>\n",
        "            \n",
        "            <tr>\n",
        "                <td>gamma</td>\n",
        "            \n",
        "                <td style=\"background-color:rgb(165,251,185)\">\n",
        "                -0.02\n",
        "                </td>\n",
        "                \n",
        "                <td style=\"background-color:rgb(255,117,117)\">\n",
        "                1.00\n",
        "                </td>\n",
        "                \n",
        "                <td style=\"background-color:rgb(163,254,186)\">\n",
        "                -0.00\n",
        "                </td>\n",
        "                \n",
        "                <td style=\"background-color:rgb(163,254,186)\">\n",
        "                -0.00\n",
        "                </td>\n",
        "                \n",
        "                <td style=\"background-color:rgb(220,170,144)\">\n",
        "                0.62\n",
        "                </td>\n",
        "                \n",
        "            </tr>\n",
        "            \n",
        "            <tr>\n",
        "                <td>m</td>\n",
        "            \n",
        "                <td style=\"background-color:rgb(169,245,181)\">\n",
        "                -0.07\n",
        "                </td>\n",
        "                \n",
        "                <td style=\"background-color:rgb(163,254,186)\">\n",
        "                -0.00\n",
        "                </td>\n",
        "                \n",
        "                <td style=\"background-color:rgb(255,117,117)\">\n",
        "                1.00\n",
        "                </td>\n",
        "                \n",
        "                <td style=\"background-color:rgb(236,146,131)\">\n",
        "                -0.79\n",
        "                </td>\n",
        "                \n",
        "                <td style=\"background-color:rgb(163,254,186)\">\n",
        "                0.00\n",
        "                </td>\n",
        "                \n",
        "            </tr>\n",
        "            \n",
        "            <tr>\n",
        "                <td>c</td>\n",
        "            \n",
        "                <td style=\"background-color:rgb(169,245,182)\">\n",
        "                -0.06\n",
        "                </td>\n",
        "                \n",
        "                <td style=\"background-color:rgb(163,254,186)\">\n",
        "                -0.00\n",
        "                </td>\n",
        "                \n",
        "                <td style=\"background-color:rgb(236,146,131)\">\n",
        "                -0.79\n",
        "                </td>\n",
        "                \n",
        "                <td style=\"background-color:rgb(255,117,117)\">\n",
        "                1.00\n",
        "                </td>\n",
        "                \n",
        "                <td style=\"background-color:rgb(163,254,186)\">\n",
        "                0.00\n",
        "                </td>\n",
        "                \n",
        "            </tr>\n",
        "            \n",
        "            <tr>\n",
        "                <td>f_0</td>\n",
        "            \n",
        "                <td style=\"background-color:rgb(165,251,185)\">\n",
        "                -0.02\n",
        "                </td>\n",
        "                \n",
        "                <td style=\"background-color:rgb(220,170,144)\">\n",
        "                0.62\n",
        "                </td>\n",
        "                \n",
        "                <td style=\"background-color:rgb(163,254,186)\">\n",
        "                0.00\n",
        "                </td>\n",
        "                \n",
        "                <td style=\"background-color:rgb(163,254,186)\">\n",
        "                0.00\n",
        "                </td>\n",
        "                \n",
        "                <td style=\"background-color:rgb(255,117,117)\">\n",
        "                1.00\n",
        "                </td>\n",
        "                \n",
        "            </tr>\n",
        "            </table>"
       ],
       "output_type": "display_data"
      }
     ],
     "prompt_number": 44
    },
    {
     "cell_type": "code",
     "collapsed": false,
     "input": [
      "m.draw_contour('mass','f_0', show_sigma=False);\n",
      "#not exactly minos contour though just a 2d scan\n",
      "#Matt Bellis already signed up for this task.;"
     ],
     "language": "python",
     "metadata": {},
     "outputs": [
      {
       "output_type": "display_data",
       "png": "[encoded data removed]",
       "text": [
        "<matplotlib.figure.Figure at 0x100443fd0>"
       ]
      }
     ],
     "prompt_number": 45
    },
    {
     "cell_type": "markdown",
     "metadata": {},
     "source": [
      "####Note on complex PDF\n",
      "There is nothing preventing you from doing something like this:\n",
      "```\n",
      "def mypdf(x,mass, gamma, m, c, f_0):\n",
      "    return brietwigner(x, mass, gamma) + f_0*(m*x+c)/normalization\n",
      "ulh=UnbinnedLH(mypdf, data)\n",
      "m=Minuit(ulh, **initial_values)\n",
      "m.migrad()\n",
      "```\n",
      "\n",
      "If your PDF is more complicated than what you can do with AddPDF and AddPDFNorm. It might be\n",
      "easier to write it out manually."
     ]
    },
    {
     "cell_type": "markdown",
     "metadata": {},
     "source": [
      "###Simultaneous Fit\n",
      "Let try to simultaneous fit 2 gaussians with the same width but different mean."
     ]
    },
    {
     "cell_type": "code",
     "collapsed": false,
     "input": [
      "from probfit import SimultaneousFit"
     ],
     "language": "python",
     "metadata": {},
     "outputs": [],
     "prompt_number": 46
    },
    {
     "cell_type": "code",
     "collapsed": false,
     "input": [
      "data1 = randn(10000)\n",
      "data2 = randn(10000)+10\n",
      "hist([data1,data2], histtype='step', bins=100);"
     ],
     "language": "python",
     "metadata": {},
     "outputs": [
      {
       "output_type": "display_data",
       "png": "[encoded data removed]",
       "text": [
        "<matplotlib.figure.Figure at 0x103eeef90>"
       ]
      }
     ],
     "prompt_number": 47
    },
    {
     "cell_type": "code",
     "collapsed": false,
     "input": [
      "#note here that they share the same sigma\n",
      "g1 = rename(gaussian, ['x','mu1','sigma'])\n",
      "g2 = rename(gaussian, ['x','mu2','sigma'])\n",
      "print describe(g1)\n",
      "print describe(g2)"
     ],
     "language": "python",
     "metadata": {},
     "outputs": [
      {
       "output_type": "stream",
       "stream": "stdout",
       "text": [
        "['x', 'mu1', 'sigma']"
       ]
      },
      {
       "output_type": "stream",
       "stream": "stdout",
       "text": [
        "\n"
       ]
      },
      {
       "output_type": "stream",
       "stream": "stdout",
       "text": [
        "['x', 'mu2', 'sigma']"
       ]
      },
      {
       "output_type": "stream",
       "stream": "stdout",
       "text": [
        "\n"
       ]
      }
     ],
     "prompt_number": 48
    },
    {
     "cell_type": "code",
     "collapsed": false,
     "input": [
      "#make two likelihood and them up\n",
      "ulh1 = UnbinnedLH(g1,data1)\n",
      "ulh2 = UnbinnedLH(g2,data2)\n",
      "sim = SimultaneousFit(ulh1,ulh2)\n",
      "print describe(sim) #note the sigma merge"
     ],
     "language": "python",
     "metadata": {},
     "outputs": [
      {
       "output_type": "stream",
       "stream": "stdout",
       "text": [
        "['mu1', 'sigma', 'mu2']"
       ]
      },
      {
       "output_type": "stream",
       "stream": "stdout",
       "text": [
        "\n"
       ]
      }
     ],
     "prompt_number": 49
    },
    {
     "cell_type": "code",
     "collapsed": false,
     "input": [
      "sim.draw(args=(0.5, 1.5, 10.5))"
     ],
     "language": "python",
     "metadata": {},
     "outputs": [
      {
       "output_type": "display_data",
       "png": "[encoded data removed]",
       "text": [
        "<matplotlib.figure.Figure at 0x10459b810>"
       ]
      }
     ],
     "prompt_number": 50
    },
    {
     "cell_type": "code",
     "collapsed": false,
     "input": [
      "m = Minuit(sim, mu1=0.5, sigma=1.5, mu2=10.5)"
     ],
     "language": "python",
     "metadata": {},
     "outputs": [
      {
       "output_type": "stream",
       "stream": "stderr",
       "text": [
        "-c:1: InitialParamWarning: Parameter mu1 is floating but does not have initial step size. Assume 1.\n"
       ]
      },
      {
       "output_type": "stream",
       "stream": "stderr",
       "text": [
        "-c:1: InitialParamWarning: Parameter sigma is floating but does not have initial step size. Assume 1.\n"
       ]
      },
      {
       "output_type": "stream",
       "stream": "stderr",
       "text": [
        "-c:1: InitialParamWarning: Parameter mu2 is floating but does not have initial step size. Assume 1.\n"
       ]
      }
     ],
     "prompt_number": 51
    },
    {
     "cell_type": "code",
     "collapsed": false,
     "input": [
      "m.migrad();"
     ],
     "language": "python",
     "metadata": {},
     "outputs": [
      {
       "html": [
        "<hr>"
       ],
       "output_type": "display_data"
      },
      {
       "html": [
        "\n",
        "        <table>\n",
        "            <tr>\n",
        "                <td>FCN = 28192.5384152</td>\n",
        "                <td>NFCN = 89</td>\n",
        "                <td>NCALLS = 89</td>\n",
        "            </tr>\n",
        "            <tr>\n",
        "                <td>EDM = 2.34166322479e-06</td>\n",
        "                <td>GOAL EDM = 1e-05</td>\n",
        "                <td>UP = 1.0</td>\n",
        "            </tr>\n",
        "        </table>\n",
        "        \n",
        "        <table>\n",
        "            <tr>\n",
        "                <td align=\"center\">Valid</td>\n",
        "                <td align=\"center\">Valid Param</td>\n",
        "                <td align=\"center\">Accurate Covar</td>\n",
        "                <td align=\"center\">PosDef</td>\n",
        "                <td align=\"center\">Made PosDef</td>\n",
        "            </tr>\n",
        "            <tr>\n",
        "                <td align=\"center\" style=\"background-color:#92CCA6\">True</td>\n",
        "                <td align=\"center\" style=\"background-color:#92CCA6\">True</td>\n",
        "                <td align=\"center\" style=\"background-color:#92CCA6\">True</td>\n",
        "                <td align=\"center\" style=\"background-color:#92CCA6\">True</td>\n",
        "                <td align=\"center\" style=\"background-color:#92CCA6\">False</td>\n",
        "            </tr>\n",
        "            <tr>\n",
        "                <td align=\"center\">Hesse Fail</td>\n",
        "                <td align=\"center\">HasCov</td>\n",
        "                <td align=\"center\">Above EDM</td>\n",
        "                <td align=\"center\"></td>\n",
        "                <td align=\"center\">Reach calllim</td>\n",
        "            </tr>\n",
        "            <tr>\n",
        "                <td align=\"center\" style=\"background-color:#92CCA6\">False</td>\n",
        "                <td align=\"center\" style=\"background-color:#92CCA6\">True</td>\n",
        "                <td align=\"center\" style=\"background-color:#92CCA6\">False</td>\n",
        "                <td align=\"center\"></td>\n",
        "                <td align=\"center\" style=\"background-color:#92CCA6\">False</td>\n",
        "            </tr>\n",
        "        </table>\n",
        "        "
       ],
       "output_type": "display_data"
      },
      {
       "html": [
        "\n",
        "        <table>\n",
        "            <tr>\n",
        "                <td></td>\n",
        "                <td>Name</td>\n",
        "                <td>Value</td>\n",
        "                <td>Parab Error</td>\n",
        "                <td>Minos Error-</td>\n",
        "                <td>Minos Error+</td>\n",
        "                <td>Limit-</td>\n",
        "                <td>Limit+</td>\n",
        "                <td>FIXED</td>\n",
        "            </tr>\n",
        "        \n",
        "            <tr>\n",
        "                <td>1</td>\n",
        "                <td>mu1</td>\n",
        "                <td>-8.551741e-03</td>\n",
        "                <td>1.401094e-02</td>\n",
        "                <td>0.000000e+00</td>\n",
        "                <td>0.000000e+00</td>\n",
        "                <td></td>\n",
        "                <td></td>\n",
        "                <td></td>\n",
        "            </tr>\n",
        "            \n",
        "            <tr>\n",
        "                <td>2</td>\n",
        "                <td>sigma</td>\n",
        "                <td>9.907232e-01</td>\n",
        "                <td>7.005381e-03</td>\n",
        "                <td>0.000000e+00</td>\n",
        "                <td>0.000000e+00</td>\n",
        "                <td></td>\n",
        "                <td></td>\n",
        "                <td></td>\n",
        "            </tr>\n",
        "            \n",
        "            <tr>\n",
        "                <td>3</td>\n",
        "                <td>mu2</td>\n",
        "                <td>1.000874e+01</td>\n",
        "                <td>1.401094e-02</td>\n",
        "                <td>0.000000e+00</td>\n",
        "                <td>0.000000e+00</td>\n",
        "                <td></td>\n",
        "                <td></td>\n",
        "                <td></td>\n",
        "            </tr>\n",
        "            \n",
        "            </table>\n",
        "        "
       ],
       "output_type": "display_data"
      },
      {
       "html": [
        "<hr>"
       ],
       "output_type": "display_data"
      }
     ],
     "prompt_number": 52
    },
    {
     "cell_type": "code",
     "collapsed": false,
     "input": [
      "sim.show(m)"
     ],
     "language": "python",
     "metadata": {},
     "outputs": [
      {
       "output_type": "display_data",
       "png": "[encoded data removed]",
       "text": [
        "<matplotlib.figure.Figure at 0x103f117d0>"
       ]
      }
     ],
     "prompt_number": 53
    },
    {
     "cell_type": "markdown",
     "metadata": {},
     "source": [
      "####Note on simultaneous fit\n",
      "Again there is nothing preventing you from doing\n",
      "<code>\n",
      "def my_cost_function(mu1, mu2, sigma):\n",
      "    return ulh1(mu1,sigma)+ulh2(mu2.sigma)\n",
      "\n",
      "m=Minuit(my_cost_function, **initial_values)\n",
      "m.migrad()\n",
      "<code>\n",
      "\n",
      "If your cost function is more complex than adding them together this is the to do it."
     ]
    },
    {
     "cell_type": "markdown",
     "metadata": {},
     "source": [
      "###Toy generation.\n",
      "This is invert CDF implementation (not accept reject). Large overhead but fast element-wise. Anyone want to signup for accept/reject?"
     ]
    },
    {
     "cell_type": "code",
     "collapsed": false,
     "input": [
      "from probfit import gen_toy"
     ],
     "language": "python",
     "metadata": {},
     "outputs": [],
     "prompt_number": 54
    },
    {
     "cell_type": "code",
     "collapsed": false,
     "input": [
      "toy = gen_toy(total_pdf, 1000, (1.83,1.91), mass=1.87, gamma=0.01, c=1.045, m=-0.43, f_0=0.5, quiet=False)"
     ],
     "language": "python",
     "metadata": {},
     "outputs": [
      {
       "output_type": "stream",
       "stream": "stdout",
       "text": [
        "['x', 'mass', 'gamma', 'm', 'c', 'f_0']"
       ]
      },
      {
       "output_type": "stream",
       "stream": "stdout",
       "text": [
        "\n"
       ]
      },
      {
       "output_type": "display_data",
       "png": "[encoded data removed]",
       "text": [
        "<matplotlib.figure.Figure at 0x103ff4b10>"
       ]
      }
     ],
     "prompt_number": 55
    },
    {
     "cell_type": "code",
     "collapsed": false,
     "input": [
      "hist(toy, bins=100, histtype='step');"
     ],
     "language": "python",
     "metadata": {},
     "outputs": [
      {
       "output_type": "display_data",
       "png": "[encoded data removed]",
       "text": [
        "<matplotlib.figure.Figure at 0x1048150d0>"
       ]
      }
     ],
     "prompt_number": 56
    },
    {
     "cell_type": "code",
     "collapsed": false,
     "input": [
      "ulh = UnbinnedLH(total_pdf, toy)\n",
      "m = Minuit(ulh, mass=1.87, gamma=0.01, c=1.045, m=-0.43, f_0=0.5)\n",
      "m.migrad();\n",
      "ulh.show(m)"
     ],
     "language": "python",
     "metadata": {},
     "outputs": [
      {
       "output_type": "stream",
       "stream": "stderr",
       "text": [
        "-c:2: InitialParamWarning: Parameter mass is floating but does not have initial step size. Assume 1.\n"
       ]
      },
      {
       "output_type": "stream",
       "stream": "stderr",
       "text": [
        "-c:2: InitialParamWarning: Parameter gamma is floating but does not have initial step size. Assume 1.\n"
       ]
      },
      {
       "output_type": "stream",
       "stream": "stderr",
       "text": [
        "-c:2: InitialParamWarning: Parameter m is floating but does not have initial step size. Assume 1.\n"
       ]
      },
      {
       "output_type": "stream",
       "stream": "stderr",
       "text": [
        "-c:2: InitialParamWarning: Parameter c is floating but does not have initial step size. Assume 1.\n"
       ]
      },
      {
       "output_type": "stream",
       "stream": "stderr",
       "text": [
        "-c:2: InitialParamWarning: Parameter f_0 is floating but does not have initial step size. Assume 1.\n"
       ]
      },
      {
       "html": [
        "<hr>"
       ],
       "output_type": "display_data"
      },
      {
       "html": [
        "\n",
        "        <table>\n",
        "            <tr>\n",
        "                <td>FCN = -2724.4966758</td>\n",
        "                <td>NFCN = 151</td>\n",
        "                <td>NCALLS = 151</td>\n",
        "            </tr>\n",
        "            <tr>\n",
        "                <td>EDM = 2.35345048432e-07</td>\n",
        "                <td>GOAL EDM = 1e-05</td>\n",
        "                <td>UP = 1.0</td>\n",
        "            </tr>\n",
        "        </table>\n",
        "        \n",
        "        <table>\n",
        "            <tr>\n",
        "                <td align=\"center\">Valid</td>\n",
        "                <td align=\"center\">Valid Param</td>\n",
        "                <td align=\"center\">Accurate Covar</td>\n",
        "                <td align=\"center\">PosDef</td>\n",
        "                <td align=\"center\">Made PosDef</td>\n",
        "            </tr>\n",
        "            <tr>\n",
        "                <td align=\"center\" style=\"background-color:#92CCA6\">True</td>\n",
        "                <td align=\"center\" style=\"background-color:#92CCA6\">True</td>\n",
        "                <td align=\"center\" style=\"background-color:#92CCA6\">True</td>\n",
        "                <td align=\"center\" style=\"background-color:#92CCA6\">True</td>\n",
        "                <td align=\"center\" style=\"background-color:#92CCA6\">False</td>\n",
        "            </tr>\n",
        "            <tr>\n",
        "                <td align=\"center\">Hesse Fail</td>\n",
        "                <td align=\"center\">HasCov</td>\n",
        "                <td align=\"center\">Above EDM</td>\n",
        "                <td align=\"center\"></td>\n",
        "                <td align=\"center\">Reach calllim</td>\n",
        "            </tr>\n",
        "            <tr>\n",
        "                <td align=\"center\" style=\"background-color:#92CCA6\">False</td>\n",
        "                <td align=\"center\" style=\"background-color:#92CCA6\">True</td>\n",
        "                <td align=\"center\" style=\"background-color:#92CCA6\">False</td>\n",
        "                <td align=\"center\"></td>\n",
        "                <td align=\"center\" style=\"background-color:#92CCA6\">False</td>\n",
        "            </tr>\n",
        "        </table>\n",
        "        "
       ],
       "output_type": "display_data"
      },
      {
       "html": [
        "\n",
        "        <table>\n",
        "            <tr>\n",
        "                <td></td>\n",
        "                <td>Name</td>\n",
        "                <td>Value</td>\n",
        "                <td>Parab Error</td>\n",
        "                <td>Minos Error-</td>\n",
        "                <td>Minos Error+</td>\n",
        "                <td>Limit-</td>\n",
        "                <td>Limit+</td>\n",
        "                <td>FIXED</td>\n",
        "            </tr>\n",
        "        \n",
        "            <tr>\n",
        "                <td>1</td>\n",
        "                <td>mass</td>\n",
        "                <td>1.870582e+00</td>\n",
        "                <td>5.219651e-04</td>\n",
        "                <td>0.000000e+00</td>\n",
        "                <td>0.000000e+00</td>\n",
        "                <td></td>\n",
        "                <td></td>\n",
        "                <td></td>\n",
        "            </tr>\n",
        "            \n",
        "            <tr>\n",
        "                <td>2</td>\n",
        "                <td>gamma</td>\n",
        "                <td>9.794594e-03</td>\n",
        "                <td>1.528169e-03</td>\n",
        "                <td>0.000000e+00</td>\n",
        "                <td>0.000000e+00</td>\n",
        "                <td></td>\n",
        "                <td></td>\n",
        "                <td></td>\n",
        "            </tr>\n",
        "            \n",
        "            <tr>\n",
        "                <td>3</td>\n",
        "                <td>m</td>\n",
        "                <td>-5.071279e-01</td>\n",
        "                <td>5.882254e-02</td>\n",
        "                <td>0.000000e+00</td>\n",
        "                <td>0.000000e+00</td>\n",
        "                <td></td>\n",
        "                <td></td>\n",
        "                <td></td>\n",
        "            </tr>\n",
        "            \n",
        "            <tr>\n",
        "                <td>4</td>\n",
        "                <td>c</td>\n",
        "                <td>1.037177e+00</td>\n",
        "                <td>1.202961e-01</td>\n",
        "                <td>0.000000e+00</td>\n",
        "                <td>0.000000e+00</td>\n",
        "                <td></td>\n",
        "                <td></td>\n",
        "                <td></td>\n",
        "            </tr>\n",
        "            \n",
        "            <tr>\n",
        "                <td>5</td>\n",
        "                <td>f_0</td>\n",
        "                <td>4.968361e-01</td>\n",
        "                <td>5.007958e-02</td>\n",
        "                <td>0.000000e+00</td>\n",
        "                <td>0.000000e+00</td>\n",
        "                <td></td>\n",
        "                <td></td>\n",
        "                <td></td>\n",
        "            </tr>\n",
        "            \n",
        "            </table>\n",
        "        "
       ],
       "output_type": "display_data"
      },
      {
       "html": [
        "<hr>"
       ],
       "output_type": "display_data"
      },
      {
       "output_type": "display_data",
       "png": "[encoded data removed]",
       "text": [
        "<matplotlib.figure.Figure at 0x100443fd0>"
       ]
      }
     ],
     "prompt_number": 57
    },
    {
     "cell_type": "markdown",
     "metadata": {},
     "source": [
      "####Tips\n",
      "\n",
      "A lot of time you want to generate toy from fitted parameters. Retyping/Repeating yourself is not the best use of time. Use python dictionary expansion."
     ]
    },
    {
     "cell_type": "code",
     "collapsed": false,
     "input": [
      "m.fitarg"
     ],
     "language": "python",
     "metadata": {},
     "outputs": [
      {
       "output_type": "pyout",
       "prompt_number": 58,
       "text": [
        "{'c': 1.0371768633287608,\n",
        " 'error_c': 0.12029612274787377,\n",
        " 'error_f_0': 0.05007957568753707,\n",
        " 'error_gamma': 0.001528168929424369,\n",
        " 'error_m': 0.058822538338553436,\n",
        " 'error_mass': 0.000521965106592946,\n",
        " 'f_0': 0.49683614579068247,\n",
        " 'fix_c': False,\n",
        " 'fix_f_0': False,\n",
        " 'fix_gamma': False,\n",
        " 'fix_m': False,\n",
        " 'fix_mass': False,\n",
        " 'gamma': 0.009794593672639405,\n",
        " 'limit_c': None,\n",
        " 'limit_f_0': None,\n",
        " 'limit_gamma': None,\n",
        " 'limit_m': None,\n",
        " 'limit_mass': None,\n",
        " 'm': -0.5071278954225161,\n",
        " 'mass': 1.8705821086526977}"
       ]
      }
     ],
     "prompt_number": 58
    },
    {
     "cell_type": "code",
     "collapsed": false,
     "input": [
      "toy = gen_toy(total_pdf, 1000, (1.83,1.91), quiet=False, **m.fitarg)#note the double star"
     ],
     "language": "python",
     "metadata": {},
     "outputs": [
      {
       "output_type": "stream",
       "stream": "stdout",
       "text": [
        "['x', 'mass', 'gamma', 'm', 'c', 'f_0']"
       ]
      },
      {
       "output_type": "stream",
       "stream": "stdout",
       "text": [
        "\n"
       ]
      },
      {
       "output_type": "display_data",
       "png": "[encoded data removed]",
       "text": [
        "<matplotlib.figure.Figure at 0x100522610>"
       ]
      }
     ],
     "prompt_number": 59
    },
    {
     "cell_type": "markdown",
     "metadata": {},
     "source": [
      "####Saving/Loading your toy\n",
      "using np.save"
     ]
    },
    {
     "cell_type": "code",
     "collapsed": false,
     "input": [
      "np.save('mytoy.npy', toy)"
     ],
     "language": "python",
     "metadata": {},
     "outputs": [],
     "prompt_number": 60
    },
    {
     "cell_type": "code",
     "collapsed": false,
     "input": [
      "loaded_toy = np.load('mytoy.npy')\n",
      "hist(loaded_toy, bins=100, histtype='step');"
     ],
     "language": "python",
     "metadata": {},
     "outputs": [
      {
       "output_type": "display_data",
       "png": "[encoded data removed]",
       "text": [
        "<matplotlib.figure.Figure at 0x100443fd0>"
       ]
      }
     ],
     "prompt_number": 61
    },
    {
     "cell_type": "markdown",
     "metadata": {},
     "source": [
      "###Recipe\n",
      "Something you may find useful\n",
      "\n",
      "- Using Cython to write pdf for speed\n",
      "- Checking convergence programatically\n",
      "- Saving and reusing fit argument"
     ]
    },
    {
     "cell_type": "markdown",
     "metadata": {},
     "source": [
      "####Using Cython\n",
      "\n",
      "Skip this part if you don't have cython\n",
      "\n",
      "A much more comprehensive example of how to use cython is provided in iminuit [hard core tutorial](http://nbviewer.ipython.org/urls/raw.github.com/iminuit/iminuit/master/tutorial/hard-core-tutorial.ipynb). We will show a simple example here."
     ]
    },
    {
     "cell_type": "code",
     "collapsed": false,
     "input": [
      "%load_ext cythonmagic"
     ],
     "language": "python",
     "metadata": {},
     "outputs": [],
     "prompt_number": 62
    },
    {
     "cell_type": "code",
     "collapsed": false,
     "input": [
      "%%cython\n",
      "from libc.math cimport sqrt\n",
      "cimport cython\n",
      "\n",
      "cdef double pi = 3.14159265358979323846264338327\n",
      "\n",
      "@cython.embedsignature #you need this or experimental @cython.binding.\n",
      "cpdef double cython_bw(double x, double m, double gamma):\n",
      "    cdef double mm = m*m\n",
      "    cdef double xm = x*x-mm\n",
      "    cdef double gg = gamma*gamma\n",
      "    cdef double s = sqrt(mm*(mm+gg))\n",
      "    cdef double N = (2*sqrt(2)/pi)*m*gamma*s/sqrt(mm+s)\n",
      "    return N/(xm*xm+mm*gg)"
     ],
     "language": "python",
     "metadata": {},
     "outputs": [],
     "prompt_number": 63
    },
    {
     "cell_type": "code",
     "collapsed": false,
     "input": [
      "cython_bw(1,2,3)"
     ],
     "language": "python",
     "metadata": {},
     "outputs": [
      {
       "output_type": "pyout",
       "prompt_number": 64,
       "text": [
        "0.2585302502852219"
       ]
      }
     ],
     "prompt_number": 64
    },
    {
     "cell_type": "code",
     "collapsed": false,
     "input": [
      "from probfit import describe\n",
      "describe(cython_bw)"
     ],
     "language": "python",
     "metadata": {},
     "outputs": [
      {
       "output_type": "pyout",
       "prompt_number": 65,
       "text": [
        "['x', 'm', 'gamma']"
       ]
      }
     ],
     "prompt_number": 65
    },
    {
     "cell_type": "code",
     "collapsed": false,
     "input": [
      "ulh = UnbinnedLH(cython_bw, bb_dmass)"
     ],
     "language": "python",
     "metadata": {},
     "outputs": [],
     "prompt_number": 66
    },
    {
     "cell_type": "code",
     "collapsed": false,
     "input": [
      "m = Minuit(ulh, m=1.875, gamma = 0.01)\n",
      "ulh.show(m)"
     ],
     "language": "python",
     "metadata": {},
     "outputs": [
      {
       "output_type": "stream",
       "stream": "stderr",
       "text": [
        "-c:1: InitialParamWarning: Parameter m is floating but does not have initial step size. Assume 1.\n"
       ]
      },
      {
       "output_type": "stream",
       "stream": "stderr",
       "text": [
        "-c:1: InitialParamWarning: Parameter gamma is floating but does not have initial step size. Assume 1.\n"
       ]
      },
      {
       "output_type": "display_data",
       "png": "[encoded data removed]",
       "text": [
        "<matplotlib.figure.Figure at 0x100443fd0>"
       ]
      }
     ],
     "prompt_number": 67
    },
    {
     "cell_type": "code",
     "collapsed": false,
     "input": [
      "%%timeit -r1 -n1 m.migrad()"
     ],
     "language": "python",
     "metadata": {},
     "outputs": [
      {
       "html": [
        "<hr>"
       ],
       "output_type": "display_data"
      },
      {
       "html": [
        "\n",
        "        <table>\n",
        "            <tr>\n",
        "                <td>FCN = -5069.76842718</td>\n",
        "                <td>NFCN = 56</td>\n",
        "                <td>NCALLS = 56</td>\n",
        "            </tr>\n",
        "            <tr>\n",
        "                <td>EDM = 2.38584106305e-07</td>\n",
        "                <td>GOAL EDM = 1e-05</td>\n",
        "                <td>UP = 1.0</td>\n",
        "            </tr>\n",
        "        </table>\n",
        "        \n",
        "        <table>\n",
        "            <tr>\n",
        "                <td align=\"center\">Valid</td>\n",
        "                <td align=\"center\">Valid Param</td>\n",
        "                <td align=\"center\">Accurate Covar</td>\n",
        "                <td align=\"center\">PosDef</td>\n",
        "                <td align=\"center\">Made PosDef</td>\n",
        "            </tr>\n",
        "            <tr>\n",
        "                <td align=\"center\" style=\"background-color:#92CCA6\">True</td>\n",
        "                <td align=\"center\" style=\"background-color:#92CCA6\">True</td>\n",
        "                <td align=\"center\" style=\"background-color:#92CCA6\">True</td>\n",
        "                <td align=\"center\" style=\"background-color:#92CCA6\">True</td>\n",
        "                <td align=\"center\" style=\"background-color:#92CCA6\">False</td>\n",
        "            </tr>\n",
        "            <tr>\n",
        "                <td align=\"center\">Hesse Fail</td>\n",
        "                <td align=\"center\">HasCov</td>\n",
        "                <td align=\"center\">Above EDM</td>\n",
        "                <td align=\"center\"></td>\n",
        "                <td align=\"center\">Reach calllim</td>\n",
        "            </tr>\n",
        "            <tr>\n",
        "                <td align=\"center\" style=\"background-color:#92CCA6\">False</td>\n",
        "                <td align=\"center\" style=\"background-color:#92CCA6\">True</td>\n",
        "                <td align=\"center\" style=\"background-color:#92CCA6\">False</td>\n",
        "                <td align=\"center\"></td>\n",
        "                <td align=\"center\" style=\"background-color:#92CCA6\">False</td>\n",
        "            </tr>\n",
        "        </table>\n",
        "        "
       ],
       "output_type": "display_data"
      },
      {
       "html": [
        "\n",
        "        <table>\n",
        "            <tr>\n",
        "                <td></td>\n",
        "                <td>Name</td>\n",
        "                <td>Value</td>\n",
        "                <td>Parab Error</td>\n",
        "                <td>Minos Error-</td>\n",
        "                <td>Minos Error+</td>\n",
        "                <td>Limit-</td>\n",
        "                <td>Limit+</td>\n",
        "                <td>FIXED</td>\n",
        "            </tr>\n",
        "        \n",
        "            <tr>\n",
        "                <td>1</td>\n",
        "                <td>m</td>\n",
        "                <td>1.869083e+00</td>\n",
        "                <td>2.523299e-04</td>\n",
        "                <td>0.000000e+00</td>\n",
        "                <td>0.000000e+00</td>\n",
        "                <td></td>\n",
        "                <td></td>\n",
        "                <td></td>\n",
        "            </tr>\n",
        "            \n",
        "            <tr>\n",
        "                <td>2</td>\n",
        "                <td>gamma</td>\n",
        "                <td>9.708824e-03</td>\n",
        "                <td>4.519999e-04</td>\n",
        "                <td>0.000000e+00</td>\n",
        "                <td>0.000000e+00</td>\n",
        "                <td></td>\n",
        "                <td></td>\n",
        "                <td></td>\n",
        "            </tr>\n",
        "            \n",
        "            </table>\n",
        "        "
       ],
       "output_type": "display_data"
      },
      {
       "html": [
        "<hr>"
       ],
       "output_type": "display_data"
      },
      {
       "output_type": "stream",
       "stream": "stdout",
       "text": [
        "1 loops, best of 1: 954 ns per loop"
       ]
      },
      {
       "output_type": "stream",
       "stream": "stdout",
       "text": [
        "\n"
       ]
      }
     ],
     "prompt_number": 68
    },
    {
     "cell_type": "markdown",
     "metadata": {},
     "source": [
      "####Building Cost Functions Manually\n",
      "\n",
      "See iminuit hardcore tutorial."
     ]
    },
    {
     "cell_type": "markdown",
     "metadata": {},
     "source": [
      "####Checking convergence programatically"
     ]
    },
    {
     "cell_type": "code",
     "collapsed": false,
     "input": [
      "status, param = m.migrad()"
     ],
     "language": "python",
     "metadata": {},
     "outputs": [
      {
       "html": [
        "<hr>"
       ],
       "output_type": "display_data"
      },
      {
       "html": [
        "\n",
        "        <table>\n",
        "            <tr>\n",
        "                <td>FCN = -5069.76842742</td>\n",
        "                <td>NFCN = 10</td>\n",
        "                <td>NCALLS = 66</td>\n",
        "            </tr>\n",
        "            <tr>\n",
        "                <td>EDM = 9.02097790571e-14</td>\n",
        "                <td>GOAL EDM = 1e-05</td>\n",
        "                <td>UP = 1.0</td>\n",
        "            </tr>\n",
        "        </table>\n",
        "        \n",
        "        <table>\n",
        "            <tr>\n",
        "                <td align=\"center\">Valid</td>\n",
        "                <td align=\"center\">Valid Param</td>\n",
        "                <td align=\"center\">Accurate Covar</td>\n",
        "                <td align=\"center\">PosDef</td>\n",
        "                <td align=\"center\">Made PosDef</td>\n",
        "            </tr>\n",
        "            <tr>\n",
        "                <td align=\"center\" style=\"background-color:#92CCA6\">True</td>\n",
        "                <td align=\"center\" style=\"background-color:#92CCA6\">True</td>\n",
        "                <td align=\"center\" style=\"background-color:#92CCA6\">True</td>\n",
        "                <td align=\"center\" style=\"background-color:#92CCA6\">True</td>\n",
        "                <td align=\"center\" style=\"background-color:#92CCA6\">False</td>\n",
        "            </tr>\n",
        "            <tr>\n",
        "                <td align=\"center\">Hesse Fail</td>\n",
        "                <td align=\"center\">HasCov</td>\n",
        "                <td align=\"center\">Above EDM</td>\n",
        "                <td align=\"center\"></td>\n",
        "                <td align=\"center\">Reach calllim</td>\n",
        "            </tr>\n",
        "            <tr>\n",
        "                <td align=\"center\" style=\"background-color:#92CCA6\">False</td>\n",
        "                <td align=\"center\" style=\"background-color:#92CCA6\">True</td>\n",
        "                <td align=\"center\" style=\"background-color:#92CCA6\">False</td>\n",
        "                <td align=\"center\"></td>\n",
        "                <td align=\"center\" style=\"background-color:#92CCA6\">False</td>\n",
        "            </tr>\n",
        "        </table>\n",
        "        "
       ],
       "output_type": "display_data"
      },
      {
       "html": [
        "\n",
        "        <table>\n",
        "            <tr>\n",
        "                <td></td>\n",
        "                <td>Name</td>\n",
        "                <td>Value</td>\n",
        "                <td>Parab Error</td>\n",
        "                <td>Minos Error-</td>\n",
        "                <td>Minos Error+</td>\n",
        "                <td>Limit-</td>\n",
        "                <td>Limit+</td>\n",
        "                <td>FIXED</td>\n",
        "            </tr>\n",
        "        \n",
        "            <tr>\n",
        "                <td>1</td>\n",
        "                <td>m</td>\n",
        "                <td>1.869083e+00</td>\n",
        "                <td>2.523305e-04</td>\n",
        "                <td>0.000000e+00</td>\n",
        "                <td>0.000000e+00</td>\n",
        "                <td></td>\n",
        "                <td></td>\n",
        "                <td></td>\n",
        "            </tr>\n",
        "            \n",
        "            <tr>\n",
        "                <td>2</td>\n",
        "                <td>gamma</td>\n",
        "                <td>9.708816e-03</td>\n",
        "                <td>4.520109e-04</td>\n",
        "                <td>0.000000e+00</td>\n",
        "                <td>0.000000e+00</td>\n",
        "                <td></td>\n",
        "                <td></td>\n",
        "                <td></td>\n",
        "            </tr>\n",
        "            \n",
        "            </table>\n",
        "        "
       ],
       "output_type": "display_data"
      },
      {
       "html": [
        "<hr>"
       ],
       "output_type": "display_data"
      }
     ],
     "prompt_number": 69
    },
    {
     "cell_type": "code",
     "collapsed": false,
     "input": [
      "print status.has_covariance\n",
      "print status.is_valid"
     ],
     "language": "python",
     "metadata": {},
     "outputs": [
      {
       "output_type": "stream",
       "stream": "stdout",
       "text": [
        "True"
       ]
      },
      {
       "output_type": "stream",
       "stream": "stdout",
       "text": [
        "\n"
       ]
      },
      {
       "output_type": "stream",
       "stream": "stdout",
       "text": [
        "True"
       ]
      },
      {
       "output_type": "stream",
       "stream": "stdout",
       "text": [
        "\n"
       ]
      }
     ],
     "prompt_number": 70
    },
    {
     "cell_type": "code",
     "collapsed": false,
     "input": [
      "#or an umbrella call\n",
      "m.migrad_ok()"
     ],
     "language": "python",
     "metadata": {},
     "outputs": [
      {
       "output_type": "pyout",
       "prompt_number": 71,
       "text": [
        "True"
       ]
      }
     ],
     "prompt_number": 71
    },
    {
     "cell_type": "code",
     "collapsed": false,
     "input": [
      "#minos\n",
      "results = m.minos('m')\n",
      "print results['m']\n",
      "print results['m'].upper_valid\n",
      "print results['m'].lower_valid"
     ],
     "language": "python",
     "metadata": {},
     "outputs": [
      {
       "html": [
        "\n",
        "        <span>Minos status for m: <span style=\"background-color:#92CCA6\">VALID</span></span>\n",
        "        <table>\n",
        "            <tr>\n",
        "                <td>Error</td>\n",
        "                <td>-0.000252364679646</td>\n",
        "                <td>0.000252426444119</td>\n",
        "            </tr>\n",
        "            <tr>\n",
        "                <td>Valid</td>\n",
        "                <td style=\"background-color:#92CCA6\">True</td>\n",
        "                <td style=\"background-color:#92CCA6\">True</td>\n",
        "            </tr>\n",
        "            <tr>\n",
        "                <td>At Limit</td>\n",
        "                <td style=\"background-color:#92CCA6\">False</td>\n",
        "                <td style=\"background-color:#92CCA6\">False</td>\n",
        "            </tr>\n",
        "            <tr>\n",
        "                <td>Max FCN</td>\n",
        "                <td style=\"background-color:#92CCA6\">False</td>\n",
        "                <td style=\"background-color:#92CCA6\">False</td>\n",
        "            </tr>\n",
        "            <tr>\n",
        "                <td>New Min</td>\n",
        "                <td style=\"background-color:#92CCA6\">False</td>\n",
        "                <td style=\"background-color:#92CCA6\">False</td>\n",
        "            </tr>\n",
        "        </table>\n",
        "        "
       ],
       "output_type": "display_data"
      },
      {
       "output_type": "stream",
       "stream": "stdout",
       "text": [
        "{'lower_new_min': False, 'upper': 0.0002524264441187504, 'lower': -0.00025236467964597804, 'at_lower_limit': False, 'min': 1.869083270202462, 'at_lower_max_fcn': False, 'is_valid': True, 'upper_new_min': False, 'at_upper_limit': False, 'lower_valid': True, 'upper_valid': True, 'at_upper_max_fcn': False, 'nfcn': 12L}"
       ]
      },
      {
       "output_type": "stream",
       "stream": "stdout",
       "text": [
        "\n"
       ]
      },
      {
       "output_type": "stream",
       "stream": "stdout",
       "text": [
        "True"
       ]
      },
      {
       "output_type": "stream",
       "stream": "stdout",
       "text": [
        "\n"
       ]
      },
      {
       "output_type": "stream",
       "stream": "stdout",
       "text": [
        "True"
       ]
      },
      {
       "output_type": "stream",
       "stream": "stdout",
       "text": [
        "\n"
       ]
      }
     ],
     "prompt_number": 72
    },
    {
     "cell_type": "markdown",
     "metadata": {},
     "source": [
      "####Saving/Reuse fit argument\n",
      "Some time we want to resue fitting argument."
     ]
    },
    {
     "cell_type": "code",
     "collapsed": false,
     "input": [
      "m.fitarg"
     ],
     "language": "python",
     "metadata": {},
     "outputs": [
      {
       "output_type": "pyout",
       "prompt_number": 73,
       "text": [
        "{'error_gamma': 0.0004520108506569141,\n",
        " 'error_m': 0.0002523305124575419,\n",
        " 'fix_gamma': False,\n",
        " 'fix_m': False,\n",
        " 'gamma': 0.00970881584857952,\n",
        " 'limit_gamma': None,\n",
        " 'limit_m': None,\n",
        " 'm': 1.869083270202462}"
       ]
      }
     ],
     "prompt_number": 73
    },
    {
     "cell_type": "code",
     "collapsed": false,
     "input": [
      "old_fitarg = m.fitarg\n",
      "ulh2 = UnbinnedLH(cython_bw, bb_dmass)\n",
      "m2 = Minuit(ulh2, **old_fitarg)"
     ],
     "language": "python",
     "metadata": {},
     "outputs": [],
     "prompt_number": 74
    },
    {
     "cell_type": "code",
     "collapsed": false,
     "input": [
      "m2.print_param()"
     ],
     "language": "python",
     "metadata": {},
     "outputs": [
      {
       "html": [
        "\n",
        "        <table>\n",
        "            <tr>\n",
        "                <td></td>\n",
        "                <td>Name</td>\n",
        "                <td>Value</td>\n",
        "                <td>Parab Error</td>\n",
        "                <td>Minos Error-</td>\n",
        "                <td>Minos Error+</td>\n",
        "                <td>Limit-</td>\n",
        "                <td>Limit+</td>\n",
        "                <td>FIXED</td>\n",
        "            </tr>\n",
        "        \n",
        "            <tr>\n",
        "                <td>1</td>\n",
        "                <td>m</td>\n",
        "                <td>1.869083e+00</td>\n",
        "                <td>2.523305e-04</td>\n",
        "                <td>0.000000e+00</td>\n",
        "                <td>0.000000e+00</td>\n",
        "                <td></td>\n",
        "                <td></td>\n",
        "                <td></td>\n",
        "            </tr>\n",
        "            \n",
        "            <tr>\n",
        "                <td>2</td>\n",
        "                <td>gamma</td>\n",
        "                <td>9.708816e-03</td>\n",
        "                <td>4.520109e-04</td>\n",
        "                <td>0.000000e+00</td>\n",
        "                <td>0.000000e+00</td>\n",
        "                <td></td>\n",
        "                <td></td>\n",
        "                <td></td>\n",
        "            </tr>\n",
        "            \n",
        "            </table>\n",
        "        "
       ],
       "output_type": "display_data"
      }
     ],
     "prompt_number": 75
    },
    {
     "cell_type": "code",
     "collapsed": false,
     "input": [
      "#since fitarg is just a dictionary you can dump it via pickle\n",
      "import pickle\n",
      "out = open('my_fitarg.pck','w')\n",
      "pickle.dump(old_fitarg,out)\n",
      "out.close()"
     ],
     "language": "python",
     "metadata": {},
     "outputs": [],
     "prompt_number": 76
    },
    {
     "cell_type": "code",
     "collapsed": false,
     "input": [
      "fin = open('my_fitarg.pck','r')\n",
      "loaded_fitarg = pickle.load(fin)\n",
      "fin.close()"
     ],
     "language": "python",
     "metadata": {},
     "outputs": [],
     "prompt_number": 77
    },
    {
     "cell_type": "code",
     "collapsed": false,
     "input": [
      "print loaded_fitarg"
     ],
     "language": "python",
     "metadata": {},
     "outputs": [
      {
       "output_type": "stream",
       "stream": "stdout",
       "text": [
        "{'fix_m': False, 'm': 1.869083270202462, 'limit_m': None, 'error_m': 0.0002523305124575419, 'fix_gamma': False, 'error_gamma': 0.0004520108506569141, 'limit_gamma': None, 'gamma': 0.00970881584857952}"
       ]
      },
      {
       "output_type": "stream",
       "stream": "stdout",
       "text": [
        "\n"
       ]
      }
     ],
     "prompt_number": 78
    },
    {
     "cell_type": "code",
     "collapsed": false,
     "input": [
      "m3 = Minuit(ulh2, **loaded_fitarg)"
     ],
     "language": "python",
     "metadata": {},
     "outputs": [],
     "prompt_number": 79
    },
    {
     "cell_type": "code",
     "collapsed": false,
     "input": [
      "m3.migrad();"
     ],
     "language": "python",
     "metadata": {},
     "outputs": [
      {
       "html": [
        "<hr>"
       ],
       "output_type": "display_data"
      },
      {
       "html": [
        "\n",
        "        <table>\n",
        "            <tr>\n",
        "                <td>FCN = -5069.76842742</td>\n",
        "                <td>NFCN = 30</td>\n",
        "                <td>NCALLS = 30</td>\n",
        "            </tr>\n",
        "            <tr>\n",
        "                <td>EDM = 1.51246662549e-10</td>\n",
        "                <td>GOAL EDM = 1e-05</td>\n",
        "                <td>UP = 1.0</td>\n",
        "            </tr>\n",
        "        </table>\n",
        "        \n",
        "        <table>\n",
        "            <tr>\n",
        "                <td align=\"center\">Valid</td>\n",
        "                <td align=\"center\">Valid Param</td>\n",
        "                <td align=\"center\">Accurate Covar</td>\n",
        "                <td align=\"center\">PosDef</td>\n",
        "                <td align=\"center\">Made PosDef</td>\n",
        "            </tr>\n",
        "            <tr>\n",
        "                <td align=\"center\" style=\"background-color:#92CCA6\">True</td>\n",
        "                <td align=\"center\" style=\"background-color:#92CCA6\">True</td>\n",
        "                <td align=\"center\" style=\"background-color:#92CCA6\">True</td>\n",
        "                <td align=\"center\" style=\"background-color:#92CCA6\">True</td>\n",
        "                <td align=\"center\" style=\"background-color:#92CCA6\">False</td>\n",
        "            </tr>\n",
        "            <tr>\n",
        "                <td align=\"center\">Hesse Fail</td>\n",
        "                <td align=\"center\">HasCov</td>\n",
        "                <td align=\"center\">Above EDM</td>\n",
        "                <td align=\"center\"></td>\n",
        "                <td align=\"center\">Reach calllim</td>\n",
        "            </tr>\n",
        "            <tr>\n",
        "                <td align=\"center\" style=\"background-color:#92CCA6\">False</td>\n",
        "                <td align=\"center\" style=\"background-color:#92CCA6\">True</td>\n",
        "                <td align=\"center\" style=\"background-color:#92CCA6\">False</td>\n",
        "                <td align=\"center\"></td>\n",
        "                <td align=\"center\" style=\"background-color:#92CCA6\">False</td>\n",
        "            </tr>\n",
        "        </table>\n",
        "        "
       ],
       "output_type": "display_data"
      },
      {
       "html": [
        "\n",
        "        <table>\n",
        "            <tr>\n",
        "                <td></td>\n",
        "                <td>Name</td>\n",
        "                <td>Value</td>\n",
        "                <td>Parab Error</td>\n",
        "                <td>Minos Error-</td>\n",
        "                <td>Minos Error+</td>\n",
        "                <td>Limit-</td>\n",
        "                <td>Limit+</td>\n",
        "                <td>FIXED</td>\n",
        "            </tr>\n",
        "        \n",
        "            <tr>\n",
        "                <td>1</td>\n",
        "                <td>m</td>\n",
        "                <td>1.869083e+00</td>\n",
        "                <td>2.523297e-04</td>\n",
        "                <td>0.000000e+00</td>\n",
        "                <td>0.000000e+00</td>\n",
        "                <td></td>\n",
        "                <td></td>\n",
        "                <td></td>\n",
        "            </tr>\n",
        "            \n",
        "            <tr>\n",
        "                <td>2</td>\n",
        "                <td>gamma</td>\n",
        "                <td>9.708798e-03</td>\n",
        "                <td>4.519979e-04</td>\n",
        "                <td>0.000000e+00</td>\n",
        "                <td>0.000000e+00</td>\n",
        "                <td></td>\n",
        "                <td></td>\n",
        "                <td></td>\n",
        "            </tr>\n",
        "            \n",
        "            </table>\n",
        "        "
       ],
       "output_type": "display_data"
      },
      {
       "html": [
        "<hr>"
       ],
       "output_type": "display_data"
      }
     ],
     "prompt_number": 80
    },
    {
     "cell_type": "code",
     "collapsed": false,
     "input": [],
     "language": "python",
     "metadata": {},
     "outputs": []
    }
   ],
   "metadata": {}
  }
 ]
}