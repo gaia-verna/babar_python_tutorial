{
 "metadata": {
  "name": "04_Fitting"
 },
 "nbformat": 3,
 "nbformat_minor": 0,
 "worksheets": [
  {
   "cells": [
    {
     "cell_type": "markdown",
     "metadata": {},
     "source": [
      "##Fitting\n",
      "\n",
      "A lot of time in our analysis we need to extract observable by fitting to a shape function. In this tutorial we will show you how to fit this in Python. The tools we will focus in this tutorial is [iminuit](http://iminuit.github.com/iminuit/), and [probfit](http://iminuit.github.com/probfit/).They are heavily influenced by [ROOFIT](http://roofit.sourceforge.net/) and [ROOT's MINUIT](http://root.cern.ch/root/html/TMinuit.html)(and also [PyMinuit](http://code.google.com/p/pyminuit/)).\n",
      "\n",
      "The basic idea of fitting is quite simple\n",
      "\n",
      "1. We have PDF and data.\n",
      "2. We build our cost function.\n",
      "3. We use minimizer to find shape parameters and one of those is our physics observable.\n"
     ]
    },
    {
     "cell_type": "markdown",
     "metadata": {},
     "source": [
      "###Minimizer\n",
      "\n",
      "We will start this tutorial with minimizer. Minuit is hands down(for me) the best minimizer there is for HEP.\n",
      "There are couple wrapper for Minuit in Python. The one we will show here is [iminuit](https://github.com/iminuit/iminuit). It's relatively new. It has all the function I use but might not have your favorite feature; but, you are welcome to implement it(I'll point you in the right direction).\n",
      "\n",
      "iminuit has its own [quick start tutorial](http://nbviewer.ipython.org/urls/raw.github.com/iminuit/iminuit/master/tutorial/tutorial.ipynb) that givens you an overview of its feature and [hard core tutorial](http://nbviewer.ipython.org/urls/raw.github.com/iminuit/iminuit/master/tutorial/hard-core-tutorial.ipynb) that teach you how to complex stuff like using cython, make your own costfunction fast, and even parallel computing. We will be showing here basic feature of iminuit. If you need to do advance stuff take a look at those tutorials."
     ]
    },
    {
     "cell_type": "markdown",
     "metadata": {},
     "source": [
      "####Quick Start"
     ]
    },
    {
     "cell_type": "code",
     "collapsed": false,
     "input": [
      "from iminuit import Minuit, describe"
     ],
     "language": "python",
     "metadata": {},
     "outputs": [],
     "prompt_number": 1
    },
    {
     "cell_type": "code",
     "collapsed": false,
     "input": [
      "%load_ext inumpy"
     ],
     "language": "python",
     "metadata": {},
     "outputs": [],
     "prompt_number": 2
    },
    {
     "cell_type": "code",
     "collapsed": false,
     "input": [
      "#define a functino to minimize\n",
      "def f(x,y,z):\n",
      "    return (x-2)**2 + (y-3)**2 + (z-4)**2"
     ],
     "language": "python",
     "metadata": {},
     "outputs": [],
     "prompt_number": 3
    },
    {
     "cell_type": "code",
     "collapsed": false,
     "input": [
      "#iminuit relies on python introspection to read function signature\n",
      "describe(f) # one of the most useful function from iminuit"
     ],
     "language": "python",
     "metadata": {},
     "outputs": [
      {
       "output_type": "pyout",
       "prompt_number": 4,
       "text": [
        "['x', 'y', 'z']"
       ]
      }
     ],
     "prompt_number": 4
    },
    {
     "cell_type": "code",
     "collapsed": false,
     "input": [
      "#notice here that it automatically knows about x,y,z\n",
      "#no RooRealVar etc. needed here\n",
      "m = Minuit(f)\n",
      "#it warns about every little thing that might go wrong"
     ],
     "language": "python",
     "metadata": {},
     "outputs": [
      {
       "output_type": "stream",
       "stream": "stderr",
       "text": [
        "-c:3: InitialParamWarning: errordef is not given. Default to 1.\n",
        "-c:3: InitialParamWarning: Parameter x does not have initial value. Assume 0.\n",
        "-c:3: InitialParamWarning: Parameter x is floating but does not have initial step size. Assume 1.\n",
        "-c:3: InitialParamWarning: Parameter y does not have initial value. Assume 0.\n",
        "-c:3: InitialParamWarning: Parameter y is floating but does not have initial step size. Assume 1.\n",
        "-c:3: InitialParamWarning: Parameter z does not have initial value. Assume 0.\n",
        "-c:3: InitialParamWarning: Parameter z is floating but does not have initial step size. Assume 1.\n"
       ]
      }
     ],
     "prompt_number": 5
    },
    {
     "cell_type": "code",
     "collapsed": false,
     "input": [
      "#the most frequently asked question is Does my fit converge\n",
      "#also look at your console it print progress if you use print_level=2\n",
      "m.migrad();"
     ],
     "language": "python",
     "metadata": {},
     "outputs": [
      {
       "html": [
        "<hr>"
       ],
       "output_type": "display_data"
      },
      {
       "html": [
        "\n",
        "        <table>\n",
        "            <tr>\n",
        "                <td>FCN = 1.62389076464e-22</td>\n",
        "                <td>NFCN = 36</td>\n",
        "                <td>NCALLS = 36</td>\n",
        "            </tr>\n",
        "            <tr>\n",
        "                <td>EDM = 1.62388025554e-22</td>\n",
        "                <td>GOAL EDM = 1e-05</td>\n",
        "                <td>UP = 1.0</td>\n",
        "            </tr>\n",
        "        </table>\n",
        "        \n",
        "        <table>\n",
        "            <tr>\n",
        "                <td align=\"center\">Valid</td>\n",
        "                <td align=\"center\">Valid Param</td>\n",
        "                <td align=\"center\">Accurate Covar</td>\n",
        "                <td align=\"center\">PosDef</td>\n",
        "                <td align=\"center\">Made PosDef</td>\n",
        "            </tr>\n",
        "            <tr>\n",
        "                <td align=\"center\" style=\"background-color:#92CCA6\">True</td>\n",
        "                <td align=\"center\" style=\"background-color:#92CCA6\">True</td>\n",
        "                <td align=\"center\" style=\"background-color:#92CCA6\">True</td>\n",
        "                <td align=\"center\" style=\"background-color:#92CCA6\">True</td>\n",
        "                <td align=\"center\" style=\"background-color:#92CCA6\">False</td>\n",
        "            </tr>\n",
        "            <tr>\n",
        "                <td align=\"center\">Hesse Fail</td>\n",
        "                <td align=\"center\">HasCov</td>\n",
        "                <td align=\"center\">Above EDM</td>\n",
        "                <td align=\"center\"></td>\n",
        "                <td align=\"center\">Reach calllim</td>\n",
        "            </tr>\n",
        "            <tr>\n",
        "                <td align=\"center\" style=\"background-color:#92CCA6\">False</td>\n",
        "                <td align=\"center\" style=\"background-color:#92CCA6\">True</td>\n",
        "                <td align=\"center\" style=\"background-color:#92CCA6\">False</td>\n",
        "                <td align=\"center\"></td>\n",
        "                <td align=\"center\" style=\"background-color:#92CCA6\">False</td>\n",
        "            </tr>\n",
        "        </table>\n",
        "        "
       ],
       "output_type": "display_data"
      },
      {
       "html": [
        "\n",
        "        <table>\n",
        "            <tr>\n",
        "                <td></td>\n",
        "                <td>Name</td>\n",
        "                <td>Value</td>\n",
        "                <td>Parab Error</td>\n",
        "                <td>Minos Error-</td>\n",
        "                <td>Minos Error+</td>\n",
        "                <td>Limit-</td>\n",
        "                <td>Limit+</td>\n",
        "                <td>FIXED</td>\n",
        "            </tr>\n",
        "        \n",
        "            <tr>\n",
        "                <td>1</td>\n",
        "                <td>x</td>\n",
        "                <td>2.000000e+00</td>\n",
        "                <td>1.000000e+00</td>\n",
        "                <td>0.000000e+00</td>\n",
        "                <td>0.000000e+00</td>\n",
        "                <td></td>\n",
        "                <td></td>\n",
        "                <td></td>\n",
        "            </tr>\n",
        "            \n",
        "            <tr>\n",
        "                <td>2</td>\n",
        "                <td>y</td>\n",
        "                <td>3.000000e+00</td>\n",
        "                <td>1.000000e+00</td>\n",
        "                <td>0.000000e+00</td>\n",
        "                <td>0.000000e+00</td>\n",
        "                <td></td>\n",
        "                <td></td>\n",
        "                <td></td>\n",
        "            </tr>\n",
        "            \n",
        "            <tr>\n",
        "                <td>3</td>\n",
        "                <td>z</td>\n",
        "                <td>4.000000e+00</td>\n",
        "                <td>1.000000e+00</td>\n",
        "                <td>0.000000e+00</td>\n",
        "                <td>0.000000e+00</td>\n",
        "                <td></td>\n",
        "                <td></td>\n",
        "                <td></td>\n",
        "            </tr>\n",
        "            \n",
        "            </table>\n",
        "        "
       ],
       "output_type": "display_data"
      },
      {
       "html": [
        "<hr>"
       ],
       "output_type": "display_data"
      }
     ],
     "prompt_number": 6
    },
    {
     "cell_type": "markdown",
     "metadata": {},
     "source": [
      "####Accessing Value/Error"
     ]
    },
    {
     "cell_type": "code",
     "collapsed": false,
     "input": [
      "print m.values\n",
      "print m.errors\n",
      "print m.fval"
     ],
     "language": "python",
     "metadata": {},
     "outputs": [
      {
       "output_type": "stream",
       "stream": "stdout",
       "text": [
        "{'y': 3.000000000007099, 'x': 2.0000000000047327, 'z': 4.000000000009465}\n",
        "{'y': 1.0000000000002762, 'x': 1.0000000000000409, 'z': 0.9999999999998322}\n",
        "1.62389076464e-22\n"
       ]
      }
     ],
     "prompt_number": 7
    },
    {
     "cell_type": "code",
     "collapsed": false,
     "input": [
      "m.print_param()"
     ],
     "language": "python",
     "metadata": {},
     "outputs": [
      {
       "html": [
        "\n",
        "        <table>\n",
        "            <tr>\n",
        "                <td></td>\n",
        "                <td>Name</td>\n",
        "                <td>Value</td>\n",
        "                <td>Parab Error</td>\n",
        "                <td>Minos Error-</td>\n",
        "                <td>Minos Error+</td>\n",
        "                <td>Limit-</td>\n",
        "                <td>Limit+</td>\n",
        "                <td>FIXED</td>\n",
        "            </tr>\n",
        "        \n",
        "            <tr>\n",
        "                <td>1</td>\n",
        "                <td>x</td>\n",
        "                <td>2.000000e+00</td>\n",
        "                <td>1.000000e+00</td>\n",
        "                <td>0.000000e+00</td>\n",
        "                <td>0.000000e+00</td>\n",
        "                <td></td>\n",
        "                <td></td>\n",
        "                <td></td>\n",
        "            </tr>\n",
        "            \n",
        "            <tr>\n",
        "                <td>2</td>\n",
        "                <td>y</td>\n",
        "                <td>3.000000e+00</td>\n",
        "                <td>1.000000e+00</td>\n",
        "                <td>0.000000e+00</td>\n",
        "                <td>0.000000e+00</td>\n",
        "                <td></td>\n",
        "                <td></td>\n",
        "                <td></td>\n",
        "            </tr>\n",
        "            \n",
        "            <tr>\n",
        "                <td>3</td>\n",
        "                <td>z</td>\n",
        "                <td>4.000000e+00</td>\n",
        "                <td>1.000000e+00</td>\n",
        "                <td>0.000000e+00</td>\n",
        "                <td>0.000000e+00</td>\n",
        "                <td></td>\n",
        "                <td></td>\n",
        "                <td></td>\n",
        "            </tr>\n",
        "            \n",
        "            </table>\n",
        "        "
       ],
       "output_type": "display_data"
      }
     ],
     "prompt_number": 8
    },
    {
     "cell_type": "code",
     "collapsed": false,
     "input": [
      "#correlation matrix\n",
      "#Only Chrome/safari gets the vertical writing mode right.\n",
      "m.print_matrix() "
     ],
     "language": "python",
     "metadata": {},
     "outputs": [
      {
       "html": [
        "\n",
        "            <table>\n",
        "                <tr>\n",
        "                    <td></td>\n",
        "        \n",
        "            <td>\n",
        "            <span style=\"-webkit-writing-mode:vertical-rl;-moz-writing-mode: vertical-rl;writing-mode: vertical-rl;\">\n",
        "            x\n",
        "            </span>\n",
        "            </td>\n",
        "            \n",
        "            <td>\n",
        "            <span style=\"-webkit-writing-mode:vertical-rl;-moz-writing-mode: vertical-rl;writing-mode: vertical-rl;\">\n",
        "            y\n",
        "            </span>\n",
        "            </td>\n",
        "            \n",
        "            <td>\n",
        "            <span style=\"-webkit-writing-mode:vertical-rl;-moz-writing-mode: vertical-rl;writing-mode: vertical-rl;\">\n",
        "            z\n",
        "            </span>\n",
        "            </td>\n",
        "            \n",
        "                </tr>\n",
        "                \n",
        "            <tr>\n",
        "                <td>x</td>\n",
        "            \n",
        "                <td style=\"background-color:rgb(255,117,117)\">\n",
        "                1.00\n",
        "                </td>\n",
        "                \n",
        "                <td style=\"background-color:rgb(163,254,186)\">\n",
        "                -0.00\n",
        "                </td>\n",
        "                \n",
        "                <td style=\"background-color:rgb(163,254,186)\">\n",
        "                -0.00\n",
        "                </td>\n",
        "                \n",
        "            </tr>\n",
        "            \n",
        "            <tr>\n",
        "                <td>y</td>\n",
        "            \n",
        "                <td style=\"background-color:rgb(163,254,186)\">\n",
        "                -0.00\n",
        "                </td>\n",
        "                \n",
        "                <td style=\"background-color:rgb(255,117,117)\">\n",
        "                1.00\n",
        "                </td>\n",
        "                \n",
        "                <td style=\"background-color:rgb(163,254,186)\">\n",
        "                0.00\n",
        "                </td>\n",
        "                \n",
        "            </tr>\n",
        "            \n",
        "            <tr>\n",
        "                <td>z</td>\n",
        "            \n",
        "                <td style=\"background-color:rgb(163,254,186)\">\n",
        "                -0.00\n",
        "                </td>\n",
        "                \n",
        "                <td style=\"background-color:rgb(163,254,186)\">\n",
        "                0.00\n",
        "                </td>\n",
        "                \n",
        "                <td style=\"background-color:rgb(255,117,117)\">\n",
        "                1.00\n",
        "                </td>\n",
        "                \n",
        "            </tr>\n",
        "            </table>"
       ],
       "output_type": "display_data"
      }
     ],
     "prompt_number": 9
    },
    {
     "cell_type": "markdown",
     "metadata": {},
     "source": [
      "####Checking convergence\n",
      "More details on this in the tip section at the end. Basically return value of migrad tells you a bunch of fit status."
     ]
    },
    {
     "cell_type": "code",
     "collapsed": false,
     "input": [
      "print m.migrad_ok()\n",
      "print m.matrix_accurate()"
     ],
     "language": "python",
     "metadata": {},
     "outputs": [
      {
       "output_type": "stream",
       "stream": "stdout",
       "text": [
        "True\n",
        "True\n"
       ]
      }
     ],
     "prompt_number": 10
    },
    {
     "cell_type": "markdown",
     "metadata": {},
     "source": [
      "####minos"
     ]
    },
    {
     "cell_type": "code",
     "collapsed": false,
     "input": [
      "m.minos(); #do m.minos('x') if you need just 1 of them"
     ],
     "language": "python",
     "metadata": {},
     "outputs": [
      {
       "html": [
        "\n",
        "        <span>Minos status for x: <span style=\"background-color:#92CCA6\">VALID</span></span>\n",
        "        <table>\n",
        "            <tr>\n",
        "                <td>Error</td>\n",
        "                <td>-1.0</td>\n",
        "                <td>0.999999999995</td>\n",
        "            </tr>\n",
        "            <tr>\n",
        "                <td>Valid</td>\n",
        "                <td style=\"background-color:#92CCA6\">True</td>\n",
        "                <td style=\"background-color:#92CCA6\">True</td>\n",
        "            </tr>\n",
        "            <tr>\n",
        "                <td>At Limit</td>\n",
        "                <td style=\"background-color:#92CCA6\">False</td>\n",
        "                <td style=\"background-color:#92CCA6\">False</td>\n",
        "            </tr>\n",
        "            <tr>\n",
        "                <td>Max FCN</td>\n",
        "                <td style=\"background-color:#92CCA6\">False</td>\n",
        "                <td style=\"background-color:#92CCA6\">False</td>\n",
        "            </tr>\n",
        "            <tr>\n",
        "                <td>New Min</td>\n",
        "                <td style=\"background-color:#92CCA6\">False</td>\n",
        "                <td style=\"background-color:#92CCA6\">False</td>\n",
        "            </tr>\n",
        "        </table>\n",
        "        "
       ],
       "output_type": "display_data"
      },
      {
       "html": [
        "\n",
        "        <span>Minos status for y: <span style=\"background-color:#92CCA6\">VALID</span></span>\n",
        "        <table>\n",
        "            <tr>\n",
        "                <td>Error</td>\n",
        "                <td>-1.00000000001</td>\n",
        "                <td>0.999999999993</td>\n",
        "            </tr>\n",
        "            <tr>\n",
        "                <td>Valid</td>\n",
        "                <td style=\"background-color:#92CCA6\">True</td>\n",
        "                <td style=\"background-color:#92CCA6\">True</td>\n",
        "            </tr>\n",
        "            <tr>\n",
        "                <td>At Limit</td>\n",
        "                <td style=\"background-color:#92CCA6\">False</td>\n",
        "                <td style=\"background-color:#92CCA6\">False</td>\n",
        "            </tr>\n",
        "            <tr>\n",
        "                <td>Max FCN</td>\n",
        "                <td style=\"background-color:#92CCA6\">False</td>\n",
        "                <td style=\"background-color:#92CCA6\">False</td>\n",
        "            </tr>\n",
        "            <tr>\n",
        "                <td>New Min</td>\n",
        "                <td style=\"background-color:#92CCA6\">False</td>\n",
        "                <td style=\"background-color:#92CCA6\">False</td>\n",
        "            </tr>\n",
        "        </table>\n",
        "        "
       ],
       "output_type": "display_data"
      },
      {
       "html": [
        "\n",
        "        <span>Minos status for z: <span style=\"background-color:#92CCA6\">VALID</span></span>\n",
        "        <table>\n",
        "            <tr>\n",
        "                <td>Error</td>\n",
        "                <td>-1.00000000001</td>\n",
        "                <td>0.999999999991</td>\n",
        "            </tr>\n",
        "            <tr>\n",
        "                <td>Valid</td>\n",
        "                <td style=\"background-color:#92CCA6\">True</td>\n",
        "                <td style=\"background-color:#92CCA6\">True</td>\n",
        "            </tr>\n",
        "            <tr>\n",
        "                <td>At Limit</td>\n",
        "                <td style=\"background-color:#92CCA6\">False</td>\n",
        "                <td style=\"background-color:#92CCA6\">False</td>\n",
        "            </tr>\n",
        "            <tr>\n",
        "                <td>Max FCN</td>\n",
        "                <td style=\"background-color:#92CCA6\">False</td>\n",
        "                <td style=\"background-color:#92CCA6\">False</td>\n",
        "            </tr>\n",
        "            <tr>\n",
        "                <td>New Min</td>\n",
        "                <td style=\"background-color:#92CCA6\">False</td>\n",
        "                <td style=\"background-color:#92CCA6\">False</td>\n",
        "            </tr>\n",
        "        </table>\n",
        "        "
       ],
       "output_type": "display_data"
      },
      {
       "output_type": "pyout",
       "prompt_number": 11,
       "text": [
        "{'x': {'lower_new_min': False, 'upper': 0.9999999999952673, 'lower': -1.0000000000047327, 'at_lower_limit': False, 'min': 2.0000000000047327, 'at_lower_max_fcn': False, 'is_valid': True, 'upper_new_min': False, 'at_upper_limit': False, 'lower_valid': True, 'upper_valid': True, 'at_upper_max_fcn': False, 'nfcn': 18L},\n",
        " 'y': {'lower_new_min': False, 'upper': 0.9999999999929008, 'lower': -1.0000000000070992, 'at_lower_limit': False, 'min': 3.000000000007099, 'at_lower_max_fcn': False, 'is_valid': True, 'upper_new_min': False, 'at_upper_limit': False, 'lower_valid': True, 'upper_valid': True, 'at_upper_max_fcn': False, 'nfcn': 18L},\n",
        " 'z': {'lower_new_min': False, 'upper': 0.9999999999905348, 'lower': -1.0000000000094653, 'at_lower_limit': False, 'min': 4.000000000009465, 'at_lower_max_fcn': False, 'is_valid': True, 'upper_new_min': False, 'at_upper_limit': False, 'lower_valid': True, 'upper_valid': True, 'at_upper_max_fcn': False, 'nfcn': 18L}}"
       ]
      }
     ],
     "prompt_number": 11
    },
    {
     "cell_type": "code",
     "collapsed": false,
     "input": [
      "m.merrors"
     ],
     "language": "python",
     "metadata": {},
     "outputs": [
      {
       "output_type": "pyout",
       "prompt_number": 12,
       "text": [
        "{('x', -1.0): -1.0000000000047327,\n",
        " ('x', 1.0): 0.9999999999952673,\n",
        " ('y', -1.0): -1.0000000000070992,\n",
        " ('y', 1.0): 0.9999999999929008,\n",
        " ('z', -1.0): -1.0000000000094653,\n",
        " ('z', 1.0): 0.9999999999905348}"
       ]
      }
     ],
     "prompt_number": 12
    },
    {
     "cell_type": "markdown",
     "metadata": {},
     "source": [
      "####Initial value, Limit, initial error, fixing"
     ]
    },
    {
     "cell_type": "code",
     "collapsed": false,
     "input": [
      "m = Minuit(f, x=2, y=4, fix_y=True, limit_z=(-10,10), error_z=0.1)"
     ],
     "language": "python",
     "metadata": {},
     "outputs": [
      {
       "output_type": "stream",
       "stream": "stderr",
       "text": [
        "-c:1: InitialParamWarning: errordef is not given. Default to 1.\n",
        "-c:1: InitialParamWarning: Parameter x is floating but does not have initial step size. Assume 1.\n",
        "-c:1: InitialParamWarning: Parameter z does not have initial value. Assume 0.\n"
       ]
      }
     ],
     "prompt_number": 13
    },
    {
     "cell_type": "code",
     "collapsed": false,
     "input": [
      "m.migrad();"
     ],
     "language": "python",
     "metadata": {},
     "outputs": [
      {
       "html": [
        "<hr>"
       ],
       "output_type": "display_data"
      },
      {
       "html": [
        "\n",
        "        <table>\n",
        "            <tr>\n",
        "                <td>FCN = 1.00000010694</td>\n",
        "                <td>NFCN = 30</td>\n",
        "                <td>NCALLS = 30</td>\n",
        "            </tr>\n",
        "            <tr>\n",
        "                <td>EDM = 1.06933681618e-07</td>\n",
        "                <td>GOAL EDM = 1e-05</td>\n",
        "                <td>UP = 1.0</td>\n",
        "            </tr>\n",
        "        </table>\n",
        "        \n",
        "        <table>\n",
        "            <tr>\n",
        "                <td align=\"center\">Valid</td>\n",
        "                <td align=\"center\">Valid Param</td>\n",
        "                <td align=\"center\">Accurate Covar</td>\n",
        "                <td align=\"center\">PosDef</td>\n",
        "                <td align=\"center\">Made PosDef</td>\n",
        "            </tr>\n",
        "            <tr>\n",
        "                <td align=\"center\" style=\"background-color:#92CCA6\">True</td>\n",
        "                <td align=\"center\" style=\"background-color:#92CCA6\">True</td>\n",
        "                <td align=\"center\" style=\"background-color:#92CCA6\">True</td>\n",
        "                <td align=\"center\" style=\"background-color:#92CCA6\">True</td>\n",
        "                <td align=\"center\" style=\"background-color:#92CCA6\">False</td>\n",
        "            </tr>\n",
        "            <tr>\n",
        "                <td align=\"center\">Hesse Fail</td>\n",
        "                <td align=\"center\">HasCov</td>\n",
        "                <td align=\"center\">Above EDM</td>\n",
        "                <td align=\"center\"></td>\n",
        "                <td align=\"center\">Reach calllim</td>\n",
        "            </tr>\n",
        "            <tr>\n",
        "                <td align=\"center\" style=\"background-color:#92CCA6\">False</td>\n",
        "                <td align=\"center\" style=\"background-color:#92CCA6\">True</td>\n",
        "                <td align=\"center\" style=\"background-color:#92CCA6\">False</td>\n",
        "                <td align=\"center\"></td>\n",
        "                <td align=\"center\" style=\"background-color:#92CCA6\">False</td>\n",
        "            </tr>\n",
        "        </table>\n",
        "        "
       ],
       "output_type": "display_data"
      },
      {
       "html": [
        "\n",
        "        <table>\n",
        "            <tr>\n",
        "                <td></td>\n",
        "                <td>Name</td>\n",
        "                <td>Value</td>\n",
        "                <td>Parab Error</td>\n",
        "                <td>Minos Error-</td>\n",
        "                <td>Minos Error+</td>\n",
        "                <td>Limit-</td>\n",
        "                <td>Limit+</td>\n",
        "                <td>FIXED</td>\n",
        "            </tr>\n",
        "        \n",
        "            <tr>\n",
        "                <td>1</td>\n",
        "                <td>x</td>\n",
        "                <td>2.000000e+00</td>\n",
        "                <td>1.000000e+00</td>\n",
        "                <td>0.000000e+00</td>\n",
        "                <td>0.000000e+00</td>\n",
        "                <td></td>\n",
        "                <td></td>\n",
        "                <td></td>\n",
        "            </tr>\n",
        "            \n",
        "            <tr>\n",
        "                <td>2</td>\n",
        "                <td>y</td>\n",
        "                <td>4.000000e+00</td>\n",
        "                <td>1.000000e+00</td>\n",
        "                <td>0.000000e+00</td>\n",
        "                <td>0.000000e+00</td>\n",
        "                <td></td>\n",
        "                <td></td>\n",
        "                <td>FIXED</td>\n",
        "            </tr>\n",
        "            \n",
        "            <tr>\n",
        "                <td>3</td>\n",
        "                <td>z</td>\n",
        "                <td>3.999673e+00</td>\n",
        "                <td>9.980094e-01</td>\n",
        "                <td>0.000000e+00</td>\n",
        "                <td>0.000000e+00</td>\n",
        "                <td>-10.0</td>\n",
        "                <td>10.0</td>\n",
        "                <td></td>\n",
        "            </tr>\n",
        "            \n",
        "            </table>\n",
        "        "
       ],
       "output_type": "display_data"
      },
      {
       "html": [
        "<hr>"
       ],
       "output_type": "display_data"
      }
     ],
     "prompt_number": 14
    },
    {
     "cell_type": "markdown",
     "metadata": {},
     "source": [
      "##Building cost fuction using probfit\n",
      "\n",
      "You could write your always own cost function(see iminuit hardcore tutorial for example). But why should you. probfit provide convenience functor for you to build a simple cost function like UnbinnedLH, BinnedLH, BinnedChi2, Chi2Regression.\n",
      "\n",
      "Let's try to fit a simple gaussian with unbinned likelihood."
     ]
    },
    {
     "cell_type": "code",
     "collapsed": false,
     "input": [
      "from math import exp, pi, sqrt\n",
      "from probfit import UnbinnedLH\n",
      "from iminuit import Minuit"
     ],
     "language": "python",
     "metadata": {},
     "outputs": [],
     "prompt_number": 15
    },
    {
     "cell_type": "code",
     "collapsed": false,
     "input": [
      "seed(0)\n",
      "gdata = randn(1000)\n",
      "hist(gdata,bins=100, histtype='step');"
     ],
     "language": "python",
     "metadata": {},
     "outputs": [
      {
       "output_type": "display_data",
       "png": "[encoded data removed]"
      }
     ],
     "prompt_number": 16
    },
    {
     "cell_type": "code",
     "collapsed": false,
     "input": [
      "#you can define your pdf manually like this\n",
      "def my_gauss(x, mu, sigma):\n",
      "    return exp(-0.5*(x-mu)**2/sigma**2)/(sqrt(2*pi)*sigma)"
     ],
     "language": "python",
     "metadata": {},
     "outputs": [],
     "prompt_number": 17
    },
    {
     "cell_type": "code",
     "collapsed": false,
     "input": [
      "#probfit use the same describe magic as iminuit\n",
      "#Build your favorite cost function like this\n",
      "#Notice no RooRealVar etc. It use introspection to\n",
      "#find parameters\n",
      "#the only requirement is that the first argument is\n",
      "#in independent variable the rest are parameters\n",
      "ulh = UnbinnedLH(my_gauss, gdata)\n",
      "describe(ulh)"
     ],
     "language": "python",
     "metadata": {},
     "outputs": [
      {
       "output_type": "pyout",
       "prompt_number": 18,
       "text": [
        "['mu', 'sigma']"
       ]
      }
     ],
     "prompt_number": 18
    },
    {
     "cell_type": "code",
     "collapsed": false,
     "input": [
      "m = Minuit(ulh, mu=0.2, sigma=1.5)\n",
      "m.set_up(0.5) #remember up is 0.5 for likelihood and 1 for chi^2\n",
      "ulh.show(m)"
     ],
     "language": "python",
     "metadata": {},
     "outputs": [
      {
       "output_type": "stream",
       "stream": "stderr",
       "text": [
        "-c:1: InitialParamWarning: Parameter mu is floating but does not have initial step size. Assume 1.\n",
        "-c:1: InitialParamWarning: Parameter sigma is floating but does not have initial step size. Assume 1.\n"
       ]
      },
      {
       "output_type": "display_data",
       "png": "[encoded data removed]"
      }
     ],
     "prompt_number": 19
    },
    {
     "cell_type": "code",
     "collapsed": false,
     "input": [
      "m.migrad();\n",
      "ulh.show(m)"
     ],
     "language": "python",
     "metadata": {},
     "outputs": [
      {
       "html": [
        "<hr>"
       ],
       "output_type": "display_data"
      },
      {
       "html": [
        "\n",
        "        <table>\n",
        "            <tr>\n",
        "                <td>FCN = 1405.88688927</td>\n",
        "                <td>NFCN = 67</td>\n",
        "                <td>NCALLS = 67</td>\n",
        "            </tr>\n",
        "            <tr>\n",
        "                <td>EDM = 7.65781368036e-07</td>\n",
        "                <td>GOAL EDM = 5e-06</td>\n",
        "                <td>UP = 0.5</td>\n",
        "            </tr>\n",
        "        </table>\n",
        "        \n",
        "        <table>\n",
        "            <tr>\n",
        "                <td align=\"center\">Valid</td>\n",
        "                <td align=\"center\">Valid Param</td>\n",
        "                <td align=\"center\">Accurate Covar</td>\n",
        "                <td align=\"center\">PosDef</td>\n",
        "                <td align=\"center\">Made PosDef</td>\n",
        "            </tr>\n",
        "            <tr>\n",
        "                <td align=\"center\" style=\"background-color:#92CCA6\">True</td>\n",
        "                <td align=\"center\" style=\"background-color:#92CCA6\">True</td>\n",
        "                <td align=\"center\" style=\"background-color:#92CCA6\">True</td>\n",
        "                <td align=\"center\" style=\"background-color:#92CCA6\">True</td>\n",
        "                <td align=\"center\" style=\"background-color:#92CCA6\">False</td>\n",
        "            </tr>\n",
        "            <tr>\n",
        "                <td align=\"center\">Hesse Fail</td>\n",
        "                <td align=\"center\">HasCov</td>\n",
        "                <td align=\"center\">Above EDM</td>\n",
        "                <td align=\"center\"></td>\n",
        "                <td align=\"center\">Reach calllim</td>\n",
        "            </tr>\n",
        "            <tr>\n",
        "                <td align=\"center\" style=\"background-color:#92CCA6\">False</td>\n",
        "                <td align=\"center\" style=\"background-color:#92CCA6\">True</td>\n",
        "                <td align=\"center\" style=\"background-color:#92CCA6\">False</td>\n",
        "                <td align=\"center\"></td>\n",
        "                <td align=\"center\" style=\"background-color:#92CCA6\">False</td>\n",
        "            </tr>\n",
        "        </table>\n",
        "        "
       ],
       "output_type": "display_data"
      },
      {
       "html": [
        "\n",
        "        <table>\n",
        "            <tr>\n",
        "                <td></td>\n",
        "                <td>Name</td>\n",
        "                <td>Value</td>\n",
        "                <td>Parab Error</td>\n",
        "                <td>Minos Error-</td>\n",
        "                <td>Minos Error+</td>\n",
        "                <td>Limit-</td>\n",
        "                <td>Limit+</td>\n",
        "                <td>FIXED</td>\n",
        "            </tr>\n",
        "        \n",
        "            <tr>\n",
        "                <td>1</td>\n",
        "                <td>mu</td>\n",
        "                <td>-4.528735e-02</td>\n",
        "                <td>3.121221e-02</td>\n",
        "                <td>0.000000e+00</td>\n",
        "                <td>0.000000e+00</td>\n",
        "                <td></td>\n",
        "                <td></td>\n",
        "                <td></td>\n",
        "            </tr>\n",
        "            \n",
        "            <tr>\n",
        "                <td>2</td>\n",
        "                <td>sigma</td>\n",
        "                <td>9.870165e-01</td>\n",
        "                <td>2.206980e-02</td>\n",
        "                <td>0.000000e+00</td>\n",
        "                <td>0.000000e+00</td>\n",
        "                <td></td>\n",
        "                <td></td>\n",
        "                <td></td>\n",
        "            </tr>\n",
        "            \n",
        "            </table>\n",
        "        "
       ],
       "output_type": "display_data"
      },
      {
       "html": [
        "<hr>"
       ],
       "output_type": "display_data"
      },
      {
       "output_type": "display_data",
       "png": "[encoded data removed]"
      }
     ],
     "prompt_number": 20
    },
    {
     "cell_type": "markdown",
     "metadata": {},
     "source": [
      "####Another way to fit gaussian\n",
      "probfit comes with a bunch of builtin functions so you don't have to write your own pdf. If you can't find your favorite pdf there is nothing preventing you from doing:\n",
      "\n",
      "```\n",
      "def my_secret_pdf(x,y,z):\n",
      "    return secret_formula(x,y,z)\n",
      "```\n",
      "\n",
      "But, it's better if you fork our project, implement it and submit a pull request."
     ]
    },
    {
     "cell_type": "code",
     "collapsed": false,
     "input": [
      "from probfit import gaussian"
     ],
     "language": "python",
     "metadata": {},
     "outputs": [],
     "prompt_number": 21
    },
    {
     "cell_type": "code",
     "collapsed": false,
     "input": [
      "ulh = UnbinnedLH(gaussian, gdata)\n",
      "describe(ulh)"
     ],
     "language": "python",
     "metadata": {},
     "outputs": [
      {
       "output_type": "pyout",
       "prompt_number": 22,
       "text": [
        "['mean', 'sigma']"
       ]
      }
     ],
     "prompt_number": 22
    },
    {
     "cell_type": "code",
     "collapsed": false,
     "input": [
      "m = Minuit(ulh, mean=0.2, sigma =0.3)\n",
      "m.migrad()\n",
      "ulh.show(m)"
     ],
     "language": "python",
     "metadata": {},
     "outputs": [
      {
       "output_type": "stream",
       "stream": "stderr",
       "text": [
        "-c:1: InitialParamWarning: Parameter mean is floating but does not have initial step size. Assume 1.\n",
        "-c:1: InitialParamWarning: Parameter sigma is floating but does not have initial step size. Assume 1.\n"
       ]
      },
      {
       "html": [
        "<hr>"
       ],
       "output_type": "display_data"
      },
      {
       "html": [
        "\n",
        "        <table>\n",
        "            <tr>\n",
        "                <td>FCN = 1405.8868885</td>\n",
        "                <td>NFCN = 84</td>\n",
        "                <td>NCALLS = 84</td>\n",
        "            </tr>\n",
        "            <tr>\n",
        "                <td>EDM = 2.0619807636e-10</td>\n",
        "                <td>GOAL EDM = 5e-06</td>\n",
        "                <td>UP = 0.5</td>\n",
        "            </tr>\n",
        "        </table>\n",
        "        \n",
        "        <table>\n",
        "            <tr>\n",
        "                <td align=\"center\">Valid</td>\n",
        "                <td align=\"center\">Valid Param</td>\n",
        "                <td align=\"center\">Accurate Covar</td>\n",
        "                <td align=\"center\">PosDef</td>\n",
        "                <td align=\"center\">Made PosDef</td>\n",
        "            </tr>\n",
        "            <tr>\n",
        "                <td align=\"center\" style=\"background-color:#92CCA6\">True</td>\n",
        "                <td align=\"center\" style=\"background-color:#92CCA6\">True</td>\n",
        "                <td align=\"center\" style=\"background-color:#92CCA6\">True</td>\n",
        "                <td align=\"center\" style=\"background-color:#92CCA6\">True</td>\n",
        "                <td align=\"center\" style=\"background-color:#92CCA6\">False</td>\n",
        "            </tr>\n",
        "            <tr>\n",
        "                <td align=\"center\">Hesse Fail</td>\n",
        "                <td align=\"center\">HasCov</td>\n",
        "                <td align=\"center\">Above EDM</td>\n",
        "                <td align=\"center\"></td>\n",
        "                <td align=\"center\">Reach calllim</td>\n",
        "            </tr>\n",
        "            <tr>\n",
        "                <td align=\"center\" style=\"background-color:#92CCA6\">False</td>\n",
        "                <td align=\"center\" style=\"background-color:#92CCA6\">True</td>\n",
        "                <td align=\"center\" style=\"background-color:#92CCA6\">False</td>\n",
        "                <td align=\"center\"></td>\n",
        "                <td align=\"center\" style=\"background-color:#92CCA6\">False</td>\n",
        "            </tr>\n",
        "        </table>\n",
        "        "
       ],
       "output_type": "display_data"
      },
      {
       "html": [
        "\n",
        "        <table>\n",
        "            <tr>\n",
        "                <td></td>\n",
        "                <td>Name</td>\n",
        "                <td>Value</td>\n",
        "                <td>Parab Error</td>\n",
        "                <td>Minos Error-</td>\n",
        "                <td>Minos Error+</td>\n",
        "                <td>Limit-</td>\n",
        "                <td>Limit+</td>\n",
        "                <td>FIXED</td>\n",
        "            </tr>\n",
        "        \n",
        "            <tr>\n",
        "                <td>1</td>\n",
        "                <td>mean</td>\n",
        "                <td>-4.525667e-02</td>\n",
        "                <td>3.121275e-02</td>\n",
        "                <td>0.000000e+00</td>\n",
        "                <td>0.000000e+00</td>\n",
        "                <td></td>\n",
        "                <td></td>\n",
        "                <td></td>\n",
        "            </tr>\n",
        "            \n",
        "            <tr>\n",
        "                <td>2</td>\n",
        "                <td>sigma</td>\n",
        "                <td>9.870336e-01</td>\n",
        "                <td>2.207075e-02</td>\n",
        "                <td>0.000000e+00</td>\n",
        "                <td>0.000000e+00</td>\n",
        "                <td></td>\n",
        "                <td></td>\n",
        "                <td></td>\n",
        "            </tr>\n",
        "            \n",
        "            </table>\n",
        "        "
       ],
       "output_type": "display_data"
      },
      {
       "html": [
        "<hr>"
       ],
       "output_type": "display_data"
      },
      {
       "output_type": "display_data",
       "png": "[encoded data removed]"
      }
     ],
     "prompt_number": 23
    },
    {
     "cell_type": "markdown",
     "metadata": {},
     "source": [
      "##Other Cost functions"
     ]
    },
    {
     "cell_type": "markdown",
     "metadata": {},
     "source": [
      "####Binned $\\chi^2$\n",
      "Just a $\\chi^2$ with symmetric poisson error assumption. Binned $\\chi^2$ doesn't make much sense for non extended one. "
     ]
    },
    {
     "cell_type": "code",
     "collapsed": false,
     "input": [
      "from probfit import Extended, BinnedChi2\n",
      "seed(0)\n",
      "gdata = randn(10000)"
     ],
     "language": "python",
     "metadata": {},
     "outputs": [],
     "prompt_number": 24
    },
    {
     "cell_type": "code",
     "collapsed": false,
     "input": [
      "mypdf = Extended(gaussian)\n",
      "describe(mypdf) # just basically N*gaussian(x,mean,sigma)"
     ],
     "language": "python",
     "metadata": {},
     "outputs": [
      {
       "output_type": "pyout",
       "prompt_number": 25,
       "text": [
        "['x', 'mean', 'sigma', 'N']"
       ]
      }
     ],
     "prompt_number": 25
    },
    {
     "cell_type": "code",
     "collapsed": false,
     "input": [
      "bx2 = BinnedChi2(mypdf, gdata, bound=(-3,3))#create cost function\n",
      "bx2.show(args={'mean':1.0, 'sigma':1.0, 'N':10000}) #another way to draw it"
     ],
     "language": "python",
     "metadata": {},
     "outputs": [
      {
       "output_type": "display_data",
       "png": "[encoded data removed]"
      }
     ],
     "prompt_number": 26
    },
    {
     "cell_type": "code",
     "collapsed": false,
     "input": [
      "m = Minuit(bx2, mean=1.0, sigma=1.0, N=1000.)\n",
      "m.migrad()\n",
      "bx2.show(m)"
     ],
     "language": "python",
     "metadata": {},
     "outputs": [
      {
       "output_type": "stream",
       "stream": "stderr",
       "text": [
        "-c:1: InitialParamWarning: Parameter mean is floating but does not have initial step size. Assume 1.\n",
        "-c:1: InitialParamWarning: Parameter sigma is floating but does not have initial step size. Assume 1.\n",
        "-c:1: InitialParamWarning: Parameter N is floating but does not have initial step size. Assume 1.\n"
       ]
      },
      {
       "html": [
        "<hr>"
       ],
       "output_type": "display_data"
      },
      {
       "html": [
        "\n",
        "        <table>\n",
        "            <tr>\n",
        "                <td>FCN = 33.9840496564</td>\n",
        "                <td>NFCN = 87</td>\n",
        "                <td>NCALLS = 87</td>\n",
        "            </tr>\n",
        "            <tr>\n",
        "                <td>EDM = 2.21724522584e-07</td>\n",
        "                <td>GOAL EDM = 1e-05</td>\n",
        "                <td>UP = 1.0</td>\n",
        "            </tr>\n",
        "        </table>\n",
        "        \n",
        "        <table>\n",
        "            <tr>\n",
        "                <td align=\"center\">Valid</td>\n",
        "                <td align=\"center\">Valid Param</td>\n",
        "                <td align=\"center\">Accurate Covar</td>\n",
        "                <td align=\"center\">PosDef</td>\n",
        "                <td align=\"center\">Made PosDef</td>\n",
        "            </tr>\n",
        "            <tr>\n",
        "                <td align=\"center\" style=\"background-color:#92CCA6\">True</td>\n",
        "                <td align=\"center\" style=\"background-color:#92CCA6\">True</td>\n",
        "                <td align=\"center\" style=\"background-color:#92CCA6\">True</td>\n",
        "                <td align=\"center\" style=\"background-color:#92CCA6\">True</td>\n",
        "                <td align=\"center\" style=\"background-color:#92CCA6\">False</td>\n",
        "            </tr>\n",
        "            <tr>\n",
        "                <td align=\"center\">Hesse Fail</td>\n",
        "                <td align=\"center\">HasCov</td>\n",
        "                <td align=\"center\">Above EDM</td>\n",
        "                <td align=\"center\"></td>\n",
        "                <td align=\"center\">Reach calllim</td>\n",
        "            </tr>\n",
        "            <tr>\n",
        "                <td align=\"center\" style=\"background-color:#92CCA6\">False</td>\n",
        "                <td align=\"center\" style=\"background-color:#92CCA6\">True</td>\n",
        "                <td align=\"center\" style=\"background-color:#92CCA6\">False</td>\n",
        "                <td align=\"center\"></td>\n",
        "                <td align=\"center\" style=\"background-color:#92CCA6\">False</td>\n",
        "            </tr>\n",
        "        </table>\n",
        "        "
       ],
       "output_type": "display_data"
      },
      {
       "html": [
        "\n",
        "        <table>\n",
        "            <tr>\n",
        "                <td></td>\n",
        "                <td>Name</td>\n",
        "                <td>Value</td>\n",
        "                <td>Parab Error</td>\n",
        "                <td>Minos Error-</td>\n",
        "                <td>Minos Error+</td>\n",
        "                <td>Limit-</td>\n",
        "                <td>Limit+</td>\n",
        "                <td>FIXED</td>\n",
        "            </tr>\n",
        "        \n",
        "            <tr>\n",
        "                <td>1</td>\n",
        "                <td>mean</td>\n",
        "                <td>-1.856158e-02</td>\n",
        "                <td>1.003145e-02</td>\n",
        "                <td>0.000000e+00</td>\n",
        "                <td>0.000000e+00</td>\n",
        "                <td></td>\n",
        "                <td></td>\n",
        "                <td></td>\n",
        "            </tr>\n",
        "            \n",
        "            <tr>\n",
        "                <td>2</td>\n",
        "                <td>sigma</td>\n",
        "                <td>9.883410e-01</td>\n",
        "                <td>7.437716e-03</td>\n",
        "                <td>0.000000e+00</td>\n",
        "                <td>0.000000e+00</td>\n",
        "                <td></td>\n",
        "                <td></td>\n",
        "                <td></td>\n",
        "            </tr>\n",
        "            \n",
        "            <tr>\n",
        "                <td>3</td>\n",
        "                <td>N</td>\n",
        "                <td>9.970810e+03</td>\n",
        "                <td>9.970433e+01</td>\n",
        "                <td>0.000000e+00</td>\n",
        "                <td>0.000000e+00</td>\n",
        "                <td></td>\n",
        "                <td></td>\n",
        "                <td></td>\n",
        "            </tr>\n",
        "            \n",
        "            </table>\n",
        "        "
       ],
       "output_type": "display_data"
      },
      {
       "html": [
        "<hr>"
       ],
       "output_type": "display_data"
      },
      {
       "output_type": "display_data",
       "png": "[encoded data removed]"
      }
     ],
     "prompt_number": 27
    },
    {
     "cell_type": "markdown",
     "metadata": {},
     "source": [
      "####Binned Likelihood\n",
      "Poisson binned log likelihood with minimum subtractacted(aka likelihood ratio)."
     ]
    },
    {
     "cell_type": "code",
     "collapsed": false,
     "input": [
      "from probfit import Extended, BinnedLH\n",
      "seed(0)\n",
      "gdata = randn(10000)"
     ],
     "language": "python",
     "metadata": {},
     "outputs": [],
     "prompt_number": 28
    },
    {
     "cell_type": "code",
     "collapsed": false,
     "input": [
      "mypdf = gaussian\n",
      "describe(mypdf) # just basically N*gaussian(x,mean,sigma)"
     ],
     "language": "python",
     "metadata": {},
     "outputs": [
      {
       "output_type": "pyout",
       "prompt_number": 29,
       "text": [
        "['x', 'mean', 'sigma']"
       ]
      }
     ],
     "prompt_number": 29
    },
    {
     "cell_type": "code",
     "collapsed": false,
     "input": [
      "blh = BinnedLH(mypdf, gdata, bound=(-3,3))#create cost function\n",
      "#it can also do extended one if you pass it an extended pdf and pass extended=True to BinnedLH\n",
      "blh.show(args={'mean':1.0, 'sigma':1.0})"
     ],
     "language": "python",
     "metadata": {},
     "outputs": [
      {
       "output_type": "display_data",
       "png": "[encoded data removed]"
      }
     ],
     "prompt_number": 30
    },
    {
     "cell_type": "code",
     "collapsed": false,
     "input": [
      "m = Minuit(blh, mean=1.0, sigma=1)\n",
      "m.set_up(0.5)\n",
      "m.migrad()\n",
      "blh.show(m)"
     ],
     "language": "python",
     "metadata": {},
     "outputs": [
      {
       "output_type": "stream",
       "stream": "stderr",
       "text": [
        "-c:1: InitialParamWarning: Parameter mean is floating but does not have initial step size. Assume 1.\n",
        "-c:1: InitialParamWarning: Parameter sigma is floating but does not have initial step size. Assume 1.\n"
       ]
      },
      {
       "html": [
        "<hr>"
       ],
       "output_type": "display_data"
      },
      {
       "html": [
        "\n",
        "        <table>\n",
        "            <tr>\n",
        "                <td>FCN = 16.9210948316</td>\n",
        "                <td>NFCN = 59</td>\n",
        "                <td>NCALLS = 59</td>\n",
        "            </tr>\n",
        "            <tr>\n",
        "                <td>EDM = 1.35282733575e-06</td>\n",
        "                <td>GOAL EDM = 5e-06</td>\n",
        "                <td>UP = 0.5</td>\n",
        "            </tr>\n",
        "        </table>\n",
        "        \n",
        "        <table>\n",
        "            <tr>\n",
        "                <td align=\"center\">Valid</td>\n",
        "                <td align=\"center\">Valid Param</td>\n",
        "                <td align=\"center\">Accurate Covar</td>\n",
        "                <td align=\"center\">PosDef</td>\n",
        "                <td align=\"center\">Made PosDef</td>\n",
        "            </tr>\n",
        "            <tr>\n",
        "                <td align=\"center\" style=\"background-color:#92CCA6\">True</td>\n",
        "                <td align=\"center\" style=\"background-color:#92CCA6\">True</td>\n",
        "                <td align=\"center\" style=\"background-color:#92CCA6\">True</td>\n",
        "                <td align=\"center\" style=\"background-color:#92CCA6\">True</td>\n",
        "                <td align=\"center\" style=\"background-color:#92CCA6\">False</td>\n",
        "            </tr>\n",
        "            <tr>\n",
        "                <td align=\"center\">Hesse Fail</td>\n",
        "                <td align=\"center\">HasCov</td>\n",
        "                <td align=\"center\">Above EDM</td>\n",
        "                <td align=\"center\"></td>\n",
        "                <td align=\"center\">Reach calllim</td>\n",
        "            </tr>\n",
        "            <tr>\n",
        "                <td align=\"center\" style=\"background-color:#92CCA6\">False</td>\n",
        "                <td align=\"center\" style=\"background-color:#92CCA6\">True</td>\n",
        "                <td align=\"center\" style=\"background-color:#92CCA6\">False</td>\n",
        "                <td align=\"center\"></td>\n",
        "                <td align=\"center\" style=\"background-color:#92CCA6\">False</td>\n",
        "            </tr>\n",
        "        </table>\n",
        "        "
       ],
       "output_type": "display_data"
      },
      {
       "html": [
        "\n",
        "        <table>\n",
        "            <tr>\n",
        "                <td></td>\n",
        "                <td>Name</td>\n",
        "                <td>Value</td>\n",
        "                <td>Parab Error</td>\n",
        "                <td>Minos Error-</td>\n",
        "                <td>Minos Error+</td>\n",
        "                <td>Limit-</td>\n",
        "                <td>Limit+</td>\n",
        "                <td>FIXED</td>\n",
        "            </tr>\n",
        "        \n",
        "            <tr>\n",
        "                <td>1</td>\n",
        "                <td>mean</td>\n",
        "                <td>-1.944627e-02</td>\n",
        "                <td>1.005891e-02</td>\n",
        "                <td>0.000000e+00</td>\n",
        "                <td>0.000000e+00</td>\n",
        "                <td></td>\n",
        "                <td></td>\n",
        "                <td></td>\n",
        "            </tr>\n",
        "            \n",
        "            <tr>\n",
        "                <td>2</td>\n",
        "                <td>sigma</td>\n",
        "                <td>9.895137e-01</td>\n",
        "                <td>7.536312e-03</td>\n",
        "                <td>0.000000e+00</td>\n",
        "                <td>0.000000e+00</td>\n",
        "                <td></td>\n",
        "                <td></td>\n",
        "                <td></td>\n",
        "            </tr>\n",
        "            \n",
        "            </table>\n",
        "        "
       ],
       "output_type": "display_data"
      },
      {
       "html": [
        "<hr>"
       ],
       "output_type": "display_data"
      },
      {
       "output_type": "display_data",
       "png": "[encoded data removed]"
      }
     ],
     "prompt_number": 31
    },
    {
     "cell_type": "markdown",
     "metadata": {},
     "source": [
      "####$\\chi^2$ Regression\n",
      "Some time you just want a simple line fit as opposed to fitting pdf."
     ]
    },
    {
     "cell_type": "code",
     "collapsed": false,
     "input": [
      "from probfit import Chi2Regression"
     ],
     "language": "python",
     "metadata": {},
     "outputs": [],
     "prompt_number": 32
    },
    {
     "cell_type": "code",
     "collapsed": false,
     "input": [
      "x = linspace(-10,10,30)\n",
      "y = 3*x**2 +2*x + 1\n",
      "#add some noise\n",
      "y = y+randn(30)*10\n",
      "errorbar(x,y,10, fmt='b.')"
     ],
     "language": "python",
     "metadata": {},
     "outputs": [
      {
       "output_type": "pyout",
       "prompt_number": 33,
       "text": [
        "<Container object of 3 artists>"
       ]
      },
      {
       "output_type": "display_data",
       "png": "[encoded data removed]"
      }
     ],
     "prompt_number": 33
    },
    {
     "cell_type": "code",
     "collapsed": false,
     "input": [
      "#there is a poly2 builtin but just to remind you that you can do this\n",
      "def my_poly(x, a, b, c):\n",
      "    return a*x**2+ b*x+ c"
     ],
     "language": "python",
     "metadata": {},
     "outputs": [],
     "prompt_number": 34
    },
    {
     "cell_type": "code",
     "collapsed": false,
     "input": [
      "err = np.array([10]*30)\n",
      "x2reg= Chi2Regression(my_poly, x, y, error=err)\n",
      "x2reg.draw(args={'a':1,'b':2,'c':3})"
     ],
     "language": "python",
     "metadata": {},
     "outputs": [
      {
       "output_type": "display_data",
       "png": "[encoded data removed]"
      }
     ],
     "prompt_number": 35
    },
    {
     "cell_type": "code",
     "collapsed": false,
     "input": [
      "m = Minuit(x2reg, a=1, b=2, c=3)\n",
      "m.migrad()\n",
      "x2reg.show(m)"
     ],
     "language": "python",
     "metadata": {},
     "outputs": [
      {
       "output_type": "stream",
       "stream": "stderr",
       "text": [
        "-c:1: InitialParamWarning: Parameter a is floating but does not have initial step size. Assume 1.\n",
        "-c:1: InitialParamWarning: Parameter b is floating but does not have initial step size. Assume 1.\n",
        "-c:1: InitialParamWarning: Parameter c is floating but does not have initial step size. Assume 1.\n"
       ]
      },
      {
       "html": [
        "<hr>"
       ],
       "output_type": "display_data"
      },
      {
       "html": [
        "\n",
        "        <table>\n",
        "            <tr>\n",
        "                <td>FCN = 34.2023676505</td>\n",
        "                <td>NFCN = 52</td>\n",
        "                <td>NCALLS = 52</td>\n",
        "            </tr>\n",
        "            <tr>\n",
        "                <td>EDM = 3.89079131844e-07</td>\n",
        "                <td>GOAL EDM = 1e-05</td>\n",
        "                <td>UP = 1.0</td>\n",
        "            </tr>\n",
        "        </table>\n",
        "        \n",
        "        <table>\n",
        "            <tr>\n",
        "                <td align=\"center\">Valid</td>\n",
        "                <td align=\"center\">Valid Param</td>\n",
        "                <td align=\"center\">Accurate Covar</td>\n",
        "                <td align=\"center\">PosDef</td>\n",
        "                <td align=\"center\">Made PosDef</td>\n",
        "            </tr>\n",
        "            <tr>\n",
        "                <td align=\"center\" style=\"background-color:#92CCA6\">True</td>\n",
        "                <td align=\"center\" style=\"background-color:#92CCA6\">True</td>\n",
        "                <td align=\"center\" style=\"background-color:#92CCA6\">True</td>\n",
        "                <td align=\"center\" style=\"background-color:#92CCA6\">True</td>\n",
        "                <td align=\"center\" style=\"background-color:#92CCA6\">False</td>\n",
        "            </tr>\n",
        "            <tr>\n",
        "                <td align=\"center\">Hesse Fail</td>\n",
        "                <td align=\"center\">HasCov</td>\n",
        "                <td align=\"center\">Above EDM</td>\n",
        "                <td align=\"center\"></td>\n",
        "                <td align=\"center\">Reach calllim</td>\n",
        "            </tr>\n",
        "            <tr>\n",
        "                <td align=\"center\" style=\"background-color:#92CCA6\">False</td>\n",
        "                <td align=\"center\" style=\"background-color:#92CCA6\">True</td>\n",
        "                <td align=\"center\" style=\"background-color:#92CCA6\">False</td>\n",
        "                <td align=\"center\"></td>\n",
        "                <td align=\"center\" style=\"background-color:#92CCA6\">False</td>\n",
        "            </tr>\n",
        "        </table>\n",
        "        "
       ],
       "output_type": "display_data"
      },
      {
       "html": [
        "\n",
        "        <table>\n",
        "            <tr>\n",
        "                <td></td>\n",
        "                <td>Name</td>\n",
        "                <td>Value</td>\n",
        "                <td>Parab Error</td>\n",
        "                <td>Minos Error-</td>\n",
        "                <td>Minos Error+</td>\n",
        "                <td>Limit-</td>\n",
        "                <td>Limit+</td>\n",
        "                <td>FIXED</td>\n",
        "            </tr>\n",
        "        \n",
        "            <tr>\n",
        "                <td>1</td>\n",
        "                <td>a</td>\n",
        "                <td>3.011252e+00</td>\n",
        "                <td>5.738228e-02</td>\n",
        "                <td>0.000000e+00</td>\n",
        "                <td>0.000000e+00</td>\n",
        "                <td></td>\n",
        "                <td></td>\n",
        "                <td></td>\n",
        "            </tr>\n",
        "            \n",
        "            <tr>\n",
        "                <td>2</td>\n",
        "                <td>b</td>\n",
        "                <td>2.121267e+00</td>\n",
        "                <td>3.058568e-01</td>\n",
        "                <td>0.000000e+00</td>\n",
        "                <td>0.000000e+00</td>\n",
        "                <td></td>\n",
        "                <td></td>\n",
        "                <td></td>\n",
        "            </tr>\n",
        "            \n",
        "            <tr>\n",
        "                <td>3</td>\n",
        "                <td>c</td>\n",
        "                <td>2.134416e+00</td>\n",
        "                <td>2.741159e+00</td>\n",
        "                <td>0.000000e+00</td>\n",
        "                <td>0.000000e+00</td>\n",
        "                <td></td>\n",
        "                <td></td>\n",
        "                <td></td>\n",
        "            </tr>\n",
        "            \n",
        "            </table>\n",
        "        "
       ],
       "output_type": "display_data"
      },
      {
       "html": [
        "<hr>"
       ],
       "output_type": "display_data"
      },
      {
       "output_type": "display_data",
       "png": "[encoded data removed]"
      }
     ],
     "prompt_number": 36
    },
    {
     "cell_type": "markdown",
     "metadata": {},
     "source": [
      "###Let's do some physics\n",
      "Remeber the D mass?? Let's try to fit relativistic Breit-Wigner to it."
     ]
    },
    {
     "cell_type": "code",
     "collapsed": false,
     "input": [
      "from root_numpy import root2rec"
     ],
     "language": "python",
     "metadata": {},
     "outputs": [],
     "prompt_number": 37
    },
    {
     "cell_type": "code",
     "collapsed": false,
     "input": [
      "data = root2rec('data/*.root')\n",
      "bb = root2rec('data/B*.root')\n",
      "cc = root2rec('data/cc*.root')"
     ],
     "language": "python",
     "metadata": {},
     "outputs": [],
     "prompt_number": 38
    },
    {
     "cell_type": "code",
     "collapsed": false,
     "input": [
      "hs = np.hstack\n",
      "hist([hs(data.DMass), hs(bb.DMass), hs(cc.DMass)], bins=50, histtype='step');"
     ],
     "language": "python",
     "metadata": {},
     "outputs": [
      {
       "output_type": "display_data",
       "png": "[encoded data removed]"
      }
     ],
     "prompt_number": 39
    },
    {
     "cell_type": "markdown",
     "metadata": {},
     "source": [
      "###Simple fit\n",
      "First lets fit bb's DMass alone with a Breit-Wigner."
     ]
    },
    {
     "cell_type": "code",
     "collapsed": false,
     "input": [
      "from probfit import UnbinnedLH, draw_compare_hist,\\\n",
      "                    vector_apply, Normalized, rtv_breitwigner,\\\n",
      "                    linear, rename, AddPdfNorm\n",
      "from iminuit import Minuit"
     ],
     "language": "python",
     "metadata": {},
     "outputs": [],
     "prompt_number": 40
    },
    {
     "cell_type": "code",
     "collapsed": false,
     "input": [
      "bb_dmass = hs(bb.DMass)\n",
      "print bb.DMass.size"
     ],
     "language": "python",
     "metadata": {},
     "outputs": [
      {
       "output_type": "stream",
       "stream": "stdout",
       "text": [
        "3219\n"
       ]
      }
     ],
     "prompt_number": 41
    },
    {
     "cell_type": "code",
     "collapsed": false,
     "input": [
      "#you can compare them like this\n",
      "draw_compare_hist(rtv_breitwigner, {'m':1.87, 'gamma':0.01}, bb_dmass, normed=True);"
     ],
     "language": "python",
     "metadata": {},
     "outputs": [
      {
       "output_type": "display_data",
       "png": "[encoded data removed]"
      }
     ],
     "prompt_number": 42
    },
    {
     "cell_type": "code",
     "collapsed": false,
     "input": [
      "#Our DMass is a truncated one so we need to have it normalized properly\n",
      "#this is easy with Normalized functor which normalized your pdf\n",
      "#this might seems a bit unusual if you never done functinal programming\n",
      "#but normalize just wrap the function around and return a new function\n",
      "signalpdf = Normalized(rtv_breitwigner,(1.83,1.91))"
     ],
     "language": "python",
     "metadata": {},
     "outputs": [],
     "prompt_number": 43
    },
    {
     "cell_type": "code",
     "collapsed": false,
     "input": [
      "ulh = UnbinnedLH(signalpdf, bb_dmass)"
     ],
     "language": "python",
     "metadata": {},
     "outputs": [],
     "prompt_number": 44
    },
    {
     "cell_type": "code",
     "collapsed": false,
     "input": [
      "m = Minuit(ulh, m=1.875, gamma=0.01)#I shift it on purpose\n",
      "m.set_up(0.5)\n",
      "ulh.show(m) #you can see it before the fit begins;"
     ],
     "language": "python",
     "metadata": {},
     "outputs": [
      {
       "output_type": "stream",
       "stream": "stderr",
       "text": [
        "-c:1: InitialParamWarning: Parameter m is floating but does not have initial step size. Assume 1.\n",
        "-c:1: InitialParamWarning: Parameter gamma is floating but does not have initial step size. Assume 1.\n"
       ]
      },
      {
       "output_type": "display_data",
       "png": "[encoded data removed]"
      }
     ],
     "prompt_number": 45
    },
    {
     "cell_type": "code",
     "collapsed": false,
     "input": [
      "%timeit -n1 -r1 m.migrad(); #we will talk about speed later;"
     ],
     "language": "python",
     "metadata": {},
     "outputs": [
      {
       "output_type": "stream",
       "stream": "stderr",
       "text": [
        "-c:6: SmallIntegralWarning: (1.8630708456039429, 1.875, -0.05716159358979792)\n"
       ]
      },
      {
       "html": [
        "<hr>"
       ],
       "output_type": "display_data"
      },
      {
       "html": [
        "\n",
        "        <table>\n",
        "            <tr>\n",
        "                <td>FCN = -10458.6241946</td>\n",
        "                <td>NFCN = 53</td>\n",
        "                <td>NCALLS = 53</td>\n",
        "            </tr>\n",
        "            <tr>\n",
        "                <td>EDM = 6.52822663213e-07</td>\n",
        "                <td>GOAL EDM = 5e-06</td>\n",
        "                <td>UP = 0.5</td>\n",
        "            </tr>\n",
        "        </table>\n",
        "        \n",
        "        <table>\n",
        "            <tr>\n",
        "                <td align=\"center\">Valid</td>\n",
        "                <td align=\"center\">Valid Param</td>\n",
        "                <td align=\"center\">Accurate Covar</td>\n",
        "                <td align=\"center\">PosDef</td>\n",
        "                <td align=\"center\">Made PosDef</td>\n",
        "            </tr>\n",
        "            <tr>\n",
        "                <td align=\"center\" style=\"background-color:#92CCA6\">True</td>\n",
        "                <td align=\"center\" style=\"background-color:#92CCA6\">True</td>\n",
        "                <td align=\"center\" style=\"background-color:#92CCA6\">True</td>\n",
        "                <td align=\"center\" style=\"background-color:#92CCA6\">True</td>\n",
        "                <td align=\"center\" style=\"background-color:#92CCA6\">False</td>\n",
        "            </tr>\n",
        "            <tr>\n",
        "                <td align=\"center\">Hesse Fail</td>\n",
        "                <td align=\"center\">HasCov</td>\n",
        "                <td align=\"center\">Above EDM</td>\n",
        "                <td align=\"center\"></td>\n",
        "                <td align=\"center\">Reach calllim</td>\n",
        "            </tr>\n",
        "            <tr>\n",
        "                <td align=\"center\" style=\"background-color:#92CCA6\">False</td>\n",
        "                <td align=\"center\" style=\"background-color:#92CCA6\">True</td>\n",
        "                <td align=\"center\" style=\"background-color:#92CCA6\">False</td>\n",
        "                <td align=\"center\"></td>\n",
        "                <td align=\"center\" style=\"background-color:#92CCA6\">False</td>\n",
        "            </tr>\n",
        "        </table>\n",
        "        "
       ],
       "output_type": "display_data"
      },
      {
       "html": [
        "\n",
        "        <table>\n",
        "            <tr>\n",
        "                <td></td>\n",
        "                <td>Name</td>\n",
        "                <td>Value</td>\n",
        "                <td>Parab Error</td>\n",
        "                <td>Minos Error-</td>\n",
        "                <td>Minos Error+</td>\n",
        "                <td>Limit-</td>\n",
        "                <td>Limit+</td>\n",
        "                <td>FIXED</td>\n",
        "            </tr>\n",
        "        \n",
        "            <tr>\n",
        "                <td>1</td>\n",
        "                <td>m</td>\n",
        "                <td>1.869087e+00</td>\n",
        "                <td>1.344898e-04</td>\n",
        "                <td>0.000000e+00</td>\n",
        "                <td>0.000000e+00</td>\n",
        "                <td></td>\n",
        "                <td></td>\n",
        "                <td></td>\n",
        "            </tr>\n",
        "            \n",
        "            <tr>\n",
        "                <td>2</td>\n",
        "                <td>gamma</td>\n",
        "                <td>1.151186e-02</td>\n",
        "                <td>3.003198e-04</td>\n",
        "                <td>0.000000e+00</td>\n",
        "                <td>0.000000e+00</td>\n",
        "                <td></td>\n",
        "                <td></td>\n",
        "                <td></td>\n",
        "            </tr>\n",
        "            \n",
        "            </table>\n",
        "        "
       ],
       "output_type": "display_data"
      },
      {
       "html": [
        "<hr>"
       ],
       "output_type": "display_data"
      },
      {
       "output_type": "stream",
       "stream": "stdout",
       "text": [
        "1 loops, best of 1: 109 ms per loop\n"
       ]
      }
     ],
     "prompt_number": 46
    },
    {
     "cell_type": "code",
     "collapsed": false,
     "input": [
      "ulh.show(m) #looks good"
     ],
     "language": "python",
     "metadata": {},
     "outputs": [
      {
       "output_type": "display_data",
       "png": "[encoded data removed]"
      }
     ],
     "prompt_number": 47
    },
    {
     "cell_type": "code",
     "collapsed": false,
     "input": [
      "m.minos();#do m.minos('m') if you need just 1 parameter"
     ],
     "language": "python",
     "metadata": {},
     "outputs": [
      {
       "html": [
        "\n",
        "        <span>Minos status for m: <span style=\"background-color:#92CCA6\">VALID</span></span>\n",
        "        <table>\n",
        "            <tr>\n",
        "                <td>Error</td>\n",
        "                <td>-0.000134384231326</td>\n",
        "                <td>0.000134627933923</td>\n",
        "            </tr>\n",
        "            <tr>\n",
        "                <td>Valid</td>\n",
        "                <td style=\"background-color:#92CCA6\">True</td>\n",
        "                <td style=\"background-color:#92CCA6\">True</td>\n",
        "            </tr>\n",
        "            <tr>\n",
        "                <td>At Limit</td>\n",
        "                <td style=\"background-color:#92CCA6\">False</td>\n",
        "                <td style=\"background-color:#92CCA6\">False</td>\n",
        "            </tr>\n",
        "            <tr>\n",
        "                <td>Max FCN</td>\n",
        "                <td style=\"background-color:#92CCA6\">False</td>\n",
        "                <td style=\"background-color:#92CCA6\">False</td>\n",
        "            </tr>\n",
        "            <tr>\n",
        "                <td>New Min</td>\n",
        "                <td style=\"background-color:#92CCA6\">False</td>\n",
        "                <td style=\"background-color:#92CCA6\">False</td>\n",
        "            </tr>\n",
        "        </table>\n",
        "        "
       ],
       "output_type": "display_data"
      },
      {
       "html": [
        "\n",
        "        <span>Minos status for gamma: <span style=\"background-color:#92CCA6\">VALID</span></span>\n",
        "        <table>\n",
        "            <tr>\n",
        "                <td>Error</td>\n",
        "                <td>-0.000295920358877</td>\n",
        "                <td>0.000304715369101</td>\n",
        "            </tr>\n",
        "            <tr>\n",
        "                <td>Valid</td>\n",
        "                <td style=\"background-color:#92CCA6\">True</td>\n",
        "                <td style=\"background-color:#92CCA6\">True</td>\n",
        "            </tr>\n",
        "            <tr>\n",
        "                <td>At Limit</td>\n",
        "                <td style=\"background-color:#92CCA6\">False</td>\n",
        "                <td style=\"background-color:#92CCA6\">False</td>\n",
        "            </tr>\n",
        "            <tr>\n",
        "                <td>Max FCN</td>\n",
        "                <td style=\"background-color:#92CCA6\">False</td>\n",
        "                <td style=\"background-color:#92CCA6\">False</td>\n",
        "            </tr>\n",
        "            <tr>\n",
        "                <td>New Min</td>\n",
        "                <td style=\"background-color:#92CCA6\">False</td>\n",
        "                <td style=\"background-color:#92CCA6\">False</td>\n",
        "            </tr>\n",
        "        </table>\n",
        "        "
       ],
       "output_type": "display_data"
      },
      {
       "output_type": "pyout",
       "prompt_number": 48,
       "text": [
        "{'gamma': {'lower_new_min': False, 'upper': 0.00030471536910134004, 'lower': -0.00029592035887724555, 'at_lower_limit': False, 'min': 0.01151186448673394, 'at_lower_max_fcn': False, 'is_valid': True, 'upper_new_min': False, 'at_upper_limit': False, 'lower_valid': True, 'upper_valid': True, 'at_upper_max_fcn': False, 'nfcn': 12L},\n",
        " 'm': {'lower_new_min': False, 'upper': 0.00013462793392262257, 'lower': -0.00013438423132646268, 'at_lower_limit': False, 'min': 1.8690871087182035, 'at_lower_max_fcn': False, 'is_valid': True, 'upper_new_min': False, 'at_upper_limit': False, 'lower_valid': True, 'upper_valid': True, 'at_upper_max_fcn': False, 'nfcn': 14L}}"
       ]
      }
     ],
     "prompt_number": 48
    },
    {
     "cell_type": "code",
     "collapsed": false,
     "input": [
      "m.print_param()"
     ],
     "language": "python",
     "metadata": {},
     "outputs": [
      {
       "html": [
        "\n",
        "        <table>\n",
        "            <tr>\n",
        "                <td></td>\n",
        "                <td>Name</td>\n",
        "                <td>Value</td>\n",
        "                <td>Parab Error</td>\n",
        "                <td>Minos Error-</td>\n",
        "                <td>Minos Error+</td>\n",
        "                <td>Limit-</td>\n",
        "                <td>Limit+</td>\n",
        "                <td>FIXED</td>\n",
        "            </tr>\n",
        "        \n",
        "            <tr>\n",
        "                <td>1</td>\n",
        "                <td>m</td>\n",
        "                <td>1.869087e+00</td>\n",
        "                <td>1.344898e-04</td>\n",
        "                <td>-1.343842e-04</td>\n",
        "                <td>1.346279e-04</td>\n",
        "                <td></td>\n",
        "                <td></td>\n",
        "                <td></td>\n",
        "            </tr>\n",
        "            \n",
        "            <tr>\n",
        "                <td>2</td>\n",
        "                <td>gamma</td>\n",
        "                <td>1.151186e-02</td>\n",
        "                <td>3.003198e-04</td>\n",
        "                <td>-2.959204e-04</td>\n",
        "                <td>3.047154e-04</td>\n",
        "                <td></td>\n",
        "                <td></td>\n",
        "                <td></td>\n",
        "            </tr>\n",
        "            \n",
        "            </table>\n",
        "        "
       ],
       "output_type": "display_data"
      }
     ],
     "prompt_number": 49
    },
    {
     "cell_type": "markdown",
     "metadata": {},
     "source": [
      "###More ComplexPDF\n",
      "\n",
      "Now let's add the background and fit it. Looks like a job for linear + breitwigner."
     ]
    },
    {
     "cell_type": "code",
     "collapsed": false,
     "input": [
      "bound = (1.83,1.91)\n",
      "bgpdf = Normalized(linear,bound)"
     ],
     "language": "python",
     "metadata": {},
     "outputs": [],
     "prompt_number": 50
    },
    {
     "cell_type": "code",
     "collapsed": false,
     "input": [
      "describe(bgpdf)"
     ],
     "language": "python",
     "metadata": {},
     "outputs": [
      {
       "output_type": "pyout",
       "prompt_number": 51,
       "text": [
        "['x', 'm', 'c']"
       ]
      }
     ],
     "prompt_number": 51
    },
    {
     "cell_type": "code",
     "collapsed": false,
     "input": [
      "#remember our breit wigner also has m argument which means different thing\n",
      "describe(rtv_breitwigner)"
     ],
     "language": "python",
     "metadata": {},
     "outputs": [
      {
       "output_type": "pyout",
       "prompt_number": 52,
       "text": [
        "['x', 'm', 'gamma']"
       ]
      }
     ],
     "prompt_number": 52
    },
    {
     "cell_type": "code",
     "collapsed": false,
     "input": [
      "#renaming is easy\n",
      "signalpdf = Normalized(rename(rtv_breitwigner,['x','mass','gamma']),(1.83,1.91))"
     ],
     "language": "python",
     "metadata": {},
     "outputs": [],
     "prompt_number": 53
    },
    {
     "cell_type": "code",
     "collapsed": false,
     "input": [
      "describe(signalpdf)"
     ],
     "language": "python",
     "metadata": {},
     "outputs": [
      {
       "output_type": "pyout",
       "prompt_number": 54,
       "text": [
        "['x', 'mass', 'gamma']"
       ]
      }
     ],
     "prompt_number": 54
    },
    {
     "cell_type": "code",
     "collapsed": false,
     "input": [
      "#now we can add them\n",
      "total_pdf = AddPdfNorm(signalpdf,bgpdf)\n",
      "#if you want to just directly add them up with out the factor(eg. adding extended pdf)\n",
      "#use AddPdf\n",
      "describe(total_pdf)"
     ],
     "language": "python",
     "metadata": {},
     "outputs": [
      {
       "output_type": "pyout",
       "prompt_number": 55,
       "text": [
        "['x', 'mass', 'gamma', 'm', 'c', 'f_0']"
       ]
      }
     ],
     "prompt_number": 55
    },
    {
     "cell_type": "code",
     "collapsed": false,
     "input": [
      "ulh = UnbinnedLH(total_pdf, np.hstack(data.DMass))\n",
      "m = Minuit(ulh, mass=1.87, gamma=0.01, m=0., c=1, f_0=0.7)\n",
      "ulh.show(m)"
     ],
     "language": "python",
     "metadata": {},
     "outputs": [
      {
       "output_type": "stream",
       "stream": "stderr",
       "text": [
        "-c:2: InitialParamWarning: Parameter mass is floating but does not have initial step size. Assume 1.\n",
        "-c:2: InitialParamWarning: Parameter gamma is floating but does not have initial step size. Assume 1.\n",
        "-c:2: InitialParamWarning: Parameter m is floating but does not have initial step size. Assume 1.\n",
        "-c:2: InitialParamWarning: Parameter c is floating but does not have initial step size. Assume 1.\n",
        "-c:2: InitialParamWarning: Parameter f_0 is floating but does not have initial step size. Assume 1.\n"
       ]
      },
      {
       "output_type": "display_data",
       "png": "[encoded data removed]"
      }
     ],
     "prompt_number": 56
    },
    {
     "cell_type": "code",
     "collapsed": false,
     "input": [
      "m.migrad();"
     ],
     "language": "python",
     "metadata": {},
     "outputs": [
      {
       "output_type": "stream",
       "stream": "stderr",
       "text": [
        "-c:1: SmallIntegralWarning: (1.8630708456039429, 1.87, -0.09079225177349604)\n",
        "-c:1: SmallIntegralWarning: (1.8630708456039429, 0.0, -0.007922517734960222)\n"
       ]
      },
      {
       "html": [
        "<hr>"
       ],
       "output_type": "display_data"
      },
      {
       "html": [
        "\n",
        "        <table>\n",
        "            <tr>\n",
        "                <td>FCN = -21505.9979204</td>\n",
        "                <td>NFCN = 248</td>\n",
        "                <td>NCALLS = 248</td>\n",
        "            </tr>\n",
        "            <tr>\n",
        "                <td>EDM = 4.16787410874e-09</td>\n",
        "                <td>GOAL EDM = 5e-06</td>\n",
        "                <td>UP = 0.5</td>\n",
        "            </tr>\n",
        "        </table>\n",
        "        \n",
        "        <table>\n",
        "            <tr>\n",
        "                <td align=\"center\">Valid</td>\n",
        "                <td align=\"center\">Valid Param</td>\n",
        "                <td align=\"center\">Accurate Covar</td>\n",
        "                <td align=\"center\">PosDef</td>\n",
        "                <td align=\"center\">Made PosDef</td>\n",
        "            </tr>\n",
        "            <tr>\n",
        "                <td align=\"center\" style=\"background-color:#92CCA6\">True</td>\n",
        "                <td align=\"center\" style=\"background-color:#92CCA6\">True</td>\n",
        "                <td align=\"center\" style=\"background-color:#92CCA6\">True</td>\n",
        "                <td align=\"center\" style=\"background-color:#92CCA6\">True</td>\n",
        "                <td align=\"center\" style=\"background-color:#92CCA6\">False</td>\n",
        "            </tr>\n",
        "            <tr>\n",
        "                <td align=\"center\">Hesse Fail</td>\n",
        "                <td align=\"center\">HasCov</td>\n",
        "                <td align=\"center\">Above EDM</td>\n",
        "                <td align=\"center\"></td>\n",
        "                <td align=\"center\">Reach calllim</td>\n",
        "            </tr>\n",
        "            <tr>\n",
        "                <td align=\"center\" style=\"background-color:#92CCA6\">False</td>\n",
        "                <td align=\"center\" style=\"background-color:#92CCA6\">True</td>\n",
        "                <td align=\"center\" style=\"background-color:#92CCA6\">False</td>\n",
        "                <td align=\"center\"></td>\n",
        "                <td align=\"center\" style=\"background-color:#92CCA6\">False</td>\n",
        "            </tr>\n",
        "        </table>\n",
        "        "
       ],
       "output_type": "display_data"
      },
      {
       "html": [
        "\n",
        "        <table>\n",
        "            <tr>\n",
        "                <td></td>\n",
        "                <td>Name</td>\n",
        "                <td>Value</td>\n",
        "                <td>Parab Error</td>\n",
        "                <td>Minos Error-</td>\n",
        "                <td>Minos Error+</td>\n",
        "                <td>Limit-</td>\n",
        "                <td>Limit+</td>\n",
        "                <td>FIXED</td>\n",
        "            </tr>\n",
        "        \n",
        "            <tr>\n",
        "                <td>1</td>\n",
        "                <td>mass</td>\n",
        "                <td>1.869398e+00</td>\n",
        "                <td>1.414321e-04</td>\n",
        "                <td>0.000000e+00</td>\n",
        "                <td>0.000000e+00</td>\n",
        "                <td></td>\n",
        "                <td></td>\n",
        "                <td></td>\n",
        "            </tr>\n",
        "            \n",
        "            <tr>\n",
        "                <td>2</td>\n",
        "                <td>gamma</td>\n",
        "                <td>1.081224e-02</td>\n",
        "                <td>3.908496e-04</td>\n",
        "                <td>0.000000e+00</td>\n",
        "                <td>0.000000e+00</td>\n",
        "                <td></td>\n",
        "                <td></td>\n",
        "                <td></td>\n",
        "            </tr>\n",
        "            \n",
        "            <tr>\n",
        "                <td>3</td>\n",
        "                <td>m</td>\n",
        "                <td>-4.677901e-01</td>\n",
        "                <td>3.999174e-02</td>\n",
        "                <td>0.000000e+00</td>\n",
        "                <td>0.000000e+00</td>\n",
        "                <td></td>\n",
        "                <td></td>\n",
        "                <td></td>\n",
        "            </tr>\n",
        "            \n",
        "            <tr>\n",
        "                <td>4</td>\n",
        "                <td>c</td>\n",
        "                <td>1.041123e+00</td>\n",
        "                <td>8.896113e-02</td>\n",
        "                <td>0.000000e+00</td>\n",
        "                <td>0.000000e+00</td>\n",
        "                <td></td>\n",
        "                <td></td>\n",
        "                <td></td>\n",
        "            </tr>\n",
        "            \n",
        "            <tr>\n",
        "                <td>5</td>\n",
        "                <td>f_0</td>\n",
        "                <td>5.347971e-01</td>\n",
        "                <td>1.279253e-02</td>\n",
        "                <td>0.000000e+00</td>\n",
        "                <td>0.000000e+00</td>\n",
        "                <td></td>\n",
        "                <td></td>\n",
        "                <td></td>\n",
        "            </tr>\n",
        "            \n",
        "            </table>\n",
        "        "
       ],
       "output_type": "display_data"
      },
      {
       "html": [
        "<hr>"
       ],
       "output_type": "display_data"
      }
     ],
     "prompt_number": 57
    },
    {
     "cell_type": "code",
     "collapsed": false,
     "input": [
      "ulh.show(m, parts=True)"
     ],
     "language": "python",
     "metadata": {},
     "outputs": [
      {
       "output_type": "display_data",
       "png": "[encoded data removed]"
      }
     ],
     "prompt_number": 58
    },
    {
     "cell_type": "code",
     "collapsed": false,
     "input": [
      "m.print_matrix()"
     ],
     "language": "python",
     "metadata": {},
     "outputs": [
      {
       "html": [
        "\n",
        "            <table>\n",
        "                <tr>\n",
        "                    <td></td>\n",
        "        \n",
        "            <td>\n",
        "            <span style=\"-webkit-writing-mode:vertical-rl;-moz-writing-mode: vertical-rl;writing-mode: vertical-rl;\">\n",
        "            mass\n",
        "            </span>\n",
        "            </td>\n",
        "            \n",
        "            <td>\n",
        "            <span style=\"-webkit-writing-mode:vertical-rl;-moz-writing-mode: vertical-rl;writing-mode: vertical-rl;\">\n",
        "            gamma\n",
        "            </span>\n",
        "            </td>\n",
        "            \n",
        "            <td>\n",
        "            <span style=\"-webkit-writing-mode:vertical-rl;-moz-writing-mode: vertical-rl;writing-mode: vertical-rl;\">\n",
        "            m\n",
        "            </span>\n",
        "            </td>\n",
        "            \n",
        "            <td>\n",
        "            <span style=\"-webkit-writing-mode:vertical-rl;-moz-writing-mode: vertical-rl;writing-mode: vertical-rl;\">\n",
        "            c\n",
        "            </span>\n",
        "            </td>\n",
        "            \n",
        "            <td>\n",
        "            <span style=\"-webkit-writing-mode:vertical-rl;-moz-writing-mode: vertical-rl;writing-mode: vertical-rl;\">\n",
        "            f_0\n",
        "            </span>\n",
        "            </td>\n",
        "            \n",
        "                </tr>\n",
        "                \n",
        "            <tr>\n",
        "                <td>mass</td>\n",
        "            \n",
        "                <td style=\"background-color:rgb(255,117,117)\">\n",
        "                1.00\n",
        "                </td>\n",
        "                \n",
        "                <td style=\"background-color:rgb(165,252,185)\">\n",
        "                -0.02\n",
        "                </td>\n",
        "                \n",
        "                <td style=\"background-color:rgb(168,247,182)\">\n",
        "                -0.05\n",
        "                </td>\n",
        "                \n",
        "                <td style=\"background-color:rgb(168,247,183)\">\n",
        "                -0.05\n",
        "                </td>\n",
        "                \n",
        "                <td style=\"background-color:rgb(165,251,185)\">\n",
        "                -0.02\n",
        "                </td>\n",
        "                \n",
        "            </tr>\n",
        "            \n",
        "            <tr>\n",
        "                <td>gamma</td>\n",
        "            \n",
        "                <td style=\"background-color:rgb(165,252,185)\">\n",
        "                -0.02\n",
        "                </td>\n",
        "                \n",
        "                <td style=\"background-color:rgb(255,117,117)\">\n",
        "                1.00\n",
        "                </td>\n",
        "                \n",
        "                <td style=\"background-color:rgb(163,253,186)\">\n",
        "                -0.01\n",
        "                </td>\n",
        "                \n",
        "                <td style=\"background-color:rgb(163,253,186)\">\n",
        "                -0.01\n",
        "                </td>\n",
        "                \n",
        "                <td style=\"background-color:rgb(219,171,144)\">\n",
        "                0.61\n",
        "                </td>\n",
        "                \n",
        "            </tr>\n",
        "            \n",
        "            <tr>\n",
        "                <td>m</td>\n",
        "            \n",
        "                <td style=\"background-color:rgb(168,247,182)\">\n",
        "                -0.05\n",
        "                </td>\n",
        "                \n",
        "                <td style=\"background-color:rgb(163,253,186)\">\n",
        "                -0.01\n",
        "                </td>\n",
        "                \n",
        "                <td style=\"background-color:rgb(255,117,117)\">\n",
        "                1.00\n",
        "                </td>\n",
        "                \n",
        "                <td style=\"background-color:rgb(241,137,127)\">\n",
        "                -0.85\n",
        "                </td>\n",
        "                \n",
        "                <td style=\"background-color:rgb(163,253,186)\">\n",
        "                -0.00\n",
        "                </td>\n",
        "                \n",
        "            </tr>\n",
        "            \n",
        "            <tr>\n",
        "                <td>c</td>\n",
        "            \n",
        "                <td style=\"background-color:rgb(168,247,183)\">\n",
        "                -0.05\n",
        "                </td>\n",
        "                \n",
        "                <td style=\"background-color:rgb(163,253,186)\">\n",
        "                -0.01\n",
        "                </td>\n",
        "                \n",
        "                <td style=\"background-color:rgb(241,137,127)\">\n",
        "                -0.85\n",
        "                </td>\n",
        "                \n",
        "                <td style=\"background-color:rgb(255,117,117)\">\n",
        "                1.00\n",
        "                </td>\n",
        "                \n",
        "                <td style=\"background-color:rgb(163,254,186)\">\n",
        "                -0.00\n",
        "                </td>\n",
        "                \n",
        "            </tr>\n",
        "            \n",
        "            <tr>\n",
        "                <td>f_0</td>\n",
        "            \n",
        "                <td style=\"background-color:rgb(165,251,185)\">\n",
        "                -0.02\n",
        "                </td>\n",
        "                \n",
        "                <td style=\"background-color:rgb(219,171,144)\">\n",
        "                0.61\n",
        "                </td>\n",
        "                \n",
        "                <td style=\"background-color:rgb(163,253,186)\">\n",
        "                -0.00\n",
        "                </td>\n",
        "                \n",
        "                <td style=\"background-color:rgb(163,254,186)\">\n",
        "                -0.00\n",
        "                </td>\n",
        "                \n",
        "                <td style=\"background-color:rgb(255,117,117)\">\n",
        "                1.00\n",
        "                </td>\n",
        "                \n",
        "            </tr>\n",
        "            </table>"
       ],
       "output_type": "display_data"
      }
     ],
     "prompt_number": 59
    },
    {
     "cell_type": "code",
     "collapsed": false,
     "input": [
      "#not exactly minos profile just a simple scan;\n",
      "#the green band shows minimum value +- up (which is 1 sigma)\n",
      "m.draw_profile('mass');"
     ],
     "language": "python",
     "metadata": {},
     "outputs": [
      {
       "output_type": "display_data",
       "png": "[encoded data removed]"
      }
     ],
     "prompt_number": 65
    },
    {
     "cell_type": "code",
     "collapsed": false,
     "input": [
      "m.draw_contour('mass','f_0', show_sigma=False);\n",
      "#not exactly minos contour though just a 2d scan\n",
      "#Matt Bellis already signed up for this task.;"
     ],
     "language": "python",
     "metadata": {},
     "outputs": [
      {
       "output_type": "display_data",
       "png": "[encoded data removed]"
      }
     ],
     "prompt_number": 61
    },
    {
     "cell_type": "markdown",
     "metadata": {},
     "source": [
      "####Note on complex PDF\n",
      "There is nothing preventing you from doing something like this:\n",
      "```\n",
      "def mypdf(x,mass, gamma, m, c, f_0):\n",
      "    return brietwigner(x, mass, gamma) + f_0*(m*x+c)/normalization\n",
      "ulh=UnbinnedLH(mypdf, data)\n",
      "m=Minuit(ulh, **initial_values)\n",
      "m.migrad()\n",
      "```\n",
      "\n",
      "If your PDF is more complicated than what you can do with AddPDF and AddPDFNorm. It might be\n",
      "easier to write it out manually."
     ]
    },
    {
     "cell_type": "markdown",
     "metadata": {},
     "source": [
      "###Simultaneous Fit\n",
      "Let try to simultaneous fit 2 gaussians with the same width but different mean."
     ]
    },
    {
     "cell_type": "code",
     "collapsed": false,
     "input": [
      "from probfit import SimultaneousFit"
     ],
     "language": "python",
     "metadata": {},
     "outputs": [],
     "prompt_number": 62
    },
    {
     "cell_type": "code",
     "collapsed": false,
     "input": [
      "data1 = randn(10000)\n",
      "data2 = randn(10000)+10\n",
      "hist([data1,data2], histtype='step', bins=100);"
     ],
     "language": "python",
     "metadata": {},
     "outputs": [
      {
       "output_type": "display_data",
       "png": "[encoded data removed]"
      }
     ],
     "prompt_number": 63
    },
    {
     "cell_type": "code",
     "collapsed": false,
     "input": [
      "#note here that they share the same sigma\n",
      "g1 = rename(gaussian, ['x','mu1','sigma'])\n",
      "g2 = rename(gaussian, ['x','mu2','sigma'])\n",
      "print describe(g1)\n",
      "print describe(g2)"
     ],
     "language": "python",
     "metadata": {},
     "outputs": [
      {
       "output_type": "stream",
       "stream": "stdout",
       "text": [
        "['x', 'mu1', 'sigma']\n",
        "['x', 'mu2', 'sigma']\n"
       ]
      }
     ],
     "prompt_number": 64
    },
    {
     "cell_type": "code",
     "collapsed": false,
     "input": [
      "#make two likelihood and them up\n",
      "ulh1 = UnbinnedLH(g1,data1)\n",
      "ulh2 = UnbinnedLH(g2,data2)\n",
      "sim = SimultaneousFit(ulh1,ulh2)\n",
      "print describe(sim) #note the sigma merge"
     ],
     "language": "python",
     "metadata": {},
     "outputs": []
    },
    {
     "cell_type": "code",
     "collapsed": false,
     "input": [
      "sim.draw(args=(0.5, 1.5, 10.5))"
     ],
     "language": "python",
     "metadata": {},
     "outputs": []
    },
    {
     "cell_type": "code",
     "collapsed": false,
     "input": [
      "m = Minuit(sim, mu1=0.5, sigma=1.5, mu2=10.5)"
     ],
     "language": "python",
     "metadata": {},
     "outputs": []
    },
    {
     "cell_type": "code",
     "collapsed": false,
     "input": [
      "m.migrad();"
     ],
     "language": "python",
     "metadata": {},
     "outputs": []
    },
    {
     "cell_type": "code",
     "collapsed": false,
     "input": [
      "sim.show(m)"
     ],
     "language": "python",
     "metadata": {},
     "outputs": []
    },
    {
     "cell_type": "markdown",
     "metadata": {},
     "source": [
      "####Note on simultaneous fit\n",
      "Again there is nothing preventing you from doing\n",
      "<code>\n",
      "def my_cost_function(mu1, mu2, sigma):\n",
      "    return ulh1(mu1,sigma)+ulh2(mu2.sigma)\n",
      "\n",
      "m=Minuit(my_cost_function, **initial_values)\n",
      "m.migrad()\n",
      "</code>\n",
      "\n",
      "If your cost function is more complex than adding them together this is the to do it."
     ]
    },
    {
     "cell_type": "markdown",
     "metadata": {},
     "source": [
      "###Toy generation.\n",
      "This is invert CDF implementation (not accept reject). Large overhead but fast element-wise. Anyone want to signup for accept/reject?"
     ]
    },
    {
     "cell_type": "code",
     "collapsed": false,
     "input": [
      "from probfit import gen_toy"
     ],
     "language": "python",
     "metadata": {},
     "outputs": []
    },
    {
     "cell_type": "code",
     "collapsed": false,
     "input": [
      "toy = gen_toy(total_pdf, 1000, (1.83,1.91), mass=1.87, gamma=0.01, c=1.045, m=-0.43, f_0=0.5, quiet=False)"
     ],
     "language": "python",
     "metadata": {},
     "outputs": []
    },
    {
     "cell_type": "code",
     "collapsed": false,
     "input": [
      "hist(toy, bins=100, histtype='step');"
     ],
     "language": "python",
     "metadata": {},
     "outputs": []
    },
    {
     "cell_type": "code",
     "collapsed": false,
     "input": [
      "ulh = UnbinnedLH(total_pdf, toy)\n",
      "m = Minuit(ulh, mass=1.87, gamma=0.01, c=1.045, m=-0.43, f_0=0.5)\n",
      "m.migrad();\n",
      "ulh.show(m)"
     ],
     "language": "python",
     "metadata": {},
     "outputs": []
    },
    {
     "cell_type": "markdown",
     "metadata": {},
     "source": [
      "####Tips\n",
      "\n",
      "A lot of time you want to generate toy from fitted parameters. Retyping/Repeating yourself is not the best use of time. Use python dictionary expansion."
     ]
    },
    {
     "cell_type": "code",
     "collapsed": false,
     "input": [
      "m.fitarg"
     ],
     "language": "python",
     "metadata": {},
     "outputs": []
    },
    {
     "cell_type": "code",
     "collapsed": false,
     "input": [
      "toy = gen_toy(total_pdf, 1000, (1.83,1.91), quiet=False, **m.fitarg)#note the double star"
     ],
     "language": "python",
     "metadata": {},
     "outputs": []
    },
    {
     "cell_type": "markdown",
     "metadata": {},
     "source": [
      "####Saving/Loading your toy\n",
      "using np.save"
     ]
    },
    {
     "cell_type": "code",
     "collapsed": false,
     "input": [
      "np.save('mytoy.npy', toy)"
     ],
     "language": "python",
     "metadata": {},
     "outputs": []
    },
    {
     "cell_type": "code",
     "collapsed": false,
     "input": [
      "loaded_toy = np.load('mytoy.npy')\n",
      "hist(loaded_toy, bins=100, histtype='step');"
     ],
     "language": "python",
     "metadata": {},
     "outputs": []
    },
    {
     "cell_type": "markdown",
     "metadata": {},
     "source": [
      "###Recipe\n",
      "I won't cover it but just something you may find useful.\n",
      "\n",
      "- Using Cython to write pdf for speed\n",
      "- Checking convergence programatically\n",
      "- Saving and reusing fit argument"
     ]
    },
    {
     "cell_type": "markdown",
     "metadata": {},
     "source": [
      "####Using Cython\n",
      "\n",
      "Skip this part if you don't have cython\n",
      "\n",
      "A much more comprehensive example of how to use cython is provided in iminuit [hard core tutorial](http://nbviewer.ipython.org/urls/raw.github.com/iminuit/iminuit/master/tutorial/hard-core-tutorial.ipynb). We will show a simple example here."
     ]
    },
    {
     "cell_type": "code",
     "collapsed": false,
     "input": [
      "%load_ext cythonmagic"
     ],
     "language": "python",
     "metadata": {},
     "outputs": []
    },
    {
     "cell_type": "code",
     "collapsed": false,
     "input": [
      "%%cython\n",
      "from libc.math cimport sqrt\n",
      "cimport cython\n",
      "\n",
      "cdef double pi = 3.14159265358979323846264338327\n",
      "\n",
      "@cython.embedsignature #you need this or experimental @cython.binding.\n",
      "cpdef double cython_bw(double x, double m, double gamma):\n",
      "    cdef double mm = m*m\n",
      "    cdef double xm = x*x-mm\n",
      "    cdef double gg = gamma*gamma\n",
      "    cdef double s = sqrt(mm*(mm+gg))\n",
      "    cdef double N = (2*sqrt(2)/pi)*m*gamma*s/sqrt(mm+s)\n",
      "    return N/(xm*xm+mm*gg)"
     ],
     "language": "python",
     "metadata": {},
     "outputs": []
    },
    {
     "cell_type": "code",
     "collapsed": false,
     "input": [
      "cython_bw(1,2,3)"
     ],
     "language": "python",
     "metadata": {},
     "outputs": []
    },
    {
     "cell_type": "code",
     "collapsed": false,
     "input": [
      "from probfit import describe\n",
      "describe(cython_bw)"
     ],
     "language": "python",
     "metadata": {},
     "outputs": []
    },
    {
     "cell_type": "code",
     "collapsed": false,
     "input": [
      "ulh = UnbinnedLH(cython_bw, bb_dmass)"
     ],
     "language": "python",
     "metadata": {},
     "outputs": []
    },
    {
     "cell_type": "code",
     "collapsed": false,
     "input": [
      "m = Minuit(ulh, m=1.875, gamma = 0.01)\n",
      "ulh.show(m)"
     ],
     "language": "python",
     "metadata": {},
     "outputs": [
      {
       "output_type": "stream",
       "stream": "stderr",
       "text": [
        "-c:1: InitialParamWarning: Parameter mass does not have initial value. Assume 0.\n",
        "-c:1: InitialParamWarning: Parameter mass is floating but does not have initial step size. Assume 1.\n",
        "-c:1: InitialParamWarning: Parameter gamma is floating but does not have initial step size. Assume 1.\n",
        "-c:1: InitialParamWarning: Parameter m is floating but does not have initial step size. Assume 1.\n",
        "-c:1: InitialParamWarning: Parameter c does not have initial value. Assume 0.\n",
        "-c:1: InitialParamWarning: Parameter c is floating but does not have initial step size. Assume 1.\n",
        "-c:1: InitialParamWarning: Parameter f_0 does not have initial value. Assume 0.\n",
        "-c:1: InitialParamWarning: Parameter f_0 is floating but does not have initial step size. Assume 1.\n",
        "Exception "
       ]
      },
      {
       "ename": "ZeroDivisionError",
       "evalue": "float division",
       "output_type": "pyerr",
       "traceback": [
        "\u001b[1;31m---------------------------------------------------------------------------\u001b[0m\n\u001b[1;31mZeroDivisionError\u001b[0m                         Traceback (most recent call last)",
        "\u001b[1;32m<ipython-input-62-2f43a2141adf>\u001b[0m in \u001b[0;36m<module>\u001b[1;34m()\u001b[0m\n\u001b[0;32m      1\u001b[0m \u001b[0mm\u001b[0m \u001b[1;33m=\u001b[0m \u001b[0mMinuit\u001b[0m\u001b[1;33m(\u001b[0m\u001b[0mulh\u001b[0m\u001b[1;33m,\u001b[0m \u001b[0mm\u001b[0m\u001b[1;33m=\u001b[0m\u001b[1;36m1.875\u001b[0m\u001b[1;33m,\u001b[0m \u001b[0mgamma\u001b[0m \u001b[1;33m=\u001b[0m \u001b[1;36m0.01\u001b[0m\u001b[1;33m)\u001b[0m\u001b[1;33m\u001b[0m\u001b[0m\n\u001b[1;32m----> 2\u001b[1;33m \u001b[0mulh\u001b[0m\u001b[1;33m.\u001b[0m\u001b[0mshow\u001b[0m\u001b[1;33m(\u001b[0m\u001b[0mm\u001b[0m\u001b[1;33m)\u001b[0m\u001b[1;33m\u001b[0m\u001b[0m\n\u001b[0m",
        "\u001b[1;32m/nfs/data2/babar/software64/lib/python2.7/site-packages/probfit/costfunc.so\u001b[0m in \u001b[0;36mprobfit.costfunc.UnbinnedLH.show (probfit/costfunc.c:3990)\u001b[1;34m()\u001b[0m\n",
        "\u001b[1;32m/nfs/data2/babar/software64/lib/python2.7/site-packages/probfit/costfunc.so\u001b[0m in \u001b[0;36mprobfit.costfunc.UnbinnedLH.draw (probfit/costfunc.c:3856)\u001b[1;34m()\u001b[0m\n",
        "\u001b[1;32m/nfs/data2/babar/software64/lib/python2.7/site-packages/probfit/plotting.pyc\u001b[0m in \u001b[0;36mdraw_ulh\u001b[1;34m(self, minuit, bins, ax, bound, parmloc, nfbins, print_par, args, errors, parts)\u001b[0m\n\u001b[0;32m     78\u001b[0m \u001b[1;33m\u001b[0m\u001b[0m\n\u001b[0;32m     79\u001b[0m     draw_pdf(self.f, arg, bound, bins=nfbins, density=True,\n\u001b[1;32m---> 80\u001b[1;33m                     **dict(draw_arg))\n\u001b[0m\u001b[0;32m     81\u001b[0m \u001b[1;33m\u001b[0m\u001b[0m\n\u001b[0;32m     82\u001b[0m     \u001b[1;32mif\u001b[0m \u001b[0mparts\u001b[0m\u001b[1;33m:\u001b[0m\u001b[1;33m\u001b[0m\u001b[0m\n",
        "\u001b[1;32m/nfs/data2/babar/software64/lib/python2.7/site-packages/probfit/plotting.pyc\u001b[0m in \u001b[0;36mdraw_pdf\u001b[1;34m(f, arg, bound, bins, scale, density, **kwds)\u001b[0m\n\u001b[0;32m    258\u001b[0m     \u001b[0medges\u001b[0m \u001b[1;33m=\u001b[0m \u001b[0mnp\u001b[0m\u001b[1;33m.\u001b[0m\u001b[0mlinspace\u001b[0m\u001b[1;33m(\u001b[0m\u001b[0mbound\u001b[0m\u001b[1;33m[\u001b[0m\u001b[1;36m0\u001b[0m\u001b[1;33m]\u001b[0m\u001b[1;33m,\u001b[0m \u001b[0mbound\u001b[0m\u001b[1;33m[\u001b[0m\u001b[1;36m1\u001b[0m\u001b[1;33m]\u001b[0m\u001b[1;33m,\u001b[0m \u001b[0mbins\u001b[0m\u001b[1;33m)\u001b[0m\u001b[1;33m\u001b[0m\u001b[0m\n\u001b[0;32m    259\u001b[0m     return draw_pdf_with_edges(f, arg, edges, scale=scale,\n\u001b[1;32m--> 260\u001b[1;33m                                 density=density, **kwds)\n\u001b[0m\u001b[0;32m    261\u001b[0m \u001b[1;33m\u001b[0m\u001b[0m\n\u001b[0;32m    262\u001b[0m \u001b[1;33m\u001b[0m\u001b[0m\n",
        "\u001b[1;32m/nfs/data2/babar/software64/lib/python2.7/site-packages/probfit/plotting.pyc\u001b[0m in \u001b[0;36mdraw_pdf_with_edges\u001b[1;34m(f, arg, edges, scale, density, **kwds)\u001b[0m\n\u001b[0;32m    265\u001b[0m     \u001b[0mbw\u001b[0m \u001b[1;33m=\u001b[0m \u001b[0mnp\u001b[0m\u001b[1;33m.\u001b[0m\u001b[0mdiff\u001b[0m\u001b[1;33m(\u001b[0m\u001b[0medges\u001b[0m\u001b[1;33m)\u001b[0m\u001b[1;33m\u001b[0m\u001b[0m\n\u001b[0;32m    266\u001b[0m     \u001b[0mscale\u001b[0m \u001b[1;33m*=\u001b[0m \u001b[0mbw\u001b[0m \u001b[1;32mif\u001b[0m \u001b[1;32mnot\u001b[0m \u001b[0mdensity\u001b[0m \u001b[1;32melse\u001b[0m \u001b[1;36m1.\u001b[0m\u001b[1;33m\u001b[0m\u001b[0m\n\u001b[1;32m--> 267\u001b[1;33m     \u001b[1;32mreturn\u001b[0m \u001b[0mdraw_pdf_with_midpoints\u001b[0m\u001b[1;33m(\u001b[0m\u001b[0mf\u001b[0m\u001b[1;33m,\u001b[0m \u001b[0marg\u001b[0m\u001b[1;33m,\u001b[0m \u001b[0mx\u001b[0m\u001b[1;33m,\u001b[0m \u001b[0mscale\u001b[0m\u001b[1;33m=\u001b[0m\u001b[0mscale\u001b[0m\u001b[1;33m,\u001b[0m \u001b[1;33m**\u001b[0m\u001b[0mkwds\u001b[0m\u001b[1;33m)\u001b[0m\u001b[1;33m\u001b[0m\u001b[0m\n\u001b[0m\u001b[0;32m    268\u001b[0m \u001b[1;33m\u001b[0m\u001b[0m\n\u001b[0;32m    269\u001b[0m \u001b[1;33m\u001b[0m\u001b[0m\n",
        "\u001b[1;32m/nfs/data2/babar/software64/lib/python2.7/site-packages/probfit/plotting.pyc\u001b[0m in \u001b[0;36mdraw_pdf_with_midpoints\u001b[1;34m(f, arg, x, scale, **kwds)\u001b[0m\n\u001b[0;32m    270\u001b[0m \u001b[1;32mdef\u001b[0m \u001b[0mdraw_pdf_with_midpoints\u001b[0m\u001b[1;33m(\u001b[0m\u001b[0mf\u001b[0m\u001b[1;33m,\u001b[0m \u001b[0marg\u001b[0m\u001b[1;33m,\u001b[0m \u001b[0mx\u001b[0m\u001b[1;33m,\u001b[0m \u001b[0mscale\u001b[0m\u001b[1;33m=\u001b[0m\u001b[1;36m1.0\u001b[0m\u001b[1;33m,\u001b[0m \u001b[1;33m**\u001b[0m\u001b[0mkwds\u001b[0m\u001b[1;33m)\u001b[0m\u001b[1;33m:\u001b[0m\u001b[1;33m\u001b[0m\u001b[0m\n\u001b[0;32m    271\u001b[0m     \u001b[1;32mif\u001b[0m \u001b[0misinstance\u001b[0m\u001b[1;33m(\u001b[0m\u001b[0marg\u001b[0m\u001b[1;33m,\u001b[0m \u001b[0mdict\u001b[0m\u001b[1;33m)\u001b[0m\u001b[1;33m:\u001b[0m \u001b[0marg\u001b[0m \u001b[1;33m=\u001b[0m \u001b[0mparse_arg\u001b[0m\u001b[1;33m(\u001b[0m\u001b[0mf\u001b[0m\u001b[1;33m,\u001b[0m \u001b[0marg\u001b[0m\u001b[1;33m,\u001b[0m \u001b[1;36m1\u001b[0m\u001b[1;33m)\u001b[0m\u001b[1;33m\u001b[0m\u001b[0m\n\u001b[1;32m--> 272\u001b[1;33m     \u001b[0myf\u001b[0m \u001b[1;33m=\u001b[0m \u001b[0mvector_apply\u001b[0m\u001b[1;33m(\u001b[0m\u001b[0mf\u001b[0m\u001b[1;33m,\u001b[0m \u001b[0mx\u001b[0m\u001b[1;33m,\u001b[0m \u001b[1;33m*\u001b[0m\u001b[0marg\u001b[0m\u001b[1;33m)\u001b[0m\u001b[1;33m\u001b[0m\u001b[0m\n\u001b[0m\u001b[0;32m    273\u001b[0m     \u001b[0myf\u001b[0m \u001b[1;33m*=\u001b[0m \u001b[0mscale\u001b[0m\u001b[1;33m\u001b[0m\u001b[0m\n\u001b[0;32m    274\u001b[0m     \u001b[0mplt\u001b[0m\u001b[1;33m.\u001b[0m\u001b[0mplot\u001b[0m\u001b[1;33m(\u001b[0m\u001b[0mx\u001b[0m\u001b[1;33m,\u001b[0m \u001b[0myf\u001b[0m\u001b[1;33m,\u001b[0m \u001b[1;33m**\u001b[0m\u001b[0mkwds\u001b[0m\u001b[1;33m)\u001b[0m\u001b[1;33m\u001b[0m\u001b[0m\n",
        "\u001b[1;32m/nfs/data2/babar/software64/lib/python2.7/site-packages/probfit/nputil.pyc\u001b[0m in \u001b[0;36mvector_apply\u001b[1;34m(f, x, *arg)\u001b[0m\n\u001b[0;32m     23\u001b[0m     \u001b[0museful\u001b[0m \u001b[0mwhen\u001b[0m \u001b[0myou\u001b[0m \u001b[1;32mtry\u001b[0m \u001b[0mto\u001b[0m \u001b[0mplot\u001b[0m \u001b[0msomething\u001b[0m\u001b[1;33m\u001b[0m\u001b[0m\n\u001b[0;32m     24\u001b[0m     \"\"\"\n\u001b[1;32m---> 25\u001b[1;33m     \u001b[1;32mreturn\u001b[0m \u001b[0m_vector_apply\u001b[0m\u001b[1;33m(\u001b[0m\u001b[0mf\u001b[0m\u001b[1;33m,\u001b[0m\u001b[0mx\u001b[0m\u001b[1;33m,\u001b[0m\u001b[0marg\u001b[0m\u001b[1;33m)\u001b[0m\u001b[1;33m\u001b[0m\u001b[0m\n\u001b[0m",
        "\u001b[1;32m/nfs/data2/babar/software64/lib/python2.7/site-packages/probfit/_libstat.so\u001b[0m in \u001b[0;36mprobfit._libstat._vector_apply (probfit/_libstat.c:1543)\u001b[1;34m()\u001b[0m\n",
        "\u001b[1;32m/nfs/data2/babar/software64/lib/python2.7/site-packages/probfit/_libstat.so\u001b[0m in \u001b[0;36mprobfit._libstat._vector_apply (probfit/_libstat.c:1378)\u001b[1;34m()\u001b[0m\n",
        "\u001b[1;32m/nfs/data2/babar/software64/lib/python2.7/site-packages/probfit/functor.so\u001b[0m in \u001b[0;36mprobfit.functor.AddPdfNorm.__call__ (probfit/functor.c:6136)\u001b[1;34m()\u001b[0m\n",
        "\u001b[1;32m/nfs/data2/babar/software64/lib/python2.7/site-packages/probfit/functor.so\u001b[0m in \u001b[0;36mprobfit.functor.Normalized.__call__ (probfit/functor.c:7547)\u001b[1;34m()\u001b[0m\n",
        "\u001b[1;31mZeroDivisionError\u001b[0m: float division"
       ]
      },
      {
       "output_type": "stream",
       "stream": "stderr",
       "text": [
        "ZeroDivisionError: 'float division' in 'probfit.pdf.rtv_breitwigner' ignored\n",
        "Exception ZeroDivisionError: 'float division' in 'probfit.pdf.rtv_breitwigner' ignored\n",
        "Exception ZeroDivisionError: 'float division' in 'probfit.pdf.rtv_breitwigner' ignored\n",
        "Exception ZeroDivisionError: 'float division' in 'probfit.pdf.rtv_breitwigner' ignored\n",
        "Exception ZeroDivisionError: 'float division' in 'probfit.pdf.rtv_breitwigner' ignored\n",
        "Exception ZeroDivisionError: 'float division' in 'probfit.pdf.rtv_breitwigner' ignored\n",
        "Exception ZeroDivisionError: 'float division' in 'probfit.pdf.rtv_breitwigner' ignored\n",
        "Exception ZeroDivisionError: 'float division' in 'probfit.pdf.rtv_breitwigner' ignored\n",
        "Exception ZeroDivisionError: 'float division' in 'probfit.pdf.rtv_breitwigner' ignored\n",
        "Exception ZeroDivisionError: 'float division' in 'probfit.pdf.rtv_breitwigner' ignored\n",
        "Exception ZeroDivisionError: 'float division' in 'probfit.pdf.rtv_breitwigner' ignored\n",
        "Exception ZeroDivisionError: 'float division' in 'probfit.pdf.rtv_breitwigner' ignored\n",
        "Exception ZeroDivisionError: 'float division' in 'probfit.pdf.rtv_breitwigner' ignored\n",
        "Exception ZeroDivisionError: 'float division' in 'probfit.pdf.rtv_breitwigner' ignored\n",
        "Exception ZeroDivisionError: 'float division' in 'probfit.pdf.rtv_breitwigner' ignored\n",
        "Exception ZeroDivisionError: 'float division' in 'probfit.pdf.rtv_breitwigner' ignored\n",
        "Exception ZeroDivisionError: 'float division' in 'probfit.pdf.rtv_breitwigner' ignored\n",
        "Exception ZeroDivisionError: 'float division' in 'probfit.pdf.rtv_breitwigner' ignored\n",
        "Exception ZeroDivisionError: 'float division' in 'probfit.pdf.rtv_breitwigner' ignored\n",
        "Exception ZeroDivisionError: 'float division' in 'probfit.pdf.rtv_breitwigner' ignored\n",
        "Exception ZeroDivisionError: 'float division' in 'probfit.pdf.rtv_breitwigner' ignored\n",
        "Exception ZeroDivisionError: 'float division' in 'probfit.pdf.rtv_breitwigner' ignored\n",
        "Exception ZeroDivisionError: 'float division' in 'probfit.pdf.rtv_breitwigner' ignored\n",
        "Exception ZeroDivisionError: 'float division' in 'probfit.pdf.rtv_breitwigner' ignored\n",
        "Exception ZeroDivisionError: 'float division' in 'probfit.pdf.rtv_breitwigner' ignored\n",
        "Exception ZeroDivisionError: 'float division' in 'probfit.pdf.rtv_breitwigner' ignored\n",
        "Exception ZeroDivisionError: 'float division' in 'probfit.pdf.rtv_breitwigner' ignored\n",
        "Exception ZeroDivisionError: 'float division' in 'probfit.pdf.rtv_breitwigner' ignored\n",
        "Exception ZeroDivisionError: 'float division' in 'probfit.pdf.rtv_breitwigner' ignored\n",
        "Exception ZeroDivisionError: 'float division' in 'probfit.pdf.rtv_breitwigner' ignored\n",
        "Exception ZeroDivisionError: 'float division' in 'probfit.pdf.rtv_breitwigner' ignored\n",
        "Exception ZeroDivisionError: 'float division' in 'probfit.pdf.rtv_breitwigner' ignored\n",
        "Exception ZeroDivisionError: 'float division' in 'probfit.pdf.rtv_breitwigner' ignored\n",
        "Exception ZeroDivisionError: 'float division' in 'probfit.pdf.rtv_breitwigner' ignored\n",
        "Exception ZeroDivisionError: 'float division' in 'probfit.pdf.rtv_breitwigner' ignored\n",
        "Exception ZeroDivisionError: 'float division' in 'probfit.pdf.rtv_breitwigner' ignored\n",
        "Exception ZeroDivisionError: 'float division' in 'probfit.pdf.rtv_breitwigner' ignored\n",
        "Exception ZeroDivisionError: 'float division' in 'probfit.pdf.rtv_breitwigner' ignored\n",
        "Exception ZeroDivisionError: 'float division' in 'probfit.pdf.rtv_breitwigner' ignored\n",
        "Exception ZeroDivisionError: 'float division' in 'probfit.pdf.rtv_breitwigner' ignored\n",
        "Exception ZeroDivisionError: 'float division' in 'probfit.pdf.rtv_breitwigner' ignored\n",
        "Exception ZeroDivisionError: 'float division' in 'probfit.pdf.rtv_breitwigner' ignored\n",
        "Exception ZeroDivisionError: 'float division' in 'probfit.pdf.rtv_breitwigner' ignored\n",
        "Exception ZeroDivisionError: 'float division' in 'probfit.pdf.rtv_breitwigner' ignored\n",
        "Exception ZeroDivisionError: 'float division' in 'probfit.pdf.rtv_breitwigner' ignored\n",
        "Exception ZeroDivisionError: 'float division' in 'probfit.pdf.rtv_breitwigner' ignored\n",
        "Exception ZeroDivisionError: 'float division' in 'probfit.pdf.rtv_breitwigner' ignored\n",
        "Exception ZeroDivisionError: 'float division' in 'probfit.pdf.rtv_breitwigner' ignored\n",
        "Exception ZeroDivisionError: 'float division' in 'probfit.pdf.rtv_breitwigner' ignored\n",
        "Exception ZeroDivisionError: 'float division' in 'probfit.pdf.rtv_breitwigner' ignored\n",
        "Exception ZeroDivisionError: 'float division' in 'probfit.pdf.rtv_breitwigner' ignored\n",
        "Exception ZeroDivisionError: 'float division' in 'probfit.pdf.rtv_breitwigner' ignored\n",
        "Exception ZeroDivisionError: 'float division' in 'probfit.pdf.rtv_breitwigner' ignored\n",
        "Exception ZeroDivisionError: 'float division' in 'probfit.pdf.rtv_breitwigner' ignored\n",
        "Exception ZeroDivisionError: 'float division' in 'probfit.pdf.rtv_breitwigner' ignored\n",
        "Exception ZeroDivisionError: 'float division' in 'probfit.pdf.rtv_breitwigner' ignored\n",
        "Exception ZeroDivisionError: 'float division' in 'probfit.pdf.rtv_breitwigner' ignored\n",
        "Exception ZeroDivisionError: 'float division' in 'probfit.pdf.rtv_breitwigner' ignored\n",
        "Exception ZeroDivisionError: 'float division' in 'probfit.pdf.rtv_breitwigner' ignored\n",
        "Exception ZeroDivisionError: 'float division' in 'probfit.pdf.rtv_breitwigner' ignored\n",
        "Exception ZeroDivisionError: 'float division' in 'probfit.pdf.rtv_breitwigner' ignored\n",
        "Exception ZeroDivisionError: 'float division' in 'probfit.pdf.rtv_breitwigner' ignored\n",
        "Exception ZeroDivisionError: 'float division' in 'probfit.pdf.rtv_breitwigner' ignored\n",
        "Exception ZeroDivisionError: 'float division' in 'probfit.pdf.rtv_breitwigner' ignored\n",
        "Exception ZeroDivisionError: 'float division' in 'probfit.pdf.rtv_breitwigner' ignored\n",
        "Exception ZeroDivisionError: 'float division' in 'probfit.pdf.rtv_breitwigner' ignored\n",
        "Exception ZeroDivisionError: 'float division' in 'probfit.pdf.rtv_breitwigner' ignored\n",
        "Exception ZeroDivisionError: 'float division' in 'probfit.pdf.rtv_breitwigner' ignored\n",
        "Exception ZeroDivisionError: 'float division' in 'probfit.pdf.rtv_breitwigner' ignored\n",
        "Exception ZeroDivisionError: 'float division' in 'probfit.pdf.rtv_breitwigner' ignored\n",
        "Exception ZeroDivisionError: 'float division' in 'probfit.pdf.rtv_breitwigner' ignored\n",
        "Exception ZeroDivisionError: 'float division' in 'probfit.pdf.rtv_breitwigner' ignored\n",
        "Exception ZeroDivisionError: 'float division' in 'probfit.pdf.rtv_breitwigner' ignored\n",
        "Exception ZeroDivisionError: 'float division' in 'probfit.pdf.rtv_breitwigner' ignored\n",
        "Exception ZeroDivisionError: 'float division' in 'probfit.pdf.rtv_breitwigner' ignored\n",
        "Exception ZeroDivisionError: 'float division' in 'probfit.pdf.rtv_breitwigner' ignored\n",
        "Exception ZeroDivisionError: 'float division' in 'probfit.pdf.rtv_breitwigner' ignored\n",
        "Exception ZeroDivisionError: 'float division' in 'probfit.pdf.rtv_breitwigner' ignored\n",
        "Exception ZeroDivisionError: 'float division' in 'probfit.pdf.rtv_breitwigner' ignored\n",
        "Exception ZeroDivisionError: 'float division' in 'probfit.pdf.rtv_breitwigner' ignored\n",
        "Exception ZeroDivisionError: 'float division' in 'probfit.pdf.rtv_breitwigner' ignored\n",
        "Exception ZeroDivisionError: 'float division' in 'probfit.pdf.rtv_breitwigner' ignored\n",
        "Exception ZeroDivisionError: 'float division' in 'probfit.pdf.rtv_breitwigner' ignored\n",
        "Exception ZeroDivisionError: 'float division' in 'probfit.pdf.rtv_breitwigner' ignored\n",
        "Exception ZeroDivisionError: 'float division' in 'probfit.pdf.rtv_breitwigner' ignored\n",
        "Exception ZeroDivisionError: 'float division' in 'probfit.pdf.rtv_breitwigner' ignored\n",
        "Exception ZeroDivisionError: 'float division' in 'probfit.pdf.rtv_breitwigner' ignored\n",
        "Exception ZeroDivisionError: 'float division' in 'probfit.pdf.rtv_breitwigner' ignored\n",
        "Exception ZeroDivisionError: 'float division' in 'probfit.pdf.rtv_breitwigner' ignored\n",
        "Exception ZeroDivisionError: 'float division' in 'probfit.pdf.rtv_breitwigner' ignored\n",
        "Exception ZeroDivisionError: 'float division' in 'probfit.pdf.rtv_breitwigner' ignored\n",
        "Exception ZeroDivisionError: 'float division' in 'probfit.pdf.rtv_breitwigner' ignored\n",
        "Exception ZeroDivisionError: 'float division' in 'probfit.pdf.rtv_breitwigner' ignored\n",
        "Exception ZeroDivisionError: 'float division' in 'probfit.pdf.rtv_breitwigner' ignored\n",
        "Exception ZeroDivisionError: 'float division' in 'probfit.pdf.rtv_breitwigner' ignored\n",
        "Exception ZeroDivisionError: 'float division' in 'probfit.pdf.rtv_breitwigner' ignored\n",
        "Exception ZeroDivisionError: 'float division' in 'probfit.pdf.rtv_breitwigner' ignored\n",
        "Exception ZeroDivisionError: 'float division' in 'probfit.pdf.rtv_breitwigner' ignored\n",
        "Exception ZeroDivisionError: 'float division' in 'probfit.pdf.rtv_breitwigner' ignored\n",
        "Exception ZeroDivisionError: 'float division' in 'probfit.pdf.rtv_breitwigner' ignored\n",
        "Exception ZeroDivisionError: 'float division' in 'probfit.pdf.rtv_breitwigner' ignored\n",
        "Exception ZeroDivisionError: 'float division' in 'probfit.pdf.rtv_breitwigner' ignored\n",
        "Exception ZeroDivisionError: 'float division' in 'probfit.pdf.rtv_breitwigner' ignored\n",
        "Exception ZeroDivisionError: 'float division' in 'probfit.pdf.rtv_breitwigner' ignored\n",
        "Exception ZeroDivisionError: 'float division' in 'probfit.pdf.rtv_breitwigner' ignored\n",
        "Exception ZeroDivisionError: 'float division' in 'probfit.pdf.rtv_breitwigner' ignored\n",
        "Exception ZeroDivisionError: 'float division' in 'probfit.pdf.rtv_breitwigner' ignored\n",
        "Exception ZeroDivisionError: 'float division' in 'probfit.pdf.rtv_breitwigner' ignored\n",
        "Exception ZeroDivisionError: 'float division' in 'probfit.pdf.rtv_breitwigner' ignored\n",
        "Exception ZeroDivisionError: 'float division' in 'probfit.pdf.rtv_breitwigner' ignored\n",
        "Exception ZeroDivisionError: 'float division' in 'probfit.pdf.rtv_breitwigner' ignored\n",
        "Exception ZeroDivisionError: 'float division' in 'probfit.pdf.rtv_breitwigner' ignored\n",
        "Exception ZeroDivisionError: 'float division' in 'probfit.pdf.rtv_breitwigner' ignored\n",
        "Exception ZeroDivisionError: 'float division' in 'probfit.pdf.rtv_breitwigner' ignored\n",
        "Exception ZeroDivisionError: 'float division' in 'probfit.pdf.rtv_breitwigner' ignored\n",
        "Exception ZeroDivisionError: 'float division' in 'probfit.pdf.rtv_breitwigner' ignored\n",
        "Exception ZeroDivisionError: 'float division' in 'probfit.pdf.rtv_breitwigner' ignored\n",
        "Exception ZeroDivisionError: 'float division' in 'probfit.pdf.rtv_breitwigner' ignored\n",
        "Exception ZeroDivisionError: 'float division' in 'probfit.pdf.rtv_breitwigner' ignored\n",
        "Exception ZeroDivisionError: 'float division' in 'probfit.pdf.rtv_breitwigner' ignored\n",
        "Exception ZeroDivisionError: 'float division' in 'probfit.pdf.rtv_breitwigner' ignored\n",
        "Exception ZeroDivisionError: 'float division' in 'probfit.pdf.rtv_breitwigner' ignored\n",
        "Exception ZeroDivisionError: 'float division' in 'probfit.pdf.rtv_breitwigner' ignored\n",
        "Exception ZeroDivisionError: 'float division' in 'probfit.pdf.rtv_breitwigner' ignored\n",
        "Exception ZeroDivisionError: 'float division' in 'probfit.pdf.rtv_breitwigner' ignored\n",
        "Exception ZeroDivisionError: 'float division' in 'probfit.pdf.rtv_breitwigner' ignored\n",
        "Exception ZeroDivisionError: 'float division' in 'probfit.pdf.rtv_breitwigner' ignored\n",
        "Exception ZeroDivisionError: 'float division' in 'probfit.pdf.rtv_breitwigner' ignored\n",
        "Exception ZeroDivisionError: 'float division' in 'probfit.pdf.rtv_breitwigner' ignored\n",
        "Exception ZeroDivisionError: 'float division' in 'probfit.pdf.rtv_breitwigner' ignored\n",
        "Exception ZeroDivisionError: 'float division' in 'probfit.pdf.rtv_breitwigner' ignored\n",
        "Exception ZeroDivisionError: 'float division' in 'probfit.pdf.rtv_breitwigner' ignored\n",
        "Exception ZeroDivisionError: 'float division' in 'probfit.pdf.rtv_breitwigner' ignored\n",
        "Exception ZeroDivisionError: 'float division' in 'probfit.pdf.rtv_breitwigner' ignored\n",
        "Exception ZeroDivisionError: 'float division' in 'probfit.pdf.rtv_breitwigner' ignored\n",
        "Exception ZeroDivisionError: 'float division' in 'probfit.pdf.rtv_breitwigner' ignored\n",
        "Exception ZeroDivisionError: 'float division' in 'probfit.pdf.rtv_breitwigner' ignored\n",
        "Exception ZeroDivisionError: 'float division' in 'probfit.pdf.rtv_breitwigner' ignored\n",
        "Exception ZeroDivisionError: 'float division' in 'probfit.pdf.rtv_breitwigner' ignored\n",
        "Exception ZeroDivisionError: 'float division' in 'probfit.pdf.rtv_breitwigner' ignored\n",
        "Exception ZeroDivisionError: 'float division' in 'probfit.pdf.rtv_breitwigner' ignored\n",
        "Exception ZeroDivisionError: 'float division' in 'probfit.pdf.rtv_breitwigner' ignored\n",
        "Exception ZeroDivisionError: 'float division' in 'probfit.pdf.rtv_breitwigner' ignored\n",
        "Exception ZeroDivisionError: 'float division' in 'probfit.pdf.rtv_breitwigner' ignored\n",
        "Exception ZeroDivisionError: 'float division' in 'probfit.pdf.rtv_breitwigner' ignored\n",
        "Exception ZeroDivisionError: 'float division' in 'probfit.pdf.rtv_breitwigner' ignored\n",
        "Exception ZeroDivisionError: 'float division' in 'probfit.pdf.rtv_breitwigner' ignored\n",
        "Exception ZeroDivisionError: 'float division' in 'probfit.pdf.rtv_breitwigner' ignored\n",
        "Exception ZeroDivisionError: 'float division' in 'probfit.pdf.rtv_breitwigner' ignored\n",
        "Exception ZeroDivisionError: 'float division' in 'probfit.pdf.rtv_breitwigner' ignored\n",
        "Exception ZeroDivisionError: 'float division' in 'probfit.pdf.rtv_breitwigner' ignored\n",
        "Exception ZeroDivisionError: 'float division' in 'probfit.pdf.rtv_breitwigner' ignored\n",
        "Exception ZeroDivisionError: 'float division' in 'probfit.pdf.rtv_breitwigner' ignored\n",
        "Exception ZeroDivisionError: 'float division' in 'probfit.pdf.rtv_breitwigner' ignored\n",
        "Exception ZeroDivisionError: 'float division' in 'probfit.pdf.rtv_breitwigner' ignored\n",
        "Exception ZeroDivisionError: 'float division' in 'probfit.pdf.rtv_breitwigner' ignored\n",
        "Exception ZeroDivisionError: 'float division' in 'probfit.pdf.rtv_breitwigner' ignored\n",
        "Exception ZeroDivisionError: 'float division' in 'probfit.pdf.rtv_breitwigner' ignored\n",
        "Exception ZeroDivisionError: 'float division' in 'probfit.pdf.rtv_breitwigner' ignored\n",
        "Exception ZeroDivisionError: 'float division' in 'probfit.pdf.rtv_breitwigner' ignored\n",
        "Exception ZeroDivisionError: 'float division' in 'probfit.pdf.rtv_breitwigner' ignored\n",
        "Exception ZeroDivisionError: 'float division' in 'probfit.pdf.rtv_breitwigner' ignored\n",
        "Exception ZeroDivisionError: 'float division' in 'probfit.pdf.rtv_breitwigner' ignored\n",
        "Exception ZeroDivisionError: 'float division' in 'probfit.pdf.rtv_breitwigner' ignored\n",
        "Exception ZeroDivisionError: 'float division' in 'probfit.pdf.rtv_breitwigner' ignored\n",
        "Exception ZeroDivisionError: 'float division' in 'probfit.pdf.rtv_breitwigner' ignored\n",
        "Exception ZeroDivisionError: 'float division' in 'probfit.pdf.rtv_breitwigner' ignored\n",
        "Exception ZeroDivisionError: 'float division' in 'probfit.pdf.rtv_breitwigner' ignored\n",
        "Exception ZeroDivisionError: 'float division' in 'probfit.pdf.rtv_breitwigner' ignored\n",
        "Exception ZeroDivisionError: 'float division' in 'probfit.pdf.rtv_breitwigner' ignored\n",
        "Exception ZeroDivisionError: 'float division' in 'probfit.pdf.rtv_breitwigner' ignored\n",
        "Exception ZeroDivisionError: 'float division' in 'probfit.pdf.rtv_breitwigner' ignored\n",
        "Exception ZeroDivisionError: 'float division' in 'probfit.pdf.rtv_breitwigner' ignored\n",
        "Exception ZeroDivisionError: 'float division' in 'probfit.pdf.rtv_breitwigner' ignored\n",
        "Exception ZeroDivisionError: 'float division' in 'probfit.pdf.rtv_breitwigner' ignored\n",
        "Exception ZeroDivisionError: 'float division' in 'probfit.pdf.rtv_breitwigner' ignored\n",
        "Exception ZeroDivisionError: 'float division' in 'probfit.pdf.rtv_breitwigner' ignored\n",
        "Exception ZeroDivisionError: 'float division' in 'probfit.pdf.rtv_breitwigner' ignored\n",
        "Exception ZeroDivisionError: 'float division' in 'probfit.pdf.rtv_breitwigner' ignored\n",
        "Exception ZeroDivisionError: 'float division' in 'probfit.pdf.rtv_breitwigner' ignored\n",
        "Exception ZeroDivisionError: 'float division' in 'probfit.pdf.rtv_breitwigner' ignored\n",
        "Exception ZeroDivisionError: 'float division' in 'probfit.pdf.rtv_breitwigner' ignored\n",
        "Exception ZeroDivisionError: 'float division' in 'probfit.pdf.rtv_breitwigner' ignored\n",
        "Exception ZeroDivisionError: 'float division' in 'probfit.pdf.rtv_breitwigner' ignored\n",
        "Exception ZeroDivisionError: 'float division' in 'probfit.pdf.rtv_breitwigner' ignored\n",
        "Exception ZeroDivisionError: 'float division' in 'probfit.pdf.rtv_breitwigner' ignored\n",
        "Exception ZeroDivisionError: 'float division' in 'probfit.pdf.rtv_breitwigner' ignored\n",
        "Exception ZeroDivisionError: 'float division' in 'probfit.pdf.rtv_breitwigner' ignored\n",
        "Exception ZeroDivisionError: 'float division' in 'probfit.pdf.rtv_breitwigner' ignored\n",
        "Exception ZeroDivisionError: 'float division' in 'probfit.pdf.rtv_breitwigner' ignored\n",
        "Exception ZeroDivisionError: 'float division' in 'probfit.pdf.rtv_breitwigner' ignored\n",
        "Exception ZeroDivisionError: 'float division' in 'probfit.pdf.rtv_breitwigner' ignored\n",
        "Exception ZeroDivisionError: 'float division' in 'probfit.pdf.rtv_breitwigner' ignored\n",
        "Exception ZeroDivisionError: 'float division' in 'probfit.pdf.rtv_breitwigner' ignored\n",
        "Exception ZeroDivisionError: 'float division' in 'probfit.pdf.rtv_breitwigner' ignored\n",
        "Exception ZeroDivisionError: 'float division' in 'probfit.pdf.rtv_breitwigner' ignored\n",
        "Exception ZeroDivisionError: 'float division' in 'probfit.pdf.rtv_breitwigner' ignored\n",
        "Exception ZeroDivisionError: 'float division' in 'probfit.pdf.rtv_breitwigner' ignored\n",
        "Exception ZeroDivisionError: 'float division' in 'probfit.pdf.rtv_breitwigner' ignored\n",
        "Exception ZeroDivisionError: 'float division' in 'probfit.pdf.rtv_breitwigner' ignored\n",
        "Exception ZeroDivisionError: 'float division' in 'probfit.pdf.rtv_breitwigner' ignored\n",
        "Exception ZeroDivisionError: 'float division' in 'probfit.pdf.rtv_breitwigner' ignored\n",
        "Exception ZeroDivisionError: 'float division' in 'probfit.pdf.rtv_breitwigner' ignored\n",
        "Exception ZeroDivisionError: 'float division' in 'probfit.pdf.rtv_breitwigner' ignored\n",
        "Exception ZeroDivisionError: 'float division' in 'probfit.pdf.rtv_breitwigner' ignored\n",
        "Exception ZeroDivisionError: 'float division' in 'probfit.pdf.rtv_breitwigner' ignored\n",
        "Exception ZeroDivisionError: 'float division' in 'probfit.pdf.rtv_breitwigner' ignored\n",
        "Exception ZeroDivisionError: 'float division' in 'probfit.pdf.rtv_breitwigner' ignored\n",
        "Exception ZeroDivisionError: 'float division' in 'probfit.pdf.rtv_breitwigner' ignored\n",
        "Exception ZeroDivisionError: 'float division' in 'probfit.pdf.rtv_breitwigner' ignored\n",
        "Exception ZeroDivisionError: 'float division' in 'probfit.pdf.rtv_breitwigner' ignored\n",
        "Exception ZeroDivisionError: 'float division' in 'probfit.pdf.rtv_breitwigner' ignored\n",
        "Exception ZeroDivisionError: 'float division' in 'probfit.pdf.rtv_breitwigner' ignored\n",
        "Exception ZeroDivisionError: 'float division' in 'probfit.pdf.rtv_breitwigner' ignored\n",
        "Exception ZeroDivisionError: 'float division' in 'probfit.pdf.rtv_breitwigner' ignored\n",
        "Exception ZeroDivisionError: 'float division' in 'probfit.pdf.rtv_breitwigner' ignored\n",
        "Exception ZeroDivisionError: 'float division' in 'probfit.pdf.rtv_breitwigner' ignored\n",
        "Exception ZeroDivisionError: 'float division' in 'probfit.pdf.rtv_breitwigner' ignored\n",
        "Exception ZeroDivisionError: 'float division' in 'probfit.pdf.rtv_breitwigner' ignored\n",
        "Exception ZeroDivisionError: 'float division' in 'probfit.pdf.rtv_breitwigner' ignored\n",
        "Exception ZeroDivisionError: 'float division' in 'probfit.pdf.rtv_breitwigner' ignored\n",
        "Exception ZeroDivisionError: 'float division' in 'probfit.pdf.rtv_breitwigner' ignored\n",
        "Exception ZeroDivisionError: 'float division' in 'probfit.pdf.rtv_breitwigner' ignored\n",
        "Exception ZeroDivisionError: 'float division' in 'probfit.pdf.rtv_breitwigner' ignored\n",
        "Exception ZeroDivisionError: 'float division' in 'probfit.pdf.rtv_breitwigner' ignored\n",
        "Exception ZeroDivisionError: 'float division' in 'probfit.pdf.rtv_breitwigner' ignored\n",
        "Exception ZeroDivisionError: 'float division' in 'probfit.pdf.rtv_breitwigner' ignored\n",
        "Exception ZeroDivisionError: 'float division' in 'probfit.pdf.rtv_breitwigner' ignored\n",
        "Exception ZeroDivisionError: 'float division' in 'probfit.pdf.rtv_breitwigner' ignored\n",
        "Exception ZeroDivisionError: 'float division' in 'probfit.pdf.rtv_breitwigner' ignored\n",
        "Exception ZeroDivisionError: 'float division' in 'probfit.pdf.rtv_breitwigner' ignored\n",
        "Exception ZeroDivisionError: 'float division' in 'probfit.pdf.rtv_breitwigner' ignored\n",
        "Exception ZeroDivisionError: 'float division' in 'probfit.pdf.rtv_breitwigner' ignored\n",
        "Exception ZeroDivisionError: 'float division' in 'probfit.pdf.rtv_breitwigner' ignored\n",
        "Exception ZeroDivisionError: 'float division' in 'probfit.pdf.rtv_breitwigner' ignored\n",
        "Exception ZeroDivisionError: 'float division' in 'probfit.pdf.rtv_breitwigner' ignored\n",
        "Exception ZeroDivisionError: 'float division' in 'probfit.pdf.rtv_breitwigner' ignored\n",
        "Exception ZeroDivisionError: 'float division' in 'probfit.pdf.rtv_breitwigner' ignored\n",
        "Exception ZeroDivisionError: 'float division' in 'probfit.pdf.rtv_breitwigner' ignored\n",
        "Exception ZeroDivisionError: 'float division' in 'probfit.pdf.rtv_breitwigner' ignored\n",
        "Exception ZeroDivisionError: 'float division' in 'probfit.pdf.rtv_breitwigner' ignored\n",
        "Exception ZeroDivisionError: 'float division' in 'probfit.pdf.rtv_breitwigner' ignored\n",
        "Exception ZeroDivisionError: 'float division' in 'probfit.pdf.rtv_breitwigner' ignored\n",
        "Exception ZeroDivisionError: 'float division' in 'probfit.pdf.rtv_breitwigner' ignored\n",
        "Exception ZeroDivisionError: 'float division' in 'probfit.pdf.rtv_breitwigner' ignored\n",
        "Exception ZeroDivisionError: 'float division' in 'probfit.pdf.rtv_breitwigner' ignored\n",
        "Exception ZeroDivisionError: 'float division' in 'probfit.pdf.rtv_breitwigner' ignored\n",
        "Exception ZeroDivisionError: 'float division' in 'probfit.pdf.rtv_breitwigner' ignored\n",
        "Exception ZeroDivisionError: 'float division' in 'probfit.pdf.rtv_breitwigner' ignored\n",
        "Exception ZeroDivisionError: 'float division' in 'probfit.pdf.rtv_breitwigner' ignored\n",
        "Exception ZeroDivisionError: 'float division' in 'probfit.pdf.rtv_breitwigner' ignored\n",
        "Exception ZeroDivisionError: 'float division' in 'probfit.pdf.rtv_breitwigner' ignored\n",
        "Exception ZeroDivisionError: 'float division' in 'probfit.pdf.rtv_breitwigner' ignored\n",
        "Exception ZeroDivisionError: 'float division' in 'probfit.pdf.rtv_breitwigner' ignored\n",
        "Exception ZeroDivisionError: 'float division' in 'probfit.pdf.rtv_breitwigner' ignored\n",
        "Exception ZeroDivisionError: 'float division' in 'probfit.pdf.rtv_breitwigner' ignored\n",
        "Exception ZeroDivisionError: 'float division' in 'probfit.pdf.rtv_breitwigner' ignored\n",
        "Exception ZeroDivisionError: 'float division' in 'probfit.pdf.rtv_breitwigner' ignored\n",
        "Exception ZeroDivisionError: 'float division' in 'probfit.pdf.rtv_breitwigner' ignored\n",
        "Exception ZeroDivisionError: 'float division' in 'probfit.pdf.rtv_breitwigner' ignored\n",
        "Exception ZeroDivisionError: 'float division' in 'probfit.pdf.rtv_breitwigner' ignored\n",
        "Exception ZeroDivisionError: 'float division' in 'probfit.pdf.rtv_breitwigner' ignored\n",
        "Exception ZeroDivisionError: 'float division' in 'probfit.pdf.rtv_breitwigner' ignored\n",
        "Exception ZeroDivisionError: 'float division' in 'probfit.pdf.rtv_breitwigner' ignored\n",
        "Exception ZeroDivisionError: 'float division' in 'probfit.pdf.rtv_breitwigner' ignored\n",
        "Exception ZeroDivisionError: 'float division' in 'probfit.pdf.rtv_breitwigner' ignored\n",
        "Exception ZeroDivisionError: 'float division' in 'probfit.pdf.rtv_breitwigner' ignored\n",
        "Exception ZeroDivisionError: 'float division' in 'probfit.pdf.rtv_breitwigner' ignored\n",
        "Exception ZeroDivisionError: 'float division' in 'probfit.pdf.rtv_breitwigner' ignored\n",
        "Exception ZeroDivisionError: 'float division' in 'probfit.pdf.rtv_breitwigner' ignored\n",
        "Exception ZeroDivisionError: 'float division' in 'probfit.pdf.rtv_breitwigner' ignored\n",
        "Exception ZeroDivisionError: 'float division' in 'probfit.pdf.rtv_breitwigner' ignored\n",
        "Exception ZeroDivisionError: 'float division' in 'probfit.pdf.rtv_breitwigner' ignored\n",
        "Exception ZeroDivisionError: 'float division' in 'probfit.pdf.rtv_breitwigner' ignored\n",
        "Exception ZeroDivisionError: 'float division' in 'probfit.pdf.rtv_breitwigner' ignored\n",
        "Exception ZeroDivisionError: 'float division' in 'probfit.pdf.rtv_breitwigner' ignored\n",
        "Exception ZeroDivisionError: 'float division' in 'probfit.pdf.rtv_breitwigner' ignored\n",
        "Exception ZeroDivisionError: 'float division' in 'probfit.pdf.rtv_breitwigner' ignored\n",
        "Exception ZeroDivisionError: 'float division' in 'probfit.pdf.rtv_breitwigner' ignored\n",
        "Exception ZeroDivisionError: 'float division' in 'probfit.pdf.rtv_breitwigner' ignored\n",
        "Exception ZeroDivisionError: 'float division' in 'probfit.pdf.rtv_breitwigner' ignored\n",
        "Exception ZeroDivisionError: 'float division' in 'probfit.pdf.rtv_breitwigner' ignored\n",
        "Exception ZeroDivisionError: 'float division' in 'probfit.pdf.rtv_breitwigner' ignored\n",
        "Exception ZeroDivisionError: 'float division' in 'probfit.pdf.rtv_breitwigner' ignored\n",
        "Exception ZeroDivisionError: 'float division' in 'probfit.pdf.rtv_breitwigner' ignored\n",
        "Exception ZeroDivisionError: 'float division' in 'probfit.pdf.rtv_breitwigner' ignored\n",
        "Exception ZeroDivisionError: 'float division' in 'probfit.pdf.rtv_breitwigner' ignored\n",
        "Exception ZeroDivisionError: 'float division' in 'probfit.pdf.rtv_breitwigner' ignored\n",
        "Exception ZeroDivisionError: 'float division' in 'probfit.pdf.rtv_breitwigner' ignored\n",
        "Exception ZeroDivisionError: 'float division' in 'probfit.pdf.rtv_breitwigner' ignored\n",
        "Exception ZeroDivisionError: 'float division' in 'probfit.pdf.rtv_breitwigner' ignored\n",
        "Exception ZeroDivisionError: 'float division' in 'probfit.pdf.rtv_breitwigner' ignored\n",
        "Exception ZeroDivisionError: 'float division' in 'probfit.pdf.rtv_breitwigner' ignored\n",
        "Exception ZeroDivisionError: 'float division' in 'probfit.pdf.rtv_breitwigner' ignored\n",
        "Exception ZeroDivisionError: 'float division' in 'probfit.pdf.rtv_breitwigner' ignored\n",
        "Exception ZeroDivisionError: 'float division' in 'probfit.pdf.rtv_breitwigner' ignored\n",
        "Exception ZeroDivisionError: 'float division' in 'probfit.pdf.rtv_breitwigner' ignored\n",
        "Exception ZeroDivisionError: 'float division' in 'probfit.pdf.rtv_breitwigner' ignored\n",
        "Exception ZeroDivisionError: 'float division' in 'probfit.pdf.rtv_breitwigner' ignored\n",
        "Exception ZeroDivisionError: 'float division' in 'probfit.pdf.rtv_breitwigner' ignored\n",
        "Exception ZeroDivisionError: 'float division' in 'probfit.pdf.rtv_breitwigner' ignored\n",
        "Exception ZeroDivisionError: 'float division' in 'probfit.pdf.rtv_breitwigner' ignored\n",
        "Exception ZeroDivisionError: 'float division' in 'probfit.pdf.rtv_breitwigner' ignored\n",
        "Exception ZeroDivisionError: 'float division' in 'probfit.pdf.rtv_breitwigner' ignored\n",
        "Exception ZeroDivisionError: 'float division' in 'probfit.pdf.rtv_breitwigner' ignored\n",
        "Exception ZeroDivisionError: 'float division' in 'probfit.pdf.rtv_breitwigner' ignored\n",
        "Exception ZeroDivisionError: 'float division' in 'probfit.pdf.rtv_breitwigner' ignored\n",
        "Exception ZeroDivisionError: 'float division' in 'probfit.pdf.rtv_breitwigner' ignored\n",
        "Exception ZeroDivisionError: 'float division' in 'probfit.pdf.rtv_breitwigner' ignored\n",
        "Exception ZeroDivisionError: 'float division' in 'probfit.pdf.rtv_breitwigner' ignored\n",
        "Exception ZeroDivisionError: 'float division' in 'probfit.pdf.rtv_breitwigner' ignored\n",
        "Exception ZeroDivisionError: 'float division' in 'probfit.pdf.rtv_breitwigner' ignored\n",
        "Exception ZeroDivisionError: 'float division' in 'probfit.pdf.rtv_breitwigner' ignored\n",
        "Exception ZeroDivisionError: 'float division' in 'probfit.pdf.rtv_breitwigner' ignored\n",
        "Exception ZeroDivisionError: 'float division' in 'probfit.pdf.rtv_breitwigner' ignored\n",
        "Exception ZeroDivisionError: 'float division' in 'probfit.pdf.rtv_breitwigner' ignored\n",
        "Exception ZeroDivisionError: 'float division' in 'probfit.pdf.rtv_breitwigner' ignored\n",
        "Exception ZeroDivisionError: 'float division' in 'probfit.pdf.rtv_breitwigner' ignored\n",
        "Exception ZeroDivisionError: 'float division' in 'probfit.pdf.rtv_breitwigner' ignored\n",
        "Exception ZeroDivisionError: 'float division' in 'probfit.pdf.rtv_breitwigner' ignored\n",
        "Exception ZeroDivisionError: 'float division' in 'probfit.pdf.rtv_breitwigner' ignored\n",
        "Exception ZeroDivisionError: 'float division' in 'probfit.pdf.rtv_breitwigner' ignored\n",
        "Exception ZeroDivisionError: 'float division' in 'probfit.pdf.rtv_breitwigner' ignored\n",
        "Exception ZeroDivisionError: 'float division' in 'probfit.pdf.rtv_breitwigner' ignored\n",
        "Exception ZeroDivisionError: 'float division' in 'probfit.pdf.rtv_breitwigner' ignored\n",
        "Exception ZeroDivisionError: 'float division' in 'probfit.pdf.rtv_breitwigner' ignored\n",
        "Exception ZeroDivisionError: 'float division' in 'probfit.pdf.rtv_breitwigner' ignored\n",
        "Exception ZeroDivisionError: 'float division' in 'probfit.pdf.rtv_breitwigner' ignored\n",
        "Exception ZeroDivisionError: 'float division' in 'probfit.pdf.rtv_breitwigner' ignored\n",
        "Exception ZeroDivisionError: 'float division' in 'probfit.pdf.rtv_breitwigner' ignored\n",
        "Exception ZeroDivisionError: 'float division' in 'probfit.pdf.rtv_breitwigner' ignored\n",
        "Exception ZeroDivisionError: 'float division' in 'probfit.pdf.rtv_breitwigner' ignored\n",
        "Exception ZeroDivisionError: 'float division' in 'probfit.pdf.rtv_breitwigner' ignored\n",
        "Exception ZeroDivisionError: 'float division' in 'probfit.pdf.rtv_breitwigner' ignored\n",
        "Exception ZeroDivisionError: 'float division' in 'probfit.pdf.rtv_breitwigner' ignored\n",
        "Exception ZeroDivisionError: 'float division' in 'probfit.pdf.rtv_breitwigner' ignored\n",
        "Exception ZeroDivisionError: 'float division' in 'probfit.pdf.rtv_breitwigner' ignored\n",
        "Exception ZeroDivisionError: 'float division' in 'probfit.pdf.rtv_breitwigner' ignored\n",
        "Exception ZeroDivisionError: 'float division' in 'probfit.pdf.rtv_breitwigner' ignored\n",
        "Exception ZeroDivisionError: 'float division' in 'probfit.pdf.rtv_breitwigner' ignored\n",
        "Exception ZeroDivisionError: 'float division' in 'probfit.pdf.rtv_breitwigner' ignored\n",
        "Exception ZeroDivisionError: 'float division' in 'probfit.pdf.rtv_breitwigner' ignored\n",
        "Exception ZeroDivisionError: 'float division' in 'probfit.pdf.rtv_breitwigner' ignored\n",
        "Exception ZeroDivisionError: 'float division' in 'probfit.pdf.rtv_breitwigner' ignored\n",
        "Exception ZeroDivisionError: 'float division' in 'probfit.pdf.rtv_breitwigner' ignored\n",
        "Exception ZeroDivisionError: 'float division' in 'probfit.pdf.rtv_breitwigner' ignored\n",
        "Exception ZeroDivisionError: 'float division' in 'probfit.pdf.rtv_breitwigner' ignored\n",
        "Exception ZeroDivisionError: 'float division' in 'probfit.pdf.rtv_breitwigner' ignored\n",
        "Exception ZeroDivisionError: 'float division' in 'probfit.pdf.rtv_breitwigner' ignored\n",
        "Exception ZeroDivisionError: 'float division' in 'probfit.pdf.rtv_breitwigner' ignored\n",
        "Exception ZeroDivisionError: 'float division' in 'probfit.pdf.rtv_breitwigner' ignored\n",
        "Exception ZeroDivisionError: 'float division' in 'probfit.pdf.rtv_breitwigner' ignored\n",
        "Exception ZeroDivisionError: 'float division' in 'probfit.pdf.rtv_breitwigner' ignored\n",
        "Exception ZeroDivisionError: 'float division' in 'probfit.pdf.rtv_breitwigner' ignored\n",
        "Exception ZeroDivisionError: 'float division' in 'probfit.pdf.rtv_breitwigner' ignored\n",
        "Exception ZeroDivisionError: 'float division' in 'probfit.pdf.rtv_breitwigner' ignored\n",
        "Exception ZeroDivisionError: 'float division' in 'probfit.pdf.rtv_breitwigner' ignored\n",
        "Exception ZeroDivisionError: 'float division' in 'probfit.pdf.rtv_breitwigner' ignored\n",
        "Exception ZeroDivisionError: 'float division' in 'probfit.pdf.rtv_breitwigner' ignored\n",
        "Exception ZeroDivisionError: 'float division' in 'probfit.pdf.rtv_breitwigner' ignored\n",
        "Exception ZeroDivisionError: 'float division' in 'probfit.pdf.rtv_breitwigner' ignored\n",
        "Exception ZeroDivisionError: 'float division' in 'probfit.pdf.rtv_breitwigner' ignored\n",
        "Exception ZeroDivisionError: 'float division' in 'probfit.pdf.rtv_breitwigner' ignored\n",
        "Exception ZeroDivisionError: 'float division' in 'probfit.pdf.rtv_breitwigner' ignored\n",
        "Exception ZeroDivisionError: 'float division' in 'probfit.pdf.rtv_breitwigner' ignored\n",
        "Exception ZeroDivisionError: 'float division' in 'probfit.pdf.rtv_breitwigner' ignored\n",
        "Exception ZeroDivisionError: 'float division' in 'probfit.pdf.rtv_breitwigner' ignored\n",
        "Exception ZeroDivisionError: 'float division' in 'probfit.pdf.rtv_breitwigner' ignored\n",
        "Exception ZeroDivisionError: 'float division' in 'probfit.pdf.rtv_breitwigner' ignored\n",
        "Exception ZeroDivisionError: 'float division' in 'probfit.pdf.rtv_breitwigner' ignored\n",
        "Exception ZeroDivisionError: 'float division' in 'probfit.pdf.rtv_breitwigner' ignored\n",
        "Exception ZeroDivisionError: 'float division' in 'probfit.pdf.rtv_breitwigner' ignored\n",
        "Exception ZeroDivisionError: 'float division' in 'probfit.pdf.rtv_breitwigner' ignored\n",
        "Exception ZeroDivisionError: 'float division' in 'probfit.pdf.rtv_breitwigner' ignored\n",
        "Exception ZeroDivisionError: 'float division' in 'probfit.pdf.rtv_breitwigner' ignored\n",
        "Exception ZeroDivisionError: 'float division' in 'probfit.pdf.rtv_breitwigner' ignored\n",
        "Exception ZeroDivisionError: 'float division' in 'probfit.pdf.rtv_breitwigner' ignored\n",
        "Exception ZeroDivisionError: 'float division' in 'probfit.pdf.rtv_breitwigner' ignored\n",
        "Exception ZeroDivisionError: 'float division' in 'probfit.pdf.rtv_breitwigner' ignored\n",
        "Exception ZeroDivisionError: 'float division' in 'probfit.pdf.rtv_breitwigner' ignored\n",
        "Exception ZeroDivisionError: 'float division' in 'probfit.pdf.rtv_breitwigner' ignored\n",
        "Exception ZeroDivisionError: 'float division' in 'probfit.pdf.rtv_breitwigner' ignored\n",
        "Exception ZeroDivisionError: 'float division' in 'probfit.pdf.rtv_breitwigner' ignored\n",
        "Exception ZeroDivisionError: 'float division' in 'probfit.pdf.rtv_breitwigner' ignored\n",
        "Exception ZeroDivisionError: 'float division' in 'probfit.pdf.rtv_breitwigner' ignored\n",
        "Exception ZeroDivisionError: 'float division' in 'probfit.pdf.rtv_breitwigner' ignored\n",
        "Exception ZeroDivisionError: 'float division' in 'probfit.pdf.rtv_breitwigner' ignored\n",
        "Exception ZeroDivisionError: 'float division' in 'probfit.pdf.rtv_breitwigner' ignored\n",
        "Exception ZeroDivisionError: 'float division' in 'probfit.pdf.rtv_breitwigner' ignored\n",
        "Exception ZeroDivisionError: 'float division' in 'probfit.pdf.rtv_breitwigner' ignored\n",
        "Exception ZeroDivisionError: 'float division' in 'probfit.pdf.rtv_breitwigner' ignored\n",
        "Exception ZeroDivisionError: 'float division' in 'probfit.pdf.rtv_breitwigner' ignored\n",
        "Exception ZeroDivisionError: 'float division' in 'probfit.pdf.rtv_breitwigner' ignored\n",
        "Exception ZeroDivisionError: 'float division' in 'probfit.pdf.rtv_breitwigner' ignored\n",
        "Exception ZeroDivisionError: 'float division' in 'probfit.pdf.rtv_breitwigner' ignored\n",
        "Exception ZeroDivisionError: 'float division' in 'probfit.pdf.rtv_breitwigner' ignored\n",
        "Exception ZeroDivisionError: 'float division' in 'probfit.pdf.rtv_breitwigner' ignored\n",
        "Exception ZeroDivisionError: 'float division' in 'probfit.pdf.rtv_breitwigner' ignored\n",
        "Exception ZeroDivisionError: 'float division' in 'probfit.pdf.rtv_breitwigner' ignored\n",
        "Exception ZeroDivisionError: 'float division' in 'probfit.pdf.rtv_breitwigner' ignored\n",
        "Exception ZeroDivisionError: 'float division' in 'probfit.pdf.rtv_breitwigner' ignored\n",
        "Exception ZeroDivisionError: 'float division' in 'probfit.pdf.rtv_breitwigner' ignored\n",
        "Exception ZeroDivisionError: 'float division' in 'probfit.pdf.rtv_breitwigner' ignored\n",
        "Exception ZeroDivisionError: 'float division' in 'probfit.pdf.rtv_breitwigner' ignored\n",
        "Exception ZeroDivisionError: 'float division' in 'probfit.pdf.rtv_breitwigner' ignored\n",
        "Exception ZeroDivisionError: 'float division' in 'probfit.pdf.rtv_breitwigner' ignored\n",
        "Exception ZeroDivisionError: 'float division' in 'probfit.pdf.rtv_breitwigner' ignored\n",
        "Exception ZeroDivisionError: 'float division' in 'probfit.pdf.rtv_breitwigner' ignored\n",
        "Exception ZeroDivisionError: 'float division' in 'probfit.pdf.rtv_breitwigner' ignored\n",
        "Exception ZeroDivisionError: 'float division' in 'probfit.pdf.rtv_breitwigner' ignored\n",
        "Exception ZeroDivisionError: 'float division' in 'probfit.pdf.rtv_breitwigner' ignored\n",
        "Exception ZeroDivisionError: 'float division' in 'probfit.pdf.rtv_breitwigner' ignored\n",
        "Exception ZeroDivisionError: 'float division' in 'probfit.pdf.rtv_breitwigner' ignored\n",
        "Exception ZeroDivisionError: 'float division' in 'probfit.pdf.rtv_breitwigner' ignored\n",
        "Exception ZeroDivisionError: 'float division' in 'probfit.pdf.rtv_breitwigner' ignored\n",
        "Exception ZeroDivisionError: 'float division' in 'probfit.pdf.rtv_breitwigner' ignored\n",
        "Exception ZeroDivisionError: 'float division' in 'probfit.pdf.rtv_breitwigner' ignored\n",
        "Exception ZeroDivisionError: 'float division' in 'probfit.pdf.rtv_breitwigner' ignored\n",
        "Exception ZeroDivisionError: 'float division' in 'probfit.pdf.rtv_breitwigner' ignored\n",
        "Exception ZeroDivisionError: 'float division' in 'probfit.pdf.rtv_breitwigner' ignored\n",
        "Exception ZeroDivisionError: 'float division' in 'probfit.pdf.rtv_breitwigner' ignored\n",
        "Exception ZeroDivisionError: 'float division' in 'probfit.pdf.rtv_breitwigner' ignored\n",
        "Exception ZeroDivisionError: 'float division' in 'probfit.pdf.rtv_breitwigner' ignored\n",
        "Exception ZeroDivisionError: 'float division' in 'probfit.pdf.rtv_breitwigner' ignored\n",
        "Exception ZeroDivisionError: 'float division' in 'probfit.pdf.rtv_breitwigner' ignored\n",
        "Exception ZeroDivisionError: 'float division' in 'probfit.pdf.rtv_breitwigner' ignored\n",
        "Exception ZeroDivisionError: 'float division' in 'probfit.pdf.rtv_breitwigner' ignored\n",
        "Exception ZeroDivisionError: 'float division' in 'probfit.pdf.rtv_breitwigner' ignored\n",
        "Exception ZeroDivisionError: 'float division' in 'probfit.pdf.rtv_breitwigner' ignored\n",
        "Exception ZeroDivisionError: 'float division' in 'probfit.pdf.rtv_breitwigner' ignored\n",
        "Exception ZeroDivisionError: 'float division' in 'probfit.pdf.rtv_breitwigner' ignored\n",
        "Exception ZeroDivisionError: 'float division' in 'probfit.pdf.rtv_breitwigner' ignored\n",
        "Exception ZeroDivisionError: 'float division' in 'probfit.pdf.rtv_breitwigner' ignored\n",
        "Exception ZeroDivisionError: 'float division' in 'probfit.pdf.rtv_breitwigner' ignored\n",
        "Exception ZeroDivisionError: 'float division' in 'probfit.pdf.rtv_breitwigner' ignored\n",
        "Exception ZeroDivisionError: 'float division' in 'probfit.pdf.rtv_breitwigner' ignored\n",
        "Exception ZeroDivisionError: 'float division' in 'probfit.pdf.rtv_breitwigner' ignored\n",
        "Exception ZeroDivisionError: 'float division' in 'probfit.pdf.rtv_breitwigner' ignored\n",
        "Exception ZeroDivisionError: 'float division' in 'probfit.pdf.rtv_breitwigner' ignored\n",
        "Exception ZeroDivisionError: 'float division' in 'probfit.pdf.rtv_breitwigner' ignored\n",
        "Exception ZeroDivisionError: 'float division' in 'probfit.pdf.rtv_breitwigner' ignored\n",
        "Exception ZeroDivisionError: 'float division' in 'probfit.pdf.rtv_breitwigner' ignored\n",
        "Exception ZeroDivisionError: 'float division' in 'probfit.pdf.rtv_breitwigner' ignored\n",
        "Exception ZeroDivisionError: 'float division' in 'probfit.pdf.rtv_breitwigner' ignored\n",
        "Exception ZeroDivisionError: 'float division' in 'probfit.pdf.rtv_breitwigner' ignored\n",
        "Exception ZeroDivisionError: 'float division' in 'probfit.pdf.rtv_breitwigner' ignored\n",
        "Exception ZeroDivisionError: 'float division' in 'probfit.pdf.rtv_breitwigner' ignored\n",
        "Exception ZeroDivisionError: 'float division' in 'probfit.pdf.rtv_breitwigner' ignored\n",
        "Exception ZeroDivisionError: 'float division' in 'probfit.pdf.rtv_breitwigner' ignored\n",
        "Exception ZeroDivisionError: 'float division' in 'probfit.pdf.rtv_breitwigner' ignored\n",
        "Exception ZeroDivisionError: 'float division' in 'probfit.pdf.rtv_breitwigner' ignored\n",
        "Exception ZeroDivisionError: 'float division' in 'probfit.pdf.rtv_breitwigner' ignored\n",
        "Exception ZeroDivisionError: 'float division' in 'probfit.pdf.rtv_breitwigner' ignored\n",
        "Exception ZeroDivisionError: 'float division' in 'probfit.pdf.rtv_breitwigner' ignored\n",
        "Exception ZeroDivisionError: 'float division' in 'probfit.pdf.rtv_breitwigner' ignored\n",
        "Exception ZeroDivisionError: 'float division' in 'probfit.pdf.rtv_breitwigner' ignored\n",
        "Exception ZeroDivisionError: 'float division' in 'probfit.pdf.rtv_breitwigner' ignored\n",
        "Exception ZeroDivisionError: 'float division' in 'probfit.pdf.rtv_breitwigner' ignored\n",
        "Exception ZeroDivisionError: 'float division' in 'probfit.pdf.rtv_breitwigner' ignored\n",
        "Exception ZeroDivisionError: 'float division' in 'probfit.pdf.rtv_breitwigner' ignored\n",
        "Exception ZeroDivisionError: 'float division' in 'probfit.pdf.rtv_breitwigner' ignored\n",
        "Exception ZeroDivisionError: 'float division' in 'probfit.pdf.rtv_breitwigner' ignored\n",
        "Exception ZeroDivisionError: 'float division' in 'probfit.pdf.rtv_breitwigner' ignored\n",
        "Exception ZeroDivisionError: 'float division' in 'probfit.pdf.rtv_breitwigner' ignored\n",
        "Exception ZeroDivisionError: 'float division' in 'probfit.pdf.rtv_breitwigner' ignored\n",
        "Exception ZeroDivisionError: 'float division' in 'probfit.pdf.rtv_breitwigner' ignored\n",
        "Exception ZeroDivisionError: 'float division' in 'probfit.pdf.rtv_breitwigner' ignored\n",
        "Exception ZeroDivisionError: 'float division' in 'probfit.pdf.rtv_breitwigner' ignored\n",
        "Exception ZeroDivisionError: 'float division' in 'probfit.pdf.rtv_breitwigner' ignored\n",
        "Exception ZeroDivisionError: 'float division' in 'probfit.pdf.rtv_breitwigner' ignored\n",
        "Exception ZeroDivisionError: 'float division' in 'probfit.pdf.rtv_breitwigner' ignored\n",
        "Exception ZeroDivisionError: 'float division' in 'probfit.pdf.rtv_breitwigner' ignored\n",
        "Exception ZeroDivisionError: 'float division' in 'probfit.pdf.rtv_breitwigner' ignored\n",
        "Exception ZeroDivisionError: 'float division' in 'probfit.pdf.rtv_breitwigner' ignored\n",
        "Exception ZeroDivisionError: 'float division' in 'probfit.pdf.rtv_breitwigner' ignored\n",
        "Exception ZeroDivisionError: 'float division' in 'probfit.pdf.rtv_breitwigner' ignored\n",
        "Exception ZeroDivisionError: 'float division' in 'probfit.pdf.rtv_breitwigner' ignored\n",
        "Exception ZeroDivisionError: 'float division' in 'probfit.pdf.rtv_breitwigner' ignored\n",
        "Exception ZeroDivisionError: 'float division' in 'probfit.pdf.rtv_breitwigner' ignored\n",
        "Exception ZeroDivisionError: 'float division' in 'probfit.pdf.rtv_breitwigner' ignored\n",
        "Exception ZeroDivisionError: 'float division' in 'probfit.pdf.rtv_breitwigner' ignored\n",
        "Exception ZeroDivisionError: 'float division' in 'probfit.pdf.rtv_breitwigner' ignored\n",
        "Exception ZeroDivisionError: 'float division' in 'probfit.pdf.rtv_breitwigner' ignored\n",
        "Exception ZeroDivisionError: 'float division' in 'probfit.pdf.rtv_breitwigner' ignored\n",
        "Exception ZeroDivisionError: 'float division' in 'probfit.pdf.rtv_breitwigner' ignored\n",
        "Exception ZeroDivisionError: 'float division' in 'probfit.pdf.rtv_breitwigner' ignored\n",
        "Exception ZeroDivisionError: 'float division' in 'probfit.pdf.rtv_breitwigner' ignored\n",
        "Exception ZeroDivisionError: 'float division' in 'probfit.pdf.rtv_breitwigner' ignored\n",
        "Exception ZeroDivisionError: 'float division' in 'probfit.pdf.rtv_breitwigner' ignored\n",
        "Exception ZeroDivisionError: 'float division' in 'probfit.pdf.rtv_breitwigner' ignored\n",
        "Exception ZeroDivisionError: 'float division' in 'probfit.pdf.rtv_breitwigner' ignored\n",
        "Exception ZeroDivisionError: 'float division' in 'probfit.pdf.rtv_breitwigner' ignored\n",
        "Exception ZeroDivisionError: 'float division' in 'probfit.pdf.rtv_breitwigner' ignored\n",
        "Exception ZeroDivisionError: 'float division' in 'probfit.pdf.rtv_breitwigner' ignored\n",
        "Exception ZeroDivisionError: 'float division' in 'probfit.pdf.rtv_breitwigner' ignored\n",
        "Exception ZeroDivisionError: 'float division' in 'probfit.pdf.rtv_breitwigner' ignored\n",
        "Exception ZeroDivisionError: 'float division' in 'probfit.pdf.rtv_breitwigner' ignored\n",
        "Exception ZeroDivisionError: 'float division' in 'probfit.pdf.rtv_breitwigner' ignored\n",
        "Exception ZeroDivisionError: 'float division' in 'probfit.pdf.rtv_breitwigner' ignored\n",
        "Exception ZeroDivisionError: 'float division' in 'probfit.pdf.rtv_breitwigner' ignored\n",
        "Exception ZeroDivisionError: 'float division' in 'probfit.pdf.rtv_breitwigner' ignored\n",
        "Exception ZeroDivisionError: 'float division' in 'probfit.pdf.rtv_breitwigner' ignored\n",
        "Exception ZeroDivisionError: 'float division' in 'probfit.pdf.rtv_breitwigner' ignored\n",
        "Exception ZeroDivisionError: 'float division' in 'probfit.pdf.rtv_breitwigner' ignored\n",
        "Exception ZeroDivisionError: 'float division' in 'probfit.pdf.rtv_breitwigner' ignored\n",
        "Exception ZeroDivisionError: 'float division' in 'probfit.pdf.rtv_breitwigner' ignored\n",
        "Exception ZeroDivisionError: 'float division' in 'probfit.pdf.rtv_breitwigner' ignored\n",
        "Exception ZeroDivisionError: 'float division' in 'probfit.pdf.rtv_breitwigner' ignored\n",
        "Exception ZeroDivisionError: 'float division' in 'probfit.pdf.rtv_breitwigner' ignored\n",
        "Exception ZeroDivisionError: 'float division' in 'probfit.pdf.rtv_breitwigner' ignored\n",
        "Exception ZeroDivisionError: 'float division' in 'probfit.pdf.rtv_breitwigner' ignored\n",
        "Exception ZeroDivisionError: 'float division' in 'probfit.pdf.rtv_breitwigner' ignored\n",
        "Exception ZeroDivisionError: 'float division' in 'probfit.pdf.rtv_breitwigner' ignored\n",
        "Exception ZeroDivisionError: 'float division' in 'probfit.pdf.rtv_breitwigner' ignored\n",
        "Exception ZeroDivisionError: 'float division' in 'probfit.pdf.rtv_breitwigner' ignored\n",
        "Exception ZeroDivisionError: 'float division' in 'probfit.pdf.rtv_breitwigner' ignored\n",
        "Exception ZeroDivisionError: 'float division' in 'probfit.pdf.rtv_breitwigner' ignored\n",
        "Exception ZeroDivisionError: 'float division' in 'probfit.pdf.rtv_breitwigner' ignored\n",
        "Exception ZeroDivisionError: 'float division' in 'probfit.pdf.rtv_breitwigner' ignored\n",
        "Exception ZeroDivisionError: 'float division' in 'probfit.pdf.rtv_breitwigner' ignored\n",
        "Exception ZeroDivisionError: 'float division' in 'probfit.pdf.rtv_breitwigner' ignored\n",
        "Exception ZeroDivisionError: 'float division' in 'probfit.pdf.rtv_breitwigner' ignored\n",
        "Exception ZeroDivisionError: 'float division' in 'probfit.pdf.rtv_breitwigner' ignored\n",
        "Exception ZeroDivisionError: 'float division' in 'probfit.pdf.rtv_breitwigner' ignored\n",
        "Exception ZeroDivisionError: 'float division' in 'probfit.pdf.rtv_breitwigner' ignored\n",
        "Exception ZeroDivisionError: 'float division' in 'probfit.pdf.rtv_breitwigner' ignored\n",
        "Exception ZeroDivisionError: 'float division' in 'probfit.pdf.rtv_breitwigner' ignored\n",
        "Exception ZeroDivisionError: 'float division' in 'probfit.pdf.rtv_breitwigner' ignored\n",
        "Exception ZeroDivisionError: 'float division' in 'probfit.pdf.rtv_breitwigner' ignored\n",
        "Exception ZeroDivisionError: 'float division' in 'probfit.pdf.rtv_breitwigner' ignored\n",
        "Exception ZeroDivisionError: 'float division' in 'probfit.pdf.rtv_breitwigner' ignored\n",
        "Exception ZeroDivisionError: 'float division' in 'probfit.pdf.rtv_breitwigner' ignored\n",
        "Exception ZeroDivisionError: 'float division' in 'probfit.pdf.rtv_breitwigner' ignored\n",
        "Exception ZeroDivisionError: 'float division' in 'probfit.pdf.rtv_breitwigner' ignored\n",
        "Exception ZeroDivisionError: 'float division' in 'probfit.pdf.rtv_breitwigner' ignored\n",
        "Exception ZeroDivisionError: 'float division' in 'probfit.pdf.rtv_breitwigner' ignored\n",
        "Exception ZeroDivisionError: 'float division' in 'probfit.pdf.rtv_breitwigner' ignored\n",
        "Exception ZeroDivisionError: 'float division' in 'probfit.pdf.rtv_breitwigner' ignored\n",
        "Exception ZeroDivisionError: 'float division' in 'probfit.pdf.rtv_breitwigner' ignored\n",
        "Exception ZeroDivisionError: 'float division' in 'probfit.pdf.rtv_breitwigner' ignored\n",
        "Exception ZeroDivisionError: 'float division' in 'probfit.pdf.rtv_breitwigner' ignored\n",
        "Exception ZeroDivisionError: 'float division' in 'probfit.pdf.rtv_breitwigner' ignored\n",
        "Exception ZeroDivisionError: 'float division' in 'probfit.pdf.rtv_breitwigner' ignored\n",
        "Exception ZeroDivisionError: 'float division' in 'probfit.pdf.rtv_breitwigner' ignored\n",
        "Exception ZeroDivisionError: 'float division' in 'probfit.pdf.rtv_breitwigner' ignored\n",
        "Exception ZeroDivisionError: 'float division' in 'probfit.pdf.rtv_breitwigner' ignored\n",
        "Exception ZeroDivisionError: 'float division' in 'probfit.pdf.rtv_breitwigner' ignored\n",
        "Exception ZeroDivisionError: 'float division' in 'probfit.pdf.rtv_breitwigner' ignored\n",
        "Exception ZeroDivisionError: 'float division' in 'probfit.pdf.rtv_breitwigner' ignored\n",
        "Exception ZeroDivisionError: 'float division' in 'probfit.pdf.rtv_breitwigner' ignored\n",
        "Exception ZeroDivisionError: 'float division' in 'probfit.pdf.rtv_breitwigner' ignored\n",
        "Exception ZeroDivisionError: 'float division' in 'probfit.pdf.rtv_breitwigner' ignored\n",
        "Exception ZeroDivisionError: 'float division' in 'probfit.pdf.rtv_breitwigner' ignored\n",
        "Exception ZeroDivisionError: 'float division' in 'probfit.pdf.rtv_breitwigner' ignored\n",
        "Exception ZeroDivisionError: 'float division' in 'probfit.pdf.rtv_breitwigner' ignored\n",
        "Exception ZeroDivisionError: 'float division' in 'probfit.pdf.rtv_breitwigner' ignored\n",
        "Exception ZeroDivisionError: 'float division' in 'probfit.pdf.rtv_breitwigner' ignored\n",
        "Exception ZeroDivisionError: 'float division' in 'probfit.pdf.rtv_breitwigner' ignored\n",
        "Exception ZeroDivisionError: 'float division' in 'probfit.pdf.rtv_breitwigner' ignored\n",
        "Exception ZeroDivisionError: 'float division' in 'probfit.pdf.rtv_breitwigner' ignored\n",
        "Exception ZeroDivisionError: 'float division' in 'probfit.pdf.rtv_breitwigner' ignored\n",
        "Exception ZeroDivisionError: 'float division' in 'probfit.pdf.rtv_breitwigner' ignored\n",
        "Exception ZeroDivisionError: 'float division' in 'probfit.pdf.rtv_breitwigner' ignored\n",
        "Exception ZeroDivisionError: 'float division' in 'probfit.pdf.rtv_breitwigner' ignored\n",
        "Exception ZeroDivisionError: 'float division' in 'probfit.pdf.rtv_breitwigner' ignored\n",
        "Exception ZeroDivisionError: 'float division' in 'probfit.pdf.rtv_breitwigner' ignored\n",
        "Exception ZeroDivisionError: 'float division' in 'probfit.pdf.rtv_breitwigner' ignored\n",
        "Exception ZeroDivisionError: 'float division' in 'probfit.pdf.rtv_breitwigner' ignored\n",
        "Exception ZeroDivisionError: 'float division' in 'probfit.pdf.rtv_breitwigner' ignored\n",
        "Exception ZeroDivisionError: 'float division' in 'probfit.pdf.rtv_breitwigner' ignored\n",
        "Exception ZeroDivisionError: 'float division' in 'probfit.pdf.rtv_breitwigner' ignored\n",
        "Exception ZeroDivisionError: 'float division' in 'probfit.pdf.rtv_breitwigner' ignored\n",
        "Exception ZeroDivisionError: 'float division' in 'probfit.pdf.rtv_breitwigner' ignored\n",
        "Exception ZeroDivisionError: 'float division' in 'probfit.pdf.rtv_breitwigner' ignored\n",
        "Exception ZeroDivisionError: 'float division' in 'probfit.pdf.rtv_breitwigner' ignored\n",
        "Exception ZeroDivisionError: 'float division' in 'probfit.pdf.rtv_breitwigner' ignored\n",
        "Exception ZeroDivisionError: 'float division' in 'probfit.pdf.rtv_breitwigner' ignored\n",
        "Exception ZeroDivisionError: 'float division' in 'probfit.pdf.rtv_breitwigner' ignored\n",
        "Exception ZeroDivisionError: 'float division' in 'probfit.pdf.rtv_breitwigner' ignored\n",
        "Exception ZeroDivisionError: 'float division' in 'probfit.pdf.rtv_breitwigner' ignored\n",
        "Exception ZeroDivisionError: 'float division' in 'probfit.pdf.rtv_breitwigner' ignored\n",
        "Exception ZeroDivisionError: 'float division' in 'probfit.pdf.rtv_breitwigner' ignored\n",
        "Exception ZeroDivisionError: 'float division' in 'probfit.pdf.rtv_breitwigner' ignored\n",
        "Exception ZeroDivisionError: 'float division' in 'probfit.pdf.rtv_breitwigner' ignored\n",
        "Exception ZeroDivisionError: 'float division' in 'probfit.pdf.rtv_breitwigner' ignored\n",
        "Exception ZeroDivisionError: 'float division' in 'probfit.pdf.rtv_breitwigner' ignored\n",
        "Exception ZeroDivisionError: 'float division' in 'probfit.pdf.rtv_breitwigner' ignored\n",
        "Exception ZeroDivisionError: 'float division' in 'probfit.pdf.rtv_breitwigner' ignored\n",
        "Exception ZeroDivisionError: 'float division' in 'probfit.pdf.rtv_breitwigner' ignored\n",
        "Exception ZeroDivisionError: 'float division' in 'probfit.pdf.rtv_breitwigner' ignored\n",
        "Exception ZeroDivisionError: 'float division' in 'probfit.pdf.rtv_breitwigner' ignored\n",
        "Exception ZeroDivisionError: 'float division' in 'probfit.pdf.rtv_breitwigner' ignored\n",
        "Exception ZeroDivisionError: 'float division' in 'probfit.pdf.rtv_breitwigner' ignored\n",
        "Exception ZeroDivisionError: 'float division' in 'probfit.pdf.rtv_breitwigner' ignored\n",
        "Exception ZeroDivisionError: 'float division' in 'probfit.pdf.rtv_breitwigner' ignored\n",
        "Exception ZeroDivisionError: 'float division' in 'probfit.pdf.rtv_breitwigner' ignored\n",
        "Exception ZeroDivisionError: 'float division' in 'probfit.pdf.rtv_breitwigner' ignored\n",
        "Exception ZeroDivisionError: 'float division' in 'probfit.pdf.rtv_breitwigner' ignored\n",
        "Exception ZeroDivisionError: 'float division' in 'probfit.pdf.rtv_breitwigner' ignored\n",
        "Exception ZeroDivisionError: 'float division' in 'probfit.pdf.rtv_breitwigner' ignored\n",
        "Exception ZeroDivisionError: 'float division' in 'probfit.pdf.rtv_breitwigner' ignored\n",
        "Exception ZeroDivisionError: 'float division' in 'probfit.pdf.rtv_breitwigner' ignored\n",
        "Exception ZeroDivisionError: 'float division' in 'probfit.pdf.rtv_breitwigner' ignored\n",
        "Exception ZeroDivisionError: 'float division' in 'probfit.pdf.rtv_breitwigner' ignored\n",
        "Exception ZeroDivisionError: 'float division' in 'probfit.pdf.rtv_breitwigner' ignored\n",
        "Exception ZeroDivisionError: 'float division' in 'probfit.pdf.rtv_breitwigner' ignored\n",
        "Exception ZeroDivisionError: 'float division' in 'probfit.pdf.rtv_breitwigner' ignored\n",
        "Exception ZeroDivisionError: 'float division' in 'probfit.pdf.rtv_breitwigner' ignored\n",
        "Exception ZeroDivisionError: 'float division' in 'probfit.pdf.rtv_breitwigner' ignored\n",
        "Exception ZeroDivisionError: 'float division' in 'probfit.pdf.rtv_breitwigner' ignored\n",
        "Exception ZeroDivisionError: 'float division' in 'probfit.pdf.rtv_breitwigner' ignored\n",
        "Exception ZeroDivisionError: 'float division' in 'probfit.pdf.rtv_breitwigner' ignored\n",
        "Exception ZeroDivisionError: 'float division' in 'probfit.pdf.rtv_breitwigner' ignored\n",
        "Exception ZeroDivisionError: 'float division' in 'probfit.pdf.rtv_breitwigner' ignored\n",
        "Exception ZeroDivisionError: 'float division' in 'probfit.pdf.rtv_breitwigner' ignored\n",
        "Exception ZeroDivisionError: 'float division' in 'probfit.pdf.rtv_breitwigner' ignored\n",
        "Exception ZeroDivisionError: 'float division' in 'probfit.pdf.rtv_breitwigner' ignored\n",
        "Exception ZeroDivisionError: 'float division' in 'probfit.pdf.rtv_breitwigner' ignored\n",
        "Exception ZeroDivisionError: 'float division' in 'probfit.pdf.rtv_breitwigner' ignored\n",
        "Exception ZeroDivisionError: 'float division' in 'probfit.pdf.rtv_breitwigner' ignored\n",
        "Exception ZeroDivisionError: 'float division' in 'probfit.pdf.rtv_breitwigner' ignored\n",
        "Exception ZeroDivisionError: 'float division' in 'probfit.pdf.rtv_breitwigner' ignored\n",
        "Exception ZeroDivisionError: 'float division' in 'probfit.pdf.rtv_breitwigner' ignored\n",
        "Exception ZeroDivisionError: 'float division' in 'probfit.pdf.rtv_breitwigner' ignored\n",
        "Exception ZeroDivisionError: 'float division' in 'probfit.pdf.rtv_breitwigner' ignored\n",
        "Exception ZeroDivisionError: 'float division' in 'probfit.pdf.rtv_breitwigner' ignored\n",
        "Exception ZeroDivisionError: 'float division' in 'probfit.pdf.rtv_breitwigner' ignored\n",
        "Exception ZeroDivisionError: 'float division' in 'probfit.pdf.rtv_breitwigner' ignored\n",
        "Exception ZeroDivisionError: 'float division' in 'probfit.pdf.rtv_breitwigner' ignored\n",
        "Exception ZeroDivisionError: 'float division' in 'probfit.pdf.rtv_breitwigner' ignored\n",
        "Exception ZeroDivisionError: 'float division' in 'probfit.pdf.rtv_breitwigner' ignored\n",
        "Exception ZeroDivisionError: 'float division' in 'probfit.pdf.rtv_breitwigner' ignored\n",
        "Exception ZeroDivisionError: 'float division' in 'probfit.pdf.rtv_breitwigner' ignored\n",
        "Exception ZeroDivisionError: 'float division' in 'probfit.pdf.rtv_breitwigner' ignored\n",
        "Exception ZeroDivisionError: 'float division' in 'probfit.pdf.rtv_breitwigner' ignored\n",
        "Exception ZeroDivisionError: 'float division' in 'probfit.pdf.rtv_breitwigner' ignored\n",
        "Exception ZeroDivisionError: 'float division' in 'probfit.pdf.rtv_breitwigner' ignored\n",
        "Exception ZeroDivisionError: 'float division' in 'probfit.pdf.rtv_breitwigner' ignored\n",
        "Exception ZeroDivisionError: 'float division' in 'probfit.pdf.rtv_breitwigner' ignored\n",
        "Exception ZeroDivisionError: 'float division' in 'probfit.pdf.rtv_breitwigner' ignored\n",
        "Exception ZeroDivisionError: 'float division' in 'probfit.pdf.rtv_breitwigner' ignored\n",
        "Exception ZeroDivisionError: 'float division' in 'probfit.pdf.rtv_breitwigner' ignored\n",
        "Exception ZeroDivisionError: 'float division' in 'probfit.pdf.rtv_breitwigner' ignored\n",
        "Exception ZeroDivisionError: 'float division' in 'probfit.pdf.rtv_breitwigner' ignored\n",
        "Exception ZeroDivisionError: 'float division' in 'probfit.pdf.rtv_breitwigner' ignored\n",
        "Exception ZeroDivisionError: 'float division' in 'probfit.pdf.rtv_breitwigner' ignored\n",
        "Exception ZeroDivisionError: 'float division' in 'probfit.pdf.rtv_breitwigner' ignored\n",
        "Exception ZeroDivisionError: 'float division' in 'probfit.pdf.rtv_breitwigner' ignored\n",
        "Exception ZeroDivisionError: 'float division' in 'probfit.pdf.rtv_breitwigner' ignored\n",
        "Exception ZeroDivisionError: 'float division' in 'probfit.pdf.rtv_breitwigner' ignored\n",
        "Exception ZeroDivisionError: 'float division' in 'probfit.pdf.rtv_breitwigner' ignored\n",
        "Exception ZeroDivisionError: 'float division' in 'probfit.pdf.rtv_breitwigner' ignored\n",
        "Exception ZeroDivisionError: 'float division' in 'probfit.pdf.rtv_breitwigner' ignored\n",
        "Exception ZeroDivisionError: 'float division' in 'probfit.pdf.rtv_breitwigner' ignored\n",
        "Exception ZeroDivisionError: 'float division' in 'probfit.pdf.rtv_breitwigner' ignored\n",
        "Exception ZeroDivisionError: 'float division' in 'probfit.pdf.rtv_breitwigner' ignored\n",
        "Exception ZeroDivisionError: 'float division' in 'probfit.pdf.rtv_breitwigner' ignored\n",
        "Exception ZeroDivisionError: 'float division' in 'probfit.pdf.rtv_breitwigner' ignored\n",
        "Exception ZeroDivisionError: 'float division' in 'probfit.pdf.rtv_breitwigner' ignored\n",
        "Exception ZeroDivisionError: 'float division' in 'probfit.pdf.rtv_breitwigner' ignored\n",
        "Exception ZeroDivisionError: 'float division' in 'probfit.pdf.rtv_breitwigner' ignored\n",
        "Exception ZeroDivisionError: 'float division' in 'probfit.pdf.rtv_breitwigner' ignored\n",
        "Exception ZeroDivisionError: 'float division' in 'probfit.pdf.rtv_breitwigner' ignored\n",
        "Exception ZeroDivisionError: 'float division' in 'probfit.pdf.rtv_breitwigner' ignored\n",
        "Exception ZeroDivisionError: 'float division' in 'probfit.pdf.rtv_breitwigner' ignored\n",
        "Exception ZeroDivisionError: 'float division' in 'probfit.pdf.rtv_breitwigner' ignored\n",
        "Exception ZeroDivisionError: 'float division' in 'probfit.pdf.rtv_breitwigner' ignored\n",
        "Exception ZeroDivisionError: 'float division' in 'probfit.pdf.rtv_breitwigner' ignored\n",
        "Exception ZeroDivisionError: 'float division' in 'probfit.pdf.rtv_breitwigner' ignored\n",
        "Exception ZeroDivisionError: 'float division' in 'probfit.pdf.rtv_breitwigner' ignored\n",
        "Exception ZeroDivisionError: 'float division' in 'probfit.pdf.rtv_breitwigner' ignored\n",
        "Exception ZeroDivisionError: 'float division' in 'probfit.pdf.rtv_breitwigner' ignored\n",
        "Exception ZeroDivisionError: 'float division' in 'probfit.pdf.rtv_breitwigner' ignored\n",
        "Exception ZeroDivisionError: 'float division' in 'probfit.pdf.rtv_breitwigner' ignored\n",
        "Exception ZeroDivisionError: 'float division' in 'probfit.pdf.rtv_breitwigner' ignored\n",
        "Exception ZeroDivisionError: 'float division' in 'probfit.pdf.rtv_breitwigner' ignored\n",
        "Exception ZeroDivisionError: 'float division' in 'probfit.pdf.rtv_breitwigner' ignored\n",
        "Exception ZeroDivisionError: 'float division' in 'probfit.pdf.rtv_breitwigner' ignored\n",
        "Exception ZeroDivisionError: 'float division' in 'probfit.pdf.rtv_breitwigner' ignored\n",
        "Exception ZeroDivisionError: 'float division' in 'probfit.pdf.rtv_breitwigner' ignored\n",
        "Exception ZeroDivisionError: 'float division' in 'probfit.pdf.rtv_breitwigner' ignored\n",
        "Exception ZeroDivisionError: 'float division' in 'probfit.pdf.rtv_breitwigner' ignored\n",
        "Exception ZeroDivisionError: 'float division' in 'probfit.pdf.rtv_breitwigner' ignored\n",
        "Exception ZeroDivisionError: 'float division' in 'probfit.pdf.rtv_breitwigner' ignored\n",
        "Exception ZeroDivisionError: 'float division' in 'probfit.pdf.rtv_breitwigner' ignored\n",
        "Exception ZeroDivisionError: 'float division' in 'probfit.pdf.rtv_breitwigner' ignored\n",
        "Exception ZeroDivisionError: 'float division' in 'probfit.pdf.rtv_breitwigner' ignored\n",
        "Exception ZeroDivisionError: 'float division' in 'probfit.pdf.rtv_breitwigner' ignored\n",
        "Exception ZeroDivisionError: 'float division' in 'probfit.pdf.rtv_breitwigner' ignored\n",
        "Exception ZeroDivisionError: 'float division' in 'probfit.pdf.rtv_breitwigner' ignored\n",
        "Exception ZeroDivisionError: 'float division' in 'probfit.pdf.rtv_breitwigner' ignored\n",
        "Exception ZeroDivisionError: 'float division' in 'probfit.pdf.rtv_breitwigner' ignored\n",
        "Exception ZeroDivisionError: 'float division' in 'probfit.pdf.rtv_breitwigner' ignored\n",
        "Exception ZeroDivisionError: 'float division' in 'probfit.pdf.rtv_breitwigner' ignored\n",
        "Exception ZeroDivisionError: 'float division' in 'probfit.pdf.rtv_breitwigner' ignored\n",
        "Exception ZeroDivisionError: 'float division' in 'probfit.pdf.rtv_breitwigner' ignored\n",
        "Exception ZeroDivisionError: 'float division' in 'probfit.pdf.rtv_breitwigner' ignored\n",
        "Exception ZeroDivisionError: 'float division' in 'probfit.pdf.rtv_breitwigner' ignored\n",
        "Exception ZeroDivisionError: 'float division' in 'probfit.pdf.rtv_breitwigner' ignored\n",
        "Exception ZeroDivisionError: 'float division' in 'probfit.pdf.rtv_breitwigner' ignored\n",
        "Exception ZeroDivisionError: 'float division' in 'probfit.pdf.rtv_breitwigner' ignored\n",
        "Exception ZeroDivisionError: 'float division' in 'probfit.pdf.rtv_breitwigner' ignored\n",
        "Exception ZeroDivisionError: 'float division' in 'probfit.pdf.rtv_breitwigner' ignored\n",
        "Exception ZeroDivisionError: 'float division' in 'probfit.pdf.rtv_breitwigner' ignored\n",
        "Exception ZeroDivisionError: 'float division' in 'probfit.pdf.rtv_breitwigner' ignored\n",
        "Exception ZeroDivisionError: 'float division' in 'probfit.pdf.rtv_breitwigner' ignored\n",
        "Exception ZeroDivisionError: 'float division' in 'probfit.pdf.rtv_breitwigner' ignored\n",
        "Exception ZeroDivisionError: 'float division' in 'probfit.pdf.rtv_breitwigner' ignored\n",
        "Exception ZeroDivisionError: 'float division' in 'probfit.pdf.rtv_breitwigner' ignored\n",
        "Exception ZeroDivisionError: 'float division' in 'probfit.pdf.rtv_breitwigner' ignored\n",
        "Exception ZeroDivisionError: 'float division' in 'probfit.pdf.rtv_breitwigner' ignored\n",
        "Exception ZeroDivisionError: 'float division' in 'probfit.pdf.rtv_breitwigner' ignored\n",
        "Exception ZeroDivisionError: 'float division' in 'probfit.pdf.rtv_breitwigner' ignored\n",
        "Exception ZeroDivisionError: 'float division' in 'probfit.pdf.rtv_breitwigner' ignored\n",
        "Exception ZeroDivisionError: 'float division' in 'probfit.pdf.rtv_breitwigner' ignored\n",
        "Exception ZeroDivisionError: 'float division' in 'probfit.pdf.rtv_breitwigner' ignored\n",
        "Exception ZeroDivisionError: 'float division' in 'probfit.pdf.rtv_breitwigner' ignored\n",
        "Exception ZeroDivisionError: 'float division' in 'probfit.pdf.rtv_breitwigner' ignored\n",
        "Exception ZeroDivisionError: 'float division' in 'probfit.pdf.rtv_breitwigner' ignored\n",
        "Exception ZeroDivisionError: 'float division' in 'probfit.pdf.rtv_breitwigner' ignored\n",
        "Exception ZeroDivisionError: 'float division' in 'probfit.pdf.rtv_breitwigner' ignored\n",
        "Exception ZeroDivisionError: 'float division' in 'probfit.pdf.rtv_breitwigner' ignored\n",
        "Exception ZeroDivisionError: 'float division' in 'probfit.pdf.rtv_breitwigner' ignored\n",
        "Exception ZeroDivisionError: 'float division' in 'probfit.pdf.rtv_breitwigner' ignored\n",
        "Exception ZeroDivisionError: 'float division' in 'probfit.pdf.rtv_breitwigner' ignored\n",
        "Exception ZeroDivisionError: 'float division' in 'probfit.pdf.rtv_breitwigner' ignored\n",
        "Exception ZeroDivisionError: 'float division' in 'probfit.pdf.rtv_breitwigner' ignored\n",
        "Exception ZeroDivisionError: 'float division' in 'probfit.pdf.rtv_breitwigner' ignored\n",
        "Exception ZeroDivisionError: 'float division' in 'probfit.pdf.rtv_breitwigner' ignored\n",
        "Exception ZeroDivisionError: 'float division' in 'probfit.pdf.rtv_breitwigner' ignored\n",
        "Exception ZeroDivisionError: 'float division' in 'probfit.pdf.rtv_breitwigner' ignored\n",
        "Exception ZeroDivisionError: 'float division' in 'probfit.pdf.rtv_breitwigner' ignored\n",
        "Exception ZeroDivisionError: 'float division' in 'probfit.pdf.rtv_breitwigner' ignored\n",
        "Exception ZeroDivisionError: 'float division' in 'probfit.pdf.rtv_breitwigner' ignored\n",
        "Exception ZeroDivisionError: 'float division' in 'probfit.pdf.rtv_breitwigner' ignored\n",
        "Exception ZeroDivisionError: 'float division' in 'probfit.pdf.rtv_breitwigner' ignored\n",
        "Exception ZeroDivisionError: 'float division' in 'probfit.pdf.rtv_breitwigner' ignored\n",
        "Exception ZeroDivisionError: 'float division' in 'probfit.pdf.rtv_breitwigner' ignored\n",
        "Exception ZeroDivisionError: 'float division' in 'probfit.pdf.rtv_breitwigner' ignored\n",
        "Exception ZeroDivisionError: 'float division' in 'probfit.pdf.rtv_breitwigner' ignored\n",
        "Exception ZeroDivisionError: 'float division' in 'probfit.pdf.rtv_breitwigner' ignored\n",
        "Exception ZeroDivisionError: 'float division' in 'probfit.pdf.rtv_breitwigner' ignored\n",
        "Exception ZeroDivisionError: 'float division' in 'probfit.pdf.rtv_breitwigner' ignored\n",
        "Exception ZeroDivisionError: 'float division' in 'probfit.pdf.rtv_breitwigner' ignored\n",
        "Exception ZeroDivisionError: 'float division' in 'probfit.pdf.rtv_breitwigner' ignored\n",
        "Exception ZeroDivisionError: 'float division' in 'probfit.pdf.rtv_breitwigner' ignored\n",
        "Exception ZeroDivisionError: 'float division' in 'probfit.pdf.rtv_breitwigner' ignored\n",
        "Exception ZeroDivisionError: 'float division' in 'probfit.pdf.rtv_breitwigner' ignored\n",
        "Exception ZeroDivisionError: 'float division' in 'probfit.pdf.rtv_breitwigner' ignored\n",
        "Exception ZeroDivisionError: 'float division' in 'probfit.pdf.rtv_breitwigner' ignored\n",
        "Exception ZeroDivisionError: 'float division' in 'probfit.pdf.rtv_breitwigner' ignored\n",
        "Exception ZeroDivisionError: 'float division' in 'probfit.pdf.rtv_breitwigner' ignored\n",
        "Exception ZeroDivisionError: 'float division' in 'probfit.pdf.rtv_breitwigner' ignored\n",
        "Exception ZeroDivisionError: 'float division' in 'probfit.pdf.rtv_breitwigner' ignored\n",
        "Exception ZeroDivisionError: 'float division' in 'probfit.pdf.rtv_breitwigner' ignored\n",
        "Exception ZeroDivisionError: 'float division' in 'probfit.pdf.rtv_breitwigner' ignored\n",
        "Exception ZeroDivisionError: 'float division' in 'probfit.pdf.rtv_breitwigner' ignored\n",
        "Exception ZeroDivisionError: 'float division' in 'probfit.pdf.rtv_breitwigner' ignored\n",
        "Exception ZeroDivisionError: 'float division' in 'probfit.pdf.rtv_breitwigner' ignored\n",
        "Exception ZeroDivisionError: 'float division' in 'probfit.pdf.rtv_breitwigner' ignored\n",
        "Exception ZeroDivisionError: 'float division' in 'probfit.pdf.rtv_breitwigner' ignored\n",
        "Exception ZeroDivisionError: 'float division' in 'probfit.pdf.rtv_breitwigner' ignored\n",
        "Exception ZeroDivisionError: 'float division' in 'probfit.pdf.rtv_breitwigner' ignored\n",
        "Exception ZeroDivisionError: 'float division' in 'probfit.pdf.rtv_breitwigner' ignored\n",
        "Exception ZeroDivisionError: 'float division' in 'probfit.pdf.rtv_breitwigner' ignored\n",
        "Exception ZeroDivisionError: 'float division' in 'probfit.pdf.rtv_breitwigner' ignored\n",
        "Exception ZeroDivisionError: 'float division' in 'probfit.pdf.rtv_breitwigner' ignored\n",
        "Exception ZeroDivisionError: 'float division' in 'probfit.pdf.rtv_breitwigner' ignored\n",
        "Exception ZeroDivisionError: 'float division' in 'probfit.pdf.rtv_breitwigner' ignored\n",
        "Exception ZeroDivisionError: 'float division' in 'probfit.pdf.rtv_breitwigner' ignored\n",
        "Exception ZeroDivisionError: 'float division' in 'probfit.pdf.rtv_breitwigner' ignored\n",
        "Exception ZeroDivisionError: 'float division' in 'probfit.pdf.rtv_breitwigner' ignored\n",
        "Exception ZeroDivisionError: 'float division' in 'probfit.pdf.rtv_breitwigner' ignored\n",
        "Exception ZeroDivisionError: 'float division' in 'probfit.pdf.rtv_breitwigner' ignored\n",
        "Exception ZeroDivisionError: 'float division' in 'probfit.pdf.rtv_breitwigner' ignored\n",
        "Exception ZeroDivisionError: 'float division' in 'probfit.pdf.rtv_breitwigner' ignored\n",
        "Exception ZeroDivisionError: 'float division' in 'probfit.pdf.rtv_breitwigner' ignored\n",
        "Exception ZeroDivisionError: 'float division' in 'probfit.pdf.rtv_breitwigner' ignored\n",
        "Exception ZeroDivisionError: 'float division' in 'probfit.pdf.rtv_breitwigner' ignored\n",
        "Exception ZeroDivisionError: 'float division' in 'probfit.pdf.rtv_breitwigner' ignored\n",
        "Exception ZeroDivisionError: 'float division' in 'probfit.pdf.rtv_breitwigner' ignored\n",
        "Exception ZeroDivisionError: 'float division' in 'probfit.pdf.rtv_breitwigner' ignored\n",
        "Exception ZeroDivisionError: 'float division' in 'probfit.pdf.rtv_breitwigner' ignored\n",
        "Exception ZeroDivisionError: 'float division' in 'probfit.pdf.rtv_breitwigner' ignored\n",
        "Exception ZeroDivisionError: 'float division' in 'probfit.pdf.rtv_breitwigner' ignored\n",
        "Exception ZeroDivisionError: 'float division' in 'probfit.pdf.rtv_breitwigner' ignored\n",
        "Exception ZeroDivisionError: 'float division' in 'probfit.pdf.rtv_breitwigner' ignored\n",
        "Exception ZeroDivisionError: 'float division' in 'probfit.pdf.rtv_breitwigner' ignored\n",
        "Exception ZeroDivisionError: 'float division' in 'probfit.pdf.rtv_breitwigner' ignored\n",
        "Exception ZeroDivisionError: 'float division' in 'probfit.pdf.rtv_breitwigner' ignored\n",
        "Exception ZeroDivisionError: 'float division' in 'probfit.pdf.rtv_breitwigner' ignored\n",
        "Exception ZeroDivisionError: 'float division' in 'probfit.pdf.rtv_breitwigner' ignored\n",
        "Exception ZeroDivisionError: 'float division' in 'probfit.pdf.rtv_breitwigner' ignored\n",
        "Exception ZeroDivisionError: 'float division' in 'probfit.pdf.rtv_breitwigner' ignored\n",
        "Exception ZeroDivisionError: 'float division' in 'probfit.pdf.rtv_breitwigner' ignored\n",
        "Exception ZeroDivisionError: 'float division' in 'probfit.pdf.rtv_breitwigner' ignored\n",
        "Exception ZeroDivisionError: 'float division' in 'probfit.pdf.rtv_breitwigner' ignored\n",
        "Exception ZeroDivisionError: 'float division' in 'probfit.pdf.rtv_breitwigner' ignored\n",
        "Exception ZeroDivisionError: 'float division' in 'probfit.pdf.rtv_breitwigner' ignored\n",
        "Exception ZeroDivisionError: 'float division' in 'probfit.pdf.rtv_breitwigner' ignored\n",
        "Exception ZeroDivisionError: 'float division' in 'probfit.pdf.rtv_breitwigner' ignored\n",
        "Exception ZeroDivisionError: 'float division' in 'probfit.pdf.rtv_breitwigner' ignored\n",
        "Exception ZeroDivisionError: 'float division' in 'probfit.pdf.rtv_breitwigner' ignored\n",
        "Exception ZeroDivisionError: 'float division' in 'probfit.pdf.rtv_breitwigner' ignored\n",
        "Exception ZeroDivisionError: 'float division' in 'probfit.pdf.rtv_breitwigner' ignored\n",
        "Exception ZeroDivisionError: 'float division' in 'probfit.pdf.rtv_breitwigner' ignored\n",
        "Exception ZeroDivisionError: 'float division' in 'probfit.pdf.rtv_breitwigner' ignored\n",
        "Exception ZeroDivisionError: 'float division' in 'probfit.pdf.rtv_breitwigner' ignored\n",
        "Exception ZeroDivisionError: 'float division' in 'probfit.pdf.rtv_breitwigner' ignored\n",
        "Exception ZeroDivisionError: 'float division' in 'probfit.pdf.rtv_breitwigner' ignored\n",
        "Exception ZeroDivisionError: 'float division' in 'probfit.pdf.rtv_breitwigner' ignored\n",
        "Exception ZeroDivisionError: 'float division' in 'probfit.pdf.rtv_breitwigner' ignored\n",
        "Exception ZeroDivisionError: 'float division' in 'probfit.pdf.rtv_breitwigner' ignored\n",
        "Exception ZeroDivisionError: 'float division' in 'probfit.pdf.rtv_breitwigner' ignored\n",
        "Exception ZeroDivisionError: 'float division' in 'probfit.pdf.rtv_breitwigner' ignored\n",
        "Exception ZeroDivisionError: 'float division' in 'probfit.pdf.rtv_breitwigner' ignored\n",
        "Exception ZeroDivisionError: 'float division' in 'probfit.pdf.rtv_breitwigner' ignored\n",
        "Exception ZeroDivisionError: 'float division' in 'probfit.pdf.rtv_breitwigner' ignored\n",
        "Exception ZeroDivisionError: 'float division' in 'probfit.pdf.rtv_breitwigner' ignored\n",
        "Exception ZeroDivisionError: 'float division' in 'probfit.pdf.rtv_breitwigner' ignored\n",
        "Exception ZeroDivisionError: 'float division' in 'probfit.pdf.rtv_breitwigner' ignored\n",
        "Exception ZeroDivisionError: 'float division' in 'probfit.pdf.rtv_breitwigner' ignored\n",
        "Exception ZeroDivisionError: 'float division' in 'probfit.pdf.rtv_breitwigner' ignored\n",
        "Exception ZeroDivisionError: 'float division' in 'probfit.pdf.rtv_breitwigner' ignored\n",
        "Exception ZeroDivisionError: 'float division' in 'probfit.pdf.rtv_breitwigner' ignored\n",
        "Exception ZeroDivisionError: 'float division' in 'probfit.pdf.rtv_breitwigner' ignored\n",
        "Exception ZeroDivisionError: 'float division' in 'probfit.pdf.rtv_breitwigner' ignored\n",
        "Exception ZeroDivisionError: 'float division' in 'probfit.pdf.rtv_breitwigner' ignored\n",
        "Exception ZeroDivisionError: 'float division' in 'probfit.pdf.rtv_breitwigner' ignored\n",
        "Exception ZeroDivisionError: 'float division' in 'probfit.pdf.rtv_breitwigner' ignored\n",
        "Exception ZeroDivisionError: 'float division' in 'probfit.pdf.rtv_breitwigner' ignored\n",
        "Exception ZeroDivisionError: 'float division' in 'probfit.pdf.rtv_breitwigner' ignored\n",
        "Exception ZeroDivisionError: 'float division' in 'probfit.pdf.rtv_breitwigner' ignored\n",
        "Exception ZeroDivisionError: 'float division' in 'probfit.pdf.rtv_breitwigner' ignored\n",
        "Exception ZeroDivisionError: 'float division' in 'probfit.pdf.rtv_breitwigner' ignored\n",
        "Exception ZeroDivisionError: 'float division' in 'probfit.pdf.rtv_breitwigner' ignored\n",
        "Exception ZeroDivisionError: 'float division' in 'probfit.pdf.rtv_breitwigner' ignored\n",
        "Exception ZeroDivisionError: 'float division' in 'probfit.pdf.rtv_breitwigner' ignored\n",
        "Exception ZeroDivisionError: 'float division' in 'probfit.pdf.rtv_breitwigner' ignored\n",
        "Exception ZeroDivisionError: 'float division' in 'probfit.pdf.rtv_breitwigner' ignored\n",
        "Exception ZeroDivisionError: 'float division' in 'probfit.pdf.rtv_breitwigner' ignored\n",
        "Exception ZeroDivisionError: 'float division' in 'probfit.pdf.rtv_breitwigner' ignored\n",
        "Exception ZeroDivisionError: 'float division' in 'probfit.pdf.rtv_breitwigner' ignored\n",
        "Exception ZeroDivisionError: 'float division' in 'probfit.pdf.rtv_breitwigner' ignored\n",
        "Exception ZeroDivisionError: 'float division' in 'probfit.pdf.rtv_breitwigner' ignored\n",
        "Exception ZeroDivisionError: 'float division' in 'probfit.pdf.rtv_breitwigner' ignored\n",
        "Exception ZeroDivisionError: 'float division' in 'probfit.pdf.rtv_breitwigner' ignored\n",
        "Exception ZeroDivisionError: 'float division' in 'probfit.pdf.rtv_breitwigner' ignored\n",
        "Exception ZeroDivisionError: 'float division' in 'probfit.pdf.rtv_breitwigner' ignored\n",
        "Exception ZeroDivisionError: 'float division' in 'probfit.pdf.rtv_breitwigner' ignored\n",
        "Exception ZeroDivisionError: 'float division' in 'probfit.pdf.rtv_breitwigner' ignored\n",
        "Exception ZeroDivisionError: 'float division' in 'probfit.pdf.rtv_breitwigner' ignored\n",
        "Exception ZeroDivisionError: 'float division' in 'probfit.pdf.rtv_breitwigner' ignored\n",
        "Exception ZeroDivisionError: 'float division' in 'probfit.pdf.rtv_breitwigner' ignored\n",
        "Exception ZeroDivisionError: 'float division' in 'probfit.pdf.rtv_breitwigner' ignored\n",
        "Exception ZeroDivisionError: 'float division' in 'probfit.pdf.rtv_breitwigner' ignored\n",
        "Exception ZeroDivisionError: 'float division' in 'probfit.pdf.rtv_breitwigner' ignored\n",
        "Exception ZeroDivisionError: 'float division' in 'probfit.pdf.rtv_breitwigner' ignored\n",
        "Exception ZeroDivisionError: 'float division' in 'probfit.pdf.rtv_breitwigner' ignored\n",
        "Exception ZeroDivisionError: 'float division' in 'probfit.pdf.rtv_breitwigner' ignored\n",
        "Exception ZeroDivisionError: 'float division' in 'probfit.pdf.rtv_breitwigner' ignored\n",
        "Exception ZeroDivisionError: 'float division' in 'probfit.pdf.rtv_breitwigner' ignored\n",
        "Exception ZeroDivisionError: 'float division' in 'probfit.pdf.rtv_breitwigner' ignored\n",
        "Exception ZeroDivisionError: 'float division' in 'probfit.pdf.rtv_breitwigner' ignored\n",
        "Exception ZeroDivisionError: 'float division' in 'probfit.pdf.rtv_breitwigner' ignored\n",
        "Exception ZeroDivisionError: 'float division' in 'probfit.pdf.rtv_breitwigner' ignored\n",
        "Exception ZeroDivisionError: 'float division' in 'probfit.pdf.rtv_breitwigner' ignored\n",
        "Exception ZeroDivisionError: 'float division' in 'probfit.pdf.rtv_breitwigner' ignored\n",
        "Exception ZeroDivisionError: 'float division' in 'probfit.pdf.rtv_breitwigner' ignored\n",
        "Exception ZeroDivisionError: 'float division' in 'probfit.pdf.rtv_breitwigner' ignored\n",
        "Exception ZeroDivisionError: 'float division' in 'probfit.pdf.rtv_breitwigner' ignored\n",
        "Exception ZeroDivisionError: 'float division' in 'probfit.pdf.rtv_breitwigner' ignored\n",
        "Exception ZeroDivisionError: 'float division' in 'probfit.pdf.rtv_breitwigner' ignored\n",
        "Exception ZeroDivisionError: 'float division' in 'probfit.pdf.rtv_breitwigner' ignored\n",
        "Exception ZeroDivisionError: 'float division' in 'probfit.pdf.rtv_breitwigner' ignored\n",
        "Exception ZeroDivisionError: 'float division' in 'probfit.pdf.rtv_breitwigner' ignored\n",
        "Exception ZeroDivisionError: 'float division' in 'probfit.pdf.rtv_breitwigner' ignored\n",
        "Exception ZeroDivisionError: 'float division' in 'probfit.pdf.rtv_breitwigner' ignored\n",
        "Exception ZeroDivisionError: 'float division' in 'probfit.pdf.rtv_breitwigner' ignored\n",
        "Exception ZeroDivisionError: 'float division' in 'probfit.pdf.rtv_breitwigner' ignored\n",
        "Exception ZeroDivisionError: 'float division' in 'probfit.pdf.rtv_breitwigner' ignored\n",
        "Exception ZeroDivisionError: 'float division' in 'probfit.pdf.rtv_breitwigner' ignored\n",
        "Exception ZeroDivisionError: 'float division' in 'probfit.pdf.rtv_breitwigner' ignored\n",
        "Exception ZeroDivisionError: 'float division' in 'probfit.pdf.rtv_breitwigner' ignored\n",
        "Exception ZeroDivisionError: 'float division' in 'probfit.pdf.rtv_breitwigner' ignored\n",
        "Exception ZeroDivisionError: 'float division' in 'probfit.pdf.rtv_breitwigner' ignored\n",
        "Exception ZeroDivisionError: 'float division' in 'probfit.pdf.rtv_breitwigner' ignored\n",
        "Exception ZeroDivisionError: 'float division' in 'probfit.pdf.rtv_breitwigner' ignored\n",
        "Exception ZeroDivisionError: 'float division' in 'probfit.pdf.rtv_breitwigner' ignored\n",
        "Exception ZeroDivisionError: 'float division' in 'probfit.pdf.rtv_breitwigner' ignored\n",
        "Exception ZeroDivisionError: 'float division' in 'probfit.pdf.rtv_breitwigner' ignored\n",
        "Exception ZeroDivisionError: 'float division' in 'probfit.pdf.rtv_breitwigner' ignored\n",
        "Exception ZeroDivisionError: 'float division' in 'probfit.pdf.rtv_breitwigner' ignored\n",
        "Exception ZeroDivisionError: 'float division' in 'probfit.pdf.rtv_breitwigner' ignored\n",
        "Exception ZeroDivisionError: 'float division' in 'probfit.pdf.rtv_breitwigner' ignored\n",
        "Exception ZeroDivisionError: 'float division' in 'probfit.pdf.rtv_breitwigner' ignored\n",
        "Exception ZeroDivisionError: 'float division' in 'probfit.pdf.rtv_breitwigner' ignored\n",
        "Exception ZeroDivisionError: 'float division' in 'probfit.pdf.rtv_breitwigner' ignored\n",
        "Exception ZeroDivisionError: 'float division' in 'probfit.pdf.rtv_breitwigner' ignored\n",
        "Exception ZeroDivisionError: 'float division' in 'probfit.pdf.rtv_breitwigner' ignored\n",
        "Exception ZeroDivisionError: 'float division' in 'probfit.pdf.rtv_breitwigner' ignored\n",
        "Exception ZeroDivisionError: 'float division' in 'probfit.pdf.rtv_breitwigner' ignored\n",
        "Exception ZeroDivisionError: 'float division' in 'probfit.pdf.rtv_breitwigner' ignored\n",
        "Exception ZeroDivisionError: 'float division' in 'probfit.pdf.rtv_breitwigner' ignored\n",
        "Exception ZeroDivisionError: 'float division' in 'probfit.pdf.rtv_breitwigner' ignored\n",
        "Exception ZeroDivisionError: 'float division' in 'probfit.pdf.rtv_breitwigner' ignored\n",
        "Exception ZeroDivisionError: 'float division' in 'probfit.pdf.rtv_breitwigner' ignored\n",
        "Exception ZeroDivisionError: 'float division' in 'probfit.pdf.rtv_breitwigner' ignored\n",
        "Exception ZeroDivisionError: 'float division' in 'probfit.pdf.rtv_breitwigner' ignored\n",
        "Exception ZeroDivisionError: 'float division' in 'probfit.pdf.rtv_breitwigner' ignored\n",
        "Exception ZeroDivisionError: 'float division' in 'probfit.pdf.rtv_breitwigner' ignored\n",
        "Exception ZeroDivisionError: 'float division' in 'probfit.pdf.rtv_breitwigner' ignored\n",
        "Exception ZeroDivisionError: 'float division' in 'probfit.pdf.rtv_breitwigner' ignored\n",
        "Exception ZeroDivisionError: 'float division' in 'probfit.pdf.rtv_breitwigner' ignored\n",
        "Exception ZeroDivisionError: 'float division' in 'probfit.pdf.rtv_breitwigner' ignored\n",
        "Exception ZeroDivisionError: 'float division' in 'probfit.pdf.rtv_breitwigner' ignored\n",
        "Exception ZeroDivisionError: 'float division' in 'probfit.pdf.rtv_breitwigner' ignored\n",
        "Exception ZeroDivisionError: 'float division' in 'probfit.pdf.rtv_breitwigner' ignored\n",
        "Exception ZeroDivisionError: 'float division' in 'probfit.pdf.rtv_breitwigner' ignored\n",
        "Exception ZeroDivisionError: 'float division' in 'probfit.pdf.rtv_breitwigner' ignored\n",
        "Exception ZeroDivisionError: 'float division' in 'probfit.pdf.rtv_breitwigner' ignored\n",
        "Exception ZeroDivisionError: 'float division' in 'probfit.pdf.rtv_breitwigner' ignored\n",
        "Exception ZeroDivisionError: 'float division' in 'probfit.pdf.rtv_breitwigner' ignored\n",
        "Exception ZeroDivisionError: 'float division' in 'probfit.pdf.rtv_breitwigner' ignored\n",
        "Exception ZeroDivisionError: 'float division' in 'probfit.pdf.rtv_breitwigner' ignored\n",
        "Exception ZeroDivisionError: 'float division' in 'probfit.pdf.rtv_breitwigner' ignored\n",
        "Exception ZeroDivisionError: 'float division' in 'probfit.pdf.rtv_breitwigner' ignored\n",
        "Exception ZeroDivisionError: 'float division' in 'probfit.pdf.rtv_breitwigner' ignored\n",
        "Exception ZeroDivisionError: 'float division' in 'probfit.pdf.rtv_breitwigner' ignored\n",
        "Exception ZeroDivisionError: 'float division' in 'probfit.pdf.rtv_breitwigner' ignored\n",
        "Exception ZeroDivisionError: 'float division' in 'probfit.pdf.rtv_breitwigner' ignored\n",
        "Exception ZeroDivisionError: 'float division' in 'probfit.pdf.rtv_breitwigner' ignored\n",
        "Exception ZeroDivisionError: 'float division' in 'probfit.pdf.rtv_breitwigner' ignored\n",
        "Exception ZeroDivisionError: 'float division' in 'probfit.pdf.rtv_breitwigner' ignored\n",
        "Exception ZeroDivisionError: 'float division' in 'probfit.pdf.rtv_breitwigner' ignored\n",
        "Exception ZeroDivisionError: 'float division' in 'probfit.pdf.rtv_breitwigner' ignored\n",
        "Exception ZeroDivisionError: 'float division' in 'probfit.pdf.rtv_breitwigner' ignored\n",
        "Exception ZeroDivisionError: 'float division' in 'probfit.pdf.rtv_breitwigner' ignored\n",
        "Exception ZeroDivisionError: 'float division' in 'probfit.pdf.rtv_breitwigner' ignored\n",
        "Exception ZeroDivisionError: 'float division' in 'probfit.pdf.rtv_breitwigner' ignored\n",
        "Exception ZeroDivisionError: 'float division' in 'probfit.pdf.rtv_breitwigner' ignored\n",
        "Exception ZeroDivisionError: 'float division' in 'probfit.pdf.rtv_breitwigner' ignored\n",
        "Exception ZeroDivisionError: 'float division' in 'probfit.pdf.rtv_breitwigner' ignored\n",
        "Exception ZeroDivisionError: 'float division' in 'probfit.pdf.rtv_breitwigner' ignored\n",
        "Exception ZeroDivisionError: 'float division' in 'probfit.pdf.rtv_breitwigner' ignored\n",
        "Exception ZeroDivisionError: 'float division' in 'probfit.pdf.rtv_breitwigner' ignored\n",
        "Exception ZeroDivisionError: 'float division' in 'probfit.pdf.rtv_breitwigner' ignored\n",
        "Exception ZeroDivisionError: 'float division' in 'probfit.pdf.rtv_breitwigner' ignored\n",
        "Exception ZeroDivisionError: 'float division' in 'probfit.pdf.rtv_breitwigner' ignored\n",
        "Exception ZeroDivisionError: 'float division' in 'probfit.pdf.rtv_breitwigner' ignored\n",
        "Exception ZeroDivisionError: 'float division' in 'probfit.pdf.rtv_breitwigner' ignored\n",
        "Exception ZeroDivisionError: 'float division' in 'probfit.pdf.rtv_breitwigner' ignored\n",
        "Exception ZeroDivisionError: 'float division' in 'probfit.pdf.rtv_breitwigner' ignored\n",
        "Exception ZeroDivisionError: 'float division' in 'probfit.pdf.rtv_breitwigner' ignored\n",
        "Exception ZeroDivisionError: 'float division' in 'probfit.pdf.rtv_breitwigner' ignored\n",
        "Exception ZeroDivisionError: 'float division' in 'probfit.pdf.rtv_breitwigner' ignored\n",
        "Exception ZeroDivisionError: 'float division' in 'probfit.pdf.rtv_breitwigner' ignored\n",
        "Exception ZeroDivisionError: 'float division' in 'probfit.pdf.rtv_breitwigner' ignored\n",
        "Exception ZeroDivisionError: 'float division' in 'probfit.pdf.rtv_breitwigner' ignored\n",
        "Exception ZeroDivisionError: 'float division' in 'probfit.pdf.rtv_breitwigner' ignored\n",
        "Exception ZeroDivisionError: 'float division' in 'probfit.pdf.rtv_breitwigner' ignored\n",
        "Exception ZeroDivisionError: 'float division' in 'probfit.pdf.rtv_breitwigner' ignored\n",
        "Exception ZeroDivisionError: 'float division' in 'probfit.pdf.rtv_breitwigner' ignored\n",
        "Exception ZeroDivisionError: 'float division' in 'probfit.pdf.rtv_breitwigner' ignored\n",
        "Exception ZeroDivisionError: 'float division' in 'probfit.pdf.rtv_breitwigner' ignored\n",
        "Exception ZeroDivisionError: 'float division' in 'probfit.pdf.rtv_breitwigner' ignored\n",
        "Exception ZeroDivisionError: 'float division' in 'probfit.pdf.rtv_breitwigner' ignored\n",
        "Exception ZeroDivisionError: 'float division' in 'probfit.pdf.rtv_breitwigner' ignored\n",
        "Exception ZeroDivisionError: 'float division' in 'probfit.pdf.rtv_breitwigner' ignored\n",
        "Exception ZeroDivisionError: 'float division' in 'probfit.pdf.rtv_breitwigner' ignored\n",
        "Exception ZeroDivisionError: 'float division' in 'probfit.pdf.rtv_breitwigner' ignored\n",
        "Exception ZeroDivisionError: 'float division' in 'probfit.pdf.rtv_breitwigner' ignored\n",
        "Exception ZeroDivisionError: 'float division' in 'probfit.pdf.rtv_breitwigner' ignored\n",
        "Exception ZeroDivisionError: 'float division' in 'probfit.pdf.rtv_breitwigner' ignored\n",
        "Exception ZeroDivisionError: 'float division' in 'probfit.pdf.rtv_breitwigner' ignored\n",
        "Exception ZeroDivisionError: 'float division' in 'probfit.pdf.rtv_breitwigner' ignored\n",
        "Exception ZeroDivisionError: 'float division' in 'probfit.pdf.rtv_breitwigner' ignored\n",
        "Exception ZeroDivisionError: 'float division' in 'probfit.pdf.rtv_breitwigner' ignored\n",
        "Exception ZeroDivisionError: 'float division' in 'probfit.pdf.rtv_breitwigner' ignored\n",
        "Exception ZeroDivisionError: 'float division' in 'probfit.pdf.rtv_breitwigner' ignored\n",
        "Exception ZeroDivisionError: 'float division' in 'probfit.pdf.rtv_breitwigner' ignored\n",
        "Exception ZeroDivisionError: 'float division' in 'probfit.pdf.rtv_breitwigner' ignored\n",
        "Exception ZeroDivisionError: 'float division' in 'probfit.pdf.rtv_breitwigner' ignored\n",
        "Exception ZeroDivisionError: 'float division' in 'probfit.pdf.rtv_breitwigner' ignored\n",
        "Exception ZeroDivisionError: 'float division' in 'probfit.pdf.rtv_breitwigner' ignored\n",
        "Exception ZeroDivisionError: 'float division' in 'probfit.pdf.rtv_breitwigner' ignored\n",
        "Exception ZeroDivisionError: 'float division' in 'probfit.pdf.rtv_breitwigner' ignored\n",
        "Exception ZeroDivisionError: 'float division' in 'probfit.pdf.rtv_breitwigner' ignored\n",
        "Exception ZeroDivisionError: 'float division' in 'probfit.pdf.rtv_breitwigner' ignored\n",
        "Exception ZeroDivisionError: 'float division' in 'probfit.pdf.rtv_breitwigner' ignored\n",
        "Exception ZeroDivisionError: 'float division' in 'probfit.pdf.rtv_breitwigner' ignored\n",
        "Exception ZeroDivisionError: 'float division' in 'probfit.pdf.rtv_breitwigner' ignored\n",
        "Exception ZeroDivisionError: 'float division' in 'probfit.pdf.rtv_breitwigner' ignored\n",
        "Exception ZeroDivisionError: 'float division' in 'probfit.pdf.rtv_breitwigner' ignored\n",
        "Exception ZeroDivisionError: 'float division' in 'probfit.pdf.rtv_breitwigner' ignored\n",
        "Exception ZeroDivisionError: 'float division' in 'probfit.pdf.rtv_breitwigner' ignored\n",
        "Exception ZeroDivisionError: 'float division' in 'probfit.pdf.rtv_breitwigner' ignored\n",
        "Exception ZeroDivisionError: 'float division' in 'probfit.pdf.rtv_breitwigner' ignored\n",
        "Exception ZeroDivisionError: 'float division' in 'probfit.pdf.rtv_breitwigner' ignored\n",
        "Exception ZeroDivisionError: 'float division' in 'probfit.pdf.rtv_breitwigner' ignored\n",
        "Exception ZeroDivisionError: 'float division' in 'probfit.pdf.rtv_breitwigner' ignored\n"
       ]
      },
      {
       "output_type": "display_data",
       "png": "[encoded data removed]"
      }
     ],
     "prompt_number": 62
    },
    {
     "cell_type": "code",
     "collapsed": false,
     "input": [
      "%%timeit -r1 -n1 m.migrad()"
     ],
     "language": "python",
     "metadata": {},
     "outputs": [
      {
       "ename": "IndentationError",
       "evalue": "expected an indented block (<magic-timeit>, line 9)",
       "output_type": "pyerr",
       "traceback": [
        "\u001b[1;31m---------------------------------------------------------------------------\u001b[0m\n\u001b[1;31mIndentationError\u001b[0m                          Traceback (most recent call last)",
        "\u001b[1;32m<ipython-input-63-91d8cea22972>\u001b[0m in \u001b[0;36m<module>\u001b[1;34m()\u001b[0m\n\u001b[1;32m----> 1\u001b[1;33m \u001b[0mget_ipython\u001b[0m\u001b[1;33m(\u001b[0m\u001b[1;33m)\u001b[0m\u001b[1;33m.\u001b[0m\u001b[0m_run_cached_cell_magic\u001b[0m\u001b[1;33m(\u001b[0m\u001b[1;34mu'timeit'\u001b[0m\u001b[1;33m,\u001b[0m \u001b[1;34mu'-r1 -n1 m.migrad()'\u001b[0m\u001b[1;33m)\u001b[0m\u001b[1;33m\u001b[0m\u001b[0m\n\u001b[0m",
        "\u001b[1;32m/nfs/data2/babar/software64/lib/python2.7/site-packages/IPython/core/interactiveshell.pyc\u001b[0m in \u001b[0;36m_run_cached_cell_magic\u001b[1;34m(self, magic_name, line)\u001b[0m\n\u001b[0;32m   2512\u001b[0m         \u001b[0mcell\u001b[0m \u001b[1;33m=\u001b[0m \u001b[0mself\u001b[0m\u001b[1;33m.\u001b[0m\u001b[0m_current_cell_magic_body\u001b[0m\u001b[1;33m\u001b[0m\u001b[0m\n\u001b[0;32m   2513\u001b[0m         \u001b[0mself\u001b[0m\u001b[1;33m.\u001b[0m\u001b[0m_current_cell_magic_body\u001b[0m \u001b[1;33m=\u001b[0m \u001b[0mNone\u001b[0m\u001b[1;33m\u001b[0m\u001b[0m\n\u001b[1;32m-> 2514\u001b[1;33m         \u001b[1;32mreturn\u001b[0m \u001b[0mself\u001b[0m\u001b[1;33m.\u001b[0m\u001b[0mrun_cell_magic\u001b[0m\u001b[1;33m(\u001b[0m\u001b[0mmagic_name\u001b[0m\u001b[1;33m,\u001b[0m \u001b[0mline\u001b[0m\u001b[1;33m,\u001b[0m \u001b[0mcell\u001b[0m\u001b[1;33m)\u001b[0m\u001b[1;33m\u001b[0m\u001b[0m\n\u001b[0m\u001b[0;32m   2515\u001b[0m \u001b[1;33m\u001b[0m\u001b[0m\n\u001b[0;32m   2516\u001b[0m     \u001b[1;32mdef\u001b[0m \u001b[0mrun_cell\u001b[0m\u001b[1;33m(\u001b[0m\u001b[0mself\u001b[0m\u001b[1;33m,\u001b[0m \u001b[0mraw_cell\u001b[0m\u001b[1;33m,\u001b[0m \u001b[0mstore_history\u001b[0m\u001b[1;33m=\u001b[0m\u001b[0mFalse\u001b[0m\u001b[1;33m,\u001b[0m \u001b[0msilent\u001b[0m\u001b[1;33m=\u001b[0m\u001b[0mFalse\u001b[0m\u001b[1;33m)\u001b[0m\u001b[1;33m:\u001b[0m\u001b[1;33m\u001b[0m\u001b[0m\n",
        "\u001b[1;32m/nfs/data2/babar/software64/lib/python2.7/site-packages/IPython/core/interactiveshell.pyc\u001b[0m in \u001b[0;36mrun_cell_magic\u001b[1;34m(self, magic_name, line, cell)\u001b[0m\n\u001b[0;32m   2091\u001b[0m             \u001b[0mmagic_arg_s\u001b[0m \u001b[1;33m=\u001b[0m \u001b[0mself\u001b[0m\u001b[1;33m.\u001b[0m\u001b[0mvar_expand\u001b[0m\u001b[1;33m(\u001b[0m\u001b[0mline\u001b[0m\u001b[1;33m,\u001b[0m \u001b[0mstack_depth\u001b[0m\u001b[1;33m)\u001b[0m\u001b[1;33m\u001b[0m\u001b[0m\n\u001b[0;32m   2092\u001b[0m             \u001b[1;32mwith\u001b[0m \u001b[0mself\u001b[0m\u001b[1;33m.\u001b[0m\u001b[0mbuiltin_trap\u001b[0m\u001b[1;33m:\u001b[0m\u001b[1;33m\u001b[0m\u001b[0m\n\u001b[1;32m-> 2093\u001b[1;33m                 \u001b[0mresult\u001b[0m \u001b[1;33m=\u001b[0m \u001b[0mfn\u001b[0m\u001b[1;33m(\u001b[0m\u001b[0mline\u001b[0m\u001b[1;33m,\u001b[0m \u001b[0mcell\u001b[0m\u001b[1;33m)\u001b[0m\u001b[1;33m\u001b[0m\u001b[0m\n\u001b[0m\u001b[0;32m   2094\u001b[0m             \u001b[1;32mreturn\u001b[0m \u001b[0mresult\u001b[0m\u001b[1;33m\u001b[0m\u001b[0m\n\u001b[0;32m   2095\u001b[0m \u001b[1;33m\u001b[0m\u001b[0m\n",
        "\u001b[1;32m/nfs/data2/babar/software64/lib/python2.7/site-packages/IPython/core/magics/execution.pyc\u001b[0m in \u001b[0;36mtimeit\u001b[1;34m(self, line, cell)\u001b[0m\n",
        "\u001b[1;32m/nfs/data2/babar/software64/lib/python2.7/site-packages/IPython/core/magic.pyc\u001b[0m in \u001b[0;36m<lambda>\u001b[1;34m(f, *a, **k)\u001b[0m\n\u001b[0;32m    189\u001b[0m     \u001b[1;31m# but it's overkill for just that one bit of state.\u001b[0m\u001b[1;33m\u001b[0m\u001b[1;33m\u001b[0m\u001b[0m\n\u001b[0;32m    190\u001b[0m     \u001b[1;32mdef\u001b[0m \u001b[0mmagic_deco\u001b[0m\u001b[1;33m(\u001b[0m\u001b[0marg\u001b[0m\u001b[1;33m)\u001b[0m\u001b[1;33m:\u001b[0m\u001b[1;33m\u001b[0m\u001b[0m\n\u001b[1;32m--> 191\u001b[1;33m         \u001b[0mcall\u001b[0m \u001b[1;33m=\u001b[0m \u001b[1;32mlambda\u001b[0m \u001b[0mf\u001b[0m\u001b[1;33m,\u001b[0m \u001b[1;33m*\u001b[0m\u001b[0ma\u001b[0m\u001b[1;33m,\u001b[0m \u001b[1;33m**\u001b[0m\u001b[0mk\u001b[0m\u001b[1;33m:\u001b[0m \u001b[0mf\u001b[0m\u001b[1;33m(\u001b[0m\u001b[1;33m*\u001b[0m\u001b[0ma\u001b[0m\u001b[1;33m,\u001b[0m \u001b[1;33m**\u001b[0m\u001b[0mk\u001b[0m\u001b[1;33m)\u001b[0m\u001b[1;33m\u001b[0m\u001b[0m\n\u001b[0m\u001b[0;32m    192\u001b[0m \u001b[1;33m\u001b[0m\u001b[0m\n\u001b[0;32m    193\u001b[0m         \u001b[1;32mif\u001b[0m \u001b[0mcallable\u001b[0m\u001b[1;33m(\u001b[0m\u001b[0marg\u001b[0m\u001b[1;33m)\u001b[0m\u001b[1;33m:\u001b[0m\u001b[1;33m\u001b[0m\u001b[0m\n",
        "\u001b[1;32m/nfs/data2/babar/software64/lib/python2.7/site-packages/IPython/core/magics/execution.pyc\u001b[0m in \u001b[0;36mtimeit\u001b[1;34m(self, line, cell)\u001b[0m\n\u001b[0;32m    788\u001b[0m \u001b[1;33m\u001b[0m\u001b[0m\n\u001b[0;32m    789\u001b[0m         \u001b[0mt0\u001b[0m \u001b[1;33m=\u001b[0m \u001b[0mclock\u001b[0m\u001b[1;33m(\u001b[0m\u001b[1;33m)\u001b[0m\u001b[1;33m\u001b[0m\u001b[0m\n\u001b[1;32m--> 790\u001b[1;33m         \u001b[0mcode\u001b[0m \u001b[1;33m=\u001b[0m \u001b[0mcompile\u001b[0m\u001b[1;33m(\u001b[0m\u001b[0msrc\u001b[0m\u001b[1;33m,\u001b[0m \u001b[1;34m\"<magic-timeit>\"\u001b[0m\u001b[1;33m,\u001b[0m \u001b[1;34m\"exec\"\u001b[0m\u001b[1;33m)\u001b[0m\u001b[1;33m\u001b[0m\u001b[0m\n\u001b[0m\u001b[0;32m    791\u001b[0m         \u001b[0mtc\u001b[0m \u001b[1;33m=\u001b[0m \u001b[0mclock\u001b[0m\u001b[1;33m(\u001b[0m\u001b[1;33m)\u001b[0m\u001b[1;33m-\u001b[0m\u001b[0mt0\u001b[0m\u001b[1;33m\u001b[0m\u001b[0m\n\u001b[0;32m    792\u001b[0m \u001b[1;33m\u001b[0m\u001b[0m\n",
        "\u001b[1;31mIndentationError\u001b[0m: expected an indented block (<magic-timeit>, line 9)"
       ]
      }
     ],
     "prompt_number": 63
    },
    {
     "cell_type": "markdown",
     "metadata": {},
     "source": [
      "####Building Cost Functions Manually\n",
      "\n",
      "See iminuit hardcore tutorial."
     ]
    },
    {
     "cell_type": "markdown",
     "metadata": {},
     "source": [
      "####Checking convergence programatically"
     ]
    },
    {
     "cell_type": "code",
     "collapsed": false,
     "input": [
      "status, param = m.migrad()"
     ],
     "language": "python",
     "metadata": {},
     "outputs": [
      {
       "ename": "ZeroDivisionError",
       "evalue": "float division",
       "output_type": "pyerr",
       "traceback": [
        "\u001b[1;31m---------------------------------------------------------------------------\u001b[0m\n\u001b[1;31mZeroDivisionError\u001b[0m                         Traceback (most recent call last)",
        "\u001b[1;32m<ipython-input-64-5fc489796451>\u001b[0m in \u001b[0;36m<module>\u001b[1;34m()\u001b[0m\n\u001b[1;32m----> 1\u001b[1;33m \u001b[0mstatus\u001b[0m\u001b[1;33m,\u001b[0m \u001b[0mparam\u001b[0m \u001b[1;33m=\u001b[0m \u001b[0mm\u001b[0m\u001b[1;33m.\u001b[0m\u001b[0mmigrad\u001b[0m\u001b[1;33m(\u001b[0m\u001b[1;33m)\u001b[0m\u001b[1;33m\u001b[0m\u001b[0m\n\u001b[0m",
        "\u001b[1;32m/nfs/data2/babar/software64/lib/python2.7/site-packages/iminuit/_libiminuit.so\u001b[0m in \u001b[0;36miminuit._libiminuit.Minuit.migrad (iminuit/_libiminuit.cpp:4688)\u001b[1;34m()\u001b[0m\n",
        "\u001b[1;32m/nfs/data2/babar/software64/lib/python2.7/site-packages/probfit/costfunc.so\u001b[0m in \u001b[0;36mprobfit.costfunc.UnbinnedLH.__call__ (probfit/costfunc.c:3599)\u001b[1;34m()\u001b[0m\n",
        "\u001b[1;32m/nfs/data2/babar/software64/lib/python2.7/site-packages/probfit/_libstat.so\u001b[0m in \u001b[0;36mprobfit._libstat.compute_nll (probfit/_libstat.c:3666)\u001b[1;34m()\u001b[0m\n",
        "\u001b[1;32m/nfs/data2/babar/software64/lib/python2.7/site-packages/probfit/functor.so\u001b[0m in \u001b[0;36mprobfit.functor.AddPdfNorm.__call__ (probfit/functor.c:6136)\u001b[1;34m()\u001b[0m\n",
        "\u001b[1;32m/nfs/data2/babar/software64/lib/python2.7/site-packages/probfit/functor.so\u001b[0m in \u001b[0;36mprobfit.functor.Normalized.__call__ (probfit/functor.c:7547)\u001b[1;34m()\u001b[0m\n",
        "\u001b[1;31mZeroDivisionError\u001b[0m: float division"
       ]
      },
      {
       "output_type": "stream",
       "stream": "stderr",
       "text": [
        "Exception ZeroDivisionError: 'float division' in 'probfit.pdf.rtv_breitwigner' ignored\n",
        "-c:1: RuntimeWarning: Exception Occured \n",
        "fcn is called with following arguments:\n",
        "     mass = +0.000000\n",
        "    gamma = +0.010000\n",
        "        m = +1.875000\n",
        "        c = +0.000000\n",
        "      f_0 = +0.000000\n",
        "\n"
       ]
      }
     ],
     "prompt_number": 64
    },
    {
     "cell_type": "code",
     "collapsed": false,
     "input": [
      "print status.has_covariance\n",
      "print status.is_valid"
     ],
     "language": "python",
     "metadata": {},
     "outputs": [
      {
       "output_type": "stream",
       "stream": "stdout",
       "text": [
        "True\n",
        "True\n"
       ]
      }
     ],
     "prompt_number": 88
    },
    {
     "cell_type": "code",
     "collapsed": false,
     "input": [
      "#or an umbrella call\n",
      "m.migrad_ok()"
     ],
     "language": "python",
     "metadata": {},
     "outputs": [
      {
       "output_type": "pyout",
       "prompt_number": 89,
       "text": [
        "True"
       ]
      }
     ],
     "prompt_number": 89
    },
    {
     "cell_type": "code",
     "collapsed": false,
     "input": [
      "#minos\n",
      "results = m.minos('m')\n",
      "print results['m']\n",
      "print results['m'].upper_valid\n",
      "print results['m'].lower_valid"
     ],
     "language": "python",
     "metadata": {},
     "outputs": [
      {
       "html": [
        "\n",
        "        <span>Minos status for m: <span style=\"background-color:#92CCA6\">VALID</span></span>\n",
        "        <table>\n",
        "            <tr>\n",
        "                <td>Error</td>\n",
        "                <td>-0.000174878035401</td>\n",
        "                <td>0.000174821754617</td>\n",
        "            </tr>\n",
        "            <tr>\n",
        "                <td>Valid</td>\n",
        "                <td style=\"background-color:#92CCA6\">True</td>\n",
        "                <td style=\"background-color:#92CCA6\">True</td>\n",
        "            </tr>\n",
        "            <tr>\n",
        "                <td>At Limit</td>\n",
        "                <td style=\"background-color:#92CCA6\">False</td>\n",
        "                <td style=\"background-color:#92CCA6\">False</td>\n",
        "            </tr>\n",
        "            <tr>\n",
        "                <td>Max FCN</td>\n",
        "                <td style=\"background-color:#92CCA6\">False</td>\n",
        "                <td style=\"background-color:#92CCA6\">False</td>\n",
        "            </tr>\n",
        "            <tr>\n",
        "                <td>New Min</td>\n",
        "                <td style=\"background-color:#92CCA6\">False</td>\n",
        "                <td style=\"background-color:#92CCA6\">False</td>\n",
        "            </tr>\n",
        "        </table>\n",
        "        "
       ],
       "output_type": "display_data"
      },
      {
       "output_type": "stream",
       "stream": "stdout",
       "text": [
        "{'lower_new_min': False, 'upper': 0.0001748217546167012, 'lower': -0.0001748780354010935, 'at_lower_limit': False, 'min': 1.869105083642479, 'at_lower_max_fcn': False, 'is_valid': True, 'upper_new_min': False, 'at_upper_limit': False, 'lower_valid': True, 'upper_valid': True, 'at_upper_max_fcn': False, 'nfcn': 12L}\n",
        "True\n",
        "True\n"
       ]
      }
     ],
     "prompt_number": 90
    },
    {
     "cell_type": "markdown",
     "metadata": {},
     "source": [
      "####Saving/Reuse fit argument\n",
      "Some time we want to resue fitting argument."
     ]
    },
    {
     "cell_type": "code",
     "collapsed": false,
     "input": [
      "m.fitarg"
     ],
     "language": "python",
     "metadata": {},
     "outputs": [
      {
       "output_type": "pyout",
       "prompt_number": 91,
       "text": [
        "{'error_gamma': 0.00031827433528448535,\n",
        " 'error_m': 0.00017482406860049894,\n",
        " 'fix_gamma': False,\n",
        " 'fix_m': False,\n",
        " 'gamma': 0.00960935659129497,\n",
        " 'limit_gamma': None,\n",
        " 'limit_m': None,\n",
        " 'm': 1.869105083642479}"
       ]
      }
     ],
     "prompt_number": 91
    },
    {
     "cell_type": "code",
     "collapsed": false,
     "input": [
      "old_fitarg = m.fitarg\n",
      "ulh2 = UnbinnedLH(cython_bw, bb_dmass)\n",
      "m2 = Minuit(ulh2, **old_fitarg)"
     ],
     "language": "python",
     "metadata": {},
     "outputs": [],
     "prompt_number": 92
    },
    {
     "cell_type": "code",
     "collapsed": false,
     "input": [
      "m2.print_param()"
     ],
     "language": "python",
     "metadata": {},
     "outputs": [
      {
       "html": [
        "\n",
        "        <table>\n",
        "            <tr>\n",
        "                <td></td>\n",
        "                <td>Name</td>\n",
        "                <td>Value</td>\n",
        "                <td>Parab Error</td>\n",
        "                <td>Minos Error-</td>\n",
        "                <td>Minos Error+</td>\n",
        "                <td>Limit-</td>\n",
        "                <td>Limit+</td>\n",
        "                <td>FIXED</td>\n",
        "            </tr>\n",
        "        \n",
        "            <tr>\n",
        "                <td>1</td>\n",
        "                <td>m</td>\n",
        "                <td>1.869105e+00</td>\n",
        "                <td>1.748241e-04</td>\n",
        "                <td>0.000000e+00</td>\n",
        "                <td>0.000000e+00</td>\n",
        "                <td></td>\n",
        "                <td></td>\n",
        "                <td></td>\n",
        "            </tr>\n",
        "            \n",
        "            <tr>\n",
        "                <td>2</td>\n",
        "                <td>gamma</td>\n",
        "                <td>9.609357e-03</td>\n",
        "                <td>3.182743e-04</td>\n",
        "                <td>0.000000e+00</td>\n",
        "                <td>0.000000e+00</td>\n",
        "                <td></td>\n",
        "                <td></td>\n",
        "                <td></td>\n",
        "            </tr>\n",
        "            \n",
        "            </table>\n",
        "        "
       ],
       "output_type": "display_data"
      }
     ],
     "prompt_number": 93
    },
    {
     "cell_type": "code",
     "collapsed": false,
     "input": [
      "#since fitarg is just a dictionary you can dump it via pickle\n",
      "import pickle\n",
      "out = open('my_fitarg.pck','w')\n",
      "pickle.dump(old_fitarg,out)\n",
      "out.close()"
     ],
     "language": "python",
     "metadata": {},
     "outputs": [],
     "prompt_number": 94
    },
    {
     "cell_type": "code",
     "collapsed": false,
     "input": [
      "fin = open('my_fitarg.pck','r')\n",
      "loaded_fitarg = pickle.load(fin)\n",
      "fin.close()"
     ],
     "language": "python",
     "metadata": {},
     "outputs": [],
     "prompt_number": 95
    },
    {
     "cell_type": "code",
     "collapsed": false,
     "input": [
      "print loaded_fitarg"
     ],
     "language": "python",
     "metadata": {},
     "outputs": [
      {
       "output_type": "stream",
       "stream": "stdout",
       "text": [
        "{'fix_m': False, 'm': 1.869105083642479, 'limit_m': None, 'error_m': 0.00017482406860049894, 'fix_gamma': False, 'error_gamma': 0.00031827433528448535, 'limit_gamma': None, 'gamma': 0.00960935659129497}\n"
       ]
      }
     ],
     "prompt_number": 96
    },
    {
     "cell_type": "code",
     "collapsed": false,
     "input": [
      "m3 = Minuit(ulh2, **loaded_fitarg)"
     ],
     "language": "python",
     "metadata": {},
     "outputs": [],
     "prompt_number": 97
    },
    {
     "cell_type": "code",
     "collapsed": false,
     "input": [
      "m3.migrad();"
     ],
     "language": "python",
     "metadata": {},
     "outputs": [
      {
       "html": [
        "<hr>"
       ],
       "output_type": "display_data"
      },
      {
       "html": [
        "\n",
        "        <table>\n",
        "            <tr>\n",
        "                <td>FCN = -10170.1470097</td>\n",
        "                <td>NFCN = 29</td>\n",
        "                <td>NCALLS = 29</td>\n",
        "            </tr>\n",
        "            <tr>\n",
        "                <td>EDM = 1.34413329728e-10</td>\n",
        "                <td>GOAL EDM = 1e-05</td>\n",
        "                <td>UP = 1.0</td>\n",
        "            </tr>\n",
        "        </table>\n",
        "        \n",
        "        <table>\n",
        "            <tr>\n",
        "                <td align=\"center\">Valid</td>\n",
        "                <td align=\"center\">Valid Param</td>\n",
        "                <td align=\"center\">Accurate Covar</td>\n",
        "                <td align=\"center\">PosDef</td>\n",
        "                <td align=\"center\">Made PosDef</td>\n",
        "            </tr>\n",
        "            <tr>\n",
        "                <td align=\"center\" style=\"background-color:#92CCA6\">True</td>\n",
        "                <td align=\"center\" style=\"background-color:#92CCA6\">True</td>\n",
        "                <td align=\"center\" style=\"background-color:#92CCA6\">True</td>\n",
        "                <td align=\"center\" style=\"background-color:#92CCA6\">True</td>\n",
        "                <td align=\"center\" style=\"background-color:#92CCA6\">False</td>\n",
        "            </tr>\n",
        "            <tr>\n",
        "                <td align=\"center\">Hesse Fail</td>\n",
        "                <td align=\"center\">HasCov</td>\n",
        "                <td align=\"center\">Above EDM</td>\n",
        "                <td align=\"center\"></td>\n",
        "                <td align=\"center\">Reach calllim</td>\n",
        "            </tr>\n",
        "            <tr>\n",
        "                <td align=\"center\" style=\"background-color:#92CCA6\">False</td>\n",
        "                <td align=\"center\" style=\"background-color:#92CCA6\">True</td>\n",
        "                <td align=\"center\" style=\"background-color:#92CCA6\">False</td>\n",
        "                <td align=\"center\"></td>\n",
        "                <td align=\"center\" style=\"background-color:#92CCA6\">False</td>\n",
        "            </tr>\n",
        "        </table>\n",
        "        "
       ],
       "output_type": "display_data"
      },
      {
       "html": [
        "\n",
        "        <table>\n",
        "            <tr>\n",
        "                <td></td>\n",
        "                <td>Name</td>\n",
        "                <td>Value</td>\n",
        "                <td>Parab Error</td>\n",
        "                <td>Minos Error-</td>\n",
        "                <td>Minos Error+</td>\n",
        "                <td>Limit-</td>\n",
        "                <td>Limit+</td>\n",
        "                <td>FIXED</td>\n",
        "            </tr>\n",
        "        \n",
        "            <tr>\n",
        "                <td>1</td>\n",
        "                <td>m</td>\n",
        "                <td>1.869105e+00</td>\n",
        "                <td>1.748230e-04</td>\n",
        "                <td>0.000000e+00</td>\n",
        "                <td>0.000000e+00</td>\n",
        "                <td></td>\n",
        "                <td></td>\n",
        "                <td></td>\n",
        "            </tr>\n",
        "            \n",
        "            <tr>\n",
        "                <td>2</td>\n",
        "                <td>gamma</td>\n",
        "                <td>9.609347e-03</td>\n",
        "                <td>3.182638e-04</td>\n",
        "                <td>0.000000e+00</td>\n",
        "                <td>0.000000e+00</td>\n",
        "                <td></td>\n",
        "                <td></td>\n",
        "                <td></td>\n",
        "            </tr>\n",
        "            \n",
        "            </table>\n",
        "        "
       ],
       "output_type": "display_data"
      },
      {
       "html": [
        "<hr>"
       ],
       "output_type": "display_data"
      }
     ],
     "prompt_number": 98
    },
    {
     "cell_type": "code",
     "collapsed": false,
     "input": [],
     "language": "python",
     "metadata": {},
     "outputs": []
    }
   ],
   "metadata": {}
  }
 ]
}